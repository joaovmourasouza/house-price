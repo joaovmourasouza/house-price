{
 "cells": [
  {
   "cell_type": "code",
   "execution_count": 7,
   "metadata": {},
   "outputs": [],
   "source": [
    "from sklearn.linear_model import LinearRegression\n",
    "from statsmodels.stats.diagnostic import het_white\n",
    "import statsmodels.api as sm\n",
    "import pandas as pd\n",
    "import numpy as np\n",
    "import os"
   ]
  },
  {
   "cell_type": "code",
   "execution_count": 8,
   "metadata": {},
   "outputs": [],
   "source": [
    "df = pd.read_excel('../output/data/gold/filtred_with_coordinates.xlsx')"
   ]
  },
  {
   "cell_type": "code",
   "execution_count": 10,
   "metadata": {},
   "outputs": [],
   "source": [
    "df_somente_centro = df[df['cep_dest']==\"Centro\"].drop(columns=['rua/avenida','bairro', 'Zona', 'cep_dest', 'latitude_origin',\n",
    "                                                               'longitude_origin',\t'latitude_destino', 'longitude_destino', 'cidade', 'estado', 'cep', 'cep_origin', 'iptu', 'custo condominio', 'preco'])\n",
    "\n",
    "df_somente_centro_ordened_columns = df_somente_centro[['quartos', 'banheiros', 'vagas garagem', 'area util por m²', 'distance_between_ceps_in_meters',\n",
    "                                                       'armários na cozinha','academia', 'piscina', 'varanda', 'portaria', 'quarto de serviço', 'área de serviço', \n",
    "                                                       'condomínio fechado', 'elevador', 'permitido animais', 'churrasqueira',  'mobiliado', 'armários no quarto', \n",
    "                                                       'ar condicionado', 'segurança 24h', 'salão de festas']]\n",
    "\n",
    "df_somente_centro_ordened_columns.corr().to_excel('corr_centro.xlsx')"
   ]
  },
  {
   "cell_type": "code",
   "execution_count": 11,
   "metadata": {},
   "outputs": [],
   "source": [
    "for col in df.columns:\n",
    "    df[col] = df[col].replace(-1, 0)\n",
    "\n",
    "df['log_preco'] = np.log(df['preco'])\n",
    "df['log_area_util'] = np.log(df['area util por m²'])\n",
    "df['log_distance_ceps'] = np.log(df['distance_between_ceps_in_meters'])\n",
    "\n",
    "df.drop(columns=['custo condominio','iptu', 'preco', 'area util por m²', 'distance_between_ceps_in_meters',\n",
    "                 'rua/avenida','cidade', 'estado', 'cep', 'cep_origin', 'latitude_origin', 'longitude_origin',\n",
    "                 'latitude_destino', 'longitude_destino'], inplace=True)"
   ]
  },
  {
   "cell_type": "code",
   "execution_count": null,
   "metadata": {},
   "outputs": [],
   "source": [
    "pd.options.display.float_format = '{:.4f}'.format\n",
    "\n",
    "df_p_zonas = df.drop(columns=['bairro'])\n",
    "\n",
    "output_folder = 'resultado_modelos'\n",
    "os.makedirs(output_folder, exist_ok=True)\n",
    "\n",
    "lm = LinearRegression()\n",
    "\n",
    "df_p_zonas = df_p_zonas[~df_p_zonas['Zona'].isin(['Rural', 'Extremo Norte'])]\n",
    "\n",
    "for infra in df_p_zonas['cep_dest'].unique():\n",
    "    df_treated = df_p_zonas.loc[\n",
    "        df_p_zonas['cep_dest'] == infra\n",
    "    ].drop(columns=['Zona', 'cep_dest'])\n",
    "    \n",
    "    y = df_treated['log_preco']\n",
    "    X = df_treated.drop(columns=['log_preco'])\n",
    "    \n",
    "    if len(df_treated) > 2:\n",
    "        X = sm.add_constant(X)\n",
    "\n",
    "        model = sm.OLS(y, X).fit(cov_type='HC3')\n",
    "\n",
    "        summary_df = pd.read_html(model.summary().tables[1].as_html(), header=0, index_col=0)[0]\n",
    "        summary_df = summary_df.round(4)\n",
    "\n",
    "        white_test = het_white(model.resid, model.model.exog)\n",
    "        white_test_results = pd.DataFrame({\n",
    "            'Estatística': [white_test[0]],\n",
    "            'p-value': [white_test[1]]\n",
    "        }, index=['White Test']).round(4)\n",
    "        \n",
    "        r_squared = model.rsquared\n",
    "        r_squared_adj = model.rsquared_adj\n",
    "        r_squared_df = pd.DataFrame({\n",
    "            'R²': [r_squared],\n",
    "            'R² Ajustado': [r_squared_adj]\n",
    "        }, index=['Estatísticas']).round(4)\n",
    "        \n",
    "        f_test_stat = model.fvalue\n",
    "        f_test_p_value = model.f_pvalue\n",
    "        f_test_results = pd.DataFrame({\n",
    "            'F-Estatística': [f_test_stat],\n",
    "            'p-value': [f_test_p_value]\n",
    "        }, index=['F-Test']).round(4)\n",
    "\n",
    "        file_name = f\"Regressao_{infra}.xlsx\"\n",
    "        output_path = os.path.join(output_folder, file_name)\n",
    "\n",
    "        with pd.ExcelWriter(output_path) as writer:\n",
    "            summary_df.to_excel(writer, sheet_name='Regressao_Resultados')\n",
    "            white_test_results.to_excel(writer, sheet_name='Teste_White')\n",
    "            r_squared_df.to_excel(writer, sheet_name='R²_Estatisticas')\n",
    "            f_test_results.to_excel(writer, sheet_name='Teste_F')"
   ]
  }
 ],
 "metadata": {
  "kernelspec": {
   "display_name": ".venv",
   "language": "python",
   "name": "python3"
  },
  "language_info": {
   "codemirror_mode": {
    "name": "ipython",
    "version": 3
   },
   "file_extension": ".py",
   "mimetype": "text/x-python",
   "name": "python",
   "nbconvert_exporter": "python",
   "pygments_lexer": "ipython3",
   "version": "3.12.3"
  }
 },
 "nbformat": 4,
 "nbformat_minor": 2
}
