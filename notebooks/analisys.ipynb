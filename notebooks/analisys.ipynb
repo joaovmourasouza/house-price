{
 "cells": [
  {
   "cell_type": "code",
   "execution_count": 1,
   "metadata": {},
   "outputs": [],
   "source": [
    "import plotly.graph_objects as go\n",
    "import plotly.express as px\n",
    "import pandas as pd\n",
    "import numpy as np"
   ]
  },
  {
   "cell_type": "code",
   "execution_count": 2,
   "metadata": {},
   "outputs": [
    {
     "name": "stdout",
     "output_type": "stream",
     "text": [
      "1263\n"
     ]
    }
   ],
   "source": [
    "df = pd.read_excel('df_filtred_with_coordinates.xlsx')\n",
    "print(int(df.shape[0]/3))"
   ]
  },
  {
   "cell_type": "code",
   "execution_count": 3,
   "metadata": {},
   "outputs": [
    {
     "name": "stdout",
     "output_type": "stream",
     "text": [
      "1226\n"
     ]
    }
   ],
   "source": [
    "df =  df.loc[(df['preco']>49999)&(df['area util por m²']>9)]\n",
    "print(int(df.shape[0]/3))"
   ]
  },
  {
   "cell_type": "code",
   "execution_count": 4,
   "metadata": {},
   "outputs": [],
   "source": [
    "def scatter_mapbox(dataframe, zoom=12):\n",
    "    center_lat = dataframe['latitude_origin'].mean()\n",
    "    center_lon = dataframe['longitude_origin'].mean()\n",
    "    \n",
    "    fig = px.scatter_mapbox(dataframe.rename(columns={'count': 'Apartamentos à Venda'}),\n",
    "        lat='latitude_origin', \n",
    "        lon='longitude_origin', \n",
    "        hover_name='bairro', \n",
    "        hover_data=['Apartamentos à Venda'],\n",
    "        color='Apartamentos à Venda',\n",
    "        size='Apartamentos à Venda',\n",
    "        size_max=50, \n",
    "        zoom=zoom,\n",
    "        height=800,\n",
    "        mapbox_style=\"open-street-map\",\n",
    "        center={\"lat\": center_lat, \"lon\": center_lon})\n",
    "    \n",
    "    fig.update_layout(margin={\"r\":0, \"t\":0, \"l\":0, \"b\":0})\n",
    "    fig.show()\n",
    "\n",
    "def bar_plot(dataframe):\n",
    "    fig = px.bar(dataframe.rename(columns={'count': 'Apartamentos à Venda', 'bairro':'Bairro'}).sort_values(by='Apartamentos à Venda', ascending=False), x='Bairro', y='Apartamentos à Venda', orientation='v')\n",
    "    fig.update_layout(xaxis_title='Bairro', yaxis_title='Apartamentos à Venda')\n",
    "    fig.show()\n",
    "\n",
    "def pizza_plot(dataframe):\n",
    "    fig = px.pie(data_frame=dataframe, values='count', names='Zona')\n",
    "    fig.update_layout(\n",
    "    margin=dict(l=0, r=0, t=0, b=0),  # Remove margens\n",
    "    height=500,  # Altura do gráfico (ajuste conforme necessário)\n",
    "    width=800    # Largura do gráfico (ajuste conforme necessário)\n",
    ")\n",
    "    fig.show()"
   ]
  },
  {
   "cell_type": "code",
   "execution_count": null,
   "metadata": {},
   "outputs": [],
   "source": [
    "to_chart"
   ]
  },
  {
   "cell_type": "code",
   "execution_count": 5,
   "metadata": {},
   "outputs": [
    {
     "data": {
      "application/vnd.plotly.v1+json": {
       "config": {
        "plotlyServerURL": "https://plot.ly"
       },
       "data": [
        {
         "customdata": [
          [
           "Pontal"
          ],
          [
           "Nossa Senhora da Vitória"
          ],
          [
           "Pontal"
          ],
          [
           "São Francisco"
          ],
          [
           "Nossa Senhora da Vitória"
          ],
          [
           "Nossa Senhora da Vitória"
          ],
          [
           "Pontal"
          ],
          [
           "São Francisco"
          ],
          [
           "São Sebastião"
          ],
          [
           "Nossa Senhora da Vitória"
          ],
          [
           "Pontal"
          ],
          [
           "São Francisco"
          ],
          [
           "Nossa Senhora da Vitória"
          ],
          [
           "São Francisco"
          ],
          [
           "Jardim Savóia"
          ],
          [
           "Conquista"
          ],
          [
           "Pontal"
          ],
          [
           "São Francisco"
          ],
          [
           "Pontal"
          ],
          [
           "Pontal"
          ],
          [
           "São Francisco"
          ],
          [
           "São Francisco"
          ],
          [
           "Nossa Senhora da Vitória"
          ],
          [
           "São Francisco"
          ],
          [
           "Centro"
          ],
          [
           "São Francisco"
          ],
          [
           "São Francisco"
          ],
          [
           "Nossa Senhora da Vitória"
          ],
          [
           "São Francisco"
          ],
          [
           "Olivença"
          ],
          [
           "Nossa Senhora da Vitória"
          ],
          [
           "São Francisco"
          ],
          [
           "Boa Vista"
          ],
          [
           "São Francisco"
          ],
          [
           "Pontal"
          ],
          [
           "São Francisco"
          ],
          [
           "Jardim Atlântico"
          ],
          [
           "Jardim Atlântico"
          ],
          [
           "Nossa Senhora da Vitória"
          ],
          [
           "São Francisco"
          ],
          [
           "Pontal"
          ],
          [
           "São Francisco"
          ],
          [
           "Pontal"
          ],
          [
           "Pontal"
          ],
          [
           "São Francisco"
          ],
          [
           "Nossa Senhora da Vitória"
          ],
          [
           "São Francisco"
          ],
          [
           "São Francisco"
          ],
          [
           "Nossa Senhora da Vitória"
          ],
          [
           "Pontal"
          ],
          [
           "Nossa Senhora da Vitória"
          ],
          [
           "Nossa Senhora da Vitória"
          ],
          [
           "Nossa Senhora da Vitória"
          ],
          [
           "Jardim Atlântico"
          ],
          [
           "Nossa Senhora da Vitória"
          ],
          [
           "Pontal"
          ],
          [
           "Cidade Nova"
          ],
          [
           "Pontal"
          ],
          [
           "São Francisco"
          ],
          [
           "Nossa Senhora da Vitória"
          ],
          [
           "Pontal"
          ],
          [
           "São Francisco"
          ],
          [
           "Nossa Senhora da Vitória"
          ],
          [
           "Nossa Senhora da Vitória"
          ],
          [
           "Nossa Senhora da Vitória"
          ],
          [
           "Nossa Senhora da Vitória"
          ],
          [
           "Pontal"
          ],
          [
           "Nossa Senhora da Vitória"
          ],
          [
           "Cidade Nova"
          ],
          [
           "Cidade Nova"
          ],
          [
           "Nossa Senhora da Vitória"
          ],
          [
           "Ilhéus II"
          ],
          [
           "Ilhéus II"
          ],
          [
           "Cidade Nova"
          ],
          [
           "São Francisco"
          ],
          [
           "Pontal"
          ],
          [
           "São Francisco"
          ],
          [
           "Nossa Senhora da Vitória"
          ],
          [
           "Nossa Senhora da Vitória"
          ],
          [
           "Nossa Senhora da Vitória"
          ],
          [
           "Cidade Nova"
          ],
          [
           "Nossa Senhora da Vitória"
          ],
          [
           "Nossa Senhora da Vitória"
          ],
          [
           "Jardim Atlântico"
          ],
          [
           "Nossa Senhora da Vitória"
          ],
          [
           "São Francisco"
          ],
          [
           "São Francisco"
          ],
          [
           "Nossa Senhora da Vitória"
          ],
          [
           "Nossa Senhora da Vitória"
          ],
          [
           "São Francisco"
          ],
          [
           "Nossa Senhora da Vitória"
          ],
          [
           "Jardim Savóia"
          ],
          [
           "Nossa Senhora da Vitória"
          ],
          [
           "São Francisco"
          ],
          [
           "São Francisco"
          ],
          [
           "Nossa Senhora da Vitória"
          ],
          [
           "Nossa Senhora da Vitória"
          ],
          [
           "Jardim Atlântico"
          ],
          [
           "Jardim Atlântico"
          ],
          [
           "Pontal"
          ],
          [
           "Boa Vista"
          ],
          [
           "Nossa Senhora da Vitória"
          ],
          [
           "Nossa Senhora da Vitória"
          ],
          [
           "Jardim Atlântico"
          ],
          [
           "Cidade Nova"
          ],
          [
           "Pontal"
          ],
          [
           "Pontal"
          ],
          [
           "São Francisco"
          ],
          [
           "Jardim Savóia"
          ],
          [
           "São Francisco"
          ],
          [
           "São Francisco"
          ],
          [
           "Nossa Senhora da Vitória"
          ],
          [
           "Nossa Senhora da Vitória"
          ],
          [
           "Jardim Savóia"
          ],
          [
           "Cidade Nova"
          ],
          [
           "Nossa Senhora da Vitória"
          ],
          [
           "Nossa Senhora da Vitória"
          ],
          [
           "Jardim Atlântico"
          ],
          [
           "São Francisco"
          ],
          [
           "Jardim Atlântico"
          ],
          [
           "Nossa Senhora da Vitória"
          ],
          [
           "Jardim Atlântico"
          ],
          [
           "Jardim Atlântico"
          ],
          [
           "Jardim Atlântico"
          ],
          [
           "Nossa Senhora da Vitória"
          ],
          [
           "Jardim Atlântico"
          ],
          [
           "Jardim Atlântico"
          ],
          [
           "Jardim Atlântico"
          ],
          [
           "Nossa Senhora da Vitória"
          ],
          [
           "Jardim Atlântico"
          ],
          [
           "Nossa Senhora da Vitória"
          ],
          [
           "Jardim Atlântico"
          ],
          [
           "Jardim Atlântico"
          ],
          [
           "Pontal"
          ],
          [
           "Nossa Senhora da Vitória"
          ],
          [
           "São Domingos"
          ],
          [
           "São Francisco"
          ],
          [
           "Pontal"
          ],
          [
           "São Francisco"
          ],
          [
           "São Francisco"
          ],
          [
           "Pontal"
          ],
          [
           "São Francisco"
          ],
          [
           "São Francisco"
          ],
          [
           "Nossa Senhora da Vitória"
          ],
          [
           "Nossa Senhora da Vitória"
          ],
          [
           "Nossa Senhora da Vitória"
          ],
          [
           "São Francisco"
          ],
          [
           "Ilhéus II"
          ],
          [
           "Pontal"
          ],
          [
           "Pontal"
          ],
          [
           "Nossa Senhora da Vitória"
          ],
          [
           "Nossa Senhora da Vitória"
          ],
          [
           "Pontal"
          ],
          [
           "São Francisco"
          ],
          [
           "São Domingos"
          ],
          [
           "São Domingos"
          ],
          [
           "Nossa Senhora da Vitória"
          ],
          [
           "São Francisco"
          ],
          [
           "Nossa Senhora da Vitória"
          ],
          [
           "Nossa Senhora da Vitória"
          ],
          [
           "São Francisco"
          ],
          [
           "Nossa Senhora da Vitória"
          ],
          [
           "São Francisco"
          ],
          [
           "São Francisco"
          ],
          [
           "Cidade Nova"
          ],
          [
           "Pontal"
          ],
          [
           "Cidade Nova"
          ],
          [
           "Cidade Nova"
          ],
          [
           "Teresópolis"
          ],
          [
           "Ilhéus II"
          ],
          [
           "São Francisco"
          ],
          [
           "Nossa Senhora da Vitória"
          ],
          [
           "Jardim Savóia"
          ],
          [
           "São Francisco"
          ],
          [
           "Pontal"
          ],
          [
           "Pontal"
          ],
          [
           "Nossa Senhora da Vitória"
          ],
          [
           "Nossa Senhora da Vitória"
          ],
          [
           "São Francisco"
          ],
          [
           "Jardim Atlântico"
          ],
          [
           "São Francisco"
          ],
          [
           "Jardim Atlântico"
          ],
          [
           "Jardim Atlântico"
          ],
          [
           "Jardim Atlântico"
          ],
          [
           "Nossa Senhora da Vitória"
          ],
          [
           "Nossa Senhora da Vitória"
          ],
          [
           "Pontal"
          ],
          [
           "Pontal"
          ],
          [
           "Jardim Atlântico"
          ],
          [
           "Nossa Senhora da Vitória"
          ],
          [
           "Nossa Senhora da Vitória"
          ],
          [
           "Nossa Senhora da Vitória"
          ],
          [
           "Jardim Atlântico"
          ],
          [
           "Nossa Senhora da Vitória"
          ],
          [
           "Jardim Atlântico"
          ],
          [
           "Nossa Senhora da Vitória"
          ],
          [
           "Pontal"
          ],
          [
           "Pontal"
          ],
          [
           "Nossa Senhora da Vitória"
          ],
          [
           "Nossa Senhora da Vitória"
          ],
          [
           "Olivença"
          ],
          [
           "Pontal"
          ],
          [
           "Nossa Senhora da Vitória"
          ],
          [
           "Pontal"
          ],
          [
           "Nossa Senhora da Vitória"
          ],
          [
           "São Francisco"
          ],
          [
           "Pontal"
          ],
          [
           "Nossa Senhora da Vitória"
          ],
          [
           "São Francisco"
          ],
          [
           "São Francisco"
          ],
          [
           "Nossa Senhora da Vitória"
          ],
          [
           "Jardim Atlântico"
          ],
          [
           "Pontal"
          ],
          [
           "Jardim Atlântico"
          ],
          [
           "Pontal"
          ],
          [
           "São Sebastião"
          ],
          [
           "Olivença"
          ],
          [
           "Jardim Atlântico"
          ],
          [
           "Cidade Nova"
          ],
          [
           "Boa Vista"
          ],
          [
           "Boa Vista"
          ],
          [
           "São Francisco"
          ],
          [
           "Centro"
          ],
          [
           "São Francisco"
          ],
          [
           "Nossa Senhora da Vitória"
          ],
          [
           "São Francisco"
          ],
          [
           "Cidade Nova"
          ],
          [
           "Nossa Senhora da Vitória"
          ],
          [
           "São Francisco"
          ],
          [
           "São Francisco"
          ],
          [
           "São Francisco"
          ],
          [
           "Cidade Nova"
          ],
          [
           "São Domingos"
          ],
          [
           "São Francisco"
          ],
          [
           "São Francisco"
          ],
          [
           "São Francisco"
          ],
          [
           "Cidade Nova"
          ],
          [
           "São Francisco"
          ],
          [
           "Nossa Senhora da Vitória"
          ],
          [
           "São Francisco"
          ],
          [
           "São Francisco"
          ],
          [
           "Pontal"
          ],
          [
           "Nossa Senhora da Vitória"
          ],
          [
           "Jardim Atlântico"
          ],
          [
           "Cidade Nova"
          ],
          [
           "Nossa Senhora da Vitória"
          ],
          [
           "Nossa Senhora da Vitória"
          ],
          [
           "São Francisco"
          ],
          [
           "Ilhéus II"
          ],
          [
           "Ilhéus II"
          ],
          [
           "Nossa Senhora da Vitória"
          ],
          [
           "Jardim Savóia"
          ],
          [
           "São Francisco"
          ],
          [
           "São Francisco"
          ],
          [
           "Nossa Senhora da Vitória"
          ],
          [
           "Pontal"
          ],
          [
           "São Francisco"
          ],
          [
           "Jardim Atlântico"
          ],
          [
           "Olivença"
          ],
          [
           "São Francisco"
          ],
          [
           "São Francisco"
          ],
          [
           "São Francisco"
          ],
          [
           "Cidade Nova"
          ],
          [
           "Nossa Senhora da Vitória"
          ],
          [
           "Nossa Senhora da Vitória"
          ],
          [
           "Pontal"
          ],
          [
           "Nossa Senhora da Vitória"
          ],
          [
           "São Francisco"
          ],
          [
           "Nossa Senhora da Vitória"
          ],
          [
           "Nossa Senhora da Vitória"
          ],
          [
           "Pontal"
          ],
          [
           "Nossa Senhora da Vitória"
          ],
          [
           "Nossa Senhora da Vitória"
          ],
          [
           "São Francisco"
          ],
          [
           "Nossa Senhora da Vitória"
          ],
          [
           "Nossa Senhora da Vitória"
          ],
          [
           "Jardim Atlântico"
          ],
          [
           "Cidade Nova"
          ],
          [
           "São Francisco"
          ],
          [
           "Nossa Senhora da Vitória"
          ],
          [
           "Jardim Atlântico"
          ],
          [
           "Jardim Atlântico"
          ],
          [
           "São Francisco"
          ],
          [
           "Nossa Senhora da Vitória"
          ],
          [
           "Boa Vista"
          ],
          [
           "São Francisco"
          ],
          [
           "Pontal"
          ],
          [
           "São Francisco"
          ],
          [
           "Nossa Senhora da Vitória"
          ],
          [
           "São Francisco"
          ],
          [
           "Nossa Senhora da Vitória"
          ],
          [
           "Pontal"
          ],
          [
           "Pontal"
          ],
          [
           "São Francisco"
          ],
          [
           "Pontal"
          ],
          [
           "Cidade Nova"
          ],
          [
           "São Francisco"
          ],
          [
           "Nossa Senhora da Vitória"
          ],
          [
           "São Francisco"
          ],
          [
           "Pontal"
          ],
          [
           "São Francisco"
          ],
          [
           "Pontal"
          ],
          [
           "Nossa Senhora da Vitória"
          ],
          [
           "São Francisco"
          ],
          [
           "São Francisco"
          ],
          [
           "Pontal"
          ],
          [
           "Nossa Senhora da Vitória"
          ],
          [
           "Nossa Senhora da Vitória"
          ],
          [
           "Jardim Savóia"
          ],
          [
           "Nossa Senhora da Vitória"
          ],
          [
           "Nossa Senhora da Vitória"
          ],
          [
           "Nossa Senhora da Vitória"
          ],
          [
           "São Francisco"
          ],
          [
           "Jardim Savóia"
          ],
          [
           "São Francisco"
          ],
          [
           "Jardim Atlântico"
          ],
          [
           "São Francisco"
          ],
          [
           "Nossa Senhora da Vitória"
          ],
          [
           "Pontal"
          ],
          [
           "São Francisco"
          ],
          [
           "Centro"
          ],
          [
           "Pontal"
          ],
          [
           "Nossa Senhora da Vitória"
          ],
          [
           "Centro"
          ],
          [
           "São Francisco"
          ],
          [
           "Nossa Senhora da Vitória"
          ],
          [
           "Jardim Savóia"
          ],
          [
           "Jardim Savóia"
          ],
          [
           "São Francisco"
          ],
          [
           "Pontal"
          ],
          [
           "Nossa Senhora da Vitória"
          ],
          [
           "São Francisco"
          ],
          [
           "Cidade Nova"
          ],
          [
           "Jardim Savóia"
          ],
          [
           "Nossa Senhora da Vitória"
          ],
          [
           "São Francisco"
          ],
          [
           "Nossa Senhora da Vitória"
          ],
          [
           "São Francisco"
          ],
          [
           "São Francisco"
          ],
          [
           "São Francisco"
          ],
          [
           "São Francisco"
          ],
          [
           "Nossa Senhora da Vitória"
          ],
          [
           "Nossa Senhora da Vitória"
          ],
          [
           "Nossa Senhora da Vitória"
          ],
          [
           "Olivença"
          ],
          [
           "São Francisco"
          ],
          [
           "Olivença"
          ],
          [
           "São Francisco"
          ],
          [
           "Nossa Senhora da Vitória"
          ],
          [
           "São Francisco"
          ],
          [
           "Pontal"
          ],
          [
           "Pontal"
          ],
          [
           "Nossa Senhora da Vitória"
          ],
          [
           "Pontal"
          ],
          [
           "São Francisco"
          ],
          [
           "Pontal"
          ],
          [
           "São Francisco"
          ],
          [
           "São Francisco"
          ],
          [
           "Nossa Senhora da Vitória"
          ],
          [
           "São Francisco"
          ],
          [
           "São Francisco"
          ],
          [
           "São Francisco"
          ],
          [
           "Nossa Senhora da Vitória"
          ],
          [
           "Nossa Senhora da Vitória"
          ],
          [
           "São Domingos"
          ],
          [
           "Nossa Senhora da Vitória"
          ],
          [
           "São Francisco"
          ],
          [
           "Olivença"
          ],
          [
           "São Francisco"
          ],
          [
           "São Francisco"
          ],
          [
           "Pontal"
          ],
          [
           "São Francisco"
          ],
          [
           "Nossa Senhora da Vitória"
          ],
          [
           "Boa Vista"
          ],
          [
           "São Francisco"
          ],
          [
           "São Francisco"
          ],
          [
           "São Francisco"
          ],
          [
           "Olivença"
          ],
          [
           "Nossa Senhora da Vitória"
          ],
          [
           "Cidade Nova"
          ],
          [
           "Jardim Atlântico"
          ],
          [
           "Nossa Senhora da Vitória"
          ],
          [
           "São Francisco"
          ],
          [
           "Nossa Senhora da Vitória"
          ],
          [
           "Olivença"
          ],
          [
           "São Francisco"
          ],
          [
           "Nossa Senhora da Vitória"
          ],
          [
           "Centro"
          ],
          [
           "Jardim Savóia"
          ],
          [
           "Nossa Senhora da Vitória"
          ],
          [
           "São Francisco"
          ],
          [
           "Jardim Atlântico"
          ],
          [
           "Pontal"
          ],
          [
           "Nossa Senhora da Vitória"
          ],
          [
           "Cidade Nova"
          ],
          [
           "São Francisco"
          ],
          [
           "Pontal"
          ],
          [
           "São Francisco"
          ],
          [
           "São Francisco"
          ],
          [
           "Jardim Atlântico"
          ],
          [
           "São Francisco"
          ],
          [
           "São Francisco"
          ],
          [
           "São Francisco"
          ],
          [
           "Nossa Senhora da Vitória"
          ],
          [
           "Nossa Senhora da Vitória"
          ],
          [
           "Jardim Atlântico"
          ],
          [
           "São Francisco"
          ],
          [
           "São Sebastião"
          ],
          [
           "Nossa Senhora da Vitória"
          ],
          [
           "Nossa Senhora da Vitória"
          ],
          [
           "São Francisco"
          ],
          [
           "Nossa Senhora da Vitória"
          ],
          [
           "Nossa Senhora da Vitória"
          ],
          [
           "Cidade Nova"
          ],
          [
           "Jardim Savóia"
          ],
          [
           "Jardim Atlântico"
          ],
          [
           "Nossa Senhora da Vitória"
          ],
          [
           "São Francisco"
          ],
          [
           "São Francisco"
          ],
          [
           "São Domingos"
          ],
          [
           "Cidade Nova"
          ],
          [
           "Olivença"
          ],
          [
           "São Francisco"
          ],
          [
           "Cidade Nova"
          ],
          [
           "São Francisco"
          ],
          [
           "Cidade Nova"
          ],
          [
           "Cidade Nova"
          ],
          [
           "Pontal"
          ],
          [
           "São Francisco"
          ],
          [
           "São Francisco"
          ],
          [
           "Boa Vista"
          ],
          [
           "Pontal"
          ],
          [
           "Nossa Senhora da Vitória"
          ],
          [
           "Olivença"
          ],
          [
           "Nossa Senhora da Vitória"
          ],
          [
           "Cidade Nova"
          ],
          [
           "Nossa Senhora da Vitória"
          ],
          [
           "Jardim Savóia"
          ],
          [
           "Nossa Senhora da Vitória"
          ],
          [
           "São Francisco"
          ],
          [
           "Cidade Nova"
          ],
          [
           "Pontal"
          ],
          [
           "Nossa Senhora da Vitória"
          ],
          [
           "São Francisco"
          ],
          [
           "Pontal"
          ],
          [
           "Pontal"
          ],
          [
           "Pontal"
          ],
          [
           "São Francisco"
          ],
          [
           "Pontal"
          ],
          [
           "São Francisco"
          ],
          [
           "Jardim Atlântico"
          ],
          [
           "Ilhéus II"
          ],
          [
           "São Francisco"
          ],
          [
           "Cidade Nova"
          ],
          [
           "Jardim Atlântico"
          ],
          [
           "Nossa Senhora da Vitória"
          ],
          [
           "Cidade Nova"
          ],
          [
           "São Francisco"
          ],
          [
           "São Sebastião"
          ],
          [
           "Pontal"
          ],
          [
           "Jardim Savóia"
          ],
          [
           "São Francisco"
          ],
          [
           "São Francisco"
          ],
          [
           "Centro"
          ],
          [
           "Jardim Savóia"
          ],
          [
           "Jardim Savóia"
          ],
          [
           "São Francisco"
          ],
          [
           "Nossa Senhora da Vitória"
          ],
          [
           "São Francisco"
          ],
          [
           "São Francisco"
          ],
          [
           "São Francisco"
          ],
          [
           "Cidade Nova"
          ],
          [
           "Pontal"
          ],
          [
           "Conquista"
          ],
          [
           "Nossa Senhora da Vitória"
          ],
          [
           "Nossa Senhora da Vitória"
          ],
          [
           "São Francisco"
          ],
          [
           "São Francisco"
          ],
          [
           "São Francisco"
          ],
          [
           "Nossa Senhora da Vitória"
          ],
          [
           "São Francisco"
          ],
          [
           "Pontal"
          ],
          [
           "São Francisco"
          ],
          [
           "Nossa Senhora da Vitória"
          ],
          [
           "São Francisco"
          ],
          [
           "Jardim Atlântico"
          ],
          [
           "Nossa Senhora da Vitória"
          ],
          [
           "Cidade Nova"
          ],
          [
           "Nossa Senhora da Vitória"
          ],
          [
           "Jardim Savóia"
          ],
          [
           "Cidade Nova"
          ],
          [
           "Jardim Savóia"
          ],
          [
           "Pontal"
          ],
          [
           "Nossa Senhora da Vitória"
          ],
          [
           "Nossa Senhora da Vitória"
          ],
          [
           "Centro"
          ],
          [
           "Cidade Nova"
          ],
          [
           "São Francisco"
          ],
          [
           "São Francisco"
          ],
          [
           "Pontal"
          ],
          [
           "São Francisco"
          ],
          [
           "Cidade Nova"
          ],
          [
           "Malhado"
          ],
          [
           "Pontal"
          ],
          [
           "Nelson Costa"
          ],
          [
           "Nossa Senhora da Vitória"
          ],
          [
           "São Francisco"
          ],
          [
           "Cidade Nova"
          ],
          [
           "Cidade Nova"
          ],
          [
           "Nossa Senhora da Vitória"
          ],
          [
           "Pontal"
          ],
          [
           "Pontal"
          ],
          [
           "Nossa Senhora da Vitória"
          ],
          [
           "Pontal"
          ],
          [
           "Jardim Savóia"
          ],
          [
           "São Domingos"
          ],
          [
           "Nossa Senhora da Vitória"
          ],
          [
           "Jardim Atlântico"
          ],
          [
           "Nossa Senhora da Vitória"
          ],
          [
           "Olivença"
          ],
          [
           "São Francisco"
          ],
          [
           "Cidade Nova"
          ],
          [
           "São Domingos"
          ],
          [
           "São Francisco"
          ],
          [
           "Pontal"
          ],
          [
           "Cidade Nova"
          ],
          [
           "Boa Vista"
          ],
          [
           "Centro"
          ],
          [
           "Pontal"
          ],
          [
           "Centro"
          ],
          [
           "Cidade Nova"
          ],
          [
           "Cidade Nova"
          ],
          [
           "Cidade Nova"
          ],
          [
           "Cidade Nova"
          ],
          [
           "São Francisco"
          ],
          [
           "Cidade Nova"
          ],
          [
           "São Francisco"
          ],
          [
           "Boa Vista"
          ],
          [
           "São Sebastião"
          ],
          [
           "Cidade Nova"
          ],
          [
           "Nossa Senhora da Vitória"
          ],
          [
           "Cidade Nova"
          ],
          [
           "Cidade Nova"
          ],
          [
           "Pontal"
          ],
          [
           "São Francisco"
          ],
          [
           "Pontal"
          ],
          [
           "Nossa Senhora da Vitória"
          ],
          [
           "Jardim Atlântico"
          ],
          [
           "Jardim Savóia"
          ],
          [
           "Nossa Senhora da Vitória"
          ],
          [
           "Pontal"
          ],
          [
           "Nossa Senhora da Vitória"
          ],
          [
           "Nossa Senhora da Vitória"
          ],
          [
           "Cidade Nova"
          ],
          [
           "Nossa Senhora da Vitória"
          ],
          [
           "São Francisco"
          ],
          [
           "Cidade Nova"
          ],
          [
           "Olivença"
          ],
          [
           "Jardim Atlântico"
          ],
          [
           "Olivença"
          ],
          [
           "Jardim Atlântico"
          ],
          [
           "São Francisco"
          ],
          [
           "Cidade Nova"
          ],
          [
           "Centro"
          ],
          [
           "Nossa Senhora da Vitória"
          ],
          [
           "Olivença"
          ],
          [
           "São Francisco"
          ],
          [
           "São Francisco"
          ],
          [
           "Cidade Nova"
          ],
          [
           "Pontal"
          ],
          [
           "Cidade Nova"
          ],
          [
           "Cidade Nova"
          ],
          [
           "Cidade Nova"
          ],
          [
           "Olivença"
          ],
          [
           "Pontal"
          ],
          [
           "Esperança"
          ],
          [
           "Nossa Senhora da Vitória"
          ],
          [
           "Cidade Nova"
          ],
          [
           "Centro"
          ],
          [
           "São Francisco"
          ],
          [
           "São Francisco"
          ],
          [
           "Cidade Nova"
          ],
          [
           "Cidade Nova"
          ],
          [
           "Pontal"
          ],
          [
           "São Francisco"
          ],
          [
           "Pontal"
          ],
          [
           "São Francisco"
          ],
          [
           "São Francisco"
          ],
          [
           "Pontal"
          ],
          [
           "Nossa Senhora da Vitória"
          ],
          [
           "Nossa Senhora da Vitória"
          ],
          [
           "Nossa Senhora da Vitória"
          ],
          [
           "São Francisco"
          ],
          [
           "Cidade Nova"
          ],
          [
           "Nossa Senhora da Vitória"
          ],
          [
           "Nossa Senhora da Vitória"
          ],
          [
           "São Francisco"
          ],
          [
           "São Francisco"
          ],
          [
           "São Francisco"
          ],
          [
           "Nossa Senhora da Vitória"
          ],
          [
           "Nossa Senhora da Vitória"
          ],
          [
           "Pontal"
          ],
          [
           "Esperança"
          ],
          [
           "São Francisco"
          ],
          [
           "Jardim Savóia"
          ],
          [
           "Centro"
          ],
          [
           "São Francisco"
          ],
          [
           "São Francisco"
          ],
          [
           "Nossa Senhora da Vitória"
          ],
          [
           "Nossa Senhora da Vitória"
          ],
          [
           "Nossa Senhora da Vitória"
          ],
          [
           "Nossa Senhora da Vitória"
          ],
          [
           "Jardim Savóia"
          ],
          [
           "São Francisco"
          ],
          [
           "Jardim Atlântico"
          ],
          [
           "São Francisco"
          ],
          [
           "Jardim Atlântico"
          ],
          [
           "Jardim Atlântico"
          ],
          [
           "Nossa Senhora da Vitória"
          ],
          [
           "Jardim Savóia"
          ],
          [
           "Pontal"
          ],
          [
           "Nossa Senhora da Vitória"
          ],
          [
           "São Francisco"
          ],
          [
           "São Francisco"
          ],
          [
           "São Francisco"
          ],
          [
           "São Francisco"
          ],
          [
           "Nossa Senhora da Vitória"
          ],
          [
           "Nossa Senhora da Vitória"
          ],
          [
           "Nossa Senhora da Vitória"
          ],
          [
           "Nossa Senhora da Vitória"
          ],
          [
           "Pontal"
          ],
          [
           "Olivença"
          ],
          [
           "São Francisco"
          ],
          [
           "Nossa Senhora da Vitória"
          ],
          [
           "Jardim Savóia"
          ],
          [
           "Nossa Senhora da Vitória"
          ],
          [
           "Olivença"
          ],
          [
           "Pontal"
          ],
          [
           "Nossa Senhora da Vitória"
          ],
          [
           "Nossa Senhora da Vitória"
          ],
          [
           "Boa Vista"
          ],
          [
           "São Francisco"
          ],
          [
           "Esperança"
          ],
          [
           "São Francisco"
          ],
          [
           "Nossa Senhora da Vitória"
          ],
          [
           "Nossa Senhora da Vitória"
          ],
          [
           "São Francisco"
          ],
          [
           "Pontal"
          ],
          [
           "Nossa Senhora da Vitória"
          ],
          [
           "Nossa Senhora da Vitória"
          ],
          [
           "Nossa Senhora da Vitória"
          ],
          [
           "Nossa Senhora da Vitória"
          ],
          [
           "Esperança"
          ],
          [
           "São Francisco"
          ],
          [
           "Pontal"
          ],
          [
           "Nossa Senhora da Vitória"
          ],
          [
           "Pontal"
          ],
          [
           "São Francisco"
          ],
          [
           "São Sebastião"
          ],
          [
           "Nossa Senhora da Vitória"
          ],
          [
           "Pontal"
          ],
          [
           "São Francisco"
          ],
          [
           "Nossa Senhora da Vitória"
          ],
          [
           "São Francisco"
          ],
          [
           "Jardim Savóia"
          ],
          [
           "Conquista"
          ],
          [
           "Pontal"
          ],
          [
           "São Francisco"
          ],
          [
           "Pontal"
          ],
          [
           "Pontal"
          ],
          [
           "São Francisco"
          ],
          [
           "São Francisco"
          ],
          [
           "Nossa Senhora da Vitória"
          ],
          [
           "São Francisco"
          ],
          [
           "Centro"
          ],
          [
           "São Francisco"
          ],
          [
           "São Francisco"
          ],
          [
           "Nossa Senhora da Vitória"
          ],
          [
           "São Francisco"
          ],
          [
           "Olivença"
          ],
          [
           "Nossa Senhora da Vitória"
          ],
          [
           "São Francisco"
          ],
          [
           "Boa Vista"
          ],
          [
           "São Francisco"
          ],
          [
           "Jardim Atlântico"
          ],
          [
           "Nossa Senhora da Vitória"
          ],
          [
           "São Francisco"
          ],
          [
           "Pontal"
          ],
          [
           "São Francisco"
          ],
          [
           "Pontal"
          ],
          [
           "Pontal"
          ],
          [
           "São Francisco"
          ],
          [
           "Nossa Senhora da Vitória"
          ],
          [
           "São Francisco"
          ],
          [
           "São Francisco"
          ],
          [
           "Pontal"
          ],
          [
           "Jardim Atlântico"
          ],
          [
           "Nossa Senhora da Vitória"
          ],
          [
           "Pontal"
          ],
          [
           "Cidade Nova"
          ],
          [
           "Pontal"
          ],
          [
           "São Francisco"
          ],
          [
           "Nossa Senhora da Vitória"
          ],
          [
           "Nossa Senhora da Vitória"
          ],
          [
           "São Francisco"
          ],
          [
           "Nossa Senhora da Vitória"
          ],
          [
           "Nossa Senhora da Vitória"
          ],
          [
           "Jardim Atlântico"
          ],
          [
           "Nossa Senhora da Vitória"
          ],
          [
           "Cidade Nova"
          ],
          [
           "Cidade Nova"
          ],
          [
           "Nossa Senhora da Vitória"
          ],
          [
           "Ilhéus II"
          ],
          [
           "Ilhéus II"
          ],
          [
           "Cidade Nova"
          ],
          [
           "São Francisco"
          ],
          [
           "Pontal"
          ],
          [
           "São Francisco"
          ],
          [
           "Nossa Senhora da Vitória"
          ],
          [
           "Nossa Senhora da Vitória"
          ],
          [
           "Nossa Senhora da Vitória"
          ],
          [
           "Nossa Senhora da Vitória"
          ],
          [
           "Nossa Senhora da Vitória"
          ],
          [
           "Nossa Senhora da Vitória"
          ],
          [
           "Jardim Atlântico"
          ],
          [
           "Pontal"
          ],
          [
           "Nossa Senhora da Vitória"
          ],
          [
           "Nossa Senhora da Vitória"
          ],
          [
           "São Francisco"
          ],
          [
           "Pontal"
          ],
          [
           "Nossa Senhora da Vitória"
          ],
          [
           "Jardim Savóia"
          ],
          [
           "Nossa Senhora da Vitória"
          ],
          [
           "São Francisco"
          ],
          [
           "São Francisco"
          ],
          [
           "Nossa Senhora da Vitória"
          ],
          [
           "Jardim Atlântico"
          ],
          [
           "Jardim Atlântico"
          ],
          [
           "Pontal"
          ],
          [
           "Nossa Senhora da Vitória"
          ],
          [
           "Jardim Atlântico"
          ],
          [
           "Cidade Nova"
          ],
          [
           "Pontal"
          ],
          [
           "São Francisco"
          ],
          [
           "Jardim Savóia"
          ],
          [
           "São Francisco"
          ],
          [
           "Centro"
          ],
          [
           "Pontal"
          ],
          [
           "Nossa Senhora da Vitória"
          ],
          [
           "Teresópolis"
          ],
          [
           "Jardim Savóia"
          ],
          [
           "São Francisco"
          ],
          [
           "Jardim Atlântico"
          ],
          [
           "Jardim Atlântico"
          ],
          [
           "Jardim Atlântico"
          ],
          [
           "Jardim Atlântico"
          ],
          [
           "Jardim Atlântico"
          ],
          [
           "Jardim Atlântico"
          ],
          [
           "Jardim Atlântico"
          ],
          [
           "Pontal"
          ],
          [
           "Nossa Senhora da Vitória"
          ],
          [
           "São Domingos"
          ],
          [
           "São Francisco"
          ],
          [
           "Pontal"
          ],
          [
           "São Francisco"
          ],
          [
           "Nossa Senhora da Vitória"
          ],
          [
           "Nossa Senhora da Vitória"
          ],
          [
           "Nossa Senhora da Vitória"
          ],
          [
           "São Francisco"
          ],
          [
           "Pontal"
          ],
          [
           "Nossa Senhora da Vitória"
          ],
          [
           "Nossa Senhora da Vitória"
          ],
          [
           "Pontal"
          ],
          [
           "São Francisco"
          ],
          [
           "Nossa Senhora da Vitória"
          ],
          [
           "São Francisco"
          ],
          [
           "São Francisco"
          ],
          [
           "Pontal"
          ],
          [
           "Cidade Nova"
          ],
          [
           "Cidade Nova"
          ],
          [
           "Ilhéus II"
          ],
          [
           "São Francisco"
          ],
          [
           "Nossa Senhora da Vitória"
          ],
          [
           "Jardim Savóia"
          ],
          [
           "São Francisco"
          ],
          [
           "Pontal"
          ],
          [
           "Aritaguá"
          ],
          [
           "Nossa Senhora da Vitória"
          ],
          [
           "Nossa Senhora da Vitória"
          ],
          [
           "São Francisco"
          ],
          [
           "Jardim Atlântico"
          ],
          [
           "Nossa Senhora da Vitória"
          ],
          [
           "Nossa Senhora da Vitória"
          ],
          [
           "Nossa Senhora da Vitória"
          ],
          [
           "Pontal"
          ],
          [
           "Pontal"
          ],
          [
           "Jardim Atlântico"
          ],
          [
           "Nossa Senhora da Vitória"
          ],
          [
           "Nossa Senhora da Vitória"
          ],
          [
           "São Francisco"
          ],
          [
           "Nossa Senhora da Vitória"
          ],
          [
           "Jardim Atlântico"
          ],
          [
           "Nossa Senhora da Vitória"
          ],
          [
           "Nossa Senhora da Vitória"
          ],
          [
           "Pontal"
          ],
          [
           "Nossa Senhora da Vitória"
          ],
          [
           "Nossa Senhora da Vitória"
          ],
          [
           "São Sebastião"
          ],
          [
           "Olivença"
          ],
          [
           "Cidade Nova"
          ],
          [
           "Pontal"
          ],
          [
           "Nossa Senhora da Vitória"
          ],
          [
           "Pontal"
          ],
          [
           "Pontal"
          ],
          [
           "Nossa Senhora da Vitória"
          ],
          [
           "São Francisco"
          ],
          [
           "São Francisco"
          ],
          [
           "Jardim Atlântico"
          ],
          [
           "Centro"
          ],
          [
           "São Francisco"
          ],
          [
           "Nossa Senhora da Vitória"
          ],
          [
           "Nossa Senhora da Vitória"
          ],
          [
           "São Francisco"
          ],
          [
           "São Francisco"
          ],
          [
           "São Francisco"
          ],
          [
           "Cidade Nova"
          ],
          [
           "São Domingos"
          ],
          [
           "São Francisco"
          ],
          [
           "São Francisco"
          ],
          [
           "Cidade Nova"
          ],
          [
           "Nossa Senhora da Vitória"
          ],
          [
           "São Francisco"
          ],
          [
           "Pontal"
          ],
          [
           "Nossa Senhora da Vitória"
          ],
          [
           "Jardim Atlântico"
          ],
          [
           "Cidade Nova"
          ],
          [
           "Nossa Senhora da Vitória"
          ],
          [
           "Nossa Senhora da Vitória"
          ],
          [
           "São Francisco"
          ],
          [
           "São Sebastião"
          ],
          [
           "Ilhéus II"
          ],
          [
           "Ilhéus II"
          ],
          [
           "Pontal"
          ],
          [
           "Nossa Senhora da Vitória"
          ],
          [
           "Pontal"
          ],
          [
           "Jardim Savóia"
          ],
          [
           "São Francisco"
          ],
          [
           "São Francisco"
          ],
          [
           "São Francisco"
          ],
          [
           "Pontal"
          ],
          [
           "São Francisco"
          ],
          [
           "Nossa Senhora da Vitória"
          ],
          [
           "Jardim Atlântico"
          ],
          [
           "Olivença"
          ],
          [
           "Cidade Nova"
          ],
          [
           "Nossa Senhora da Vitória"
          ],
          [
           "Pontal"
          ],
          [
           "Nossa Senhora da Vitória"
          ],
          [
           "São Francisco"
          ],
          [
           "São Francisco"
          ],
          [
           "Pontal"
          ],
          [
           "Nossa Senhora da Vitória"
          ],
          [
           "Nossa Senhora da Vitória"
          ],
          [
           "Nossa Senhora da Vitória"
          ],
          [
           "Jardim Atlântico"
          ],
          [
           "Cidade Nova"
          ],
          [
           "Cidade Nova"
          ],
          [
           "São Francisco"
          ],
          [
           "Nossa Senhora da Vitória"
          ],
          [
           "Jardim Atlântico"
          ],
          [
           "Jardim Atlântico"
          ],
          [
           "São Francisco"
          ],
          [
           "Boa Vista"
          ],
          [
           "Pontal"
          ],
          [
           "São Francisco"
          ],
          [
           "Nossa Senhora da Vitória"
          ],
          [
           "São Francisco"
          ],
          [
           "Nossa Senhora da Vitória"
          ],
          [
           "Pontal"
          ],
          [
           "Pontal"
          ],
          [
           "São Francisco"
          ],
          [
           "Pontal"
          ],
          [
           "Cidade Nova"
          ],
          [
           "Nossa Senhora da Vitória"
          ],
          [
           "São Francisco"
          ],
          [
           "Nossa Senhora da Vitória"
          ],
          [
           "São Francisco"
          ],
          [
           "Pontal"
          ],
          [
           "Nossa Senhora da Vitória"
          ],
          [
           "Nossa Senhora da Vitória"
          ],
          [
           "São Francisco"
          ],
          [
           "São Francisco"
          ],
          [
           "Pontal"
          ],
          [
           "Nossa Senhora da Vitória"
          ],
          [
           "Nossa Senhora da Vitória"
          ],
          [
           "Jardim Atlântico"
          ],
          [
           "São Francisco"
          ],
          [
           "Nossa Senhora da Vitória"
          ],
          [
           "São Francisco"
          ],
          [
           "Jardim Savóia"
          ],
          [
           "São Francisco"
          ],
          [
           "Jardim Atlântico"
          ],
          [
           "São Francisco"
          ],
          [
           "Nossa Senhora da Vitória"
          ],
          [
           "Nossa Senhora da Vitória"
          ],
          [
           "Nossa Senhora da Vitória"
          ],
          [
           "Nossa Senhora da Vitória"
          ],
          [
           "Nossa Senhora da Vitória"
          ],
          [
           "Nossa Senhora da Vitória"
          ],
          [
           "Nossa Senhora da Vitória"
          ],
          [
           "Nossa Senhora da Vitória"
          ],
          [
           "Nossa Senhora da Vitória"
          ],
          [
           "Nossa Senhora da Vitória"
          ],
          [
           "Nossa Senhora da Vitória"
          ],
          [
           "Nossa Senhora da Vitória"
          ],
          [
           "Nossa Senhora da Vitória"
          ],
          [
           "São Francisco"
          ],
          [
           "Malhado"
          ],
          [
           "Centro"
          ],
          [
           "Jardim Atlântico"
          ],
          [
           "Boa Vista"
          ],
          [
           "Centro"
          ],
          [
           "Centro"
          ],
          [
           "Centro"
          ],
          [
           "Nossa Senhora da Vitória"
          ],
          [
           "Jardim Savóia"
          ],
          [
           "Jardim Savóia"
          ],
          [
           "São Francisco"
          ],
          [
           "Pontal"
          ],
          [
           "Nossa Senhora da Vitória"
          ],
          [
           "São Francisco"
          ],
          [
           "Cidade Nova"
          ],
          [
           "Nossa Senhora da Vitória"
          ],
          [
           "São Francisco"
          ],
          [
           "São Francisco"
          ],
          [
           "São Francisco"
          ],
          [
           "São Francisco"
          ],
          [
           "São Francisco"
          ],
          [
           "Nossa Senhora da Vitória"
          ],
          [
           "Nossa Senhora da Vitória"
          ],
          [
           "Nossa Senhora da Vitória"
          ],
          [
           "Olivença"
          ],
          [
           "São Francisco"
          ],
          [
           "São Francisco"
          ],
          [
           "Nossa Senhora da Vitória"
          ],
          [
           "São Francisco"
          ],
          [
           "Pontal"
          ],
          [
           "Pontal"
          ],
          [
           "Pontal"
          ],
          [
           "Nossa Senhora da Vitória"
          ],
          [
           "Pontal"
          ],
          [
           "São Francisco"
          ],
          [
           "São Francisco"
          ],
          [
           "Nossa Senhora da Vitória"
          ],
          [
           "Nossa Senhora da Vitória"
          ],
          [
           "São Francisco"
          ],
          [
           "Nossa Senhora da Vitória"
          ],
          [
           "Nossa Senhora da Vitória"
          ],
          [
           "Nossa Senhora da Vitória"
          ],
          [
           "Nossa Senhora da Vitória"
          ],
          [
           "Olivença"
          ],
          [
           "São Francisco"
          ],
          [
           "Pontal"
          ],
          [
           "São Francisco"
          ],
          [
           "Nossa Senhora da Vitória"
          ],
          [
           "Boa Vista"
          ],
          [
           "São Francisco"
          ],
          [
           "São Francisco"
          ],
          [
           "São Francisco"
          ],
          [
           "Olivença"
          ],
          [
           "Cidade Nova"
          ],
          [
           "Nossa Senhora da Vitória"
          ],
          [
           "São Francisco"
          ],
          [
           "Pontal"
          ],
          [
           "Nossa Senhora da Vitória"
          ],
          [
           "Olivença"
          ],
          [
           "São Francisco"
          ],
          [
           "Cidade Nova"
          ],
          [
           "Nossa Senhora da Vitória"
          ],
          [
           "Jardim Savóia"
          ],
          [
           "Centro"
          ],
          [
           "São Francisco"
          ],
          [
           "Jardim Atlântico"
          ],
          [
           "Olivença"
          ],
          [
           "Pontal"
          ],
          [
           "Pontal"
          ],
          [
           "Nossa Senhora da Vitória"
          ],
          [
           "Cidade Nova"
          ],
          [
           "São Francisco"
          ],
          [
           "São Domingos"
          ],
          [
           "Centro"
          ],
          [
           "Pontal"
          ],
          [
           "São Francisco"
          ],
          [
           "São Francisco"
          ],
          [
           "Jardim Atlântico"
          ],
          [
           "Nossa Senhora da Vitória"
          ],
          [
           "São Francisco"
          ],
          [
           "São Francisco"
          ],
          [
           "São Francisco"
          ],
          [
           "Nossa Senhora da Vitória"
          ],
          [
           "Nossa Senhora da Vitória"
          ],
          [
           "Jardim Atlântico"
          ],
          [
           "São Francisco"
          ],
          [
           "São Sebastião"
          ],
          [
           "Pontal"
          ],
          [
           "Nossa Senhora da Vitória"
          ],
          [
           "Nossa Senhora da Vitória"
          ],
          [
           "São Francisco"
          ],
          [
           "Nossa Senhora da Vitória"
          ],
          [
           "Nossa Senhora da Vitória"
          ],
          [
           "Nossa Senhora da Vitória"
          ],
          [
           "Cidade Nova"
          ],
          [
           "Jardim Savóia"
          ],
          [
           "Nossa Senhora da Vitória"
          ],
          [
           "São Francisco"
          ],
          [
           "São Francisco"
          ],
          [
           "São Domingos"
          ],
          [
           "Cidade Nova"
          ],
          [
           "Jardim Atlântico"
          ],
          [
           "Olivença"
          ],
          [
           "São Francisco"
          ],
          [
           "Aritaguá"
          ],
          [
           "Cidade Nova"
          ],
          [
           "Boa Vista"
          ],
          [
           "São Francisco"
          ],
          [
           "Conquista"
          ],
          [
           "Cidade Nova"
          ],
          [
           "Cidade Nova"
          ],
          [
           "Pontal"
          ],
          [
           "Pontal"
          ],
          [
           "São Francisco"
          ],
          [
           "Nossa Senhora da Vitória"
          ],
          [
           "São Francisco"
          ],
          [
           "Boa Vista"
          ],
          [
           "Pontal"
          ],
          [
           "Nossa Senhora da Vitória"
          ],
          [
           "Olivença"
          ],
          [
           "Nossa Senhora da Vitória"
          ],
          [
           "Cidade Nova"
          ],
          [
           "São Domingos"
          ],
          [
           "Nossa Senhora da Vitória"
          ],
          [
           "Jardim Savóia"
          ],
          [
           "São Sebastião"
          ],
          [
           "São Francisco"
          ],
          [
           "São Francisco"
          ],
          [
           "São Francisco"
          ],
          [
           "Cidade Nova"
          ],
          [
           "Nossa Senhora da Vitória"
          ],
          [
           "Cidade Nova"
          ],
          [
           "Nossa Senhora da Vitória"
          ],
          [
           "São Francisco"
          ],
          [
           "Pontal"
          ],
          [
           "Pontal"
          ],
          [
           "Pontal"
          ],
          [
           "São Francisco"
          ],
          [
           "Pontal"
          ],
          [
           "São Francisco"
          ],
          [
           "Ilhéus II"
          ],
          [
           "São Francisco"
          ],
          [
           "São Francisco"
          ],
          [
           "Cidade Nova"
          ],
          [
           "Nossa Senhora da Vitória"
          ],
          [
           "Jardim Atlântico"
          ],
          [
           "São Francisco"
          ],
          [
           "Cidade Nova"
          ],
          [
           "São Francisco"
          ],
          [
           "São Sebastião"
          ],
          [
           "Pontal"
          ],
          [
           "Cidade Nova"
          ],
          [
           "Centro"
          ],
          [
           "Jardim Savóia"
          ],
          [
           "São Francisco"
          ],
          [
           "Nossa Senhora da Vitória"
          ],
          [
           "São Francisco"
          ],
          [
           "Centro"
          ],
          [
           "Jardim Savóia"
          ],
          [
           "Jardim Savóia"
          ],
          [
           "Hernani Sá"
          ],
          [
           "São Francisco"
          ],
          [
           "Nossa Senhora da Vitória"
          ],
          [
           "Centro"
          ],
          [
           "Nossa Senhora da Vitória"
          ],
          [
           "Nelson Costa"
          ],
          [
           "São Francisco"
          ],
          [
           "São Francisco"
          ],
          [
           "Centro"
          ],
          [
           "Jardim Savóia"
          ],
          [
           "Pontal"
          ],
          [
           "Nossa Senhora da Vitória"
          ],
          [
           "Cidade Nova"
          ],
          [
           "São Francisco"
          ],
          [
           "Cidade Nova"
          ],
          [
           "Pontal"
          ],
          [
           "Conquista"
          ],
          [
           "Nossa Senhora da Vitória"
          ],
          [
           "Nossa Senhora da Vitória"
          ],
          [
           "São Francisco"
          ],
          [
           "São Francisco"
          ],
          [
           "Nossa Senhora da Vitória"
          ],
          [
           "São Francisco"
          ],
          [
           "Centro"
          ],
          [
           "São Francisco"
          ],
          [
           "Boa Vista"
          ],
          [
           "Pontal"
          ],
          [
           "São Francisco"
          ],
          [
           "Nossa Senhora da Vitória"
          ],
          [
           "São Francisco"
          ],
          [
           "Jardim Atlântico"
          ],
          [
           "Nossa Senhora da Vitória"
          ],
          [
           "Cidade Nova"
          ],
          [
           "Nossa Senhora da Vitória"
          ],
          [
           "Jardim Savóia"
          ],
          [
           "Cidade Nova"
          ],
          [
           "Jardim Savóia"
          ],
          [
           "Pontal"
          ],
          [
           "Nossa Senhora da Vitória"
          ],
          [
           "Nossa Senhora da Vitória"
          ],
          [
           "Centro"
          ],
          [
           "Cidade Nova"
          ],
          [
           "São Francisco"
          ],
          [
           "São Francisco"
          ],
          [
           "São Francisco"
          ],
          [
           "Pontal"
          ],
          [
           "Cidade Nova"
          ],
          [
           "Malhado"
          ],
          [
           "Cidade Nova"
          ],
          [
           "Malhado"
          ],
          [
           "Pontal"
          ],
          [
           "Nelson Costa"
          ],
          [
           "Nossa Senhora da Vitória"
          ],
          [
           "Iguape"
          ],
          [
           "São Francisco"
          ],
          [
           "Cidade Nova"
          ],
          [
           "Cidade Nova"
          ],
          [
           "São Francisco"
          ],
          [
           "Nossa Senhora da Vitória"
          ],
          [
           "Pontal"
          ],
          [
           "Pontal"
          ],
          [
           "Jardim Atlântico"
          ],
          [
           "São Francisco"
          ],
          [
           "Nossa Senhora da Vitória"
          ],
          [
           "Pontal"
          ],
          [
           "Jardim Savóia"
          ],
          [
           "Nossa Senhora da Vitória"
          ],
          [
           "Centro"
          ],
          [
           "Nossa Senhora da Vitória"
          ],
          [
           "São Domingos"
          ],
          [
           "Nossa Senhora da Vitória"
          ],
          [
           "Jardim Atlântico"
          ],
          [
           "Jardim Atlântico"
          ],
          [
           "Olivença"
          ],
          [
           "São Francisco"
          ],
          [
           "Cidade Nova"
          ],
          [
           "Pontal"
          ],
          [
           "São Domingos"
          ],
          [
           "Pontal"
          ],
          [
           "Cidade Nova"
          ],
          [
           "Boa Vista"
          ],
          [
           "Centro"
          ],
          [
           "Jardim Atlântico"
          ],
          [
           "Pontal"
          ],
          [
           "Cidade Nova"
          ],
          [
           "Cidade Nova"
          ],
          [
           "Cidade Nova"
          ],
          [
           "Cidade Nova"
          ],
          [
           "São Francisco"
          ],
          [
           "Nossa Senhora da Vitória"
          ],
          [
           "Cidade Nova"
          ],
          [
           "Boa Vista"
          ],
          [
           "São Sebastião"
          ],
          [
           "Cidade Nova"
          ],
          [
           "Nossa Senhora da Vitória"
          ],
          [
           "Cidade Nova"
          ],
          [
           "Cidade Nova"
          ],
          [
           "São Francisco"
          ],
          [
           "Pontal"
          ],
          [
           "São Francisco"
          ],
          [
           "Pontal"
          ],
          [
           "Nossa Senhora da Vitória"
          ],
          [
           "Jardim Atlântico"
          ],
          [
           "Nossa Senhora da Vitória"
          ],
          [
           "Pontal"
          ],
          [
           "Nossa Senhora da Vitória"
          ],
          [
           "Cidade Nova"
          ],
          [
           "Nossa Senhora da Vitória"
          ],
          [
           "Nossa Senhora da Vitória"
          ],
          [
           "São Francisco"
          ],
          [
           "Cidade Nova"
          ],
          [
           "Olivença"
          ],
          [
           "Jardim Atlântico"
          ],
          [
           "Olivença"
          ],
          [
           "Esperança"
          ],
          [
           "São Francisco"
          ],
          [
           "Cidade Nova"
          ],
          [
           "Jardim Atlântico"
          ],
          [
           "Centro"
          ],
          [
           "Olivença"
          ],
          [
           "São Francisco"
          ],
          [
           "São Francisco"
          ],
          [
           "Cidade Nova"
          ],
          [
           "Pontal"
          ],
          [
           "Esperança"
          ],
          [
           "Cidade Nova"
          ],
          [
           "Centro"
          ],
          [
           "Cidade Nova"
          ],
          [
           "Cidade Nova"
          ],
          [
           "Olivença"
          ],
          [
           "Esperança"
          ],
          [
           "Pontal"
          ],
          [
           "Pontal"
          ],
          [
           "Esperança"
          ],
          [
           "Nossa Senhora da Vitória"
          ],
          [
           "Nossa Senhora da Vitória"
          ],
          [
           "Cidade Nova"
          ],
          [
           "Nossa Senhora da Vitória"
          ],
          [
           "Centro"
          ],
          [
           "Centro"
          ],
          [
           "São Francisco"
          ],
          [
           "São Francisco"
          ],
          [
           "São Francisco"
          ],
          [
           "Cidade Nova"
          ],
          [
           "Cidade Nova"
          ],
          [
           "Pontal"
          ],
          [
           "São Francisco"
          ],
          [
           "Pontal"
          ],
          [
           "São Francisco"
          ]
         ],
         "hovertemplate": "<b>%{hovertext}</b><br><br>latitude_origin=%{lat}<br>longitude_origin=%{lon}<br>bairro=%{customdata[0]}<extra></extra>",
         "hovertext": [
          "Pontal",
          "Nossa Senhora da Vitória",
          "Pontal",
          "São Francisco",
          "Nossa Senhora da Vitória",
          "Nossa Senhora da Vitória",
          "Pontal",
          "São Francisco",
          "São Sebastião",
          "Nossa Senhora da Vitória",
          "Pontal",
          "São Francisco",
          "Nossa Senhora da Vitória",
          "São Francisco",
          "Jardim Savóia",
          "Conquista",
          "Pontal",
          "São Francisco",
          "Pontal",
          "Pontal",
          "São Francisco",
          "São Francisco",
          "Nossa Senhora da Vitória",
          "São Francisco",
          "Centro",
          "São Francisco",
          "São Francisco",
          "Nossa Senhora da Vitória",
          "São Francisco",
          "Olivença",
          "Nossa Senhora da Vitória",
          "São Francisco",
          "Boa Vista",
          "São Francisco",
          "Pontal",
          "São Francisco",
          "Jardim Atlântico",
          "Jardim Atlântico",
          "Nossa Senhora da Vitória",
          "São Francisco",
          "Pontal",
          "São Francisco",
          "Pontal",
          "Pontal",
          "São Francisco",
          "Nossa Senhora da Vitória",
          "São Francisco",
          "São Francisco",
          "Nossa Senhora da Vitória",
          "Pontal",
          "Nossa Senhora da Vitória",
          "Nossa Senhora da Vitória",
          "Nossa Senhora da Vitória",
          "Jardim Atlântico",
          "Nossa Senhora da Vitória",
          "Pontal",
          "Cidade Nova",
          "Pontal",
          "São Francisco",
          "Nossa Senhora da Vitória",
          "Pontal",
          "São Francisco",
          "Nossa Senhora da Vitória",
          "Nossa Senhora da Vitória",
          "Nossa Senhora da Vitória",
          "Nossa Senhora da Vitória",
          "Pontal",
          "Nossa Senhora da Vitória",
          "Cidade Nova",
          "Cidade Nova",
          "Nossa Senhora da Vitória",
          "Ilhéus II",
          "Ilhéus II",
          "Cidade Nova",
          "São Francisco",
          "Pontal",
          "São Francisco",
          "Nossa Senhora da Vitória",
          "Nossa Senhora da Vitória",
          "Nossa Senhora da Vitória",
          "Cidade Nova",
          "Nossa Senhora da Vitória",
          "Nossa Senhora da Vitória",
          "Jardim Atlântico",
          "Nossa Senhora da Vitória",
          "São Francisco",
          "São Francisco",
          "Nossa Senhora da Vitória",
          "Nossa Senhora da Vitória",
          "São Francisco",
          "Nossa Senhora da Vitória",
          "Jardim Savóia",
          "Nossa Senhora da Vitória",
          "São Francisco",
          "São Francisco",
          "Nossa Senhora da Vitória",
          "Nossa Senhora da Vitória",
          "Jardim Atlântico",
          "Jardim Atlântico",
          "Pontal",
          "Boa Vista",
          "Nossa Senhora da Vitória",
          "Nossa Senhora da Vitória",
          "Jardim Atlântico",
          "Cidade Nova",
          "Pontal",
          "Pontal",
          "São Francisco",
          "Jardim Savóia",
          "São Francisco",
          "São Francisco",
          "Nossa Senhora da Vitória",
          "Nossa Senhora da Vitória",
          "Jardim Savóia",
          "Cidade Nova",
          "Nossa Senhora da Vitória",
          "Nossa Senhora da Vitória",
          "Jardim Atlântico",
          "São Francisco",
          "Jardim Atlântico",
          "Nossa Senhora da Vitória",
          "Jardim Atlântico",
          "Jardim Atlântico",
          "Jardim Atlântico",
          "Nossa Senhora da Vitória",
          "Jardim Atlântico",
          "Jardim Atlântico",
          "Jardim Atlântico",
          "Nossa Senhora da Vitória",
          "Jardim Atlântico",
          "Nossa Senhora da Vitória",
          "Jardim Atlântico",
          "Jardim Atlântico",
          "Pontal",
          "Nossa Senhora da Vitória",
          "São Domingos",
          "São Francisco",
          "Pontal",
          "São Francisco",
          "São Francisco",
          "Pontal",
          "São Francisco",
          "São Francisco",
          "Nossa Senhora da Vitória",
          "Nossa Senhora da Vitória",
          "Nossa Senhora da Vitória",
          "São Francisco",
          "Ilhéus II",
          "Pontal",
          "Pontal",
          "Nossa Senhora da Vitória",
          "Nossa Senhora da Vitória",
          "Pontal",
          "São Francisco",
          "São Domingos",
          "São Domingos",
          "Nossa Senhora da Vitória",
          "São Francisco",
          "Nossa Senhora da Vitória",
          "Nossa Senhora da Vitória",
          "São Francisco",
          "Nossa Senhora da Vitória",
          "São Francisco",
          "São Francisco",
          "Cidade Nova",
          "Pontal",
          "Cidade Nova",
          "Cidade Nova",
          "Teresópolis",
          "Ilhéus II",
          "São Francisco",
          "Nossa Senhora da Vitória",
          "Jardim Savóia",
          "São Francisco",
          "Pontal",
          "Pontal",
          "Nossa Senhora da Vitória",
          "Nossa Senhora da Vitória",
          "São Francisco",
          "Jardim Atlântico",
          "São Francisco",
          "Jardim Atlântico",
          "Jardim Atlântico",
          "Jardim Atlântico",
          "Nossa Senhora da Vitória",
          "Nossa Senhora da Vitória",
          "Pontal",
          "Pontal",
          "Jardim Atlântico",
          "Nossa Senhora da Vitória",
          "Nossa Senhora da Vitória",
          "Nossa Senhora da Vitória",
          "Jardim Atlântico",
          "Nossa Senhora da Vitória",
          "Jardim Atlântico",
          "Nossa Senhora da Vitória",
          "Pontal",
          "Pontal",
          "Nossa Senhora da Vitória",
          "Nossa Senhora da Vitória",
          "Olivença",
          "Pontal",
          "Nossa Senhora da Vitória",
          "Pontal",
          "Nossa Senhora da Vitória",
          "São Francisco",
          "Pontal",
          "Nossa Senhora da Vitória",
          "São Francisco",
          "São Francisco",
          "Nossa Senhora da Vitória",
          "Jardim Atlântico",
          "Pontal",
          "Jardim Atlântico",
          "Pontal",
          "São Sebastião",
          "Olivença",
          "Jardim Atlântico",
          "Cidade Nova",
          "Boa Vista",
          "Boa Vista",
          "São Francisco",
          "Centro",
          "São Francisco",
          "Nossa Senhora da Vitória",
          "São Francisco",
          "Cidade Nova",
          "Nossa Senhora da Vitória",
          "São Francisco",
          "São Francisco",
          "São Francisco",
          "Cidade Nova",
          "São Domingos",
          "São Francisco",
          "São Francisco",
          "São Francisco",
          "Cidade Nova",
          "São Francisco",
          "Nossa Senhora da Vitória",
          "São Francisco",
          "São Francisco",
          "Pontal",
          "Nossa Senhora da Vitória",
          "Jardim Atlântico",
          "Cidade Nova",
          "Nossa Senhora da Vitória",
          "Nossa Senhora da Vitória",
          "São Francisco",
          "Ilhéus II",
          "Ilhéus II",
          "Nossa Senhora da Vitória",
          "Jardim Savóia",
          "São Francisco",
          "São Francisco",
          "Nossa Senhora da Vitória",
          "Pontal",
          "São Francisco",
          "Jardim Atlântico",
          "Olivença",
          "São Francisco",
          "São Francisco",
          "São Francisco",
          "Cidade Nova",
          "Nossa Senhora da Vitória",
          "Nossa Senhora da Vitória",
          "Pontal",
          "Nossa Senhora da Vitória",
          "São Francisco",
          "Nossa Senhora da Vitória",
          "Nossa Senhora da Vitória",
          "Pontal",
          "Nossa Senhora da Vitória",
          "Nossa Senhora da Vitória",
          "São Francisco",
          "Nossa Senhora da Vitória",
          "Nossa Senhora da Vitória",
          "Jardim Atlântico",
          "Cidade Nova",
          "São Francisco",
          "Nossa Senhora da Vitória",
          "Jardim Atlântico",
          "Jardim Atlântico",
          "São Francisco",
          "Nossa Senhora da Vitória",
          "Boa Vista",
          "São Francisco",
          "Pontal",
          "São Francisco",
          "Nossa Senhora da Vitória",
          "São Francisco",
          "Nossa Senhora da Vitória",
          "Pontal",
          "Pontal",
          "São Francisco",
          "Pontal",
          "Cidade Nova",
          "São Francisco",
          "Nossa Senhora da Vitória",
          "São Francisco",
          "Pontal",
          "São Francisco",
          "Pontal",
          "Nossa Senhora da Vitória",
          "São Francisco",
          "São Francisco",
          "Pontal",
          "Nossa Senhora da Vitória",
          "Nossa Senhora da Vitória",
          "Jardim Savóia",
          "Nossa Senhora da Vitória",
          "Nossa Senhora da Vitória",
          "Nossa Senhora da Vitória",
          "São Francisco",
          "Jardim Savóia",
          "São Francisco",
          "Jardim Atlântico",
          "São Francisco",
          "Nossa Senhora da Vitória",
          "Pontal",
          "São Francisco",
          "Centro",
          "Pontal",
          "Nossa Senhora da Vitória",
          "Centro",
          "São Francisco",
          "Nossa Senhora da Vitória",
          "Jardim Savóia",
          "Jardim Savóia",
          "São Francisco",
          "Pontal",
          "Nossa Senhora da Vitória",
          "São Francisco",
          "Cidade Nova",
          "Jardim Savóia",
          "Nossa Senhora da Vitória",
          "São Francisco",
          "Nossa Senhora da Vitória",
          "São Francisco",
          "São Francisco",
          "São Francisco",
          "São Francisco",
          "Nossa Senhora da Vitória",
          "Nossa Senhora da Vitória",
          "Nossa Senhora da Vitória",
          "Olivença",
          "São Francisco",
          "Olivença",
          "São Francisco",
          "Nossa Senhora da Vitória",
          "São Francisco",
          "Pontal",
          "Pontal",
          "Nossa Senhora da Vitória",
          "Pontal",
          "São Francisco",
          "Pontal",
          "São Francisco",
          "São Francisco",
          "Nossa Senhora da Vitória",
          "São Francisco",
          "São Francisco",
          "São Francisco",
          "Nossa Senhora da Vitória",
          "Nossa Senhora da Vitória",
          "São Domingos",
          "Nossa Senhora da Vitória",
          "São Francisco",
          "Olivença",
          "São Francisco",
          "São Francisco",
          "Pontal",
          "São Francisco",
          "Nossa Senhora da Vitória",
          "Boa Vista",
          "São Francisco",
          "São Francisco",
          "São Francisco",
          "Olivença",
          "Nossa Senhora da Vitória",
          "Cidade Nova",
          "Jardim Atlântico",
          "Nossa Senhora da Vitória",
          "São Francisco",
          "Nossa Senhora da Vitória",
          "Olivença",
          "São Francisco",
          "Nossa Senhora da Vitória",
          "Centro",
          "Jardim Savóia",
          "Nossa Senhora da Vitória",
          "São Francisco",
          "Jardim Atlântico",
          "Pontal",
          "Nossa Senhora da Vitória",
          "Cidade Nova",
          "São Francisco",
          "Pontal",
          "São Francisco",
          "São Francisco",
          "Jardim Atlântico",
          "São Francisco",
          "São Francisco",
          "São Francisco",
          "Nossa Senhora da Vitória",
          "Nossa Senhora da Vitória",
          "Jardim Atlântico",
          "São Francisco",
          "São Sebastião",
          "Nossa Senhora da Vitória",
          "Nossa Senhora da Vitória",
          "São Francisco",
          "Nossa Senhora da Vitória",
          "Nossa Senhora da Vitória",
          "Cidade Nova",
          "Jardim Savóia",
          "Jardim Atlântico",
          "Nossa Senhora da Vitória",
          "São Francisco",
          "São Francisco",
          "São Domingos",
          "Cidade Nova",
          "Olivença",
          "São Francisco",
          "Cidade Nova",
          "São Francisco",
          "Cidade Nova",
          "Cidade Nova",
          "Pontal",
          "São Francisco",
          "São Francisco",
          "Boa Vista",
          "Pontal",
          "Nossa Senhora da Vitória",
          "Olivença",
          "Nossa Senhora da Vitória",
          "Cidade Nova",
          "Nossa Senhora da Vitória",
          "Jardim Savóia",
          "Nossa Senhora da Vitória",
          "São Francisco",
          "Cidade Nova",
          "Pontal",
          "Nossa Senhora da Vitória",
          "São Francisco",
          "Pontal",
          "Pontal",
          "Pontal",
          "São Francisco",
          "Pontal",
          "São Francisco",
          "Jardim Atlântico",
          "Ilhéus II",
          "São Francisco",
          "Cidade Nova",
          "Jardim Atlântico",
          "Nossa Senhora da Vitória",
          "Cidade Nova",
          "São Francisco",
          "São Sebastião",
          "Pontal",
          "Jardim Savóia",
          "São Francisco",
          "São Francisco",
          "Centro",
          "Jardim Savóia",
          "Jardim Savóia",
          "São Francisco",
          "Nossa Senhora da Vitória",
          "São Francisco",
          "São Francisco",
          "São Francisco",
          "Cidade Nova",
          "Pontal",
          "Conquista",
          "Nossa Senhora da Vitória",
          "Nossa Senhora da Vitória",
          "São Francisco",
          "São Francisco",
          "São Francisco",
          "Nossa Senhora da Vitória",
          "São Francisco",
          "Pontal",
          "São Francisco",
          "Nossa Senhora da Vitória",
          "São Francisco",
          "Jardim Atlântico",
          "Nossa Senhora da Vitória",
          "Cidade Nova",
          "Nossa Senhora da Vitória",
          "Jardim Savóia",
          "Cidade Nova",
          "Jardim Savóia",
          "Pontal",
          "Nossa Senhora da Vitória",
          "Nossa Senhora da Vitória",
          "Centro",
          "Cidade Nova",
          "São Francisco",
          "São Francisco",
          "Pontal",
          "São Francisco",
          "Cidade Nova",
          "Malhado",
          "Pontal",
          "Nelson Costa",
          "Nossa Senhora da Vitória",
          "São Francisco",
          "Cidade Nova",
          "Cidade Nova",
          "Nossa Senhora da Vitória",
          "Pontal",
          "Pontal",
          "Nossa Senhora da Vitória",
          "Pontal",
          "Jardim Savóia",
          "São Domingos",
          "Nossa Senhora da Vitória",
          "Jardim Atlântico",
          "Nossa Senhora da Vitória",
          "Olivença",
          "São Francisco",
          "Cidade Nova",
          "São Domingos",
          "São Francisco",
          "Pontal",
          "Cidade Nova",
          "Boa Vista",
          "Centro",
          "Pontal",
          "Centro",
          "Cidade Nova",
          "Cidade Nova",
          "Cidade Nova",
          "Cidade Nova",
          "São Francisco",
          "Cidade Nova",
          "São Francisco",
          "Boa Vista",
          "São Sebastião",
          "Cidade Nova",
          "Nossa Senhora da Vitória",
          "Cidade Nova",
          "Cidade Nova",
          "Pontal",
          "São Francisco",
          "Pontal",
          "Nossa Senhora da Vitória",
          "Jardim Atlântico",
          "Jardim Savóia",
          "Nossa Senhora da Vitória",
          "Pontal",
          "Nossa Senhora da Vitória",
          "Nossa Senhora da Vitória",
          "Cidade Nova",
          "Nossa Senhora da Vitória",
          "São Francisco",
          "Cidade Nova",
          "Olivença",
          "Jardim Atlântico",
          "Olivença",
          "Jardim Atlântico",
          "São Francisco",
          "Cidade Nova",
          "Centro",
          "Nossa Senhora da Vitória",
          "Olivença",
          "São Francisco",
          "São Francisco",
          "Cidade Nova",
          "Pontal",
          "Cidade Nova",
          "Cidade Nova",
          "Cidade Nova",
          "Olivença",
          "Pontal",
          "Esperança",
          "Nossa Senhora da Vitória",
          "Cidade Nova",
          "Centro",
          "São Francisco",
          "São Francisco",
          "Cidade Nova",
          "Cidade Nova",
          "Pontal",
          "São Francisco",
          "Pontal",
          "São Francisco",
          "São Francisco",
          "Pontal",
          "Nossa Senhora da Vitória",
          "Nossa Senhora da Vitória",
          "Nossa Senhora da Vitória",
          "São Francisco",
          "Cidade Nova",
          "Nossa Senhora da Vitória",
          "Nossa Senhora da Vitória",
          "São Francisco",
          "São Francisco",
          "São Francisco",
          "Nossa Senhora da Vitória",
          "Nossa Senhora da Vitória",
          "Pontal",
          "Esperança",
          "São Francisco",
          "Jardim Savóia",
          "Centro",
          "São Francisco",
          "São Francisco",
          "Nossa Senhora da Vitória",
          "Nossa Senhora da Vitória",
          "Nossa Senhora da Vitória",
          "Nossa Senhora da Vitória",
          "Jardim Savóia",
          "São Francisco",
          "Jardim Atlântico",
          "São Francisco",
          "Jardim Atlântico",
          "Jardim Atlântico",
          "Nossa Senhora da Vitória",
          "Jardim Savóia",
          "Pontal",
          "Nossa Senhora da Vitória",
          "São Francisco",
          "São Francisco",
          "São Francisco",
          "São Francisco",
          "Nossa Senhora da Vitória",
          "Nossa Senhora da Vitória",
          "Nossa Senhora da Vitória",
          "Nossa Senhora da Vitória",
          "Pontal",
          "Olivença",
          "São Francisco",
          "Nossa Senhora da Vitória",
          "Jardim Savóia",
          "Nossa Senhora da Vitória",
          "Olivença",
          "Pontal",
          "Nossa Senhora da Vitória",
          "Nossa Senhora da Vitória",
          "Boa Vista",
          "São Francisco",
          "Esperança",
          "São Francisco",
          "Nossa Senhora da Vitória",
          "Nossa Senhora da Vitória",
          "São Francisco",
          "Pontal",
          "Nossa Senhora da Vitória",
          "Nossa Senhora da Vitória",
          "Nossa Senhora da Vitória",
          "Nossa Senhora da Vitória",
          "Esperança",
          "São Francisco",
          "Pontal",
          "Nossa Senhora da Vitória",
          "Pontal",
          "São Francisco",
          "São Sebastião",
          "Nossa Senhora da Vitória",
          "Pontal",
          "São Francisco",
          "Nossa Senhora da Vitória",
          "São Francisco",
          "Jardim Savóia",
          "Conquista",
          "Pontal",
          "São Francisco",
          "Pontal",
          "Pontal",
          "São Francisco",
          "São Francisco",
          "Nossa Senhora da Vitória",
          "São Francisco",
          "Centro",
          "São Francisco",
          "São Francisco",
          "Nossa Senhora da Vitória",
          "São Francisco",
          "Olivença",
          "Nossa Senhora da Vitória",
          "São Francisco",
          "Boa Vista",
          "São Francisco",
          "Jardim Atlântico",
          "Nossa Senhora da Vitória",
          "São Francisco",
          "Pontal",
          "São Francisco",
          "Pontal",
          "Pontal",
          "São Francisco",
          "Nossa Senhora da Vitória",
          "São Francisco",
          "São Francisco",
          "Pontal",
          "Jardim Atlântico",
          "Nossa Senhora da Vitória",
          "Pontal",
          "Cidade Nova",
          "Pontal",
          "São Francisco",
          "Nossa Senhora da Vitória",
          "Nossa Senhora da Vitória",
          "São Francisco",
          "Nossa Senhora da Vitória",
          "Nossa Senhora da Vitória",
          "Jardim Atlântico",
          "Nossa Senhora da Vitória",
          "Cidade Nova",
          "Cidade Nova",
          "Nossa Senhora da Vitória",
          "Ilhéus II",
          "Ilhéus II",
          "Cidade Nova",
          "São Francisco",
          "Pontal",
          "São Francisco",
          "Nossa Senhora da Vitória",
          "Nossa Senhora da Vitória",
          "Nossa Senhora da Vitória",
          "Nossa Senhora da Vitória",
          "Nossa Senhora da Vitória",
          "Nossa Senhora da Vitória",
          "Jardim Atlântico",
          "Pontal",
          "Nossa Senhora da Vitória",
          "Nossa Senhora da Vitória",
          "São Francisco",
          "Pontal",
          "Nossa Senhora da Vitória",
          "Jardim Savóia",
          "Nossa Senhora da Vitória",
          "São Francisco",
          "São Francisco",
          "Nossa Senhora da Vitória",
          "Jardim Atlântico",
          "Jardim Atlântico",
          "Pontal",
          "Nossa Senhora da Vitória",
          "Jardim Atlântico",
          "Cidade Nova",
          "Pontal",
          "São Francisco",
          "Jardim Savóia",
          "São Francisco",
          "Centro",
          "Pontal",
          "Nossa Senhora da Vitória",
          "Teresópolis",
          "Jardim Savóia",
          "São Francisco",
          "Jardim Atlântico",
          "Jardim Atlântico",
          "Jardim Atlântico",
          "Jardim Atlântico",
          "Jardim Atlântico",
          "Jardim Atlântico",
          "Jardim Atlântico",
          "Pontal",
          "Nossa Senhora da Vitória",
          "São Domingos",
          "São Francisco",
          "Pontal",
          "São Francisco",
          "Nossa Senhora da Vitória",
          "Nossa Senhora da Vitória",
          "Nossa Senhora da Vitória",
          "São Francisco",
          "Pontal",
          "Nossa Senhora da Vitória",
          "Nossa Senhora da Vitória",
          "Pontal",
          "São Francisco",
          "Nossa Senhora da Vitória",
          "São Francisco",
          "São Francisco",
          "Pontal",
          "Cidade Nova",
          "Cidade Nova",
          "Ilhéus II",
          "São Francisco",
          "Nossa Senhora da Vitória",
          "Jardim Savóia",
          "São Francisco",
          "Pontal",
          "Aritaguá",
          "Nossa Senhora da Vitória",
          "Nossa Senhora da Vitória",
          "São Francisco",
          "Jardim Atlântico",
          "Nossa Senhora da Vitória",
          "Nossa Senhora da Vitória",
          "Nossa Senhora da Vitória",
          "Pontal",
          "Pontal",
          "Jardim Atlântico",
          "Nossa Senhora da Vitória",
          "Nossa Senhora da Vitória",
          "São Francisco",
          "Nossa Senhora da Vitória",
          "Jardim Atlântico",
          "Nossa Senhora da Vitória",
          "Nossa Senhora da Vitória",
          "Pontal",
          "Nossa Senhora da Vitória",
          "Nossa Senhora da Vitória",
          "São Sebastião",
          "Olivença",
          "Cidade Nova",
          "Pontal",
          "Nossa Senhora da Vitória",
          "Pontal",
          "Pontal",
          "Nossa Senhora da Vitória",
          "São Francisco",
          "São Francisco",
          "Jardim Atlântico",
          "Centro",
          "São Francisco",
          "Nossa Senhora da Vitória",
          "Nossa Senhora da Vitória",
          "São Francisco",
          "São Francisco",
          "São Francisco",
          "Cidade Nova",
          "São Domingos",
          "São Francisco",
          "São Francisco",
          "Cidade Nova",
          "Nossa Senhora da Vitória",
          "São Francisco",
          "Pontal",
          "Nossa Senhora da Vitória",
          "Jardim Atlântico",
          "Cidade Nova",
          "Nossa Senhora da Vitória",
          "Nossa Senhora da Vitória",
          "São Francisco",
          "São Sebastião",
          "Ilhéus II",
          "Ilhéus II",
          "Pontal",
          "Nossa Senhora da Vitória",
          "Pontal",
          "Jardim Savóia",
          "São Francisco",
          "São Francisco",
          "São Francisco",
          "Pontal",
          "São Francisco",
          "Nossa Senhora da Vitória",
          "Jardim Atlântico",
          "Olivença",
          "Cidade Nova",
          "Nossa Senhora da Vitória",
          "Pontal",
          "Nossa Senhora da Vitória",
          "São Francisco",
          "São Francisco",
          "Pontal",
          "Nossa Senhora da Vitória",
          "Nossa Senhora da Vitória",
          "Nossa Senhora da Vitória",
          "Jardim Atlântico",
          "Cidade Nova",
          "Cidade Nova",
          "São Francisco",
          "Nossa Senhora da Vitória",
          "Jardim Atlântico",
          "Jardim Atlântico",
          "São Francisco",
          "Boa Vista",
          "Pontal",
          "São Francisco",
          "Nossa Senhora da Vitória",
          "São Francisco",
          "Nossa Senhora da Vitória",
          "Pontal",
          "Pontal",
          "São Francisco",
          "Pontal",
          "Cidade Nova",
          "Nossa Senhora da Vitória",
          "São Francisco",
          "Nossa Senhora da Vitória",
          "São Francisco",
          "Pontal",
          "Nossa Senhora da Vitória",
          "Nossa Senhora da Vitória",
          "São Francisco",
          "São Francisco",
          "Pontal",
          "Nossa Senhora da Vitória",
          "Nossa Senhora da Vitória",
          "Jardim Atlântico",
          "São Francisco",
          "Nossa Senhora da Vitória",
          "São Francisco",
          "Jardim Savóia",
          "São Francisco",
          "Jardim Atlântico",
          "São Francisco",
          "Nossa Senhora da Vitória",
          "Nossa Senhora da Vitória",
          "Nossa Senhora da Vitória",
          "Nossa Senhora da Vitória",
          "Nossa Senhora da Vitória",
          "Nossa Senhora da Vitória",
          "Nossa Senhora da Vitória",
          "Nossa Senhora da Vitória",
          "Nossa Senhora da Vitória",
          "Nossa Senhora da Vitória",
          "Nossa Senhora da Vitória",
          "Nossa Senhora da Vitória",
          "Nossa Senhora da Vitória",
          "São Francisco",
          "Malhado",
          "Centro",
          "Jardim Atlântico",
          "Boa Vista",
          "Centro",
          "Centro",
          "Centro",
          "Nossa Senhora da Vitória",
          "Jardim Savóia",
          "Jardim Savóia",
          "São Francisco",
          "Pontal",
          "Nossa Senhora da Vitória",
          "São Francisco",
          "Cidade Nova",
          "Nossa Senhora da Vitória",
          "São Francisco",
          "São Francisco",
          "São Francisco",
          "São Francisco",
          "São Francisco",
          "Nossa Senhora da Vitória",
          "Nossa Senhora da Vitória",
          "Nossa Senhora da Vitória",
          "Olivença",
          "São Francisco",
          "São Francisco",
          "Nossa Senhora da Vitória",
          "São Francisco",
          "Pontal",
          "Pontal",
          "Pontal",
          "Nossa Senhora da Vitória",
          "Pontal",
          "São Francisco",
          "São Francisco",
          "Nossa Senhora da Vitória",
          "Nossa Senhora da Vitória",
          "São Francisco",
          "Nossa Senhora da Vitória",
          "Nossa Senhora da Vitória",
          "Nossa Senhora da Vitória",
          "Nossa Senhora da Vitória",
          "Olivença",
          "São Francisco",
          "Pontal",
          "São Francisco",
          "Nossa Senhora da Vitória",
          "Boa Vista",
          "São Francisco",
          "São Francisco",
          "São Francisco",
          "Olivença",
          "Cidade Nova",
          "Nossa Senhora da Vitória",
          "São Francisco",
          "Pontal",
          "Nossa Senhora da Vitória",
          "Olivença",
          "São Francisco",
          "Cidade Nova",
          "Nossa Senhora da Vitória",
          "Jardim Savóia",
          "Centro",
          "São Francisco",
          "Jardim Atlântico",
          "Olivença",
          "Pontal",
          "Pontal",
          "Nossa Senhora da Vitória",
          "Cidade Nova",
          "São Francisco",
          "São Domingos",
          "Centro",
          "Pontal",
          "São Francisco",
          "São Francisco",
          "Jardim Atlântico",
          "Nossa Senhora da Vitória",
          "São Francisco",
          "São Francisco",
          "São Francisco",
          "Nossa Senhora da Vitória",
          "Nossa Senhora da Vitória",
          "Jardim Atlântico",
          "São Francisco",
          "São Sebastião",
          "Pontal",
          "Nossa Senhora da Vitória",
          "Nossa Senhora da Vitória",
          "São Francisco",
          "Nossa Senhora da Vitória",
          "Nossa Senhora da Vitória",
          "Nossa Senhora da Vitória",
          "Cidade Nova",
          "Jardim Savóia",
          "Nossa Senhora da Vitória",
          "São Francisco",
          "São Francisco",
          "São Domingos",
          "Cidade Nova",
          "Jardim Atlântico",
          "Olivença",
          "São Francisco",
          "Aritaguá",
          "Cidade Nova",
          "Boa Vista",
          "São Francisco",
          "Conquista",
          "Cidade Nova",
          "Cidade Nova",
          "Pontal",
          "Pontal",
          "São Francisco",
          "Nossa Senhora da Vitória",
          "São Francisco",
          "Boa Vista",
          "Pontal",
          "Nossa Senhora da Vitória",
          "Olivença",
          "Nossa Senhora da Vitória",
          "Cidade Nova",
          "São Domingos",
          "Nossa Senhora da Vitória",
          "Jardim Savóia",
          "São Sebastião",
          "São Francisco",
          "São Francisco",
          "São Francisco",
          "Cidade Nova",
          "Nossa Senhora da Vitória",
          "Cidade Nova",
          "Nossa Senhora da Vitória",
          "São Francisco",
          "Pontal",
          "Pontal",
          "Pontal",
          "São Francisco",
          "Pontal",
          "São Francisco",
          "Ilhéus II",
          "São Francisco",
          "São Francisco",
          "Cidade Nova",
          "Nossa Senhora da Vitória",
          "Jardim Atlântico",
          "São Francisco",
          "Cidade Nova",
          "São Francisco",
          "São Sebastião",
          "Pontal",
          "Cidade Nova",
          "Centro",
          "Jardim Savóia",
          "São Francisco",
          "Nossa Senhora da Vitória",
          "São Francisco",
          "Centro",
          "Jardim Savóia",
          "Jardim Savóia",
          "Hernani Sá",
          "São Francisco",
          "Nossa Senhora da Vitória",
          "Centro",
          "Nossa Senhora da Vitória",
          "Nelson Costa",
          "São Francisco",
          "São Francisco",
          "Centro",
          "Jardim Savóia",
          "Pontal",
          "Nossa Senhora da Vitória",
          "Cidade Nova",
          "São Francisco",
          "Cidade Nova",
          "Pontal",
          "Conquista",
          "Nossa Senhora da Vitória",
          "Nossa Senhora da Vitória",
          "São Francisco",
          "São Francisco",
          "Nossa Senhora da Vitória",
          "São Francisco",
          "Centro",
          "São Francisco",
          "Boa Vista",
          "Pontal",
          "São Francisco",
          "Nossa Senhora da Vitória",
          "São Francisco",
          "Jardim Atlântico",
          "Nossa Senhora da Vitória",
          "Cidade Nova",
          "Nossa Senhora da Vitória",
          "Jardim Savóia",
          "Cidade Nova",
          "Jardim Savóia",
          "Pontal",
          "Nossa Senhora da Vitória",
          "Nossa Senhora da Vitória",
          "Centro",
          "Cidade Nova",
          "São Francisco",
          "São Francisco",
          "São Francisco",
          "Pontal",
          "Cidade Nova",
          "Malhado",
          "Cidade Nova",
          "Malhado",
          "Pontal",
          "Nelson Costa",
          "Nossa Senhora da Vitória",
          "Iguape",
          "São Francisco",
          "Cidade Nova",
          "Cidade Nova",
          "São Francisco",
          "Nossa Senhora da Vitória",
          "Pontal",
          "Pontal",
          "Jardim Atlântico",
          "São Francisco",
          "Nossa Senhora da Vitória",
          "Pontal",
          "Jardim Savóia",
          "Nossa Senhora da Vitória",
          "Centro",
          "Nossa Senhora da Vitória",
          "São Domingos",
          "Nossa Senhora da Vitória",
          "Jardim Atlântico",
          "Jardim Atlântico",
          "Olivença",
          "São Francisco",
          "Cidade Nova",
          "Pontal",
          "São Domingos",
          "Pontal",
          "Cidade Nova",
          "Boa Vista",
          "Centro",
          "Jardim Atlântico",
          "Pontal",
          "Cidade Nova",
          "Cidade Nova",
          "Cidade Nova",
          "Cidade Nova",
          "São Francisco",
          "Nossa Senhora da Vitória",
          "Cidade Nova",
          "Boa Vista",
          "São Sebastião",
          "Cidade Nova",
          "Nossa Senhora da Vitória",
          "Cidade Nova",
          "Cidade Nova",
          "São Francisco",
          "Pontal",
          "São Francisco",
          "Pontal",
          "Nossa Senhora da Vitória",
          "Jardim Atlântico",
          "Nossa Senhora da Vitória",
          "Pontal",
          "Nossa Senhora da Vitória",
          "Cidade Nova",
          "Nossa Senhora da Vitória",
          "Nossa Senhora da Vitória",
          "São Francisco",
          "Cidade Nova",
          "Olivença",
          "Jardim Atlântico",
          "Olivença",
          "Esperança",
          "São Francisco",
          "Cidade Nova",
          "Jardim Atlântico",
          "Centro",
          "Olivença",
          "São Francisco",
          "São Francisco",
          "Cidade Nova",
          "Pontal",
          "Esperança",
          "Cidade Nova",
          "Centro",
          "Cidade Nova",
          "Cidade Nova",
          "Olivença",
          "Esperança",
          "Pontal",
          "Pontal",
          "Esperança",
          "Nossa Senhora da Vitória",
          "Nossa Senhora da Vitória",
          "Cidade Nova",
          "Nossa Senhora da Vitória",
          "Centro",
          "Centro",
          "São Francisco",
          "São Francisco",
          "São Francisco",
          "Cidade Nova",
          "Cidade Nova",
          "Pontal",
          "São Francisco",
          "Pontal",
          "São Francisco"
         ],
         "lat": [
          -14.805925,
          -14.9117154,
          -14.8091274,
          -14.8403975,
          -14.8403975,
          -14.8403975,
          -14.805925,
          -14.8403975,
          -14.8018168,
          -14.8454834,
          -14.805925,
          -14.8403975,
          -14.8432332,
          -14.8403975,
          -14.7736743,
          -14.7932037,
          -14.805925,
          -14.8403975,
          -14.8076907,
          -14.805925,
          -14.8403975,
          -14.8348482,
          -14.8451891,
          -14.8403975,
          -14.796432,
          -14.8403975,
          -14.83761,
          -14.8454834,
          -14.8313622,
          -14.9943,
          -14.8432332,
          -14.8348482,
          -14.788433,
          -14.8403975,
          -14.805925,
          -14.8403975,
          -14.8403975,
          -14.8403975,
          -14.8364846,
          -14.8403975,
          -14.805925,
          -14.8403975,
          -14.805925,
          -14.805925,
          -14.8403975,
          -14.8454834,
          -14.8403975,
          -14.8240691,
          -14.8484664,
          -14.8103062,
          -14.8403975,
          -14.8451891,
          -14.8403975,
          -14.8330061,
          -14.8403975,
          -14.8117429,
          -14.789719,
          -14.805925,
          -14.8348482,
          -14.8403975,
          -14.805925,
          -14.8448122,
          -14.8438677,
          -14.8454834,
          -14.8403975,
          -14.8403975,
          -14.8117429,
          -14.8397473,
          -14.788433,
          -14.7849672,
          -14.8454834,
          -14.8357713,
          -14.8357713,
          -14.789719,
          -14.8364846,
          -14.805925,
          -14.8403975,
          -14.8403975,
          -14.8454834,
          -14.8454834,
          -14.788433,
          -14.8451694,
          -14.8403975,
          -14.8403975,
          -14.8484664,
          -14.8403975,
          -14.8403975,
          -14.8461131,
          -14.8454834,
          -14.83761,
          -14.8454834,
          -14.7736743,
          -14.8454834,
          -14.8403975,
          -14.8403975,
          -14.8444041,
          -14.841768,
          -14.8403975,
          -14.8403975,
          -14.805925,
          -14.7877297,
          -14.8451891,
          -14.8444041,
          -14.8322621,
          -14.789719,
          -14.805925,
          -14.8117429,
          -14.8403975,
          -14.7661511,
          -14.8348482,
          -14.8403975,
          -14.8432332,
          -14.8444041,
          -14.7736743,
          -14.789719,
          -14.8364846,
          -14.8364846,
          -14.8403975,
          -14.8364846,
          -14.8403975,
          -14.8451891,
          -14.8403975,
          -14.8403975,
          -14.8403975,
          -14.8403975,
          -14.8403975,
          -14.8403975,
          -14.8403975,
          -14.8403975,
          -14.8403975,
          -14.8444041,
          -14.8403975,
          -14.8403975,
          -14.805925,
          -14.8454834,
          -14.7607621,
          -14.8266225,
          -14.805925,
          -14.8403975,
          -14.8341963,
          -14.805925,
          -14.8207138,
          -14.8341614,
          -14.8403975,
          -14.8403975,
          -14.8403975,
          -14.8403975,
          -14.8357713,
          -14.805925,
          -14.8117429,
          -14.8444041,
          -14.8454834,
          -14.8117429,
          -14.8403975,
          -14.7607621,
          -14.7607621,
          -14.8451694,
          -14.8205436,
          -14.8403975,
          -14.8432332,
          -14.8403975,
          -14.8444041,
          -14.8240691,
          -14.8240691,
          -14.7849388,
          -14.8117429,
          -14.789719,
          -14.789719,
          -14.79261,
          -14.8357713,
          -14.8364846,
          -14.8444041,
          -14.7736743,
          -14.8255024,
          -14.805925,
          -14.805925,
          -14.8432332,
          -14.8454834,
          -14.8403975,
          -14.8403975,
          -14.83761,
          -14.8403975,
          -14.830778,
          -14.830778,
          -14.8364846,
          -14.8432332,
          -14.805925,
          -14.8091274,
          -14.8403975,
          -14.8461131,
          -14.8454834,
          -14.8403975,
          -14.8403975,
          -14.8444041,
          -14.8403975,
          -14.8454834,
          -14.8125454,
          -14.8125454,
          -14.8403975,
          -14.8403975,
          -14.9522225,
          -14.805925,
          -14.8403975,
          -14.805925,
          -14.8444041,
          -14.8403975,
          -14.8117429,
          -14.8444041,
          -14.8348482,
          -14.8348482,
          -14.8451891,
          -14.8403975,
          -14.8117429,
          -14.8403975,
          -14.8117429,
          -14.8018168,
          -14.9522225,
          -14.8322621,
          -14.788433,
          -14.7896114,
          -14.7896114,
          -14.8180666,
          -14.7958929,
          -14.8313622,
          -14.8403975,
          -14.8403975,
          -14.7853553,
          -14.8454834,
          -14.8369144,
          -14.8180666,
          -14.8403975,
          -14.789719,
          -14.7607621,
          -14.8403975,
          -14.8403975,
          -14.8364846,
          -14.788433,
          -14.8403975,
          -14.8454834,
          -14.8403975,
          -14.8341614,
          -14.805925,
          -14.8403975,
          -14.8316042,
          -14.789719,
          -14.8454834,
          -14.8454834,
          -14.8403975,
          -14.83755,
          -14.8357713,
          -14.8403975,
          -14.7736743,
          -14.8403975,
          -14.8403975,
          -14.8425475,
          -14.8117429,
          -14.8403975,
          -14.8322621,
          -14.9522155,
          -14.8403975,
          -14.8403975,
          -14.8341614,
          -14.7853553,
          -14.8454834,
          -14.8454834,
          -14.805925,
          -14.8403975,
          -14.8255024,
          -14.8451891,
          -14.8451891,
          -14.805925,
          -14.8432332,
          -14.8461131,
          -14.8255024,
          -14.8461131,
          -14.8444041,
          -14.8403975,
          -14.7912901,
          -14.8240691,
          -14.8403975,
          -14.8330061,
          -14.8330061,
          -14.8403975,
          -14.8461131,
          -14.7877297,
          -14.8205436,
          -14.805925,
          -14.8364846,
          -14.8364846,
          -14.8403975,
          -14.8403975,
          -14.805925,
          -14.8091274,
          -14.8313622,
          -14.8117429,
          -14.7912901,
          -14.8403975,
          -14.8168568,
          -14.8403975,
          -14.805925,
          -14.8403975,
          -14.805925,
          -14.8444041,
          -14.8403975,
          -14.8207138,
          -14.805925,
          -14.8403975,
          -14.8444041,
          -14.7736743,
          -14.8461131,
          -14.8403975,
          -14.8417744,
          -14.8403975,
          -14.7736743,
          -14.8313622,
          -14.8322621,
          -14.8403975,
          -14.8454834,
          -14.81056,
          -14.8329816,
          -14.7958929,
          -14.805925,
          -14.8394981,
          -14.7958929,
          -14.8403975,
          -14.8403975,
          -14.7736743,
          -14.7736743,
          -14.8403975,
          -14.8141628,
          -14.8403975,
          -14.8341614,
          -14.7912901,
          -14.7736743,
          -14.8417744,
          -14.8403975,
          -14.8444041,
          -14.8403975,
          -14.8403975,
          -14.8403975,
          -14.8403975,
          -14.8452087,
          -14.8444041,
          -14.8451891,
          -14.8471646,
          -14.8403975,
          -14.9522225,
          -14.8403975,
          -14.8403975,
          -14.8240691,
          -14.805925,
          -14.8117429,
          -14.8403975,
          -14.81174,
          -14.8341614,
          -14.805925,
          -14.8403975,
          -14.8403975,
          -14.8403975,
          -14.8403975,
          -14.8403975,
          -14.8403975,
          -14.8403975,
          -14.8403975,
          -14.7607621,
          -14.8435341,
          -14.8403975,
          -14.89345,
          -14.8313622,
          -14.8329816,
          -14.805925,
          -14.8403975,
          -14.8454834,
          -14.7899964,
          -14.8403975,
          -14.8207138,
          -14.8403975,
          -14.9522225,
          -14.8416566,
          -14.789719,
          -14.8403975,
          -14.8403975,
          -14.8403975,
          -14.8385183,
          -14.8471646,
          -14.8403975,
          -14.8403975,
          -14.7958929,
          -14.7661511,
          -14.8432332,
          -14.8403975,
          -14.8403975,
          -14.8117429,
          -14.8451891,
          -14.789719,
          -14.8403975,
          -14.805925,
          -14.8403975,
          -14.8403975,
          -14.8403975,
          -14.8207138,
          -14.8348482,
          -14.8255024,
          -14.8403975,
          -14.8444041,
          -14.8403975,
          -14.8403975,
          -14.8024326,
          -14.8403975,
          -14.8444041,
          -14.8403975,
          -14.8444041,
          -14.8444041,
          -14.78525,
          -14.7736743,
          -14.8403975,
          -14.8461131,
          -14.8403975,
          -14.8403975,
          -14.7607621,
          -14.7853553,
          -14.9511334,
          -14.8403975,
          -14.789719,
          -14.8403975,
          -14.7912901,
          -14.788433,
          -14.8076907,
          -14.8403975,
          -14.8403975,
          -14.8109165,
          -14.805925,
          -14.8461131,
          -14.944,
          -14.8403975,
          -14.789719,
          -14.8454834,
          -14.7736743,
          -14.8412186,
          -14.8403975,
          -14.7910945,
          -14.81458,
          -14.8432332,
          -14.8225253,
          -14.805925,
          -14.81056,
          -14.8091274,
          -14.8403975,
          -14.805925,
          -14.8403975,
          -14.8322621,
          -14.8357713,
          -14.8403975,
          -14.789719,
          -14.8403975,
          -14.8403975,
          -14.789719,
          -14.8403975,
          -14.801882,
          -14.805925,
          -14.7736743,
          -14.8329816,
          -14.8403975,
          -14.7958929,
          -14.7736743,
          -14.7736743,
          -14.8403975,
          -14.8403975,
          -14.8403975,
          -14.8341614,
          -14.8403975,
          -14.7849672,
          -14.8117429,
          -14.7946484,
          -14.8403975,
          -14.8403975,
          -14.8403975,
          -14.8403975,
          -14.8341614,
          -14.8403975,
          -14.8403975,
          -14.805925,
          -14.8403975,
          -14.8168568,
          -14.8313622,
          -14.8403975,
          -14.8438677,
          -14.789719,
          -14.8168568,
          -14.7661511,
          -14.7853553,
          -14.7736743,
          -14.805925,
          -14.8451891,
          -14.8444041,
          -14.7958929,
          -14.78525,
          -14.8341614,
          -14.8403975,
          -14.805925,
          -14.8403975,
          -14.789719,
          -14.7874036,
          -14.8091274,
          -14.827516,
          -14.8438677,
          -14.8329816,
          -14.789719,
          -14.7853553,
          -14.8403975,
          -14.805925,
          -14.805925,
          -14.8420558,
          -14.8117429,
          -14.7736743,
          -14.7607621,
          -14.8403975,
          -14.8403975,
          -14.841768,
          -14.8471646,
          -14.8207138,
          -14.7853553,
          -14.7607621,
          -14.8341614,
          -14.8117429,
          -14.7849672,
          -14.8109165,
          -14.7993665,
          -14.805925,
          -14.7958929,
          -14.789719,
          -14.7912901,
          -14.7853553,
          -14.7853553,
          -14.8403975,
          -14.7853553,
          -14.8403975,
          -14.7896114,
          -14.8018168,
          -14.7912901,
          -14.8454834,
          -14.788433,
          -14.7849672,
          -14.8076907,
          -14.8403975,
          -14.805925,
          -14.8403975,
          -14.8403975,
          -14.7736743,
          -14.8418334,
          -14.8117429,
          -14.8403975,
          -14.8364846,
          -14.789719,
          -14.8461131,
          -14.8403975,
          -14.7912901,
          -14.8471646,
          -14.8322621,
          -14.8471646,
          -14.8403975,
          -14.8206756,
          -14.7912901,
          -14.7958929,
          -14.83906,
          -14.8471646,
          -14.8403975,
          -14.8403975,
          -14.7853553,
          -14.8073087,
          -14.7853553,
          -14.789719,
          -14.788433,
          -14.8471646,
          -14.8098178,
          -14.7846063,
          -14.8403975,
          -14.7853553,
          -14.7958929,
          -14.8403975,
          -14.8207138,
          -14.79186,
          -14.7912901,
          -14.8117429,
          -14.8341614,
          -14.8130655,
          -14.8348482,
          -14.8403975,
          -14.8091274,
          -14.8451694,
          -14.8420558,
          -14.8432332,
          -14.83761,
          -14.788433,
          -14.8432332,
          -14.8432332,
          -14.8255024,
          -14.83761,
          -14.8207138,
          -14.8168568,
          -14.8451694,
          -14.805925,
          -14.7846063,
          -14.8348482,
          -14.7661511,
          -14.7958929,
          -14.8205436,
          -14.8403975,
          -14.8444041,
          -14.8444041,
          -14.8403975,
          -14.8403975,
          -14.7736743,
          -14.8403975,
          -14.8403975,
          -14.8403975,
          -14.8403975,
          -14.8403975,
          -14.8454834,
          -14.7736743,
          -14.8117429,
          -14.8403975,
          -14.8403975,
          -14.8403975,
          -14.8403975,
          -14.8403975,
          -14.9117154,
          -14.8461131,
          -14.8417744,
          -14.8444041,
          -14.805925,
          -14.94502,
          -14.8403975,
          -14.8444041,
          -14.7736743,
          -14.8432332,
          -14.9467986,
          -14.8117429,
          -14.8168568,
          -14.8364846,
          -14.837664,
          -14.8240691,
          -14.7884269,
          -14.8341614,
          -14.8461131,
          -14.8403975,
          -14.8255024,
          -14.805925,
          -14.8451694,
          -14.9117154,
          -14.8420558,
          -14.8432332,
          -14.78834,
          -14.83761,
          -14.8091274,
          -14.8403975,
          -14.805925,
          -14.8403975,
          -14.8018168,
          -14.8454834,
          -14.805925,
          -14.8403975,
          -14.8432332,
          -14.8403975,
          -14.7736743,
          -14.7932037,
          -14.805925,
          -14.8403975,
          -14.8076907,
          -14.805925,
          -14.8403975,
          -14.8348482,
          -14.8451891,
          -14.8403975,
          -14.796432,
          -14.8403975,
          -14.83761,
          -14.8454834,
          -14.8313622,
          -14.9943,
          -14.8432332,
          -14.8348482,
          -14.788433,
          -14.8403975,
          -14.8403975,
          -14.8364846,
          -14.8403975,
          -14.805925,
          -14.8403975,
          -14.805925,
          -14.805925,
          -14.8403975,
          -14.8454834,
          -14.8403975,
          -14.8240691,
          -14.8103062,
          -14.8330061,
          -14.8403975,
          -14.8117429,
          -14.789719,
          -14.805925,
          -14.8448122,
          -14.8438677,
          -14.8454834,
          -14.8255024,
          -14.8403975,
          -14.8403975,
          -14.8308421,
          -14.8397473,
          -14.788433,
          -14.7849672,
          -14.8454834,
          -14.8357713,
          -14.8357713,
          -14.789719,
          -14.8364846,
          -14.805925,
          -14.8403975,
          -14.8403975,
          -14.8454834,
          -14.8454834,
          -14.8451694,
          -14.8444041,
          -14.8403975,
          -14.8403975,
          -14.8117429,
          -14.8484664,
          -14.8451891,
          -14.8403975,
          -14.8098178,
          -14.8454834,
          -14.7736743,
          -14.8454834,
          -14.8403975,
          -14.8403975,
          -14.8444041,
          -14.8403975,
          -14.8403975,
          -14.805925,
          -14.8444041,
          -14.8322621,
          -14.789719,
          -14.8117429,
          -14.8403975,
          -14.7661511,
          -14.8348482,
          -14.796432,
          -14.805925,
          -14.8432332,
          -14.7941544,
          -14.7736743,
          -14.8364846,
          -14.8403975,
          -14.8403975,
          -14.8403975,
          -14.8403975,
          -14.8403975,
          -14.8403975,
          -14.8403975,
          -14.805925,
          -14.8454834,
          -14.7607621,
          -14.83761,
          -14.805925,
          -14.8341614,
          -14.8403975,
          -14.8403975,
          -14.8403975,
          -14.8403975,
          -14.8117429,
          -14.8444041,
          -14.8454834,
          -14.8117429,
          -14.8205436,
          -14.8403975,
          -14.8348482,
          -14.8240691,
          -14.8117429,
          -14.789719,
          -14.789719,
          -14.8357713,
          -14.8364846,
          -14.8444041,
          -14.7736743,
          -14.8255024,
          -14.805925,
          -14.6012681,
          -14.8454834,
          -14.8454834,
          -14.83761,
          -14.8403975,
          -14.8364846,
          -14.8403975,
          -14.8432332,
          -14.805925,
          -14.8091274,
          -14.8403975,
          -14.8432332,
          -14.8454834,
          -14.8403975,
          -14.8403975,
          -14.8403975,
          -14.8444041,
          -14.8454834,
          -14.8125454,
          -14.8403975,
          -14.8403975,
          -14.8018168,
          -14.9522225,
          -14.789719,
          -14.805925,
          -14.8403975,
          -14.805925,
          -14.805925,
          -14.8438677,
          -14.8348482,
          -14.8348482,
          -14.8322621,
          -14.7958929,
          -14.8313622,
          -14.8403975,
          -14.8454834,
          -14.8369144,
          -14.8180666,
          -14.8403975,
          -14.789719,
          -14.7607621,
          -14.8403975,
          -14.8403975,
          -14.788433,
          -14.8454834,
          -14.8341614,
          -14.805925,
          -14.8403975,
          -14.8316042,
          -14.789719,
          -14.8454834,
          -14.8454834,
          -14.8403975,
          -14.8018168,
          -14.83755,
          -14.8357713,
          -14.8087632,
          -14.8403975,
          -14.8117429,
          -14.7736743,
          -14.8403975,
          -14.8403975,
          -14.8313622,
          -14.8117429,
          -14.8403975,
          -14.8454834,
          -14.8322621,
          -14.9522155,
          -14.7853553,
          -14.8454834,
          -14.805925,
          -14.8403975,
          -14.8240691,
          -14.8255024,
          -14.805925,
          -14.8461131,
          -14.8461131,
          -14.8454834,
          -14.8403975,
          -14.789719,
          -14.7912901,
          -14.8240691,
          -14.8403975,
          -14.8330061,
          -14.8330061,
          -14.8403975,
          -14.7877297,
          -14.805925,
          -14.8364846,
          -14.8364846,
          -14.8403975,
          -14.8403975,
          -14.805925,
          -14.8091274,
          -14.8313622,
          -14.8117429,
          -14.7912901,
          -14.8403975,
          -14.8403975,
          -14.8168568,
          -14.8403975,
          -14.805925,
          -14.8444041,
          -14.8444041,
          -14.8403975,
          -14.8207138,
          -14.805925,
          -14.8403975,
          -14.8403975,
          -14.8403975,
          -14.8403975,
          -14.8403975,
          -14.8341614,
          -14.7736743,
          -14.8313622,
          -14.8322621,
          -14.8403975,
          -14.8454834,
          -14.8454834,
          -14.8454834,
          -14.8454834,
          -14.8454834,
          -14.8454834,
          -14.8454834,
          -14.8454834,
          -14.8454834,
          -14.8454834,
          -14.8454834,
          -14.8454834,
          -14.8454834,
          -14.8329816,
          -14.81121,
          -14.7958929,
          -14.8403975,
          -14.8109165,
          -14.7958929,
          -14.7969117,
          -14.7969117,
          -14.8403975,
          -14.7736743,
          -14.7736743,
          -14.8403975,
          -14.8141628,
          -14.8403975,
          -14.8341614,
          -14.7912901,
          -14.8417744,
          -14.8403975,
          -14.8403975,
          -14.8403975,
          -14.8403975,
          -14.8403975,
          -14.8452087,
          -14.8444041,
          -14.8451891,
          -14.8471646,
          -14.8403975,
          -14.8403975,
          -14.8403975,
          -14.8240691,
          -14.805925,
          -14.8117429,
          -14.81174,
          -14.8403975,
          -14.81174,
          -14.8341614,
          -14.8403975,
          -14.8403975,
          -14.8432332,
          -14.8403975,
          -14.8403975,
          -14.8403975,
          -14.8403975,
          -14.8435341,
          -14.89345,
          -14.8329816,
          -14.805925,
          -14.8403975,
          -14.8454834,
          -14.7899964,
          -14.8403975,
          -14.8207138,
          -14.8403975,
          -14.9522225,
          -14.789719,
          -14.8403975,
          -14.8403975,
          -14.805925,
          -14.8385183,
          -14.8471646,
          -14.8403975,
          -14.7897648,
          -14.8403975,
          -14.7692883,
          -14.7958929,
          -14.8403975,
          -14.8403975,
          -14.8471646,
          -14.8117429,
          -14.8118839,
          -14.8451891,
          -14.789719,
          -14.8403975,
          -14.7434264,
          -14.796432,
          -14.805925,
          -14.8403975,
          -14.8403975,
          -14.8403975,
          -14.8403975,
          -14.8207138,
          -14.8348482,
          -14.8255024,
          -14.8403975,
          -14.8444041,
          -14.8403975,
          -14.8403975,
          -14.8024326,
          -14.8117429,
          -14.8403975,
          -14.8444041,
          -14.8403975,
          -14.8444041,
          -14.8403975,
          -14.8444041,
          -14.78525,
          -14.7736743,
          -14.8461131,
          -14.8403975,
          -14.8403975,
          -14.7607621,
          -14.7853553,
          -14.8403975,
          -14.9511334,
          -14.8403975,
          -14.5951,
          -14.789719,
          -14.837664,
          -14.8403975,
          -14.7951657,
          -14.7912901,
          -14.788433,
          -14.84023,
          -14.8076907,
          -14.8403975,
          -14.8451891,
          -14.8403975,
          -14.8109165,
          -14.805925,
          -14.8461131,
          -14.944,
          -14.8403975,
          -14.789719,
          -14.7890486,
          -14.8454834,
          -14.7736743,
          -14.8018168,
          -14.8313622,
          -14.8403975,
          -14.8313622,
          -14.7910945,
          -14.8438677,
          -14.78525,
          -14.8432332,
          -14.8225253,
          -14.805925,
          -14.81056,
          -14.8091274,
          -14.8403975,
          -14.805925,
          -14.8403975,
          -14.8357713,
          -14.8403975,
          -14.8313622,
          -14.789719,
          -14.8403975,
          -14.8403975,
          -14.8313622,
          -14.789719,
          -14.8403975,
          -14.801882,
          -14.805925,
          -14.7910945,
          -14.7958929,
          -14.7736743,
          -14.8329816,
          -14.8403975,
          -14.8403975,
          -14.7958929,
          -14.7736743,
          -14.7736743,
          -14.8244696,
          -14.8403975,
          -14.8403975,
          -14.7958929,
          -14.8452087,
          -14.8204022,
          -14.8403975,
          -14.8341614,
          -14.7978147,
          -14.7661511,
          -14.8091274,
          -14.82419,
          -14.788433,
          -14.8403975,
          -14.7849672,
          -14.8117429,
          -14.7946484,
          -14.8403975,
          -14.8403975,
          -14.8403975,
          -14.8403975,
          -14.8403975,
          -14.8341614,
          -14.7985928,
          -14.8403975,
          -14.8116709,
          -14.805925,
          -14.8403975,
          -14.8168568,
          -14.8313622,
          -14.8403975,
          -14.8438677,
          -14.789719,
          -14.8168568,
          -14.7661511,
          -14.7853553,
          -14.7736743,
          -14.805925,
          -14.8451891,
          -14.8444041,
          -14.7958929,
          -14.78525,
          -14.8341614,
          -14.8403975,
          -14.8403975,
          -14.8136216,
          -14.788433,
          -14.7832664,
          -14.789719,
          -14.7874036,
          -14.8091274,
          -14.827516,
          -14.8438677,
          -14.7413961,
          -14.8329816,
          -14.789719,
          -14.7853553,
          -14.8403975,
          -14.8403975,
          -14.805925,
          -14.805925,
          -14.8403975,
          -14.8403975,
          -14.8420558,
          -14.8117429,
          -14.7736743,
          -14.8403975,
          -14.7978147,
          -14.8444041,
          -14.7607621,
          -14.8403975,
          -14.8403975,
          -14.8403975,
          -14.8471646,
          -14.8207138,
          -14.7853553,
          -14.805925,
          -14.7607621,
          -14.8117429,
          -14.7849672,
          -14.8109165,
          -14.7993665,
          -14.8403975,
          -14.805925,
          -14.789719,
          -14.7912901,
          -14.7853553,
          -14.7853553,
          -14.8403975,
          -14.8403975,
          -14.7853553,
          -14.7896114,
          -14.8018168,
          -14.7912901,
          -14.8454834,
          -14.788433,
          -14.7849672,
          -14.8266225,
          -14.8076907,
          -14.8403975,
          -14.805925,
          -14.8403975,
          -14.8403975,
          -14.8418334,
          -14.8117429,
          -14.8364846,
          -14.789719,
          -14.8461131,
          -14.8438677,
          -14.8403975,
          -14.7912901,
          -14.8471646,
          -14.8322621,
          -14.8471646,
          -14.7846063,
          -14.8206756,
          -14.7912901,
          -14.8403975,
          -14.7958929,
          -14.8471646,
          -14.8403975,
          -14.8403975,
          -14.7853553,
          -14.8073087,
          -14.7846063,
          -14.7853553,
          -14.7978503,
          -14.789719,
          -14.788433,
          -14.8471646,
          -14.7846063,
          -14.8098178,
          -14.8076253,
          -14.7846063,
          -14.8403975,
          -14.8461131,
          -14.7853553,
          -14.8403975,
          -14.7958929,
          -14.7958929,
          -14.8403975,
          -14.8207138,
          -14.8341614,
          -14.79186,
          -14.7912901,
          -14.8117429,
          -14.8341614,
          -14.8130655,
          -14.8348482
         ],
         "legendgroup": "",
         "lon": [
          -39.03679959999999,
          -39.1467523,
          -39.02595240000001,
          -39.0257076,
          -39.0257076,
          -39.0257076,
          -39.03679959999999,
          -39.0257076,
          -39.0321575,
          -39.0255602,
          -39.03679959999999,
          -39.0257076,
          -39.0270264,
          -39.0257076,
          -39.0592587,
          -39.040627,
          -39.03679959999999,
          -39.0257076,
          -39.0373696,
          -39.03679959999999,
          -39.0257076,
          -39.032076,
          -39.0270264,
          -39.0257076,
          -39.0380211,
          -39.0257076,
          -39.03443,
          -39.0255602,
          -39.0284323,
          -38.99916,
          -39.0270264,
          -39.032076,
          -39.0342002,
          -39.0257076,
          -39.03679959999999,
          -39.0257076,
          -39.0257076,
          -39.0257076,
          -39.02892,
          -39.0257076,
          -39.03679959999999,
          -39.0257076,
          -39.03679959999999,
          -39.03679959999999,
          -39.0257076,
          -39.0255602,
          -39.0257076,
          -39.0288182,
          -39.0271893,
          -39.0374511,
          -39.0257076,
          -39.0270264,
          -39.0257076,
          -39.0264975,
          -39.0257076,
          -39.0321575,
          -39.0332423,
          -39.03679959999999,
          -39.032076,
          -39.0257076,
          -39.03679959999999,
          -39.0383274,
          -39.0268635,
          -39.0255602,
          -39.0257076,
          -39.0257076,
          -39.0321575,
          -39.0361481,
          -39.0342002,
          -39.033912,
          -39.0255602,
          -39.0387699,
          -39.0387699,
          -39.0332423,
          -39.02892,
          -39.03679959999999,
          -39.0257076,
          -39.0257076,
          -39.0255602,
          -39.0255602,
          -39.0342002,
          -39.0263748,
          -39.0257076,
          -39.0257076,
          -39.0271893,
          -39.0257076,
          -39.0257076,
          -39.0278175,
          -39.0255602,
          -39.03443,
          -39.0255602,
          -39.0592587,
          -39.0255602,
          -39.0257076,
          -39.0257076,
          -39.0271893,
          -39.0283295,
          -39.0257076,
          -39.0257076,
          -39.03679959999999,
          -39.0358987,
          -39.0270264,
          -39.0271893,
          -39.0268329,
          -39.0332423,
          -39.03679959999999,
          -39.0321575,
          -39.0257076,
          -39.0624829,
          -39.032076,
          -39.0257076,
          -39.0270264,
          -39.0271893,
          -39.0592587,
          -39.0332423,
          -39.02892,
          -39.02892,
          -39.0257076,
          -39.02892,
          -39.0257076,
          -39.0270264,
          -39.0257076,
          -39.0257076,
          -39.0257076,
          -39.0257076,
          -39.0257076,
          -39.0257076,
          -39.0257076,
          -39.0257076,
          -39.0257076,
          -39.0271893,
          -39.0257076,
          -39.0257076,
          -39.03679959999999,
          -39.0255602,
          -39.060127,
          -39.0277956,
          -39.03679959999999,
          -39.0257076,
          -39.0283807,
          -39.03679959999999,
          -39.0279223,
          -39.0289279,
          -39.0257076,
          -39.0257076,
          -39.0257076,
          -39.0257076,
          -39.0387699,
          -39.03679959999999,
          -39.0321575,
          -39.0271893,
          -39.0255602,
          -39.0321575,
          -39.0257076,
          -39.060127,
          -39.060127,
          -39.0263748,
          -39.0272707,
          -39.0257076,
          -39.0270264,
          -39.0257076,
          -39.0271893,
          -39.0288182,
          -39.0288182,
          -39.0354429,
          -39.0321575,
          -39.0332423,
          -39.0332423,
          -39.0332,
          -39.0387699,
          -39.02892,
          -39.0271893,
          -39.0592587,
          -39.02722809999999,
          -39.03679959999999,
          -39.03679959999999,
          -39.0270264,
          -39.0255602,
          -39.0257076,
          -39.0257076,
          -39.03443,
          -39.0257076,
          -39.02676599999999,
          -39.02676599999999,
          -39.02892,
          -39.0270264,
          -39.03679959999999,
          -39.02595240000001,
          -39.0257076,
          -39.0278175,
          -39.0255602,
          -39.0257076,
          -39.0257076,
          -39.0271893,
          -39.0257076,
          -39.0255602,
          -39.0250178,
          -39.0250178,
          -39.0257076,
          -39.0257076,
          -39.0086976,
          -39.03679959999999,
          -39.0257076,
          -39.03679959999999,
          -39.0271893,
          -39.0257076,
          -39.0321575,
          -39.0271893,
          -39.032076,
          -39.032076,
          -39.0270264,
          -39.0257076,
          -39.0321575,
          -39.0257076,
          -39.0321575,
          -39.0321575,
          -39.0086976,
          -39.0268329,
          -39.0342002,
          -39.0348706,
          -39.0348706,
          -39.0278983,
          -39.032076,
          -39.0284323,
          -39.0257076,
          -39.0257076,
          -39.0347636,
          -39.0255602,
          -39.0270264,
          -39.0278983,
          -39.0257076,
          -39.0332423,
          -39.060127,
          -39.0257076,
          -39.0257076,
          -39.02892,
          -39.0342002,
          -39.0257076,
          -39.0255602,
          -39.0257076,
          -39.0289279,
          -39.03679959999999,
          -39.0257076,
          -39.0258359,
          -39.0332423,
          -39.0255602,
          -39.0255602,
          -39.0257076,
          -39.03551,
          -39.0387699,
          -39.0257076,
          -39.0592587,
          -39.0257076,
          -39.0257076,
          -39.0338612,
          -39.0321575,
          -39.0257076,
          -39.0268329,
          -39.0091049,
          -39.0257076,
          -39.0257076,
          -39.0289279,
          -39.0347636,
          -39.0255602,
          -39.0255602,
          -39.03679959999999,
          -39.0257076,
          -39.02722809999999,
          -39.0270264,
          -39.0270264,
          -39.03679959999999,
          -39.0270264,
          -39.0278175,
          -39.02722809999999,
          -39.0278175,
          -39.0271893,
          -39.0257076,
          -39.0321575,
          -39.0288182,
          -39.0257076,
          -39.0264975,
          -39.0264975,
          -39.0257076,
          -39.0278175,
          -39.0358987,
          -39.0272707,
          -39.03679959999999,
          -39.02892,
          -39.02892,
          -39.0257076,
          -39.0257076,
          -39.03679959999999,
          -39.02595240000001,
          -39.0284323,
          -39.0321575,
          -39.0321575,
          -39.0257076,
          -39.0254291,
          -39.0257076,
          -39.03679959999999,
          -39.0257076,
          -39.03679959999999,
          -39.0271893,
          -39.0257076,
          -39.0279223,
          -39.03679959999999,
          -39.0257076,
          -39.0271893,
          -39.0592587,
          -39.0278175,
          -39.0257076,
          -39.026049,
          -39.0257076,
          -39.0592587,
          -39.0284323,
          -39.0268329,
          -39.0257076,
          -39.0255602,
          -39.03426,
          -39.0279732,
          -39.032076,
          -39.03679959999999,
          -39.0341481,
          -39.032076,
          -39.0257076,
          -39.0257076,
          -39.0592587,
          -39.0592587,
          -39.0257076,
          -39.0328303,
          -39.0257076,
          -39.0289279,
          -39.0321575,
          -39.0592587,
          -39.026049,
          -39.0257076,
          -39.0271893,
          -39.0257076,
          -39.0257076,
          -39.0257076,
          -39.0257076,
          -39.027678,
          -39.0271893,
          -39.0270264,
          -39.0258046,
          -39.0257076,
          -39.0086976,
          -39.0257076,
          -39.0257076,
          -39.0288182,
          -39.03679959999999,
          -39.0321575,
          -39.0257076,
          -39.0246643,
          -39.0289279,
          -39.03679959999999,
          -39.0257076,
          -39.0257076,
          -39.0257076,
          -39.0257076,
          -39.0257076,
          -39.0257076,
          -39.0257076,
          -39.0257076,
          -39.060127,
          -39.0270264,
          -39.0257076,
          -39.024257,
          -39.0284323,
          -39.0279732,
          -39.03679959999999,
          -39.0257076,
          -39.0255602,
          -39.03792079999999,
          -39.0257076,
          -39.0279223,
          -39.0257076,
          -39.0086976,
          -39.0258861,
          -39.0332423,
          -39.0257076,
          -39.0257076,
          -39.0257076,
          -39.0317857,
          -39.0258046,
          -39.0257076,
          -39.0257076,
          -39.032076,
          -39.0624829,
          -39.0270264,
          -39.0257076,
          -39.0257076,
          -39.0321575,
          -39.0270264,
          -39.0332423,
          -39.0257076,
          -39.03679959999999,
          -39.0257076,
          -39.0257076,
          -39.0257076,
          -39.0279223,
          -39.032076,
          -39.02722809999999,
          -39.0257076,
          -39.0271893,
          -39.0257076,
          -39.0257076,
          -39.0333313,
          -39.0257076,
          -39.0271893,
          -39.0257076,
          -39.0271893,
          -39.0271893,
          -39.03566,
          -39.0592587,
          -39.0257076,
          -39.0278175,
          -39.0257076,
          -39.0257076,
          -39.060127,
          -39.0347636,
          -39.0107344,
          -39.0257076,
          -39.0332423,
          -39.0257076,
          -39.0321575,
          -39.0342002,
          -39.0373696,
          -39.0257076,
          -39.0257076,
          -39.0393116,
          -39.03679959999999,
          -39.0278175,
          -39.0113,
          -39.0257076,
          -39.0332423,
          -39.0255602,
          -39.0592587,
          -39.0288182,
          -39.0257076,
          -39.0331348,
          -39.02806,
          -39.0270264,
          -39.0275151,
          -39.03679959999999,
          -39.03426,
          -39.02595240000001,
          -39.0257076,
          -39.03679959999999,
          -39.0257076,
          -39.0268329,
          -39.0387699,
          -39.0257076,
          -39.0332423,
          -39.0257076,
          -39.0257076,
          -39.0332423,
          -39.0257076,
          -39.0318317,
          -39.03679959999999,
          -39.0592587,
          -39.0279732,
          -39.0257076,
          -39.032076,
          -39.0592587,
          -39.0592587,
          -39.0257076,
          -39.0257076,
          -39.0257076,
          -39.0289279,
          -39.0257076,
          -39.033912,
          -39.0321575,
          -39.0419288,
          -39.0257076,
          -39.0257076,
          -39.0257076,
          -39.0257076,
          -39.0289279,
          -39.0257076,
          -39.0257076,
          -39.03679959999999,
          -39.0257076,
          -39.0254291,
          -39.0284323,
          -39.0257076,
          -39.0268635,
          -39.0332423,
          -39.0254291,
          -39.0624829,
          -39.0347636,
          -39.0592587,
          -39.03679959999999,
          -39.0270264,
          -39.0271893,
          -39.032076,
          -39.03566,
          -39.0289279,
          -39.0257076,
          -39.03679959999999,
          -39.0257076,
          -39.0332423,
          -39.0500724,
          -39.02595240000001,
          -39.0296327,
          -39.0268635,
          -39.0279732,
          -39.0332423,
          -39.0347636,
          -39.0257076,
          -39.03679959999999,
          -39.03679959999999,
          -39.02820740000001,
          -39.0321575,
          -39.0592587,
          -39.060127,
          -39.0257076,
          -39.0257076,
          -39.0283295,
          -39.0258046,
          -39.0279223,
          -39.0347636,
          -39.060127,
          -39.0289279,
          -39.0321575,
          -39.033912,
          -39.0393116,
          -39.0359202,
          -39.03679959999999,
          -39.032076,
          -39.0332423,
          -39.0321575,
          -39.0347636,
          -39.0347636,
          -39.0257076,
          -39.0347636,
          -39.0257076,
          -39.0348706,
          -39.0321575,
          -39.0321575,
          -39.0255602,
          -39.0342002,
          -39.033912,
          -39.0373696,
          -39.0257076,
          -39.03679959999999,
          -39.0257076,
          -39.0257076,
          -39.0592587,
          -39.0280037,
          -39.0321575,
          -39.0257076,
          -39.02892,
          -39.0332423,
          -39.0278175,
          -39.0257076,
          -39.0321575,
          -39.0258046,
          -39.0268329,
          -39.0258046,
          -39.0257076,
          -39.0276544,
          -39.0321575,
          -39.032076,
          -39.0283295,
          -39.0258046,
          -39.0257076,
          -39.0257076,
          -39.0347636,
          -39.0382968,
          -39.0347636,
          -39.0332423,
          -39.0342002,
          -39.0258046,
          -39.0251031,
          -39.0562985,
          -39.0257076,
          -39.0347636,
          -39.032076,
          -39.0257076,
          -39.0279223,
          -39.03313,
          -39.0321575,
          -39.0321575,
          -39.0289279,
          -39.0350468,
          -39.032076,
          -39.0257076,
          -39.02595240000001,
          -39.0263748,
          -39.02820740000001,
          -39.0270264,
          -39.03443,
          -39.0342002,
          -39.0270264,
          -39.0270264,
          -39.02722809999999,
          -39.03443,
          -39.0279223,
          -39.0254291,
          -39.0263748,
          -39.03679959999999,
          -39.0562985,
          -39.032076,
          -39.0624829,
          -39.032076,
          -39.0272707,
          -39.0257076,
          -39.0271893,
          -39.0271893,
          -39.0257076,
          -39.0257076,
          -39.0592587,
          -39.0257076,
          -39.0257076,
          -39.0257076,
          -39.0257076,
          -39.0257076,
          -39.0255602,
          -39.0592587,
          -39.0321575,
          -39.0257076,
          -39.0257076,
          -39.0257076,
          -39.0257076,
          -39.0257076,
          -39.1467523,
          -39.0278175,
          -39.026049,
          -39.0271893,
          -39.03679959999999,
          -39.01201,
          -39.0257076,
          -39.0271893,
          -39.0592587,
          -39.0270264,
          -39.0105714,
          -39.0321575,
          -39.0254291,
          -39.02892,
          -39.0400575,
          -39.0288182,
          -39.0577255,
          -39.0289279,
          -39.0278175,
          -39.0257076,
          -39.02722809999999,
          -39.03679959999999,
          -39.0263748,
          -39.1467523,
          -39.02820740000001,
          -39.0270264,
          -39.05925,
          -39.03443,
          -39.02595240000001,
          -39.0257076,
          -39.03679959999999,
          -39.0257076,
          -39.0321575,
          -39.0255602,
          -39.03679959999999,
          -39.0257076,
          -39.0270264,
          -39.0257076,
          -39.0592587,
          -39.040627,
          -39.03679959999999,
          -39.0257076,
          -39.0373696,
          -39.03679959999999,
          -39.0257076,
          -39.032076,
          -39.0270264,
          -39.0257076,
          -39.0380211,
          -39.0257076,
          -39.03443,
          -39.0255602,
          -39.0284323,
          -38.99916,
          -39.0270264,
          -39.032076,
          -39.0342002,
          -39.0257076,
          -39.0257076,
          -39.02892,
          -39.0257076,
          -39.03679959999999,
          -39.0257076,
          -39.03679959999999,
          -39.03679959999999,
          -39.0257076,
          -39.0255602,
          -39.0257076,
          -39.0288182,
          -39.0374511,
          -39.0264975,
          -39.0257076,
          -39.0321575,
          -39.0332423,
          -39.03679959999999,
          -39.0383274,
          -39.0268635,
          -39.0255602,
          -39.02722809999999,
          -39.0257076,
          -39.0257076,
          -39.0263163,
          -39.0361481,
          -39.0342002,
          -39.033912,
          -39.0255602,
          -39.0387699,
          -39.0387699,
          -39.0332423,
          -39.02892,
          -39.03679959999999,
          -39.0257076,
          -39.0257076,
          -39.0255602,
          -39.0255602,
          -39.0263748,
          -39.0271893,
          -39.0257076,
          -39.0257076,
          -39.0321575,
          -39.0271893,
          -39.0270264,
          -39.0257076,
          -39.0251031,
          -39.0255602,
          -39.0592587,
          -39.0255602,
          -39.0257076,
          -39.0257076,
          -39.0271893,
          -39.0257076,
          -39.0257076,
          -39.03679959999999,
          -39.0271893,
          -39.0268329,
          -39.0332423,
          -39.0321575,
          -39.0257076,
          -39.0624829,
          -39.032076,
          -39.0380211,
          -39.03679959999999,
          -39.0270264,
          -39.0381364,
          -39.0592587,
          -39.02892,
          -39.0257076,
          -39.0257076,
          -39.0257076,
          -39.0257076,
          -39.0257076,
          -39.0257076,
          -39.0257076,
          -39.03679959999999,
          -39.0255602,
          -39.060127,
          -39.03443,
          -39.03679959999999,
          -39.0289279,
          -39.0257076,
          -39.0257076,
          -39.0257076,
          -39.0257076,
          -39.0321575,
          -39.0271893,
          -39.0255602,
          -39.0321575,
          -39.0272707,
          -39.0257076,
          -39.032076,
          -39.0288182,
          -39.0321575,
          -39.0332423,
          -39.0332423,
          -39.0387699,
          -39.02892,
          -39.0271893,
          -39.0592587,
          -39.02722809999999,
          -39.03679959999999,
          -39.0570663,
          -39.0255602,
          -39.0255602,
          -39.03443,
          -39.0257076,
          -39.02892,
          -39.0257076,
          -39.0270264,
          -39.03679959999999,
          -39.02595240000001,
          -39.0257076,
          -39.0270264,
          -39.0255602,
          -39.0257076,
          -39.0257076,
          -39.0257076,
          -39.0271893,
          -39.0255602,
          -39.0250178,
          -39.0257076,
          -39.0257076,
          -39.0321575,
          -39.0086976,
          -39.0332423,
          -39.03679959999999,
          -39.0257076,
          -39.03679959999999,
          -39.03679959999999,
          -39.0268635,
          -39.032076,
          -39.032076,
          -39.0268329,
          -39.032076,
          -39.0284323,
          -39.0257076,
          -39.0255602,
          -39.0270264,
          -39.0278983,
          -39.0257076,
          -39.0332423,
          -39.060127,
          -39.0257076,
          -39.0257076,
          -39.0342002,
          -39.0255602,
          -39.0289279,
          -39.03679959999999,
          -39.0257076,
          -39.0258359,
          -39.0332423,
          -39.0255602,
          -39.0255602,
          -39.0257076,
          -39.0321575,
          -39.03551,
          -39.0387699,
          -39.0380211,
          -39.0257076,
          -39.0321575,
          -39.0592587,
          -39.0257076,
          -39.0257076,
          -39.0284323,
          -39.0321575,
          -39.0257076,
          -39.0255602,
          -39.0268329,
          -39.0091049,
          -39.0347636,
          -39.0255602,
          -39.03679959999999,
          -39.0257076,
          -39.0288182,
          -39.02722809999999,
          -39.03679959999999,
          -39.0278175,
          -39.0278175,
          -39.0255602,
          -39.0257076,
          -39.0332423,
          -39.0321575,
          -39.0288182,
          -39.0257076,
          -39.0264975,
          -39.0264975,
          -39.0257076,
          -39.0358987,
          -39.03679959999999,
          -39.02892,
          -39.02892,
          -39.0257076,
          -39.0257076,
          -39.03679959999999,
          -39.02595240000001,
          -39.0284323,
          -39.0321575,
          -39.0321575,
          -39.0257076,
          -39.0257076,
          -39.0254291,
          -39.0257076,
          -39.03679959999999,
          -39.0271893,
          -39.0271893,
          -39.0257076,
          -39.0279223,
          -39.03679959999999,
          -39.0257076,
          -39.0257076,
          -39.0257076,
          -39.0257076,
          -39.0257076,
          -39.0289279,
          -39.0592587,
          -39.0284323,
          -39.0268329,
          -39.0257076,
          -39.0255602,
          -39.0255602,
          -39.0255602,
          -39.0255602,
          -39.0255602,
          -39.0255602,
          -39.0255602,
          -39.0255602,
          -39.0255602,
          -39.0255602,
          -39.0255602,
          -39.0255602,
          -39.0255602,
          -39.0279732,
          -39.02481,
          -39.032076,
          -39.0257076,
          -39.0393116,
          -39.032076,
          -39.033105,
          -39.033105,
          -39.0257076,
          -39.0592587,
          -39.0592587,
          -39.0257076,
          -39.0328303,
          -39.0257076,
          -39.0289279,
          -39.0321575,
          -39.026049,
          -39.0257076,
          -39.0257076,
          -39.0257076,
          -39.0257076,
          -39.0257076,
          -39.027678,
          -39.0271893,
          -39.0270264,
          -39.0258046,
          -39.0257076,
          -39.0257076,
          -39.0257076,
          -39.0288182,
          -39.03679959999999,
          -39.0321575,
          -39.0246643,
          -39.0257076,
          -39.0246643,
          -39.0289279,
          -39.0257076,
          -39.0257076,
          -39.0270264,
          -39.0257076,
          -39.0257076,
          -39.0257076,
          -39.0257076,
          -39.0270264,
          -39.024257,
          -39.0279732,
          -39.03679959999999,
          -39.0257076,
          -39.0255602,
          -39.03792079999999,
          -39.0257076,
          -39.0279223,
          -39.0257076,
          -39.0086976,
          -39.0332423,
          -39.0257076,
          -39.0257076,
          -39.03679959999999,
          -39.0317857,
          -39.0258046,
          -39.0257076,
          -39.0339823,
          -39.0257076,
          -39.0633786,
          -39.032076,
          -39.0257076,
          -39.0257076,
          -39.0258046,
          -39.0321575,
          -39.0272589,
          -39.0270264,
          -39.0332423,
          -39.0257076,
          -39.0641903,
          -39.0380211,
          -39.03679959999999,
          -39.0257076,
          -39.0257076,
          -39.0257076,
          -39.0257076,
          -39.0279223,
          -39.032076,
          -39.02722809999999,
          -39.0257076,
          -39.0271893,
          -39.0257076,
          -39.0257076,
          -39.0333313,
          -39.0321575,
          -39.0257076,
          -39.0271893,
          -39.0257076,
          -39.0271893,
          -39.0257076,
          -39.0271893,
          -39.03566,
          -39.0592587,
          -39.0278175,
          -39.0257076,
          -39.0257076,
          -39.060127,
          -39.0347636,
          -39.0257076,
          -39.0107344,
          -39.0257076,
          -39.0549,
          -39.0332423,
          -39.0400575,
          -39.0257076,
          -39.0420928,
          -39.0321575,
          -39.0342002,
          -39.03568,
          -39.0373696,
          -39.0257076,
          -39.0270264,
          -39.0257076,
          -39.0393116,
          -39.03679959999999,
          -39.0278175,
          -39.0113,
          -39.0257076,
          -39.0332423,
          -39.0421039,
          -39.0255602,
          -39.0592587,
          -39.0321575,
          -39.0284323,
          -39.0257076,
          -39.0284323,
          -39.0331348,
          -39.0268635,
          -39.03566,
          -39.0270264,
          -39.0275151,
          -39.03679959999999,
          -39.03426,
          -39.02595240000001,
          -39.0257076,
          -39.03679959999999,
          -39.0257076,
          -39.0387699,
          -39.0257076,
          -39.0284323,
          -39.0332423,
          -39.0257076,
          -39.0257076,
          -39.0284323,
          -39.0332423,
          -39.0257076,
          -39.0318317,
          -39.03679959999999,
          -39.0331348,
          -39.032076,
          -39.0592587,
          -39.0279732,
          -39.0257076,
          -39.0257076,
          -39.032076,
          -39.0592587,
          -39.0592587,
          -39.0328542,
          -39.0257076,
          -39.0257076,
          -39.032076,
          -39.027678,
          -39.0362295,
          -39.0257076,
          -39.0289279,
          -39.0326194,
          -39.0624829,
          -39.02595240000001,
          -39.02969,
          -39.0342002,
          -39.0257076,
          -39.033912,
          -39.0321575,
          -39.0419288,
          -39.0257076,
          -39.0257076,
          -39.0257076,
          -39.0257076,
          -39.0257076,
          -39.0289279,
          -39.0342283,
          -39.0257076,
          -39.03973879999999,
          -39.03679959999999,
          -39.0257076,
          -39.0254291,
          -39.0284323,
          -39.0257076,
          -39.0268635,
          -39.0332423,
          -39.0254291,
          -39.0624829,
          -39.0347636,
          -39.0592587,
          -39.03679959999999,
          -39.0270264,
          -39.0271893,
          -39.032076,
          -39.03566,
          -39.0289279,
          -39.0257076,
          -39.0257076,
          -39.0249301,
          -39.0342002,
          -39.0442707,
          -39.0332423,
          -39.0500724,
          -39.02595240000001,
          -39.0296327,
          -39.0268635,
          -39.0648078,
          -39.0279732,
          -39.0332423,
          -39.0347636,
          -39.0257076,
          -39.0257076,
          -39.03679959999999,
          -39.03679959999999,
          -39.0257076,
          -39.0257076,
          -39.02820740000001,
          -39.0321575,
          -39.0592587,
          -39.0257076,
          -39.0326194,
          -39.0271893,
          -39.060127,
          -39.0257076,
          -39.0257076,
          -39.0257076,
          -39.0258046,
          -39.0279223,
          -39.0347636,
          -39.03679959999999,
          -39.060127,
          -39.0321575,
          -39.033912,
          -39.0393116,
          -39.0359202,
          -39.0257076,
          -39.03679959999999,
          -39.0332423,
          -39.0321575,
          -39.0347636,
          -39.0347636,
          -39.0257076,
          -39.0257076,
          -39.0347636,
          -39.0348706,
          -39.0321575,
          -39.0321575,
          -39.0255602,
          -39.0342002,
          -39.033912,
          -39.0277956,
          -39.0373696,
          -39.0257076,
          -39.03679959999999,
          -39.0257076,
          -39.0257076,
          -39.0280037,
          -39.0321575,
          -39.02892,
          -39.0332423,
          -39.0278175,
          -39.0268635,
          -39.0257076,
          -39.0321575,
          -39.0258046,
          -39.0268329,
          -39.0258046,
          -39.0562985,
          -39.0276544,
          -39.0321575,
          -39.0257076,
          -39.032076,
          -39.0258046,
          -39.0257076,
          -39.0257076,
          -39.0347636,
          -39.0382968,
          -39.0562985,
          -39.0347636,
          -39.0376546,
          -39.0332423,
          -39.0342002,
          -39.0258046,
          -39.0562985,
          -39.0251031,
          -39.0371386,
          -39.0562985,
          -39.0257076,
          -39.0278175,
          -39.0347636,
          -39.0257076,
          -39.032076,
          -39.032076,
          -39.0257076,
          -39.0279223,
          -39.0289279,
          -39.03313,
          -39.0321575,
          -39.0321575,
          -39.0289279,
          -39.0350468,
          -39.032076
         ],
         "marker": {
          "color": "red"
         },
         "mode": "markers",
         "name": "",
         "showlegend": false,
         "subplot": "mapbox",
         "type": "scattermapbox"
        }
       ],
       "layout": {
        "height": 800,
        "legend": {
         "tracegroupgap": 0
        },
        "mapbox": {
         "center": {
          "lat": -14.805167990212071,
          "lon": -39.031003772920066
         },
         "domain": {
          "x": [
           0,
           1
          ],
          "y": [
           0,
           1
          ]
         },
         "style": "open-street-map",
         "zoom": 10
        },
        "margin": {
         "b": 0,
         "l": 0,
         "r": 0,
         "t": 0
        },
        "template": {
         "data": {
          "bar": [
           {
            "error_x": {
             "color": "#2a3f5f"
            },
            "error_y": {
             "color": "#2a3f5f"
            },
            "marker": {
             "line": {
              "color": "#E5ECF6",
              "width": 0.5
             },
             "pattern": {
              "fillmode": "overlay",
              "size": 10,
              "solidity": 0.2
             }
            },
            "type": "bar"
           }
          ],
          "barpolar": [
           {
            "marker": {
             "line": {
              "color": "#E5ECF6",
              "width": 0.5
             },
             "pattern": {
              "fillmode": "overlay",
              "size": 10,
              "solidity": 0.2
             }
            },
            "type": "barpolar"
           }
          ],
          "carpet": [
           {
            "aaxis": {
             "endlinecolor": "#2a3f5f",
             "gridcolor": "white",
             "linecolor": "white",
             "minorgridcolor": "white",
             "startlinecolor": "#2a3f5f"
            },
            "baxis": {
             "endlinecolor": "#2a3f5f",
             "gridcolor": "white",
             "linecolor": "white",
             "minorgridcolor": "white",
             "startlinecolor": "#2a3f5f"
            },
            "type": "carpet"
           }
          ],
          "choropleth": [
           {
            "colorbar": {
             "outlinewidth": 0,
             "ticks": ""
            },
            "type": "choropleth"
           }
          ],
          "contour": [
           {
            "colorbar": {
             "outlinewidth": 0,
             "ticks": ""
            },
            "colorscale": [
             [
              0,
              "#0d0887"
             ],
             [
              0.1111111111111111,
              "#46039f"
             ],
             [
              0.2222222222222222,
              "#7201a8"
             ],
             [
              0.3333333333333333,
              "#9c179e"
             ],
             [
              0.4444444444444444,
              "#bd3786"
             ],
             [
              0.5555555555555556,
              "#d8576b"
             ],
             [
              0.6666666666666666,
              "#ed7953"
             ],
             [
              0.7777777777777778,
              "#fb9f3a"
             ],
             [
              0.8888888888888888,
              "#fdca26"
             ],
             [
              1,
              "#f0f921"
             ]
            ],
            "type": "contour"
           }
          ],
          "contourcarpet": [
           {
            "colorbar": {
             "outlinewidth": 0,
             "ticks": ""
            },
            "type": "contourcarpet"
           }
          ],
          "heatmap": [
           {
            "colorbar": {
             "outlinewidth": 0,
             "ticks": ""
            },
            "colorscale": [
             [
              0,
              "#0d0887"
             ],
             [
              0.1111111111111111,
              "#46039f"
             ],
             [
              0.2222222222222222,
              "#7201a8"
             ],
             [
              0.3333333333333333,
              "#9c179e"
             ],
             [
              0.4444444444444444,
              "#bd3786"
             ],
             [
              0.5555555555555556,
              "#d8576b"
             ],
             [
              0.6666666666666666,
              "#ed7953"
             ],
             [
              0.7777777777777778,
              "#fb9f3a"
             ],
             [
              0.8888888888888888,
              "#fdca26"
             ],
             [
              1,
              "#f0f921"
             ]
            ],
            "type": "heatmap"
           }
          ],
          "heatmapgl": [
           {
            "colorbar": {
             "outlinewidth": 0,
             "ticks": ""
            },
            "colorscale": [
             [
              0,
              "#0d0887"
             ],
             [
              0.1111111111111111,
              "#46039f"
             ],
             [
              0.2222222222222222,
              "#7201a8"
             ],
             [
              0.3333333333333333,
              "#9c179e"
             ],
             [
              0.4444444444444444,
              "#bd3786"
             ],
             [
              0.5555555555555556,
              "#d8576b"
             ],
             [
              0.6666666666666666,
              "#ed7953"
             ],
             [
              0.7777777777777778,
              "#fb9f3a"
             ],
             [
              0.8888888888888888,
              "#fdca26"
             ],
             [
              1,
              "#f0f921"
             ]
            ],
            "type": "heatmapgl"
           }
          ],
          "histogram": [
           {
            "marker": {
             "pattern": {
              "fillmode": "overlay",
              "size": 10,
              "solidity": 0.2
             }
            },
            "type": "histogram"
           }
          ],
          "histogram2d": [
           {
            "colorbar": {
             "outlinewidth": 0,
             "ticks": ""
            },
            "colorscale": [
             [
              0,
              "#0d0887"
             ],
             [
              0.1111111111111111,
              "#46039f"
             ],
             [
              0.2222222222222222,
              "#7201a8"
             ],
             [
              0.3333333333333333,
              "#9c179e"
             ],
             [
              0.4444444444444444,
              "#bd3786"
             ],
             [
              0.5555555555555556,
              "#d8576b"
             ],
             [
              0.6666666666666666,
              "#ed7953"
             ],
             [
              0.7777777777777778,
              "#fb9f3a"
             ],
             [
              0.8888888888888888,
              "#fdca26"
             ],
             [
              1,
              "#f0f921"
             ]
            ],
            "type": "histogram2d"
           }
          ],
          "histogram2dcontour": [
           {
            "colorbar": {
             "outlinewidth": 0,
             "ticks": ""
            },
            "colorscale": [
             [
              0,
              "#0d0887"
             ],
             [
              0.1111111111111111,
              "#46039f"
             ],
             [
              0.2222222222222222,
              "#7201a8"
             ],
             [
              0.3333333333333333,
              "#9c179e"
             ],
             [
              0.4444444444444444,
              "#bd3786"
             ],
             [
              0.5555555555555556,
              "#d8576b"
             ],
             [
              0.6666666666666666,
              "#ed7953"
             ],
             [
              0.7777777777777778,
              "#fb9f3a"
             ],
             [
              0.8888888888888888,
              "#fdca26"
             ],
             [
              1,
              "#f0f921"
             ]
            ],
            "type": "histogram2dcontour"
           }
          ],
          "mesh3d": [
           {
            "colorbar": {
             "outlinewidth": 0,
             "ticks": ""
            },
            "type": "mesh3d"
           }
          ],
          "parcoords": [
           {
            "line": {
             "colorbar": {
              "outlinewidth": 0,
              "ticks": ""
             }
            },
            "type": "parcoords"
           }
          ],
          "pie": [
           {
            "automargin": true,
            "type": "pie"
           }
          ],
          "scatter": [
           {
            "fillpattern": {
             "fillmode": "overlay",
             "size": 10,
             "solidity": 0.2
            },
            "type": "scatter"
           }
          ],
          "scatter3d": [
           {
            "line": {
             "colorbar": {
              "outlinewidth": 0,
              "ticks": ""
             }
            },
            "marker": {
             "colorbar": {
              "outlinewidth": 0,
              "ticks": ""
             }
            },
            "type": "scatter3d"
           }
          ],
          "scattercarpet": [
           {
            "marker": {
             "colorbar": {
              "outlinewidth": 0,
              "ticks": ""
             }
            },
            "type": "scattercarpet"
           }
          ],
          "scattergeo": [
           {
            "marker": {
             "colorbar": {
              "outlinewidth": 0,
              "ticks": ""
             }
            },
            "type": "scattergeo"
           }
          ],
          "scattergl": [
           {
            "marker": {
             "colorbar": {
              "outlinewidth": 0,
              "ticks": ""
             }
            },
            "type": "scattergl"
           }
          ],
          "scattermapbox": [
           {
            "marker": {
             "colorbar": {
              "outlinewidth": 0,
              "ticks": ""
             }
            },
            "type": "scattermapbox"
           }
          ],
          "scatterpolar": [
           {
            "marker": {
             "colorbar": {
              "outlinewidth": 0,
              "ticks": ""
             }
            },
            "type": "scatterpolar"
           }
          ],
          "scatterpolargl": [
           {
            "marker": {
             "colorbar": {
              "outlinewidth": 0,
              "ticks": ""
             }
            },
            "type": "scatterpolargl"
           }
          ],
          "scatterternary": [
           {
            "marker": {
             "colorbar": {
              "outlinewidth": 0,
              "ticks": ""
             }
            },
            "type": "scatterternary"
           }
          ],
          "surface": [
           {
            "colorbar": {
             "outlinewidth": 0,
             "ticks": ""
            },
            "colorscale": [
             [
              0,
              "#0d0887"
             ],
             [
              0.1111111111111111,
              "#46039f"
             ],
             [
              0.2222222222222222,
              "#7201a8"
             ],
             [
              0.3333333333333333,
              "#9c179e"
             ],
             [
              0.4444444444444444,
              "#bd3786"
             ],
             [
              0.5555555555555556,
              "#d8576b"
             ],
             [
              0.6666666666666666,
              "#ed7953"
             ],
             [
              0.7777777777777778,
              "#fb9f3a"
             ],
             [
              0.8888888888888888,
              "#fdca26"
             ],
             [
              1,
              "#f0f921"
             ]
            ],
            "type": "surface"
           }
          ],
          "table": [
           {
            "cells": {
             "fill": {
              "color": "#EBF0F8"
             },
             "line": {
              "color": "white"
             }
            },
            "header": {
             "fill": {
              "color": "#C8D4E3"
             },
             "line": {
              "color": "white"
             }
            },
            "type": "table"
           }
          ]
         },
         "layout": {
          "annotationdefaults": {
           "arrowcolor": "#2a3f5f",
           "arrowhead": 0,
           "arrowwidth": 1
          },
          "autotypenumbers": "strict",
          "coloraxis": {
           "colorbar": {
            "outlinewidth": 0,
            "ticks": ""
           }
          },
          "colorscale": {
           "diverging": [
            [
             0,
             "#8e0152"
            ],
            [
             0.1,
             "#c51b7d"
            ],
            [
             0.2,
             "#de77ae"
            ],
            [
             0.3,
             "#f1b6da"
            ],
            [
             0.4,
             "#fde0ef"
            ],
            [
             0.5,
             "#f7f7f7"
            ],
            [
             0.6,
             "#e6f5d0"
            ],
            [
             0.7,
             "#b8e186"
            ],
            [
             0.8,
             "#7fbc41"
            ],
            [
             0.9,
             "#4d9221"
            ],
            [
             1,
             "#276419"
            ]
           ],
           "sequential": [
            [
             0,
             "#0d0887"
            ],
            [
             0.1111111111111111,
             "#46039f"
            ],
            [
             0.2222222222222222,
             "#7201a8"
            ],
            [
             0.3333333333333333,
             "#9c179e"
            ],
            [
             0.4444444444444444,
             "#bd3786"
            ],
            [
             0.5555555555555556,
             "#d8576b"
            ],
            [
             0.6666666666666666,
             "#ed7953"
            ],
            [
             0.7777777777777778,
             "#fb9f3a"
            ],
            [
             0.8888888888888888,
             "#fdca26"
            ],
            [
             1,
             "#f0f921"
            ]
           ],
           "sequentialminus": [
            [
             0,
             "#0d0887"
            ],
            [
             0.1111111111111111,
             "#46039f"
            ],
            [
             0.2222222222222222,
             "#7201a8"
            ],
            [
             0.3333333333333333,
             "#9c179e"
            ],
            [
             0.4444444444444444,
             "#bd3786"
            ],
            [
             0.5555555555555556,
             "#d8576b"
            ],
            [
             0.6666666666666666,
             "#ed7953"
            ],
            [
             0.7777777777777778,
             "#fb9f3a"
            ],
            [
             0.8888888888888888,
             "#fdca26"
            ],
            [
             1,
             "#f0f921"
            ]
           ]
          },
          "colorway": [
           "#636efa",
           "#EF553B",
           "#00cc96",
           "#ab63fa",
           "#FFA15A",
           "#19d3f3",
           "#FF6692",
           "#B6E880",
           "#FF97FF",
           "#FECB52"
          ],
          "font": {
           "color": "#2a3f5f"
          },
          "geo": {
           "bgcolor": "white",
           "lakecolor": "white",
           "landcolor": "#E5ECF6",
           "showlakes": true,
           "showland": true,
           "subunitcolor": "white"
          },
          "hoverlabel": {
           "align": "left"
          },
          "hovermode": "closest",
          "mapbox": {
           "style": "light"
          },
          "paper_bgcolor": "white",
          "plot_bgcolor": "#E5ECF6",
          "polar": {
           "angularaxis": {
            "gridcolor": "white",
            "linecolor": "white",
            "ticks": ""
           },
           "bgcolor": "#E5ECF6",
           "radialaxis": {
            "gridcolor": "white",
            "linecolor": "white",
            "ticks": ""
           }
          },
          "scene": {
           "xaxis": {
            "backgroundcolor": "#E5ECF6",
            "gridcolor": "white",
            "gridwidth": 2,
            "linecolor": "white",
            "showbackground": true,
            "ticks": "",
            "zerolinecolor": "white"
           },
           "yaxis": {
            "backgroundcolor": "#E5ECF6",
            "gridcolor": "white",
            "gridwidth": 2,
            "linecolor": "white",
            "showbackground": true,
            "ticks": "",
            "zerolinecolor": "white"
           },
           "zaxis": {
            "backgroundcolor": "#E5ECF6",
            "gridcolor": "white",
            "gridwidth": 2,
            "linecolor": "white",
            "showbackground": true,
            "ticks": "",
            "zerolinecolor": "white"
           }
          },
          "shapedefaults": {
           "line": {
            "color": "#2a3f5f"
           }
          },
          "ternary": {
           "aaxis": {
            "gridcolor": "white",
            "linecolor": "white",
            "ticks": ""
           },
           "baxis": {
            "gridcolor": "white",
            "linecolor": "white",
            "ticks": ""
           },
           "bgcolor": "#E5ECF6",
           "caxis": {
            "gridcolor": "white",
            "linecolor": "white",
            "ticks": ""
           }
          },
          "title": {
           "x": 0.05
          },
          "xaxis": {
           "automargin": true,
           "gridcolor": "white",
           "linecolor": "white",
           "ticks": "",
           "title": {
            "standoff": 15
           },
           "zerolinecolor": "white",
           "zerolinewidth": 2
          },
          "yaxis": {
           "automargin": true,
           "gridcolor": "white",
           "linecolor": "white",
           "ticks": "",
           "title": {
            "standoff": 15
           },
           "zerolinecolor": "white",
           "zerolinewidth": 2
          }
         }
        },
        "title": {
         "text": "Distribuição de Pontos de Origem"
        }
       }
      }
     },
     "metadata": {},
     "output_type": "display_data"
    }
   ],
   "source": [
    "to_chart = df.loc[df['cep_dest']=='Centro'][['bairro','latitude_origin','longitude_origin']].reset_index(drop=True)\n",
    "\n",
    "center_lat = to_chart['latitude_origin'].mean()\n",
    "center_lon = to_chart['longitude_origin'].mean()\n",
    "\n",
    "fig = px.scatter_mapbox(to_chart,\n",
    "    lat='latitude_origin',\n",
    "    lon='longitude_origin',\n",
    "    hover_name='bairro',\n",
    "    hover_data={'bairro': True},\n",
    "    color_discrete_sequence=['red'],\n",
    "    zoom=10,\n",
    "    height=800,\n",
    "    mapbox_style=\"open-street-map\",\n",
    "    center={\"lat\": center_lat+0.02, \"lon\": center_lon}\n",
    ")\n",
    "\n",
    "fig.update_layout(\n",
    "    margin={\"r\":0, \"t\":0, \"l\":0, \"b\":0},\n",
    "    title=\"Distribuição de Pontos de Origem\"\n",
    ")\n",
    "\n",
    "fig.show()"
   ]
  },
  {
   "cell_type": "markdown",
   "metadata": {},
   "source": [
    "# Overview Zonas"
   ]
  },
  {
   "cell_type": "code",
   "execution_count": 6,
   "metadata": {},
   "outputs": [
    {
     "data": {
      "application/vnd.plotly.v1+json": {
       "config": {
        "plotlyServerURL": "https://plot.ly"
       },
       "data": [
        {
         "alignmentgroup": "True",
         "hovertemplate": "Apartamentos à Venda=%{x}<br>Zona=%{y}<extra></extra>",
         "legendgroup": "",
         "marker": {
          "color": "#636efa",
          "pattern": {
           "shape": ""
          }
         },
         "name": "",
         "offsetgroup": "",
         "orientation": "h",
         "showlegend": false,
         "textposition": "auto",
         "type": "bar",
         "x": [
          2,
          15,
          27,
          33,
          51,
          167,
          931
         ],
         "xaxis": "x",
         "y": [
          "Rural",
          "Extremo Norte",
          "Oeste",
          "Extremo Sul",
          "Norte",
          "Central",
          "Sul"
         ],
         "yaxis": "y"
        }
       ],
       "layout": {
        "barmode": "relative",
        "height": 500,
        "legend": {
         "tracegroupgap": 0
        },
        "margin": {
         "b": 0,
         "l": 0,
         "r": 0,
         "t": 0
        },
        "template": {
         "data": {
          "bar": [
           {
            "error_x": {
             "color": "#2a3f5f"
            },
            "error_y": {
             "color": "#2a3f5f"
            },
            "marker": {
             "line": {
              "color": "#E5ECF6",
              "width": 0.5
             },
             "pattern": {
              "fillmode": "overlay",
              "size": 10,
              "solidity": 0.2
             }
            },
            "type": "bar"
           }
          ],
          "barpolar": [
           {
            "marker": {
             "line": {
              "color": "#E5ECF6",
              "width": 0.5
             },
             "pattern": {
              "fillmode": "overlay",
              "size": 10,
              "solidity": 0.2
             }
            },
            "type": "barpolar"
           }
          ],
          "carpet": [
           {
            "aaxis": {
             "endlinecolor": "#2a3f5f",
             "gridcolor": "white",
             "linecolor": "white",
             "minorgridcolor": "white",
             "startlinecolor": "#2a3f5f"
            },
            "baxis": {
             "endlinecolor": "#2a3f5f",
             "gridcolor": "white",
             "linecolor": "white",
             "minorgridcolor": "white",
             "startlinecolor": "#2a3f5f"
            },
            "type": "carpet"
           }
          ],
          "choropleth": [
           {
            "colorbar": {
             "outlinewidth": 0,
             "ticks": ""
            },
            "type": "choropleth"
           }
          ],
          "contour": [
           {
            "colorbar": {
             "outlinewidth": 0,
             "ticks": ""
            },
            "colorscale": [
             [
              0,
              "#0d0887"
             ],
             [
              0.1111111111111111,
              "#46039f"
             ],
             [
              0.2222222222222222,
              "#7201a8"
             ],
             [
              0.3333333333333333,
              "#9c179e"
             ],
             [
              0.4444444444444444,
              "#bd3786"
             ],
             [
              0.5555555555555556,
              "#d8576b"
             ],
             [
              0.6666666666666666,
              "#ed7953"
             ],
             [
              0.7777777777777778,
              "#fb9f3a"
             ],
             [
              0.8888888888888888,
              "#fdca26"
             ],
             [
              1,
              "#f0f921"
             ]
            ],
            "type": "contour"
           }
          ],
          "contourcarpet": [
           {
            "colorbar": {
             "outlinewidth": 0,
             "ticks": ""
            },
            "type": "contourcarpet"
           }
          ],
          "heatmap": [
           {
            "colorbar": {
             "outlinewidth": 0,
             "ticks": ""
            },
            "colorscale": [
             [
              0,
              "#0d0887"
             ],
             [
              0.1111111111111111,
              "#46039f"
             ],
             [
              0.2222222222222222,
              "#7201a8"
             ],
             [
              0.3333333333333333,
              "#9c179e"
             ],
             [
              0.4444444444444444,
              "#bd3786"
             ],
             [
              0.5555555555555556,
              "#d8576b"
             ],
             [
              0.6666666666666666,
              "#ed7953"
             ],
             [
              0.7777777777777778,
              "#fb9f3a"
             ],
             [
              0.8888888888888888,
              "#fdca26"
             ],
             [
              1,
              "#f0f921"
             ]
            ],
            "type": "heatmap"
           }
          ],
          "heatmapgl": [
           {
            "colorbar": {
             "outlinewidth": 0,
             "ticks": ""
            },
            "colorscale": [
             [
              0,
              "#0d0887"
             ],
             [
              0.1111111111111111,
              "#46039f"
             ],
             [
              0.2222222222222222,
              "#7201a8"
             ],
             [
              0.3333333333333333,
              "#9c179e"
             ],
             [
              0.4444444444444444,
              "#bd3786"
             ],
             [
              0.5555555555555556,
              "#d8576b"
             ],
             [
              0.6666666666666666,
              "#ed7953"
             ],
             [
              0.7777777777777778,
              "#fb9f3a"
             ],
             [
              0.8888888888888888,
              "#fdca26"
             ],
             [
              1,
              "#f0f921"
             ]
            ],
            "type": "heatmapgl"
           }
          ],
          "histogram": [
           {
            "marker": {
             "pattern": {
              "fillmode": "overlay",
              "size": 10,
              "solidity": 0.2
             }
            },
            "type": "histogram"
           }
          ],
          "histogram2d": [
           {
            "colorbar": {
             "outlinewidth": 0,
             "ticks": ""
            },
            "colorscale": [
             [
              0,
              "#0d0887"
             ],
             [
              0.1111111111111111,
              "#46039f"
             ],
             [
              0.2222222222222222,
              "#7201a8"
             ],
             [
              0.3333333333333333,
              "#9c179e"
             ],
             [
              0.4444444444444444,
              "#bd3786"
             ],
             [
              0.5555555555555556,
              "#d8576b"
             ],
             [
              0.6666666666666666,
              "#ed7953"
             ],
             [
              0.7777777777777778,
              "#fb9f3a"
             ],
             [
              0.8888888888888888,
              "#fdca26"
             ],
             [
              1,
              "#f0f921"
             ]
            ],
            "type": "histogram2d"
           }
          ],
          "histogram2dcontour": [
           {
            "colorbar": {
             "outlinewidth": 0,
             "ticks": ""
            },
            "colorscale": [
             [
              0,
              "#0d0887"
             ],
             [
              0.1111111111111111,
              "#46039f"
             ],
             [
              0.2222222222222222,
              "#7201a8"
             ],
             [
              0.3333333333333333,
              "#9c179e"
             ],
             [
              0.4444444444444444,
              "#bd3786"
             ],
             [
              0.5555555555555556,
              "#d8576b"
             ],
             [
              0.6666666666666666,
              "#ed7953"
             ],
             [
              0.7777777777777778,
              "#fb9f3a"
             ],
             [
              0.8888888888888888,
              "#fdca26"
             ],
             [
              1,
              "#f0f921"
             ]
            ],
            "type": "histogram2dcontour"
           }
          ],
          "mesh3d": [
           {
            "colorbar": {
             "outlinewidth": 0,
             "ticks": ""
            },
            "type": "mesh3d"
           }
          ],
          "parcoords": [
           {
            "line": {
             "colorbar": {
              "outlinewidth": 0,
              "ticks": ""
             }
            },
            "type": "parcoords"
           }
          ],
          "pie": [
           {
            "automargin": true,
            "type": "pie"
           }
          ],
          "scatter": [
           {
            "fillpattern": {
             "fillmode": "overlay",
             "size": 10,
             "solidity": 0.2
            },
            "type": "scatter"
           }
          ],
          "scatter3d": [
           {
            "line": {
             "colorbar": {
              "outlinewidth": 0,
              "ticks": ""
             }
            },
            "marker": {
             "colorbar": {
              "outlinewidth": 0,
              "ticks": ""
             }
            },
            "type": "scatter3d"
           }
          ],
          "scattercarpet": [
           {
            "marker": {
             "colorbar": {
              "outlinewidth": 0,
              "ticks": ""
             }
            },
            "type": "scattercarpet"
           }
          ],
          "scattergeo": [
           {
            "marker": {
             "colorbar": {
              "outlinewidth": 0,
              "ticks": ""
             }
            },
            "type": "scattergeo"
           }
          ],
          "scattergl": [
           {
            "marker": {
             "colorbar": {
              "outlinewidth": 0,
              "ticks": ""
             }
            },
            "type": "scattergl"
           }
          ],
          "scattermapbox": [
           {
            "marker": {
             "colorbar": {
              "outlinewidth": 0,
              "ticks": ""
             }
            },
            "type": "scattermapbox"
           }
          ],
          "scatterpolar": [
           {
            "marker": {
             "colorbar": {
              "outlinewidth": 0,
              "ticks": ""
             }
            },
            "type": "scatterpolar"
           }
          ],
          "scatterpolargl": [
           {
            "marker": {
             "colorbar": {
              "outlinewidth": 0,
              "ticks": ""
             }
            },
            "type": "scatterpolargl"
           }
          ],
          "scatterternary": [
           {
            "marker": {
             "colorbar": {
              "outlinewidth": 0,
              "ticks": ""
             }
            },
            "type": "scatterternary"
           }
          ],
          "surface": [
           {
            "colorbar": {
             "outlinewidth": 0,
             "ticks": ""
            },
            "colorscale": [
             [
              0,
              "#0d0887"
             ],
             [
              0.1111111111111111,
              "#46039f"
             ],
             [
              0.2222222222222222,
              "#7201a8"
             ],
             [
              0.3333333333333333,
              "#9c179e"
             ],
             [
              0.4444444444444444,
              "#bd3786"
             ],
             [
              0.5555555555555556,
              "#d8576b"
             ],
             [
              0.6666666666666666,
              "#ed7953"
             ],
             [
              0.7777777777777778,
              "#fb9f3a"
             ],
             [
              0.8888888888888888,
              "#fdca26"
             ],
             [
              1,
              "#f0f921"
             ]
            ],
            "type": "surface"
           }
          ],
          "table": [
           {
            "cells": {
             "fill": {
              "color": "#EBF0F8"
             },
             "line": {
              "color": "white"
             }
            },
            "header": {
             "fill": {
              "color": "#C8D4E3"
             },
             "line": {
              "color": "white"
             }
            },
            "type": "table"
           }
          ]
         },
         "layout": {
          "annotationdefaults": {
           "arrowcolor": "#2a3f5f",
           "arrowhead": 0,
           "arrowwidth": 1
          },
          "autotypenumbers": "strict",
          "coloraxis": {
           "colorbar": {
            "outlinewidth": 0,
            "ticks": ""
           }
          },
          "colorscale": {
           "diverging": [
            [
             0,
             "#8e0152"
            ],
            [
             0.1,
             "#c51b7d"
            ],
            [
             0.2,
             "#de77ae"
            ],
            [
             0.3,
             "#f1b6da"
            ],
            [
             0.4,
             "#fde0ef"
            ],
            [
             0.5,
             "#f7f7f7"
            ],
            [
             0.6,
             "#e6f5d0"
            ],
            [
             0.7,
             "#b8e186"
            ],
            [
             0.8,
             "#7fbc41"
            ],
            [
             0.9,
             "#4d9221"
            ],
            [
             1,
             "#276419"
            ]
           ],
           "sequential": [
            [
             0,
             "#0d0887"
            ],
            [
             0.1111111111111111,
             "#46039f"
            ],
            [
             0.2222222222222222,
             "#7201a8"
            ],
            [
             0.3333333333333333,
             "#9c179e"
            ],
            [
             0.4444444444444444,
             "#bd3786"
            ],
            [
             0.5555555555555556,
             "#d8576b"
            ],
            [
             0.6666666666666666,
             "#ed7953"
            ],
            [
             0.7777777777777778,
             "#fb9f3a"
            ],
            [
             0.8888888888888888,
             "#fdca26"
            ],
            [
             1,
             "#f0f921"
            ]
           ],
           "sequentialminus": [
            [
             0,
             "#0d0887"
            ],
            [
             0.1111111111111111,
             "#46039f"
            ],
            [
             0.2222222222222222,
             "#7201a8"
            ],
            [
             0.3333333333333333,
             "#9c179e"
            ],
            [
             0.4444444444444444,
             "#bd3786"
            ],
            [
             0.5555555555555556,
             "#d8576b"
            ],
            [
             0.6666666666666666,
             "#ed7953"
            ],
            [
             0.7777777777777778,
             "#fb9f3a"
            ],
            [
             0.8888888888888888,
             "#fdca26"
            ],
            [
             1,
             "#f0f921"
            ]
           ]
          },
          "colorway": [
           "#636efa",
           "#EF553B",
           "#00cc96",
           "#ab63fa",
           "#FFA15A",
           "#19d3f3",
           "#FF6692",
           "#B6E880",
           "#FF97FF",
           "#FECB52"
          ],
          "font": {
           "color": "#2a3f5f"
          },
          "geo": {
           "bgcolor": "white",
           "lakecolor": "white",
           "landcolor": "#E5ECF6",
           "showlakes": true,
           "showland": true,
           "subunitcolor": "white"
          },
          "hoverlabel": {
           "align": "left"
          },
          "hovermode": "closest",
          "mapbox": {
           "style": "light"
          },
          "paper_bgcolor": "white",
          "plot_bgcolor": "#E5ECF6",
          "polar": {
           "angularaxis": {
            "gridcolor": "white",
            "linecolor": "white",
            "ticks": ""
           },
           "bgcolor": "#E5ECF6",
           "radialaxis": {
            "gridcolor": "white",
            "linecolor": "white",
            "ticks": ""
           }
          },
          "scene": {
           "xaxis": {
            "backgroundcolor": "#E5ECF6",
            "gridcolor": "white",
            "gridwidth": 2,
            "linecolor": "white",
            "showbackground": true,
            "ticks": "",
            "zerolinecolor": "white"
           },
           "yaxis": {
            "backgroundcolor": "#E5ECF6",
            "gridcolor": "white",
            "gridwidth": 2,
            "linecolor": "white",
            "showbackground": true,
            "ticks": "",
            "zerolinecolor": "white"
           },
           "zaxis": {
            "backgroundcolor": "#E5ECF6",
            "gridcolor": "white",
            "gridwidth": 2,
            "linecolor": "white",
            "showbackground": true,
            "ticks": "",
            "zerolinecolor": "white"
           }
          },
          "shapedefaults": {
           "line": {
            "color": "#2a3f5f"
           }
          },
          "ternary": {
           "aaxis": {
            "gridcolor": "white",
            "linecolor": "white",
            "ticks": ""
           },
           "baxis": {
            "gridcolor": "white",
            "linecolor": "white",
            "ticks": ""
           },
           "bgcolor": "#E5ECF6",
           "caxis": {
            "gridcolor": "white",
            "linecolor": "white",
            "ticks": ""
           }
          },
          "title": {
           "x": 0.05
          },
          "xaxis": {
           "automargin": true,
           "gridcolor": "white",
           "linecolor": "white",
           "ticks": "",
           "title": {
            "standoff": 15
           },
           "zerolinecolor": "white",
           "zerolinewidth": 2
          },
          "yaxis": {
           "automargin": true,
           "gridcolor": "white",
           "linecolor": "white",
           "ticks": "",
           "title": {
            "standoff": 15
           },
           "zerolinecolor": "white",
           "zerolinewidth": 2
          }
         }
        },
        "width": 800,
        "xaxis": {
         "anchor": "y",
         "domain": [
          0,
          1
         ],
         "title": {
          "text": ""
         }
        },
        "yaxis": {
         "anchor": "x",
         "domain": [
          0,
          1
         ],
         "title": {
          "text": ""
         }
        }
       }
      }
     },
     "metadata": {},
     "output_type": "display_data"
    }
   ],
   "source": [
    "all_zonas = df.loc[df['cep_dest'] == 'Centro']['Zona'].value_counts()\n",
    "df_all_zonas = df.loc[df['Zona'].isin(all_zonas.index)][['Zona']].drop_duplicates(subset='Zona').reset_index(drop=True)\n",
    "df_all_zonas['count'] = df_all_zonas['Zona'].map(all_zonas)\n",
    "\n",
    "fig = px.bar(df_all_zonas.rename(columns={'count':'Apartamentos à Venda'}).sort_values(by='Apartamentos à Venda', ascending=True), \n",
    "             x='Apartamentos à Venda', \n",
    "             y='Zona', orientation='h')\n",
    "\n",
    "fig.update_xaxes(title_text='')\n",
    "fig.update_yaxes(title_text='')\n",
    "\n",
    "fig.update_layout(\n",
    "    margin=dict(l=0, r=0, t=0, b=0),\n",
    "    height=500,\n",
    "    width=800  \n",
    ")\n",
    "fig.show()"
   ]
  },
  {
   "cell_type": "code",
   "execution_count": 7,
   "metadata": {},
   "outputs": [
    {
     "data": {
      "application/vnd.plotly.v1+json": {
       "config": {
        "plotlyServerURL": "https://plot.ly"
       },
       "data": [
        {
         "domain": {
          "x": [
           0,
           1
          ],
          "y": [
           0,
           1
          ]
         },
         "hovertemplate": "Zona=%{label}<br>count=%{value}<extra></extra>",
         "labels": [
          "Sul",
          "Central",
          "Norte",
          "Extremo Sul",
          "Oeste",
          "Extremo Norte",
          "Rural"
         ],
         "legendgroup": "",
         "name": "",
         "showlegend": true,
         "type": "pie",
         "values": [
          931,
          167,
          51,
          33,
          27,
          15,
          2
         ]
        }
       ],
       "layout": {
        "height": 500,
        "legend": {
         "tracegroupgap": 0
        },
        "margin": {
         "b": 0,
         "l": 0,
         "r": 0,
         "t": 0
        },
        "template": {
         "data": {
          "bar": [
           {
            "error_x": {
             "color": "#2a3f5f"
            },
            "error_y": {
             "color": "#2a3f5f"
            },
            "marker": {
             "line": {
              "color": "#E5ECF6",
              "width": 0.5
             },
             "pattern": {
              "fillmode": "overlay",
              "size": 10,
              "solidity": 0.2
             }
            },
            "type": "bar"
           }
          ],
          "barpolar": [
           {
            "marker": {
             "line": {
              "color": "#E5ECF6",
              "width": 0.5
             },
             "pattern": {
              "fillmode": "overlay",
              "size": 10,
              "solidity": 0.2
             }
            },
            "type": "barpolar"
           }
          ],
          "carpet": [
           {
            "aaxis": {
             "endlinecolor": "#2a3f5f",
             "gridcolor": "white",
             "linecolor": "white",
             "minorgridcolor": "white",
             "startlinecolor": "#2a3f5f"
            },
            "baxis": {
             "endlinecolor": "#2a3f5f",
             "gridcolor": "white",
             "linecolor": "white",
             "minorgridcolor": "white",
             "startlinecolor": "#2a3f5f"
            },
            "type": "carpet"
           }
          ],
          "choropleth": [
           {
            "colorbar": {
             "outlinewidth": 0,
             "ticks": ""
            },
            "type": "choropleth"
           }
          ],
          "contour": [
           {
            "colorbar": {
             "outlinewidth": 0,
             "ticks": ""
            },
            "colorscale": [
             [
              0,
              "#0d0887"
             ],
             [
              0.1111111111111111,
              "#46039f"
             ],
             [
              0.2222222222222222,
              "#7201a8"
             ],
             [
              0.3333333333333333,
              "#9c179e"
             ],
             [
              0.4444444444444444,
              "#bd3786"
             ],
             [
              0.5555555555555556,
              "#d8576b"
             ],
             [
              0.6666666666666666,
              "#ed7953"
             ],
             [
              0.7777777777777778,
              "#fb9f3a"
             ],
             [
              0.8888888888888888,
              "#fdca26"
             ],
             [
              1,
              "#f0f921"
             ]
            ],
            "type": "contour"
           }
          ],
          "contourcarpet": [
           {
            "colorbar": {
             "outlinewidth": 0,
             "ticks": ""
            },
            "type": "contourcarpet"
           }
          ],
          "heatmap": [
           {
            "colorbar": {
             "outlinewidth": 0,
             "ticks": ""
            },
            "colorscale": [
             [
              0,
              "#0d0887"
             ],
             [
              0.1111111111111111,
              "#46039f"
             ],
             [
              0.2222222222222222,
              "#7201a8"
             ],
             [
              0.3333333333333333,
              "#9c179e"
             ],
             [
              0.4444444444444444,
              "#bd3786"
             ],
             [
              0.5555555555555556,
              "#d8576b"
             ],
             [
              0.6666666666666666,
              "#ed7953"
             ],
             [
              0.7777777777777778,
              "#fb9f3a"
             ],
             [
              0.8888888888888888,
              "#fdca26"
             ],
             [
              1,
              "#f0f921"
             ]
            ],
            "type": "heatmap"
           }
          ],
          "heatmapgl": [
           {
            "colorbar": {
             "outlinewidth": 0,
             "ticks": ""
            },
            "colorscale": [
             [
              0,
              "#0d0887"
             ],
             [
              0.1111111111111111,
              "#46039f"
             ],
             [
              0.2222222222222222,
              "#7201a8"
             ],
             [
              0.3333333333333333,
              "#9c179e"
             ],
             [
              0.4444444444444444,
              "#bd3786"
             ],
             [
              0.5555555555555556,
              "#d8576b"
             ],
             [
              0.6666666666666666,
              "#ed7953"
             ],
             [
              0.7777777777777778,
              "#fb9f3a"
             ],
             [
              0.8888888888888888,
              "#fdca26"
             ],
             [
              1,
              "#f0f921"
             ]
            ],
            "type": "heatmapgl"
           }
          ],
          "histogram": [
           {
            "marker": {
             "pattern": {
              "fillmode": "overlay",
              "size": 10,
              "solidity": 0.2
             }
            },
            "type": "histogram"
           }
          ],
          "histogram2d": [
           {
            "colorbar": {
             "outlinewidth": 0,
             "ticks": ""
            },
            "colorscale": [
             [
              0,
              "#0d0887"
             ],
             [
              0.1111111111111111,
              "#46039f"
             ],
             [
              0.2222222222222222,
              "#7201a8"
             ],
             [
              0.3333333333333333,
              "#9c179e"
             ],
             [
              0.4444444444444444,
              "#bd3786"
             ],
             [
              0.5555555555555556,
              "#d8576b"
             ],
             [
              0.6666666666666666,
              "#ed7953"
             ],
             [
              0.7777777777777778,
              "#fb9f3a"
             ],
             [
              0.8888888888888888,
              "#fdca26"
             ],
             [
              1,
              "#f0f921"
             ]
            ],
            "type": "histogram2d"
           }
          ],
          "histogram2dcontour": [
           {
            "colorbar": {
             "outlinewidth": 0,
             "ticks": ""
            },
            "colorscale": [
             [
              0,
              "#0d0887"
             ],
             [
              0.1111111111111111,
              "#46039f"
             ],
             [
              0.2222222222222222,
              "#7201a8"
             ],
             [
              0.3333333333333333,
              "#9c179e"
             ],
             [
              0.4444444444444444,
              "#bd3786"
             ],
             [
              0.5555555555555556,
              "#d8576b"
             ],
             [
              0.6666666666666666,
              "#ed7953"
             ],
             [
              0.7777777777777778,
              "#fb9f3a"
             ],
             [
              0.8888888888888888,
              "#fdca26"
             ],
             [
              1,
              "#f0f921"
             ]
            ],
            "type": "histogram2dcontour"
           }
          ],
          "mesh3d": [
           {
            "colorbar": {
             "outlinewidth": 0,
             "ticks": ""
            },
            "type": "mesh3d"
           }
          ],
          "parcoords": [
           {
            "line": {
             "colorbar": {
              "outlinewidth": 0,
              "ticks": ""
             }
            },
            "type": "parcoords"
           }
          ],
          "pie": [
           {
            "automargin": true,
            "type": "pie"
           }
          ],
          "scatter": [
           {
            "fillpattern": {
             "fillmode": "overlay",
             "size": 10,
             "solidity": 0.2
            },
            "type": "scatter"
           }
          ],
          "scatter3d": [
           {
            "line": {
             "colorbar": {
              "outlinewidth": 0,
              "ticks": ""
             }
            },
            "marker": {
             "colorbar": {
              "outlinewidth": 0,
              "ticks": ""
             }
            },
            "type": "scatter3d"
           }
          ],
          "scattercarpet": [
           {
            "marker": {
             "colorbar": {
              "outlinewidth": 0,
              "ticks": ""
             }
            },
            "type": "scattercarpet"
           }
          ],
          "scattergeo": [
           {
            "marker": {
             "colorbar": {
              "outlinewidth": 0,
              "ticks": ""
             }
            },
            "type": "scattergeo"
           }
          ],
          "scattergl": [
           {
            "marker": {
             "colorbar": {
              "outlinewidth": 0,
              "ticks": ""
             }
            },
            "type": "scattergl"
           }
          ],
          "scattermapbox": [
           {
            "marker": {
             "colorbar": {
              "outlinewidth": 0,
              "ticks": ""
             }
            },
            "type": "scattermapbox"
           }
          ],
          "scatterpolar": [
           {
            "marker": {
             "colorbar": {
              "outlinewidth": 0,
              "ticks": ""
             }
            },
            "type": "scatterpolar"
           }
          ],
          "scatterpolargl": [
           {
            "marker": {
             "colorbar": {
              "outlinewidth": 0,
              "ticks": ""
             }
            },
            "type": "scatterpolargl"
           }
          ],
          "scatterternary": [
           {
            "marker": {
             "colorbar": {
              "outlinewidth": 0,
              "ticks": ""
             }
            },
            "type": "scatterternary"
           }
          ],
          "surface": [
           {
            "colorbar": {
             "outlinewidth": 0,
             "ticks": ""
            },
            "colorscale": [
             [
              0,
              "#0d0887"
             ],
             [
              0.1111111111111111,
              "#46039f"
             ],
             [
              0.2222222222222222,
              "#7201a8"
             ],
             [
              0.3333333333333333,
              "#9c179e"
             ],
             [
              0.4444444444444444,
              "#bd3786"
             ],
             [
              0.5555555555555556,
              "#d8576b"
             ],
             [
              0.6666666666666666,
              "#ed7953"
             ],
             [
              0.7777777777777778,
              "#fb9f3a"
             ],
             [
              0.8888888888888888,
              "#fdca26"
             ],
             [
              1,
              "#f0f921"
             ]
            ],
            "type": "surface"
           }
          ],
          "table": [
           {
            "cells": {
             "fill": {
              "color": "#EBF0F8"
             },
             "line": {
              "color": "white"
             }
            },
            "header": {
             "fill": {
              "color": "#C8D4E3"
             },
             "line": {
              "color": "white"
             }
            },
            "type": "table"
           }
          ]
         },
         "layout": {
          "annotationdefaults": {
           "arrowcolor": "#2a3f5f",
           "arrowhead": 0,
           "arrowwidth": 1
          },
          "autotypenumbers": "strict",
          "coloraxis": {
           "colorbar": {
            "outlinewidth": 0,
            "ticks": ""
           }
          },
          "colorscale": {
           "diverging": [
            [
             0,
             "#8e0152"
            ],
            [
             0.1,
             "#c51b7d"
            ],
            [
             0.2,
             "#de77ae"
            ],
            [
             0.3,
             "#f1b6da"
            ],
            [
             0.4,
             "#fde0ef"
            ],
            [
             0.5,
             "#f7f7f7"
            ],
            [
             0.6,
             "#e6f5d0"
            ],
            [
             0.7,
             "#b8e186"
            ],
            [
             0.8,
             "#7fbc41"
            ],
            [
             0.9,
             "#4d9221"
            ],
            [
             1,
             "#276419"
            ]
           ],
           "sequential": [
            [
             0,
             "#0d0887"
            ],
            [
             0.1111111111111111,
             "#46039f"
            ],
            [
             0.2222222222222222,
             "#7201a8"
            ],
            [
             0.3333333333333333,
             "#9c179e"
            ],
            [
             0.4444444444444444,
             "#bd3786"
            ],
            [
             0.5555555555555556,
             "#d8576b"
            ],
            [
             0.6666666666666666,
             "#ed7953"
            ],
            [
             0.7777777777777778,
             "#fb9f3a"
            ],
            [
             0.8888888888888888,
             "#fdca26"
            ],
            [
             1,
             "#f0f921"
            ]
           ],
           "sequentialminus": [
            [
             0,
             "#0d0887"
            ],
            [
             0.1111111111111111,
             "#46039f"
            ],
            [
             0.2222222222222222,
             "#7201a8"
            ],
            [
             0.3333333333333333,
             "#9c179e"
            ],
            [
             0.4444444444444444,
             "#bd3786"
            ],
            [
             0.5555555555555556,
             "#d8576b"
            ],
            [
             0.6666666666666666,
             "#ed7953"
            ],
            [
             0.7777777777777778,
             "#fb9f3a"
            ],
            [
             0.8888888888888888,
             "#fdca26"
            ],
            [
             1,
             "#f0f921"
            ]
           ]
          },
          "colorway": [
           "#636efa",
           "#EF553B",
           "#00cc96",
           "#ab63fa",
           "#FFA15A",
           "#19d3f3",
           "#FF6692",
           "#B6E880",
           "#FF97FF",
           "#FECB52"
          ],
          "font": {
           "color": "#2a3f5f"
          },
          "geo": {
           "bgcolor": "white",
           "lakecolor": "white",
           "landcolor": "#E5ECF6",
           "showlakes": true,
           "showland": true,
           "subunitcolor": "white"
          },
          "hoverlabel": {
           "align": "left"
          },
          "hovermode": "closest",
          "mapbox": {
           "style": "light"
          },
          "paper_bgcolor": "white",
          "plot_bgcolor": "#E5ECF6",
          "polar": {
           "angularaxis": {
            "gridcolor": "white",
            "linecolor": "white",
            "ticks": ""
           },
           "bgcolor": "#E5ECF6",
           "radialaxis": {
            "gridcolor": "white",
            "linecolor": "white",
            "ticks": ""
           }
          },
          "scene": {
           "xaxis": {
            "backgroundcolor": "#E5ECF6",
            "gridcolor": "white",
            "gridwidth": 2,
            "linecolor": "white",
            "showbackground": true,
            "ticks": "",
            "zerolinecolor": "white"
           },
           "yaxis": {
            "backgroundcolor": "#E5ECF6",
            "gridcolor": "white",
            "gridwidth": 2,
            "linecolor": "white",
            "showbackground": true,
            "ticks": "",
            "zerolinecolor": "white"
           },
           "zaxis": {
            "backgroundcolor": "#E5ECF6",
            "gridcolor": "white",
            "gridwidth": 2,
            "linecolor": "white",
            "showbackground": true,
            "ticks": "",
            "zerolinecolor": "white"
           }
          },
          "shapedefaults": {
           "line": {
            "color": "#2a3f5f"
           }
          },
          "ternary": {
           "aaxis": {
            "gridcolor": "white",
            "linecolor": "white",
            "ticks": ""
           },
           "baxis": {
            "gridcolor": "white",
            "linecolor": "white",
            "ticks": ""
           },
           "bgcolor": "#E5ECF6",
           "caxis": {
            "gridcolor": "white",
            "linecolor": "white",
            "ticks": ""
           }
          },
          "title": {
           "x": 0.05
          },
          "xaxis": {
           "automargin": true,
           "gridcolor": "white",
           "linecolor": "white",
           "ticks": "",
           "title": {
            "standoff": 15
           },
           "zerolinecolor": "white",
           "zerolinewidth": 2
          },
          "yaxis": {
           "automargin": true,
           "gridcolor": "white",
           "linecolor": "white",
           "ticks": "",
           "title": {
            "standoff": 15
           },
           "zerolinecolor": "white",
           "zerolinewidth": 2
          }
         }
        },
        "width": 800
       }
      }
     },
     "metadata": {},
     "output_type": "display_data"
    }
   ],
   "source": [
    "all_zonas = df.loc[df['cep_dest'] == 'Centro']['Zona'].value_counts()\n",
    "\n",
    "df_all_zonas = df.loc[df['Zona'].isin(all_zonas.index)][['Zona']].drop_duplicates(subset='Zona').reset_index(drop=True)\n",
    "df_all_zonas['count'] = df_all_zonas['Zona'].map(all_zonas)\n",
    "\n",
    "pizza_plot(df_all_zonas)"
   ]
  },
  {
   "cell_type": "code",
   "execution_count": 8,
   "metadata": {},
   "outputs": [
    {
     "name": "stdout",
     "output_type": "stream",
     "text": [
      "Zona: Sul\n",
      "Quantidade de imoveis: 931\n",
      "Preço médio: 721844.33\n",
      "area util por m2: 92.18\n",
      "Preço por m2: 7830.81286613148\n",
      "\n",
      "Zona: Central\n",
      "Quantidade de imoveis: 167\n",
      "Preço médio: 828223.05\n",
      "area util por m2: 150.94\n",
      "Preço por m2: 5487.101166026236\n",
      "\n",
      "Zona: Norte\n",
      "Quantidade de imoveis: 51\n",
      "Preço médio: 447215.69\n",
      "area util por m2: 80.08\n",
      "Preço por m2: 5584.611513486514\n",
      "\n",
      "Zona: Extremo Sul\n",
      "Quantidade de imoveis: 33\n",
      "Preço médio: 526363.64\n",
      "area util por m2: 190.73\n",
      "Preço por m2: 2759.731767419913\n",
      "\n",
      "Zona: Oeste\n",
      "Quantidade de imoveis: 27\n",
      "Preço médio: 434855.56\n",
      "area util por m2: 92.89\n",
      "Preço por m2: 4681.40338034234\n",
      "\n",
      "Zona: Extremo Norte\n",
      "Quantidade de imoveis: 15\n",
      "Preço médio: 663420.0\n",
      "area util por m2: 126.8\n",
      "Preço por m2: 5232.018927444795\n",
      "\n",
      "Zona: Rural\n",
      "Quantidade de imoveis: 2\n",
      "Preço médio: 499400.0\n",
      "area util por m2: 109.5\n",
      "Preço por m2: 4560.730593607306\n",
      "\n"
     ]
    }
   ],
   "source": [
    "# Tabelas das zonas\n",
    "# Colunas que devem ser criadas são: Preço Médio Área Útil Por M² Preço por M²\n",
    "all_zonas = df.loc[df['cep_dest'] == 'Centro']\n",
    "\n",
    "for zona in all_zonas['Zona'].unique():\n",
    "    print('Zona:', zona)\n",
    "    print('Quantidade de imoveis:', np.round(len(all_zonas.loc[all_zonas['Zona'] == zona]),2))\n",
    "    print('Preço médio:', np.round(all_zonas.loc[all_zonas['Zona'] == zona]['preco'].mean(),2))\n",
    "    print('area util por m2:', np.round(all_zonas.loc[all_zonas['Zona'] == zona]['area util por m²'].mean(),2))\n",
    "    print('Preço por m2:', np.round(all_zonas.loc[all_zonas['Zona'] == zona]['preco'].mean(),2)/np.round(all_zonas.loc[all_zonas['Zona'] == zona]['area util por m²'].mean(),2))\n",
    "    print('')"
   ]
  },
  {
   "cell_type": "markdown",
   "metadata": {},
   "source": [
    "# Overview Zona Sul"
   ]
  },
  {
   "cell_type": "code",
   "execution_count": 9,
   "metadata": {},
   "outputs": [],
   "source": [
    "somente_zona_sul = df.loc[df['Zona'] == 'Sul']\n",
    "all_bairros = somente_zona_sul.loc[somente_zona_sul['cep_dest'] == 'Centro']['bairro'].value_counts()\n",
    "df_all_bairros = somente_zona_sul.loc[somente_zona_sul['bairro'].isin(all_bairros.index)][['bairro', 'latitude_origin', 'longitude_origin']].drop_duplicates(subset='bairro').reset_index(drop=True)\n",
    "df_all_bairros['count'] = df_all_bairros['bairro'].map(all_bairros)"
   ]
  },
  {
   "cell_type": "code",
   "execution_count": 10,
   "metadata": {},
   "outputs": [
    {
     "data": {
      "application/vnd.plotly.v1+json": {
       "config": {
        "plotlyServerURL": "https://plot.ly"
       },
       "data": [
        {
         "customdata": [
          [
           "Pontal"
          ],
          [
           "Nossa Senhora da Vitória"
          ],
          [
           "Pontal"
          ],
          [
           "São Francisco"
          ],
          [
           "Nossa Senhora da Vitória"
          ],
          [
           "Nossa Senhora da Vitória"
          ],
          [
           "Pontal"
          ],
          [
           "São Francisco"
          ],
          [
           "Nossa Senhora da Vitória"
          ],
          [
           "Pontal"
          ],
          [
           "São Francisco"
          ],
          [
           "Nossa Senhora da Vitória"
          ],
          [
           "São Francisco"
          ],
          [
           "Pontal"
          ],
          [
           "São Francisco"
          ],
          [
           "Pontal"
          ],
          [
           "Pontal"
          ],
          [
           "São Francisco"
          ],
          [
           "São Francisco"
          ],
          [
           "Nossa Senhora da Vitória"
          ],
          [
           "São Francisco"
          ],
          [
           "São Francisco"
          ],
          [
           "São Francisco"
          ],
          [
           "Nossa Senhora da Vitória"
          ],
          [
           "São Francisco"
          ],
          [
           "Nossa Senhora da Vitória"
          ],
          [
           "São Francisco"
          ],
          [
           "São Francisco"
          ],
          [
           "Pontal"
          ],
          [
           "São Francisco"
          ],
          [
           "Jardim Atlântico"
          ],
          [
           "Jardim Atlântico"
          ],
          [
           "Nossa Senhora da Vitória"
          ],
          [
           "São Francisco"
          ],
          [
           "Pontal"
          ],
          [
           "São Francisco"
          ],
          [
           "Pontal"
          ],
          [
           "Pontal"
          ],
          [
           "São Francisco"
          ],
          [
           "Nossa Senhora da Vitória"
          ],
          [
           "São Francisco"
          ],
          [
           "São Francisco"
          ],
          [
           "Nossa Senhora da Vitória"
          ],
          [
           "Pontal"
          ],
          [
           "Nossa Senhora da Vitória"
          ],
          [
           "Nossa Senhora da Vitória"
          ],
          [
           "Nossa Senhora da Vitória"
          ],
          [
           "Jardim Atlântico"
          ],
          [
           "Nossa Senhora da Vitória"
          ],
          [
           "Pontal"
          ],
          [
           "Pontal"
          ],
          [
           "São Francisco"
          ],
          [
           "Nossa Senhora da Vitória"
          ],
          [
           "Pontal"
          ],
          [
           "São Francisco"
          ],
          [
           "Nossa Senhora da Vitória"
          ],
          [
           "Nossa Senhora da Vitória"
          ],
          [
           "Nossa Senhora da Vitória"
          ],
          [
           "Nossa Senhora da Vitória"
          ],
          [
           "Pontal"
          ],
          [
           "Nossa Senhora da Vitória"
          ],
          [
           "Nossa Senhora da Vitória"
          ],
          [
           "Ilhéus II"
          ],
          [
           "Ilhéus II"
          ],
          [
           "São Francisco"
          ],
          [
           "Pontal"
          ],
          [
           "São Francisco"
          ],
          [
           "Nossa Senhora da Vitória"
          ],
          [
           "Nossa Senhora da Vitória"
          ],
          [
           "Nossa Senhora da Vitória"
          ],
          [
           "Nossa Senhora da Vitória"
          ],
          [
           "Nossa Senhora da Vitória"
          ],
          [
           "Jardim Atlântico"
          ],
          [
           "Nossa Senhora da Vitória"
          ],
          [
           "São Francisco"
          ],
          [
           "São Francisco"
          ],
          [
           "Nossa Senhora da Vitória"
          ],
          [
           "Nossa Senhora da Vitória"
          ],
          [
           "São Francisco"
          ],
          [
           "Nossa Senhora da Vitória"
          ],
          [
           "Nossa Senhora da Vitória"
          ],
          [
           "São Francisco"
          ],
          [
           "São Francisco"
          ],
          [
           "Nossa Senhora da Vitória"
          ],
          [
           "Nossa Senhora da Vitória"
          ],
          [
           "Jardim Atlântico"
          ],
          [
           "Jardim Atlântico"
          ],
          [
           "Pontal"
          ],
          [
           "Nossa Senhora da Vitória"
          ],
          [
           "Nossa Senhora da Vitória"
          ],
          [
           "Jardim Atlântico"
          ],
          [
           "Pontal"
          ],
          [
           "Pontal"
          ],
          [
           "São Francisco"
          ],
          [
           "São Francisco"
          ],
          [
           "São Francisco"
          ],
          [
           "Nossa Senhora da Vitória"
          ],
          [
           "Nossa Senhora da Vitória"
          ],
          [
           "Nossa Senhora da Vitória"
          ],
          [
           "Nossa Senhora da Vitória"
          ],
          [
           "Jardim Atlântico"
          ],
          [
           "São Francisco"
          ],
          [
           "Jardim Atlântico"
          ],
          [
           "Nossa Senhora da Vitória"
          ],
          [
           "Jardim Atlântico"
          ],
          [
           "Jardim Atlântico"
          ],
          [
           "Jardim Atlântico"
          ],
          [
           "Nossa Senhora da Vitória"
          ],
          [
           "Jardim Atlântico"
          ],
          [
           "Jardim Atlântico"
          ],
          [
           "Jardim Atlântico"
          ],
          [
           "Nossa Senhora da Vitória"
          ],
          [
           "Jardim Atlântico"
          ],
          [
           "Nossa Senhora da Vitória"
          ],
          [
           "Jardim Atlântico"
          ],
          [
           "Jardim Atlântico"
          ],
          [
           "Pontal"
          ],
          [
           "Nossa Senhora da Vitória"
          ],
          [
           "São Francisco"
          ],
          [
           "Pontal"
          ],
          [
           "São Francisco"
          ],
          [
           "São Francisco"
          ],
          [
           "Pontal"
          ],
          [
           "São Francisco"
          ],
          [
           "São Francisco"
          ],
          [
           "Nossa Senhora da Vitória"
          ],
          [
           "Nossa Senhora da Vitória"
          ],
          [
           "Nossa Senhora da Vitória"
          ],
          [
           "São Francisco"
          ],
          [
           "Ilhéus II"
          ],
          [
           "Pontal"
          ],
          [
           "Pontal"
          ],
          [
           "Nossa Senhora da Vitória"
          ],
          [
           "Nossa Senhora da Vitória"
          ],
          [
           "Pontal"
          ],
          [
           "São Francisco"
          ],
          [
           "Nossa Senhora da Vitória"
          ],
          [
           "São Francisco"
          ],
          [
           "Nossa Senhora da Vitória"
          ],
          [
           "Nossa Senhora da Vitória"
          ],
          [
           "São Francisco"
          ],
          [
           "Nossa Senhora da Vitória"
          ],
          [
           "São Francisco"
          ],
          [
           "São Francisco"
          ],
          [
           "Pontal"
          ],
          [
           "Ilhéus II"
          ],
          [
           "São Francisco"
          ],
          [
           "Nossa Senhora da Vitória"
          ],
          [
           "São Francisco"
          ],
          [
           "Pontal"
          ],
          [
           "Pontal"
          ],
          [
           "Nossa Senhora da Vitória"
          ],
          [
           "Nossa Senhora da Vitória"
          ],
          [
           "São Francisco"
          ],
          [
           "Jardim Atlântico"
          ],
          [
           "São Francisco"
          ],
          [
           "Jardim Atlântico"
          ],
          [
           "Jardim Atlântico"
          ],
          [
           "Jardim Atlântico"
          ],
          [
           "Nossa Senhora da Vitória"
          ],
          [
           "Nossa Senhora da Vitória"
          ],
          [
           "Pontal"
          ],
          [
           "Pontal"
          ],
          [
           "Jardim Atlântico"
          ],
          [
           "Nossa Senhora da Vitória"
          ],
          [
           "Nossa Senhora da Vitória"
          ],
          [
           "Nossa Senhora da Vitória"
          ],
          [
           "Jardim Atlântico"
          ],
          [
           "Nossa Senhora da Vitória"
          ],
          [
           "Jardim Atlântico"
          ],
          [
           "Nossa Senhora da Vitória"
          ],
          [
           "Pontal"
          ],
          [
           "Pontal"
          ],
          [
           "Nossa Senhora da Vitória"
          ],
          [
           "Nossa Senhora da Vitória"
          ],
          [
           "Pontal"
          ],
          [
           "Nossa Senhora da Vitória"
          ],
          [
           "Pontal"
          ],
          [
           "Nossa Senhora da Vitória"
          ],
          [
           "São Francisco"
          ],
          [
           "Pontal"
          ],
          [
           "Nossa Senhora da Vitória"
          ],
          [
           "São Francisco"
          ],
          [
           "São Francisco"
          ],
          [
           "Nossa Senhora da Vitória"
          ],
          [
           "Jardim Atlântico"
          ],
          [
           "Pontal"
          ],
          [
           "Jardim Atlântico"
          ],
          [
           "Pontal"
          ],
          [
           "Jardim Atlântico"
          ],
          [
           "São Francisco"
          ],
          [
           "São Francisco"
          ],
          [
           "Nossa Senhora da Vitória"
          ],
          [
           "São Francisco"
          ],
          [
           "Nossa Senhora da Vitória"
          ],
          [
           "São Francisco"
          ],
          [
           "São Francisco"
          ],
          [
           "São Francisco"
          ],
          [
           "São Francisco"
          ],
          [
           "São Francisco"
          ],
          [
           "São Francisco"
          ],
          [
           "São Francisco"
          ],
          [
           "Nossa Senhora da Vitória"
          ],
          [
           "São Francisco"
          ],
          [
           "São Francisco"
          ],
          [
           "Pontal"
          ],
          [
           "Nossa Senhora da Vitória"
          ],
          [
           "Jardim Atlântico"
          ],
          [
           "Nossa Senhora da Vitória"
          ],
          [
           "Nossa Senhora da Vitória"
          ],
          [
           "São Francisco"
          ],
          [
           "Ilhéus II"
          ],
          [
           "Ilhéus II"
          ],
          [
           "Nossa Senhora da Vitória"
          ],
          [
           "São Francisco"
          ],
          [
           "São Francisco"
          ],
          [
           "Nossa Senhora da Vitória"
          ],
          [
           "Pontal"
          ],
          [
           "São Francisco"
          ],
          [
           "Jardim Atlântico"
          ],
          [
           "São Francisco"
          ],
          [
           "São Francisco"
          ],
          [
           "São Francisco"
          ],
          [
           "Nossa Senhora da Vitória"
          ],
          [
           "Nossa Senhora da Vitória"
          ],
          [
           "Pontal"
          ],
          [
           "Nossa Senhora da Vitória"
          ],
          [
           "São Francisco"
          ],
          [
           "Nossa Senhora da Vitória"
          ],
          [
           "Nossa Senhora da Vitória"
          ],
          [
           "Pontal"
          ],
          [
           "Nossa Senhora da Vitória"
          ],
          [
           "Nossa Senhora da Vitória"
          ],
          [
           "São Francisco"
          ],
          [
           "Nossa Senhora da Vitória"
          ],
          [
           "Nossa Senhora da Vitória"
          ],
          [
           "Jardim Atlântico"
          ],
          [
           "São Francisco"
          ],
          [
           "Nossa Senhora da Vitória"
          ],
          [
           "Jardim Atlântico"
          ],
          [
           "Jardim Atlântico"
          ],
          [
           "São Francisco"
          ],
          [
           "Nossa Senhora da Vitória"
          ],
          [
           "São Francisco"
          ],
          [
           "Pontal"
          ],
          [
           "São Francisco"
          ],
          [
           "Nossa Senhora da Vitória"
          ],
          [
           "São Francisco"
          ],
          [
           "Nossa Senhora da Vitória"
          ],
          [
           "Pontal"
          ],
          [
           "Pontal"
          ],
          [
           "São Francisco"
          ],
          [
           "Pontal"
          ],
          [
           "São Francisco"
          ],
          [
           "Nossa Senhora da Vitória"
          ],
          [
           "São Francisco"
          ],
          [
           "Pontal"
          ],
          [
           "São Francisco"
          ],
          [
           "Pontal"
          ],
          [
           "Nossa Senhora da Vitória"
          ],
          [
           "São Francisco"
          ],
          [
           "São Francisco"
          ],
          [
           "Pontal"
          ],
          [
           "Nossa Senhora da Vitória"
          ],
          [
           "Nossa Senhora da Vitória"
          ],
          [
           "Nossa Senhora da Vitória"
          ],
          [
           "Nossa Senhora da Vitória"
          ],
          [
           "Nossa Senhora da Vitória"
          ],
          [
           "São Francisco"
          ],
          [
           "São Francisco"
          ],
          [
           "Jardim Atlântico"
          ],
          [
           "São Francisco"
          ],
          [
           "Nossa Senhora da Vitória"
          ],
          [
           "Pontal"
          ],
          [
           "São Francisco"
          ],
          [
           "Pontal"
          ],
          [
           "Nossa Senhora da Vitória"
          ],
          [
           "São Francisco"
          ],
          [
           "Nossa Senhora da Vitória"
          ],
          [
           "São Francisco"
          ],
          [
           "Pontal"
          ],
          [
           "Nossa Senhora da Vitória"
          ],
          [
           "São Francisco"
          ],
          [
           "Nossa Senhora da Vitória"
          ],
          [
           "São Francisco"
          ],
          [
           "Nossa Senhora da Vitória"
          ],
          [
           "São Francisco"
          ],
          [
           "São Francisco"
          ],
          [
           "São Francisco"
          ],
          [
           "São Francisco"
          ],
          [
           "Nossa Senhora da Vitória"
          ],
          [
           "Nossa Senhora da Vitória"
          ],
          [
           "Nossa Senhora da Vitória"
          ],
          [
           "São Francisco"
          ],
          [
           "São Francisco"
          ],
          [
           "Nossa Senhora da Vitória"
          ],
          [
           "São Francisco"
          ],
          [
           "Pontal"
          ],
          [
           "Pontal"
          ],
          [
           "Nossa Senhora da Vitória"
          ],
          [
           "Pontal"
          ],
          [
           "São Francisco"
          ],
          [
           "Pontal"
          ],
          [
           "São Francisco"
          ],
          [
           "São Francisco"
          ],
          [
           "Nossa Senhora da Vitória"
          ],
          [
           "São Francisco"
          ],
          [
           "São Francisco"
          ],
          [
           "São Francisco"
          ],
          [
           "Nossa Senhora da Vitória"
          ],
          [
           "Nossa Senhora da Vitória"
          ],
          [
           "Nossa Senhora da Vitória"
          ],
          [
           "São Francisco"
          ],
          [
           "São Francisco"
          ],
          [
           "São Francisco"
          ],
          [
           "Pontal"
          ],
          [
           "São Francisco"
          ],
          [
           "Nossa Senhora da Vitória"
          ],
          [
           "São Francisco"
          ],
          [
           "São Francisco"
          ],
          [
           "São Francisco"
          ],
          [
           "Nossa Senhora da Vitória"
          ],
          [
           "Jardim Atlântico"
          ],
          [
           "Nossa Senhora da Vitória"
          ],
          [
           "São Francisco"
          ],
          [
           "Nossa Senhora da Vitória"
          ],
          [
           "São Francisco"
          ],
          [
           "Nossa Senhora da Vitória"
          ],
          [
           "Nossa Senhora da Vitória"
          ],
          [
           "São Francisco"
          ],
          [
           "Jardim Atlântico"
          ],
          [
           "Pontal"
          ],
          [
           "Nossa Senhora da Vitória"
          ],
          [
           "São Francisco"
          ],
          [
           "Pontal"
          ],
          [
           "São Francisco"
          ],
          [
           "São Francisco"
          ],
          [
           "Jardim Atlântico"
          ],
          [
           "São Francisco"
          ],
          [
           "São Francisco"
          ],
          [
           "São Francisco"
          ],
          [
           "Nossa Senhora da Vitória"
          ],
          [
           "Nossa Senhora da Vitória"
          ],
          [
           "Jardim Atlântico"
          ],
          [
           "São Francisco"
          ],
          [
           "Nossa Senhora da Vitória"
          ],
          [
           "Nossa Senhora da Vitória"
          ],
          [
           "São Francisco"
          ],
          [
           "Nossa Senhora da Vitória"
          ],
          [
           "Nossa Senhora da Vitória"
          ],
          [
           "Jardim Atlântico"
          ],
          [
           "Nossa Senhora da Vitória"
          ],
          [
           "São Francisco"
          ],
          [
           "São Francisco"
          ],
          [
           "São Francisco"
          ],
          [
           "São Francisco"
          ],
          [
           "Pontal"
          ],
          [
           "São Francisco"
          ],
          [
           "São Francisco"
          ],
          [
           "Pontal"
          ],
          [
           "Nossa Senhora da Vitória"
          ],
          [
           "Nossa Senhora da Vitória"
          ],
          [
           "Nossa Senhora da Vitória"
          ],
          [
           "Nossa Senhora da Vitória"
          ],
          [
           "São Francisco"
          ],
          [
           "Pontal"
          ],
          [
           "Nossa Senhora da Vitória"
          ],
          [
           "São Francisco"
          ],
          [
           "Pontal"
          ],
          [
           "Pontal"
          ],
          [
           "Pontal"
          ],
          [
           "São Francisco"
          ],
          [
           "Pontal"
          ],
          [
           "São Francisco"
          ],
          [
           "Jardim Atlântico"
          ],
          [
           "Ilhéus II"
          ],
          [
           "São Francisco"
          ],
          [
           "Jardim Atlântico"
          ],
          [
           "Nossa Senhora da Vitória"
          ],
          [
           "São Francisco"
          ],
          [
           "Pontal"
          ],
          [
           "São Francisco"
          ],
          [
           "São Francisco"
          ],
          [
           "São Francisco"
          ],
          [
           "Nossa Senhora da Vitória"
          ],
          [
           "São Francisco"
          ],
          [
           "São Francisco"
          ],
          [
           "São Francisco"
          ],
          [
           "Pontal"
          ],
          [
           "Nossa Senhora da Vitória"
          ],
          [
           "Nossa Senhora da Vitória"
          ],
          [
           "São Francisco"
          ],
          [
           "São Francisco"
          ],
          [
           "São Francisco"
          ],
          [
           "Nossa Senhora da Vitória"
          ],
          [
           "São Francisco"
          ],
          [
           "Pontal"
          ],
          [
           "São Francisco"
          ],
          [
           "Nossa Senhora da Vitória"
          ],
          [
           "São Francisco"
          ],
          [
           "Jardim Atlântico"
          ],
          [
           "Nossa Senhora da Vitória"
          ],
          [
           "Nossa Senhora da Vitória"
          ],
          [
           "Pontal"
          ],
          [
           "Nossa Senhora da Vitória"
          ],
          [
           "Nossa Senhora da Vitória"
          ],
          [
           "São Francisco"
          ],
          [
           "São Francisco"
          ],
          [
           "Pontal"
          ],
          [
           "São Francisco"
          ],
          [
           "Pontal"
          ],
          [
           "Nelson Costa"
          ],
          [
           "Nossa Senhora da Vitória"
          ],
          [
           "São Francisco"
          ],
          [
           "Nossa Senhora da Vitória"
          ],
          [
           "Pontal"
          ],
          [
           "Pontal"
          ],
          [
           "Nossa Senhora da Vitória"
          ],
          [
           "Pontal"
          ],
          [
           "Nossa Senhora da Vitória"
          ],
          [
           "Jardim Atlântico"
          ],
          [
           "Nossa Senhora da Vitória"
          ],
          [
           "São Francisco"
          ],
          [
           "São Francisco"
          ],
          [
           "Pontal"
          ],
          [
           "Pontal"
          ],
          [
           "São Francisco"
          ],
          [
           "São Francisco"
          ],
          [
           "Nossa Senhora da Vitória"
          ],
          [
           "Pontal"
          ],
          [
           "São Francisco"
          ],
          [
           "Pontal"
          ],
          [
           "Nossa Senhora da Vitória"
          ],
          [
           "Jardim Atlântico"
          ],
          [
           "Nossa Senhora da Vitória"
          ],
          [
           "Pontal"
          ],
          [
           "Nossa Senhora da Vitória"
          ],
          [
           "Nossa Senhora da Vitória"
          ],
          [
           "Nossa Senhora da Vitória"
          ],
          [
           "São Francisco"
          ],
          [
           "Jardim Atlântico"
          ],
          [
           "Jardim Atlântico"
          ],
          [
           "São Francisco"
          ],
          [
           "Nossa Senhora da Vitória"
          ],
          [
           "São Francisco"
          ],
          [
           "São Francisco"
          ],
          [
           "Pontal"
          ],
          [
           "Pontal"
          ],
          [
           "Nossa Senhora da Vitória"
          ],
          [
           "São Francisco"
          ],
          [
           "São Francisco"
          ],
          [
           "Pontal"
          ],
          [
           "São Francisco"
          ],
          [
           "Pontal"
          ],
          [
           "São Francisco"
          ],
          [
           "São Francisco"
          ],
          [
           "Pontal"
          ],
          [
           "Nossa Senhora da Vitória"
          ],
          [
           "Nossa Senhora da Vitória"
          ],
          [
           "Nossa Senhora da Vitória"
          ],
          [
           "São Francisco"
          ],
          [
           "Nossa Senhora da Vitória"
          ],
          [
           "Nossa Senhora da Vitória"
          ],
          [
           "São Francisco"
          ],
          [
           "São Francisco"
          ],
          [
           "São Francisco"
          ],
          [
           "Nossa Senhora da Vitória"
          ],
          [
           "Nossa Senhora da Vitória"
          ],
          [
           "Pontal"
          ],
          [
           "São Francisco"
          ],
          [
           "São Francisco"
          ],
          [
           "São Francisco"
          ],
          [
           "Nossa Senhora da Vitória"
          ],
          [
           "Nossa Senhora da Vitória"
          ],
          [
           "Nossa Senhora da Vitória"
          ],
          [
           "Nossa Senhora da Vitória"
          ],
          [
           "São Francisco"
          ],
          [
           "Jardim Atlântico"
          ],
          [
           "São Francisco"
          ],
          [
           "Jardim Atlântico"
          ],
          [
           "Jardim Atlântico"
          ],
          [
           "Nossa Senhora da Vitória"
          ],
          [
           "Pontal"
          ],
          [
           "Nossa Senhora da Vitória"
          ],
          [
           "São Francisco"
          ],
          [
           "São Francisco"
          ],
          [
           "São Francisco"
          ],
          [
           "São Francisco"
          ],
          [
           "Nossa Senhora da Vitória"
          ],
          [
           "Nossa Senhora da Vitória"
          ],
          [
           "Nossa Senhora da Vitória"
          ],
          [
           "Nossa Senhora da Vitória"
          ],
          [
           "Pontal"
          ],
          [
           "São Francisco"
          ],
          [
           "Nossa Senhora da Vitória"
          ],
          [
           "Nossa Senhora da Vitória"
          ],
          [
           "Pontal"
          ],
          [
           "Nossa Senhora da Vitória"
          ],
          [
           "Nossa Senhora da Vitória"
          ],
          [
           "São Francisco"
          ],
          [
           "São Francisco"
          ],
          [
           "Nossa Senhora da Vitória"
          ],
          [
           "Nossa Senhora da Vitória"
          ],
          [
           "São Francisco"
          ],
          [
           "Pontal"
          ],
          [
           "Nossa Senhora da Vitória"
          ],
          [
           "Nossa Senhora da Vitória"
          ],
          [
           "Nossa Senhora da Vitória"
          ],
          [
           "Nossa Senhora da Vitória"
          ],
          [
           "São Francisco"
          ],
          [
           "Pontal"
          ],
          [
           "Nossa Senhora da Vitória"
          ],
          [
           "Pontal"
          ],
          [
           "São Francisco"
          ],
          [
           "Nossa Senhora da Vitória"
          ],
          [
           "Pontal"
          ],
          [
           "São Francisco"
          ],
          [
           "Nossa Senhora da Vitória"
          ],
          [
           "São Francisco"
          ],
          [
           "Pontal"
          ],
          [
           "São Francisco"
          ],
          [
           "Pontal"
          ],
          [
           "Pontal"
          ],
          [
           "São Francisco"
          ],
          [
           "São Francisco"
          ],
          [
           "Nossa Senhora da Vitória"
          ],
          [
           "São Francisco"
          ],
          [
           "São Francisco"
          ],
          [
           "São Francisco"
          ],
          [
           "Nossa Senhora da Vitória"
          ],
          [
           "São Francisco"
          ],
          [
           "Nossa Senhora da Vitória"
          ],
          [
           "São Francisco"
          ],
          [
           "São Francisco"
          ],
          [
           "Jardim Atlântico"
          ],
          [
           "Nossa Senhora da Vitória"
          ],
          [
           "São Francisco"
          ],
          [
           "Pontal"
          ],
          [
           "São Francisco"
          ],
          [
           "Pontal"
          ],
          [
           "Pontal"
          ],
          [
           "São Francisco"
          ],
          [
           "Nossa Senhora da Vitória"
          ],
          [
           "São Francisco"
          ],
          [
           "São Francisco"
          ],
          [
           "Pontal"
          ],
          [
           "Jardim Atlântico"
          ],
          [
           "Nossa Senhora da Vitória"
          ],
          [
           "Pontal"
          ],
          [
           "Pontal"
          ],
          [
           "São Francisco"
          ],
          [
           "Nossa Senhora da Vitória"
          ],
          [
           "Nossa Senhora da Vitória"
          ],
          [
           "São Francisco"
          ],
          [
           "Nossa Senhora da Vitória"
          ],
          [
           "Nossa Senhora da Vitória"
          ],
          [
           "Jardim Atlântico"
          ],
          [
           "Nossa Senhora da Vitória"
          ],
          [
           "Nossa Senhora da Vitória"
          ],
          [
           "Ilhéus II"
          ],
          [
           "Ilhéus II"
          ],
          [
           "São Francisco"
          ],
          [
           "Pontal"
          ],
          [
           "São Francisco"
          ],
          [
           "Nossa Senhora da Vitória"
          ],
          [
           "Nossa Senhora da Vitória"
          ],
          [
           "Nossa Senhora da Vitória"
          ],
          [
           "Nossa Senhora da Vitória"
          ],
          [
           "Nossa Senhora da Vitória"
          ],
          [
           "Nossa Senhora da Vitória"
          ],
          [
           "Jardim Atlântico"
          ],
          [
           "Pontal"
          ],
          [
           "Nossa Senhora da Vitória"
          ],
          [
           "Nossa Senhora da Vitória"
          ],
          [
           "São Francisco"
          ],
          [
           "Pontal"
          ],
          [
           "Nossa Senhora da Vitória"
          ],
          [
           "Nossa Senhora da Vitória"
          ],
          [
           "São Francisco"
          ],
          [
           "São Francisco"
          ],
          [
           "Nossa Senhora da Vitória"
          ],
          [
           "Jardim Atlântico"
          ],
          [
           "Jardim Atlântico"
          ],
          [
           "Pontal"
          ],
          [
           "Nossa Senhora da Vitória"
          ],
          [
           "Jardim Atlântico"
          ],
          [
           "Pontal"
          ],
          [
           "São Francisco"
          ],
          [
           "São Francisco"
          ],
          [
           "Pontal"
          ],
          [
           "Nossa Senhora da Vitória"
          ],
          [
           "São Francisco"
          ],
          [
           "Jardim Atlântico"
          ],
          [
           "Jardim Atlântico"
          ],
          [
           "Jardim Atlântico"
          ],
          [
           "Jardim Atlântico"
          ],
          [
           "Jardim Atlântico"
          ],
          [
           "Jardim Atlântico"
          ],
          [
           "Jardim Atlântico"
          ],
          [
           "Pontal"
          ],
          [
           "Nossa Senhora da Vitória"
          ],
          [
           "São Francisco"
          ],
          [
           "Pontal"
          ],
          [
           "São Francisco"
          ],
          [
           "Nossa Senhora da Vitória"
          ],
          [
           "Nossa Senhora da Vitória"
          ],
          [
           "Nossa Senhora da Vitória"
          ],
          [
           "São Francisco"
          ],
          [
           "Pontal"
          ],
          [
           "Nossa Senhora da Vitória"
          ],
          [
           "Nossa Senhora da Vitória"
          ],
          [
           "Pontal"
          ],
          [
           "São Francisco"
          ],
          [
           "Nossa Senhora da Vitória"
          ],
          [
           "São Francisco"
          ],
          [
           "São Francisco"
          ],
          [
           "Pontal"
          ],
          [
           "Ilhéus II"
          ],
          [
           "São Francisco"
          ],
          [
           "Nossa Senhora da Vitória"
          ],
          [
           "São Francisco"
          ],
          [
           "Pontal"
          ],
          [
           "Nossa Senhora da Vitória"
          ],
          [
           "Nossa Senhora da Vitória"
          ],
          [
           "São Francisco"
          ],
          [
           "Jardim Atlântico"
          ],
          [
           "Nossa Senhora da Vitória"
          ],
          [
           "Nossa Senhora da Vitória"
          ],
          [
           "Nossa Senhora da Vitória"
          ],
          [
           "Pontal"
          ],
          [
           "Pontal"
          ],
          [
           "Jardim Atlântico"
          ],
          [
           "Nossa Senhora da Vitória"
          ],
          [
           "Nossa Senhora da Vitória"
          ],
          [
           "São Francisco"
          ],
          [
           "Nossa Senhora da Vitória"
          ],
          [
           "Jardim Atlântico"
          ],
          [
           "Nossa Senhora da Vitória"
          ],
          [
           "Nossa Senhora da Vitória"
          ],
          [
           "Pontal"
          ],
          [
           "Nossa Senhora da Vitória"
          ],
          [
           "Nossa Senhora da Vitória"
          ],
          [
           "Pontal"
          ],
          [
           "Nossa Senhora da Vitória"
          ],
          [
           "Pontal"
          ],
          [
           "Pontal"
          ],
          [
           "Nossa Senhora da Vitória"
          ],
          [
           "São Francisco"
          ],
          [
           "São Francisco"
          ],
          [
           "Jardim Atlântico"
          ],
          [
           "São Francisco"
          ],
          [
           "Nossa Senhora da Vitória"
          ],
          [
           "Nossa Senhora da Vitória"
          ],
          [
           "São Francisco"
          ],
          [
           "São Francisco"
          ],
          [
           "São Francisco"
          ],
          [
           "São Francisco"
          ],
          [
           "São Francisco"
          ],
          [
           "Nossa Senhora da Vitória"
          ],
          [
           "São Francisco"
          ],
          [
           "Pontal"
          ],
          [
           "Nossa Senhora da Vitória"
          ],
          [
           "Jardim Atlântico"
          ],
          [
           "Nossa Senhora da Vitória"
          ],
          [
           "Nossa Senhora da Vitória"
          ],
          [
           "São Francisco"
          ],
          [
           "Ilhéus II"
          ],
          [
           "Ilhéus II"
          ],
          [
           "Pontal"
          ],
          [
           "Nossa Senhora da Vitória"
          ],
          [
           "Pontal"
          ],
          [
           "São Francisco"
          ],
          [
           "São Francisco"
          ],
          [
           "São Francisco"
          ],
          [
           "Pontal"
          ],
          [
           "São Francisco"
          ],
          [
           "Nossa Senhora da Vitória"
          ],
          [
           "Jardim Atlântico"
          ],
          [
           "Nossa Senhora da Vitória"
          ],
          [
           "Pontal"
          ],
          [
           "Nossa Senhora da Vitória"
          ],
          [
           "São Francisco"
          ],
          [
           "São Francisco"
          ],
          [
           "Pontal"
          ],
          [
           "Nossa Senhora da Vitória"
          ],
          [
           "Nossa Senhora da Vitória"
          ],
          [
           "Nossa Senhora da Vitória"
          ],
          [
           "Jardim Atlântico"
          ],
          [
           "São Francisco"
          ],
          [
           "Nossa Senhora da Vitória"
          ],
          [
           "Jardim Atlântico"
          ],
          [
           "Jardim Atlântico"
          ],
          [
           "São Francisco"
          ],
          [
           "Pontal"
          ],
          [
           "São Francisco"
          ],
          [
           "Nossa Senhora da Vitória"
          ],
          [
           "São Francisco"
          ],
          [
           "Nossa Senhora da Vitória"
          ],
          [
           "Pontal"
          ],
          [
           "Pontal"
          ],
          [
           "São Francisco"
          ],
          [
           "Pontal"
          ],
          [
           "Nossa Senhora da Vitória"
          ],
          [
           "São Francisco"
          ],
          [
           "Nossa Senhora da Vitória"
          ],
          [
           "São Francisco"
          ],
          [
           "Pontal"
          ],
          [
           "Nossa Senhora da Vitória"
          ],
          [
           "Nossa Senhora da Vitória"
          ],
          [
           "São Francisco"
          ],
          [
           "São Francisco"
          ],
          [
           "Pontal"
          ],
          [
           "Nossa Senhora da Vitória"
          ],
          [
           "Nossa Senhora da Vitória"
          ],
          [
           "Jardim Atlântico"
          ],
          [
           "São Francisco"
          ],
          [
           "Nossa Senhora da Vitória"
          ],
          [
           "São Francisco"
          ],
          [
           "São Francisco"
          ],
          [
           "Jardim Atlântico"
          ],
          [
           "São Francisco"
          ],
          [
           "Nossa Senhora da Vitória"
          ],
          [
           "Nossa Senhora da Vitória"
          ],
          [
           "Nossa Senhora da Vitória"
          ],
          [
           "Nossa Senhora da Vitória"
          ],
          [
           "Nossa Senhora da Vitória"
          ],
          [
           "Nossa Senhora da Vitória"
          ],
          [
           "Nossa Senhora da Vitória"
          ],
          [
           "Nossa Senhora da Vitória"
          ],
          [
           "Nossa Senhora da Vitória"
          ],
          [
           "Nossa Senhora da Vitória"
          ],
          [
           "Nossa Senhora da Vitória"
          ],
          [
           "Nossa Senhora da Vitória"
          ],
          [
           "Nossa Senhora da Vitória"
          ],
          [
           "São Francisco"
          ],
          [
           "Jardim Atlântico"
          ],
          [
           "Nossa Senhora da Vitória"
          ],
          [
           "São Francisco"
          ],
          [
           "Pontal"
          ],
          [
           "Nossa Senhora da Vitória"
          ],
          [
           "São Francisco"
          ],
          [
           "Nossa Senhora da Vitória"
          ],
          [
           "São Francisco"
          ],
          [
           "São Francisco"
          ],
          [
           "São Francisco"
          ],
          [
           "São Francisco"
          ],
          [
           "São Francisco"
          ],
          [
           "Nossa Senhora da Vitória"
          ],
          [
           "Nossa Senhora da Vitória"
          ],
          [
           "Nossa Senhora da Vitória"
          ],
          [
           "São Francisco"
          ],
          [
           "São Francisco"
          ],
          [
           "Nossa Senhora da Vitória"
          ],
          [
           "São Francisco"
          ],
          [
           "Pontal"
          ],
          [
           "Pontal"
          ],
          [
           "Pontal"
          ],
          [
           "Nossa Senhora da Vitória"
          ],
          [
           "Pontal"
          ],
          [
           "São Francisco"
          ],
          [
           "São Francisco"
          ],
          [
           "Nossa Senhora da Vitória"
          ],
          [
           "Nossa Senhora da Vitória"
          ],
          [
           "São Francisco"
          ],
          [
           "Nossa Senhora da Vitória"
          ],
          [
           "Nossa Senhora da Vitória"
          ],
          [
           "Nossa Senhora da Vitória"
          ],
          [
           "Nossa Senhora da Vitória"
          ],
          [
           "São Francisco"
          ],
          [
           "Pontal"
          ],
          [
           "São Francisco"
          ],
          [
           "Nossa Senhora da Vitória"
          ],
          [
           "São Francisco"
          ],
          [
           "São Francisco"
          ],
          [
           "São Francisco"
          ],
          [
           "Nossa Senhora da Vitória"
          ],
          [
           "São Francisco"
          ],
          [
           "Pontal"
          ],
          [
           "Nossa Senhora da Vitória"
          ],
          [
           "São Francisco"
          ],
          [
           "Nossa Senhora da Vitória"
          ],
          [
           "São Francisco"
          ],
          [
           "Jardim Atlântico"
          ],
          [
           "Pontal"
          ],
          [
           "Pontal"
          ],
          [
           "Nossa Senhora da Vitória"
          ],
          [
           "São Francisco"
          ],
          [
           "Pontal"
          ],
          [
           "São Francisco"
          ],
          [
           "São Francisco"
          ],
          [
           "Jardim Atlântico"
          ],
          [
           "Nossa Senhora da Vitória"
          ],
          [
           "São Francisco"
          ],
          [
           "São Francisco"
          ],
          [
           "São Francisco"
          ],
          [
           "Nossa Senhora da Vitória"
          ],
          [
           "Nossa Senhora da Vitória"
          ],
          [
           "Jardim Atlântico"
          ],
          [
           "São Francisco"
          ],
          [
           "Pontal"
          ],
          [
           "Nossa Senhora da Vitória"
          ],
          [
           "Nossa Senhora da Vitória"
          ],
          [
           "São Francisco"
          ],
          [
           "Nossa Senhora da Vitória"
          ],
          [
           "Nossa Senhora da Vitória"
          ],
          [
           "Nossa Senhora da Vitória"
          ],
          [
           "Nossa Senhora da Vitória"
          ],
          [
           "São Francisco"
          ],
          [
           "São Francisco"
          ],
          [
           "Jardim Atlântico"
          ],
          [
           "São Francisco"
          ],
          [
           "São Francisco"
          ],
          [
           "Pontal"
          ],
          [
           "Pontal"
          ],
          [
           "São Francisco"
          ],
          [
           "Nossa Senhora da Vitória"
          ],
          [
           "São Francisco"
          ],
          [
           "Pontal"
          ],
          [
           "Nossa Senhora da Vitória"
          ],
          [
           "Nossa Senhora da Vitória"
          ],
          [
           "Nossa Senhora da Vitória"
          ],
          [
           "São Francisco"
          ],
          [
           "São Francisco"
          ],
          [
           "São Francisco"
          ],
          [
           "Nossa Senhora da Vitória"
          ],
          [
           "Nossa Senhora da Vitória"
          ],
          [
           "São Francisco"
          ],
          [
           "Pontal"
          ],
          [
           "Pontal"
          ],
          [
           "Pontal"
          ],
          [
           "São Francisco"
          ],
          [
           "Pontal"
          ],
          [
           "São Francisco"
          ],
          [
           "Ilhéus II"
          ],
          [
           "São Francisco"
          ],
          [
           "São Francisco"
          ],
          [
           "Nossa Senhora da Vitória"
          ],
          [
           "Jardim Atlântico"
          ],
          [
           "São Francisco"
          ],
          [
           "São Francisco"
          ],
          [
           "Pontal"
          ],
          [
           "São Francisco"
          ],
          [
           "Nossa Senhora da Vitória"
          ],
          [
           "São Francisco"
          ],
          [
           "Hernani Sá"
          ],
          [
           "São Francisco"
          ],
          [
           "Nossa Senhora da Vitória"
          ],
          [
           "Nossa Senhora da Vitória"
          ],
          [
           "Nelson Costa"
          ],
          [
           "São Francisco"
          ],
          [
           "São Francisco"
          ],
          [
           "Pontal"
          ],
          [
           "Nossa Senhora da Vitória"
          ],
          [
           "São Francisco"
          ],
          [
           "Pontal"
          ],
          [
           "Nossa Senhora da Vitória"
          ],
          [
           "Nossa Senhora da Vitória"
          ],
          [
           "São Francisco"
          ],
          [
           "São Francisco"
          ],
          [
           "Nossa Senhora da Vitória"
          ],
          [
           "São Francisco"
          ],
          [
           "São Francisco"
          ],
          [
           "Pontal"
          ],
          [
           "São Francisco"
          ],
          [
           "Nossa Senhora da Vitória"
          ],
          [
           "São Francisco"
          ],
          [
           "Jardim Atlântico"
          ],
          [
           "Nossa Senhora da Vitória"
          ],
          [
           "Nossa Senhora da Vitória"
          ],
          [
           "Pontal"
          ],
          [
           "Nossa Senhora da Vitória"
          ],
          [
           "Nossa Senhora da Vitória"
          ],
          [
           "São Francisco"
          ],
          [
           "São Francisco"
          ],
          [
           "São Francisco"
          ],
          [
           "Pontal"
          ],
          [
           "Pontal"
          ],
          [
           "Nelson Costa"
          ],
          [
           "Nossa Senhora da Vitória"
          ],
          [
           "São Francisco"
          ],
          [
           "São Francisco"
          ],
          [
           "Nossa Senhora da Vitória"
          ],
          [
           "Pontal"
          ],
          [
           "Pontal"
          ],
          [
           "Jardim Atlântico"
          ],
          [
           "São Francisco"
          ],
          [
           "Nossa Senhora da Vitória"
          ],
          [
           "Pontal"
          ],
          [
           "Nossa Senhora da Vitória"
          ],
          [
           "Nossa Senhora da Vitória"
          ],
          [
           "Nossa Senhora da Vitória"
          ],
          [
           "Jardim Atlântico"
          ],
          [
           "Jardim Atlântico"
          ],
          [
           "São Francisco"
          ],
          [
           "Pontal"
          ],
          [
           "Pontal"
          ],
          [
           "Jardim Atlântico"
          ],
          [
           "Pontal"
          ],
          [
           "São Francisco"
          ],
          [
           "Nossa Senhora da Vitória"
          ],
          [
           "Nossa Senhora da Vitória"
          ],
          [
           "São Francisco"
          ],
          [
           "Pontal"
          ],
          [
           "São Francisco"
          ],
          [
           "Pontal"
          ],
          [
           "Nossa Senhora da Vitória"
          ],
          [
           "Jardim Atlântico"
          ],
          [
           "Nossa Senhora da Vitória"
          ],
          [
           "Pontal"
          ],
          [
           "Nossa Senhora da Vitória"
          ],
          [
           "Nossa Senhora da Vitória"
          ],
          [
           "Nossa Senhora da Vitória"
          ],
          [
           "São Francisco"
          ],
          [
           "Jardim Atlântico"
          ],
          [
           "São Francisco"
          ],
          [
           "Jardim Atlântico"
          ],
          [
           "São Francisco"
          ],
          [
           "São Francisco"
          ],
          [
           "Pontal"
          ],
          [
           "Pontal"
          ],
          [
           "Pontal"
          ],
          [
           "Nossa Senhora da Vitória"
          ],
          [
           "Nossa Senhora da Vitória"
          ],
          [
           "Nossa Senhora da Vitória"
          ],
          [
           "São Francisco"
          ],
          [
           "São Francisco"
          ],
          [
           "São Francisco"
          ],
          [
           "Pontal"
          ],
          [
           "São Francisco"
          ],
          [
           "Pontal"
          ],
          [
           "São Francisco"
          ]
         ],
         "hovertemplate": "<b>%{hovertext}</b><br><br>latitude_origin=%{lat}<br>longitude_origin=%{lon}<br>bairro=%{customdata[0]}<extra></extra>",
         "hovertext": [
          "Pontal",
          "Nossa Senhora da Vitória",
          "Pontal",
          "São Francisco",
          "Nossa Senhora da Vitória",
          "Nossa Senhora da Vitória",
          "Pontal",
          "São Francisco",
          "Nossa Senhora da Vitória",
          "Pontal",
          "São Francisco",
          "Nossa Senhora da Vitória",
          "São Francisco",
          "Pontal",
          "São Francisco",
          "Pontal",
          "Pontal",
          "São Francisco",
          "São Francisco",
          "Nossa Senhora da Vitória",
          "São Francisco",
          "São Francisco",
          "São Francisco",
          "Nossa Senhora da Vitória",
          "São Francisco",
          "Nossa Senhora da Vitória",
          "São Francisco",
          "São Francisco",
          "Pontal",
          "São Francisco",
          "Jardim Atlântico",
          "Jardim Atlântico",
          "Nossa Senhora da Vitória",
          "São Francisco",
          "Pontal",
          "São Francisco",
          "Pontal",
          "Pontal",
          "São Francisco",
          "Nossa Senhora da Vitória",
          "São Francisco",
          "São Francisco",
          "Nossa Senhora da Vitória",
          "Pontal",
          "Nossa Senhora da Vitória",
          "Nossa Senhora da Vitória",
          "Nossa Senhora da Vitória",
          "Jardim Atlântico",
          "Nossa Senhora da Vitória",
          "Pontal",
          "Pontal",
          "São Francisco",
          "Nossa Senhora da Vitória",
          "Pontal",
          "São Francisco",
          "Nossa Senhora da Vitória",
          "Nossa Senhora da Vitória",
          "Nossa Senhora da Vitória",
          "Nossa Senhora da Vitória",
          "Pontal",
          "Nossa Senhora da Vitória",
          "Nossa Senhora da Vitória",
          "Ilhéus II",
          "Ilhéus II",
          "São Francisco",
          "Pontal",
          "São Francisco",
          "Nossa Senhora da Vitória",
          "Nossa Senhora da Vitória",
          "Nossa Senhora da Vitória",
          "Nossa Senhora da Vitória",
          "Nossa Senhora da Vitória",
          "Jardim Atlântico",
          "Nossa Senhora da Vitória",
          "São Francisco",
          "São Francisco",
          "Nossa Senhora da Vitória",
          "Nossa Senhora da Vitória",
          "São Francisco",
          "Nossa Senhora da Vitória",
          "Nossa Senhora da Vitória",
          "São Francisco",
          "São Francisco",
          "Nossa Senhora da Vitória",
          "Nossa Senhora da Vitória",
          "Jardim Atlântico",
          "Jardim Atlântico",
          "Pontal",
          "Nossa Senhora da Vitória",
          "Nossa Senhora da Vitória",
          "Jardim Atlântico",
          "Pontal",
          "Pontal",
          "São Francisco",
          "São Francisco",
          "São Francisco",
          "Nossa Senhora da Vitória",
          "Nossa Senhora da Vitória",
          "Nossa Senhora da Vitória",
          "Nossa Senhora da Vitória",
          "Jardim Atlântico",
          "São Francisco",
          "Jardim Atlântico",
          "Nossa Senhora da Vitória",
          "Jardim Atlântico",
          "Jardim Atlântico",
          "Jardim Atlântico",
          "Nossa Senhora da Vitória",
          "Jardim Atlântico",
          "Jardim Atlântico",
          "Jardim Atlântico",
          "Nossa Senhora da Vitória",
          "Jardim Atlântico",
          "Nossa Senhora da Vitória",
          "Jardim Atlântico",
          "Jardim Atlântico",
          "Pontal",
          "Nossa Senhora da Vitória",
          "São Francisco",
          "Pontal",
          "São Francisco",
          "São Francisco",
          "Pontal",
          "São Francisco",
          "São Francisco",
          "Nossa Senhora da Vitória",
          "Nossa Senhora da Vitória",
          "Nossa Senhora da Vitória",
          "São Francisco",
          "Ilhéus II",
          "Pontal",
          "Pontal",
          "Nossa Senhora da Vitória",
          "Nossa Senhora da Vitória",
          "Pontal",
          "São Francisco",
          "Nossa Senhora da Vitória",
          "São Francisco",
          "Nossa Senhora da Vitória",
          "Nossa Senhora da Vitória",
          "São Francisco",
          "Nossa Senhora da Vitória",
          "São Francisco",
          "São Francisco",
          "Pontal",
          "Ilhéus II",
          "São Francisco",
          "Nossa Senhora da Vitória",
          "São Francisco",
          "Pontal",
          "Pontal",
          "Nossa Senhora da Vitória",
          "Nossa Senhora da Vitória",
          "São Francisco",
          "Jardim Atlântico",
          "São Francisco",
          "Jardim Atlântico",
          "Jardim Atlântico",
          "Jardim Atlântico",
          "Nossa Senhora da Vitória",
          "Nossa Senhora da Vitória",
          "Pontal",
          "Pontal",
          "Jardim Atlântico",
          "Nossa Senhora da Vitória",
          "Nossa Senhora da Vitória",
          "Nossa Senhora da Vitória",
          "Jardim Atlântico",
          "Nossa Senhora da Vitória",
          "Jardim Atlântico",
          "Nossa Senhora da Vitória",
          "Pontal",
          "Pontal",
          "Nossa Senhora da Vitória",
          "Nossa Senhora da Vitória",
          "Pontal",
          "Nossa Senhora da Vitória",
          "Pontal",
          "Nossa Senhora da Vitória",
          "São Francisco",
          "Pontal",
          "Nossa Senhora da Vitória",
          "São Francisco",
          "São Francisco",
          "Nossa Senhora da Vitória",
          "Jardim Atlântico",
          "Pontal",
          "Jardim Atlântico",
          "Pontal",
          "Jardim Atlântico",
          "São Francisco",
          "São Francisco",
          "Nossa Senhora da Vitória",
          "São Francisco",
          "Nossa Senhora da Vitória",
          "São Francisco",
          "São Francisco",
          "São Francisco",
          "São Francisco",
          "São Francisco",
          "São Francisco",
          "São Francisco",
          "Nossa Senhora da Vitória",
          "São Francisco",
          "São Francisco",
          "Pontal",
          "Nossa Senhora da Vitória",
          "Jardim Atlântico",
          "Nossa Senhora da Vitória",
          "Nossa Senhora da Vitória",
          "São Francisco",
          "Ilhéus II",
          "Ilhéus II",
          "Nossa Senhora da Vitória",
          "São Francisco",
          "São Francisco",
          "Nossa Senhora da Vitória",
          "Pontal",
          "São Francisco",
          "Jardim Atlântico",
          "São Francisco",
          "São Francisco",
          "São Francisco",
          "Nossa Senhora da Vitória",
          "Nossa Senhora da Vitória",
          "Pontal",
          "Nossa Senhora da Vitória",
          "São Francisco",
          "Nossa Senhora da Vitória",
          "Nossa Senhora da Vitória",
          "Pontal",
          "Nossa Senhora da Vitória",
          "Nossa Senhora da Vitória",
          "São Francisco",
          "Nossa Senhora da Vitória",
          "Nossa Senhora da Vitória",
          "Jardim Atlântico",
          "São Francisco",
          "Nossa Senhora da Vitória",
          "Jardim Atlântico",
          "Jardim Atlântico",
          "São Francisco",
          "Nossa Senhora da Vitória",
          "São Francisco",
          "Pontal",
          "São Francisco",
          "Nossa Senhora da Vitória",
          "São Francisco",
          "Nossa Senhora da Vitória",
          "Pontal",
          "Pontal",
          "São Francisco",
          "Pontal",
          "São Francisco",
          "Nossa Senhora da Vitória",
          "São Francisco",
          "Pontal",
          "São Francisco",
          "Pontal",
          "Nossa Senhora da Vitória",
          "São Francisco",
          "São Francisco",
          "Pontal",
          "Nossa Senhora da Vitória",
          "Nossa Senhora da Vitória",
          "Nossa Senhora da Vitória",
          "Nossa Senhora da Vitória",
          "Nossa Senhora da Vitória",
          "São Francisco",
          "São Francisco",
          "Jardim Atlântico",
          "São Francisco",
          "Nossa Senhora da Vitória",
          "Pontal",
          "São Francisco",
          "Pontal",
          "Nossa Senhora da Vitória",
          "São Francisco",
          "Nossa Senhora da Vitória",
          "São Francisco",
          "Pontal",
          "Nossa Senhora da Vitória",
          "São Francisco",
          "Nossa Senhora da Vitória",
          "São Francisco",
          "Nossa Senhora da Vitória",
          "São Francisco",
          "São Francisco",
          "São Francisco",
          "São Francisco",
          "Nossa Senhora da Vitória",
          "Nossa Senhora da Vitória",
          "Nossa Senhora da Vitória",
          "São Francisco",
          "São Francisco",
          "Nossa Senhora da Vitória",
          "São Francisco",
          "Pontal",
          "Pontal",
          "Nossa Senhora da Vitória",
          "Pontal",
          "São Francisco",
          "Pontal",
          "São Francisco",
          "São Francisco",
          "Nossa Senhora da Vitória",
          "São Francisco",
          "São Francisco",
          "São Francisco",
          "Nossa Senhora da Vitória",
          "Nossa Senhora da Vitória",
          "Nossa Senhora da Vitória",
          "São Francisco",
          "São Francisco",
          "São Francisco",
          "Pontal",
          "São Francisco",
          "Nossa Senhora da Vitória",
          "São Francisco",
          "São Francisco",
          "São Francisco",
          "Nossa Senhora da Vitória",
          "Jardim Atlântico",
          "Nossa Senhora da Vitória",
          "São Francisco",
          "Nossa Senhora da Vitória",
          "São Francisco",
          "Nossa Senhora da Vitória",
          "Nossa Senhora da Vitória",
          "São Francisco",
          "Jardim Atlântico",
          "Pontal",
          "Nossa Senhora da Vitória",
          "São Francisco",
          "Pontal",
          "São Francisco",
          "São Francisco",
          "Jardim Atlântico",
          "São Francisco",
          "São Francisco",
          "São Francisco",
          "Nossa Senhora da Vitória",
          "Nossa Senhora da Vitória",
          "Jardim Atlântico",
          "São Francisco",
          "Nossa Senhora da Vitória",
          "Nossa Senhora da Vitória",
          "São Francisco",
          "Nossa Senhora da Vitória",
          "Nossa Senhora da Vitória",
          "Jardim Atlântico",
          "Nossa Senhora da Vitória",
          "São Francisco",
          "São Francisco",
          "São Francisco",
          "São Francisco",
          "Pontal",
          "São Francisco",
          "São Francisco",
          "Pontal",
          "Nossa Senhora da Vitória",
          "Nossa Senhora da Vitória",
          "Nossa Senhora da Vitória",
          "Nossa Senhora da Vitória",
          "São Francisco",
          "Pontal",
          "Nossa Senhora da Vitória",
          "São Francisco",
          "Pontal",
          "Pontal",
          "Pontal",
          "São Francisco",
          "Pontal",
          "São Francisco",
          "Jardim Atlântico",
          "Ilhéus II",
          "São Francisco",
          "Jardim Atlântico",
          "Nossa Senhora da Vitória",
          "São Francisco",
          "Pontal",
          "São Francisco",
          "São Francisco",
          "São Francisco",
          "Nossa Senhora da Vitória",
          "São Francisco",
          "São Francisco",
          "São Francisco",
          "Pontal",
          "Nossa Senhora da Vitória",
          "Nossa Senhora da Vitória",
          "São Francisco",
          "São Francisco",
          "São Francisco",
          "Nossa Senhora da Vitória",
          "São Francisco",
          "Pontal",
          "São Francisco",
          "Nossa Senhora da Vitória",
          "São Francisco",
          "Jardim Atlântico",
          "Nossa Senhora da Vitória",
          "Nossa Senhora da Vitória",
          "Pontal",
          "Nossa Senhora da Vitória",
          "Nossa Senhora da Vitória",
          "São Francisco",
          "São Francisco",
          "Pontal",
          "São Francisco",
          "Pontal",
          "Nelson Costa",
          "Nossa Senhora da Vitória",
          "São Francisco",
          "Nossa Senhora da Vitória",
          "Pontal",
          "Pontal",
          "Nossa Senhora da Vitória",
          "Pontal",
          "Nossa Senhora da Vitória",
          "Jardim Atlântico",
          "Nossa Senhora da Vitória",
          "São Francisco",
          "São Francisco",
          "Pontal",
          "Pontal",
          "São Francisco",
          "São Francisco",
          "Nossa Senhora da Vitória",
          "Pontal",
          "São Francisco",
          "Pontal",
          "Nossa Senhora da Vitória",
          "Jardim Atlântico",
          "Nossa Senhora da Vitória",
          "Pontal",
          "Nossa Senhora da Vitória",
          "Nossa Senhora da Vitória",
          "Nossa Senhora da Vitória",
          "São Francisco",
          "Jardim Atlântico",
          "Jardim Atlântico",
          "São Francisco",
          "Nossa Senhora da Vitória",
          "São Francisco",
          "São Francisco",
          "Pontal",
          "Pontal",
          "Nossa Senhora da Vitória",
          "São Francisco",
          "São Francisco",
          "Pontal",
          "São Francisco",
          "Pontal",
          "São Francisco",
          "São Francisco",
          "Pontal",
          "Nossa Senhora da Vitória",
          "Nossa Senhora da Vitória",
          "Nossa Senhora da Vitória",
          "São Francisco",
          "Nossa Senhora da Vitória",
          "Nossa Senhora da Vitória",
          "São Francisco",
          "São Francisco",
          "São Francisco",
          "Nossa Senhora da Vitória",
          "Nossa Senhora da Vitória",
          "Pontal",
          "São Francisco",
          "São Francisco",
          "São Francisco",
          "Nossa Senhora da Vitória",
          "Nossa Senhora da Vitória",
          "Nossa Senhora da Vitória",
          "Nossa Senhora da Vitória",
          "São Francisco",
          "Jardim Atlântico",
          "São Francisco",
          "Jardim Atlântico",
          "Jardim Atlântico",
          "Nossa Senhora da Vitória",
          "Pontal",
          "Nossa Senhora da Vitória",
          "São Francisco",
          "São Francisco",
          "São Francisco",
          "São Francisco",
          "Nossa Senhora da Vitória",
          "Nossa Senhora da Vitória",
          "Nossa Senhora da Vitória",
          "Nossa Senhora da Vitória",
          "Pontal",
          "São Francisco",
          "Nossa Senhora da Vitória",
          "Nossa Senhora da Vitória",
          "Pontal",
          "Nossa Senhora da Vitória",
          "Nossa Senhora da Vitória",
          "São Francisco",
          "São Francisco",
          "Nossa Senhora da Vitória",
          "Nossa Senhora da Vitória",
          "São Francisco",
          "Pontal",
          "Nossa Senhora da Vitória",
          "Nossa Senhora da Vitória",
          "Nossa Senhora da Vitória",
          "Nossa Senhora da Vitória",
          "São Francisco",
          "Pontal",
          "Nossa Senhora da Vitória",
          "Pontal",
          "São Francisco",
          "Nossa Senhora da Vitória",
          "Pontal",
          "São Francisco",
          "Nossa Senhora da Vitória",
          "São Francisco",
          "Pontal",
          "São Francisco",
          "Pontal",
          "Pontal",
          "São Francisco",
          "São Francisco",
          "Nossa Senhora da Vitória",
          "São Francisco",
          "São Francisco",
          "São Francisco",
          "Nossa Senhora da Vitória",
          "São Francisco",
          "Nossa Senhora da Vitória",
          "São Francisco",
          "São Francisco",
          "Jardim Atlântico",
          "Nossa Senhora da Vitória",
          "São Francisco",
          "Pontal",
          "São Francisco",
          "Pontal",
          "Pontal",
          "São Francisco",
          "Nossa Senhora da Vitória",
          "São Francisco",
          "São Francisco",
          "Pontal",
          "Jardim Atlântico",
          "Nossa Senhora da Vitória",
          "Pontal",
          "Pontal",
          "São Francisco",
          "Nossa Senhora da Vitória",
          "Nossa Senhora da Vitória",
          "São Francisco",
          "Nossa Senhora da Vitória",
          "Nossa Senhora da Vitória",
          "Jardim Atlântico",
          "Nossa Senhora da Vitória",
          "Nossa Senhora da Vitória",
          "Ilhéus II",
          "Ilhéus II",
          "São Francisco",
          "Pontal",
          "São Francisco",
          "Nossa Senhora da Vitória",
          "Nossa Senhora da Vitória",
          "Nossa Senhora da Vitória",
          "Nossa Senhora da Vitória",
          "Nossa Senhora da Vitória",
          "Nossa Senhora da Vitória",
          "Jardim Atlântico",
          "Pontal",
          "Nossa Senhora da Vitória",
          "Nossa Senhora da Vitória",
          "São Francisco",
          "Pontal",
          "Nossa Senhora da Vitória",
          "Nossa Senhora da Vitória",
          "São Francisco",
          "São Francisco",
          "Nossa Senhora da Vitória",
          "Jardim Atlântico",
          "Jardim Atlântico",
          "Pontal",
          "Nossa Senhora da Vitória",
          "Jardim Atlântico",
          "Pontal",
          "São Francisco",
          "São Francisco",
          "Pontal",
          "Nossa Senhora da Vitória",
          "São Francisco",
          "Jardim Atlântico",
          "Jardim Atlântico",
          "Jardim Atlântico",
          "Jardim Atlântico",
          "Jardim Atlântico",
          "Jardim Atlântico",
          "Jardim Atlântico",
          "Pontal",
          "Nossa Senhora da Vitória",
          "São Francisco",
          "Pontal",
          "São Francisco",
          "Nossa Senhora da Vitória",
          "Nossa Senhora da Vitória",
          "Nossa Senhora da Vitória",
          "São Francisco",
          "Pontal",
          "Nossa Senhora da Vitória",
          "Nossa Senhora da Vitória",
          "Pontal",
          "São Francisco",
          "Nossa Senhora da Vitória",
          "São Francisco",
          "São Francisco",
          "Pontal",
          "Ilhéus II",
          "São Francisco",
          "Nossa Senhora da Vitória",
          "São Francisco",
          "Pontal",
          "Nossa Senhora da Vitória",
          "Nossa Senhora da Vitória",
          "São Francisco",
          "Jardim Atlântico",
          "Nossa Senhora da Vitória",
          "Nossa Senhora da Vitória",
          "Nossa Senhora da Vitória",
          "Pontal",
          "Pontal",
          "Jardim Atlântico",
          "Nossa Senhora da Vitória",
          "Nossa Senhora da Vitória",
          "São Francisco",
          "Nossa Senhora da Vitória",
          "Jardim Atlântico",
          "Nossa Senhora da Vitória",
          "Nossa Senhora da Vitória",
          "Pontal",
          "Nossa Senhora da Vitória",
          "Nossa Senhora da Vitória",
          "Pontal",
          "Nossa Senhora da Vitória",
          "Pontal",
          "Pontal",
          "Nossa Senhora da Vitória",
          "São Francisco",
          "São Francisco",
          "Jardim Atlântico",
          "São Francisco",
          "Nossa Senhora da Vitória",
          "Nossa Senhora da Vitória",
          "São Francisco",
          "São Francisco",
          "São Francisco",
          "São Francisco",
          "São Francisco",
          "Nossa Senhora da Vitória",
          "São Francisco",
          "Pontal",
          "Nossa Senhora da Vitória",
          "Jardim Atlântico",
          "Nossa Senhora da Vitória",
          "Nossa Senhora da Vitória",
          "São Francisco",
          "Ilhéus II",
          "Ilhéus II",
          "Pontal",
          "Nossa Senhora da Vitória",
          "Pontal",
          "São Francisco",
          "São Francisco",
          "São Francisco",
          "Pontal",
          "São Francisco",
          "Nossa Senhora da Vitória",
          "Jardim Atlântico",
          "Nossa Senhora da Vitória",
          "Pontal",
          "Nossa Senhora da Vitória",
          "São Francisco",
          "São Francisco",
          "Pontal",
          "Nossa Senhora da Vitória",
          "Nossa Senhora da Vitória",
          "Nossa Senhora da Vitória",
          "Jardim Atlântico",
          "São Francisco",
          "Nossa Senhora da Vitória",
          "Jardim Atlântico",
          "Jardim Atlântico",
          "São Francisco",
          "Pontal",
          "São Francisco",
          "Nossa Senhora da Vitória",
          "São Francisco",
          "Nossa Senhora da Vitória",
          "Pontal",
          "Pontal",
          "São Francisco",
          "Pontal",
          "Nossa Senhora da Vitória",
          "São Francisco",
          "Nossa Senhora da Vitória",
          "São Francisco",
          "Pontal",
          "Nossa Senhora da Vitória",
          "Nossa Senhora da Vitória",
          "São Francisco",
          "São Francisco",
          "Pontal",
          "Nossa Senhora da Vitória",
          "Nossa Senhora da Vitória",
          "Jardim Atlântico",
          "São Francisco",
          "Nossa Senhora da Vitória",
          "São Francisco",
          "São Francisco",
          "Jardim Atlântico",
          "São Francisco",
          "Nossa Senhora da Vitória",
          "Nossa Senhora da Vitória",
          "Nossa Senhora da Vitória",
          "Nossa Senhora da Vitória",
          "Nossa Senhora da Vitória",
          "Nossa Senhora da Vitória",
          "Nossa Senhora da Vitória",
          "Nossa Senhora da Vitória",
          "Nossa Senhora da Vitória",
          "Nossa Senhora da Vitória",
          "Nossa Senhora da Vitória",
          "Nossa Senhora da Vitória",
          "Nossa Senhora da Vitória",
          "São Francisco",
          "Jardim Atlântico",
          "Nossa Senhora da Vitória",
          "São Francisco",
          "Pontal",
          "Nossa Senhora da Vitória",
          "São Francisco",
          "Nossa Senhora da Vitória",
          "São Francisco",
          "São Francisco",
          "São Francisco",
          "São Francisco",
          "São Francisco",
          "Nossa Senhora da Vitória",
          "Nossa Senhora da Vitória",
          "Nossa Senhora da Vitória",
          "São Francisco",
          "São Francisco",
          "Nossa Senhora da Vitória",
          "São Francisco",
          "Pontal",
          "Pontal",
          "Pontal",
          "Nossa Senhora da Vitória",
          "Pontal",
          "São Francisco",
          "São Francisco",
          "Nossa Senhora da Vitória",
          "Nossa Senhora da Vitória",
          "São Francisco",
          "Nossa Senhora da Vitória",
          "Nossa Senhora da Vitória",
          "Nossa Senhora da Vitória",
          "Nossa Senhora da Vitória",
          "São Francisco",
          "Pontal",
          "São Francisco",
          "Nossa Senhora da Vitória",
          "São Francisco",
          "São Francisco",
          "São Francisco",
          "Nossa Senhora da Vitória",
          "São Francisco",
          "Pontal",
          "Nossa Senhora da Vitória",
          "São Francisco",
          "Nossa Senhora da Vitória",
          "São Francisco",
          "Jardim Atlântico",
          "Pontal",
          "Pontal",
          "Nossa Senhora da Vitória",
          "São Francisco",
          "Pontal",
          "São Francisco",
          "São Francisco",
          "Jardim Atlântico",
          "Nossa Senhora da Vitória",
          "São Francisco",
          "São Francisco",
          "São Francisco",
          "Nossa Senhora da Vitória",
          "Nossa Senhora da Vitória",
          "Jardim Atlântico",
          "São Francisco",
          "Pontal",
          "Nossa Senhora da Vitória",
          "Nossa Senhora da Vitória",
          "São Francisco",
          "Nossa Senhora da Vitória",
          "Nossa Senhora da Vitória",
          "Nossa Senhora da Vitória",
          "Nossa Senhora da Vitória",
          "São Francisco",
          "São Francisco",
          "Jardim Atlântico",
          "São Francisco",
          "São Francisco",
          "Pontal",
          "Pontal",
          "São Francisco",
          "Nossa Senhora da Vitória",
          "São Francisco",
          "Pontal",
          "Nossa Senhora da Vitória",
          "Nossa Senhora da Vitória",
          "Nossa Senhora da Vitória",
          "São Francisco",
          "São Francisco",
          "São Francisco",
          "Nossa Senhora da Vitória",
          "Nossa Senhora da Vitória",
          "São Francisco",
          "Pontal",
          "Pontal",
          "Pontal",
          "São Francisco",
          "Pontal",
          "São Francisco",
          "Ilhéus II",
          "São Francisco",
          "São Francisco",
          "Nossa Senhora da Vitória",
          "Jardim Atlântico",
          "São Francisco",
          "São Francisco",
          "Pontal",
          "São Francisco",
          "Nossa Senhora da Vitória",
          "São Francisco",
          "Hernani Sá",
          "São Francisco",
          "Nossa Senhora da Vitória",
          "Nossa Senhora da Vitória",
          "Nelson Costa",
          "São Francisco",
          "São Francisco",
          "Pontal",
          "Nossa Senhora da Vitória",
          "São Francisco",
          "Pontal",
          "Nossa Senhora da Vitória",
          "Nossa Senhora da Vitória",
          "São Francisco",
          "São Francisco",
          "Nossa Senhora da Vitória",
          "São Francisco",
          "São Francisco",
          "Pontal",
          "São Francisco",
          "Nossa Senhora da Vitória",
          "São Francisco",
          "Jardim Atlântico",
          "Nossa Senhora da Vitória",
          "Nossa Senhora da Vitória",
          "Pontal",
          "Nossa Senhora da Vitória",
          "Nossa Senhora da Vitória",
          "São Francisco",
          "São Francisco",
          "São Francisco",
          "Pontal",
          "Pontal",
          "Nelson Costa",
          "Nossa Senhora da Vitória",
          "São Francisco",
          "São Francisco",
          "Nossa Senhora da Vitória",
          "Pontal",
          "Pontal",
          "Jardim Atlântico",
          "São Francisco",
          "Nossa Senhora da Vitória",
          "Pontal",
          "Nossa Senhora da Vitória",
          "Nossa Senhora da Vitória",
          "Nossa Senhora da Vitória",
          "Jardim Atlântico",
          "Jardim Atlântico",
          "São Francisco",
          "Pontal",
          "Pontal",
          "Jardim Atlântico",
          "Pontal",
          "São Francisco",
          "Nossa Senhora da Vitória",
          "Nossa Senhora da Vitória",
          "São Francisco",
          "Pontal",
          "São Francisco",
          "Pontal",
          "Nossa Senhora da Vitória",
          "Jardim Atlântico",
          "Nossa Senhora da Vitória",
          "Pontal",
          "Nossa Senhora da Vitória",
          "Nossa Senhora da Vitória",
          "Nossa Senhora da Vitória",
          "São Francisco",
          "Jardim Atlântico",
          "São Francisco",
          "Jardim Atlântico",
          "São Francisco",
          "São Francisco",
          "Pontal",
          "Pontal",
          "Pontal",
          "Nossa Senhora da Vitória",
          "Nossa Senhora da Vitória",
          "Nossa Senhora da Vitória",
          "São Francisco",
          "São Francisco",
          "São Francisco",
          "Pontal",
          "São Francisco",
          "Pontal",
          "São Francisco"
         ],
         "lat": [
          -14.805925,
          -14.9117154,
          -14.8091274,
          -14.8403975,
          -14.8403975,
          -14.8403975,
          -14.805925,
          -14.8403975,
          -14.8454834,
          -14.805925,
          -14.8403975,
          -14.8432332,
          -14.8403975,
          -14.805925,
          -14.8403975,
          -14.8076907,
          -14.805925,
          -14.8403975,
          -14.8348482,
          -14.8451891,
          -14.8403975,
          -14.8403975,
          -14.83761,
          -14.8454834,
          -14.8313622,
          -14.8432332,
          -14.8348482,
          -14.8403975,
          -14.805925,
          -14.8403975,
          -14.8403975,
          -14.8403975,
          -14.8364846,
          -14.8403975,
          -14.805925,
          -14.8403975,
          -14.805925,
          -14.805925,
          -14.8403975,
          -14.8454834,
          -14.8403975,
          -14.8240691,
          -14.8484664,
          -14.8103062,
          -14.8403975,
          -14.8451891,
          -14.8403975,
          -14.8330061,
          -14.8403975,
          -14.8117429,
          -14.805925,
          -14.8348482,
          -14.8403975,
          -14.805925,
          -14.8448122,
          -14.8438677,
          -14.8454834,
          -14.8403975,
          -14.8403975,
          -14.8117429,
          -14.8397473,
          -14.8454834,
          -14.8357713,
          -14.8357713,
          -14.8364846,
          -14.805925,
          -14.8403975,
          -14.8403975,
          -14.8454834,
          -14.8454834,
          -14.8451694,
          -14.8403975,
          -14.8403975,
          -14.8484664,
          -14.8403975,
          -14.8403975,
          -14.8461131,
          -14.8454834,
          -14.83761,
          -14.8454834,
          -14.8454834,
          -14.8403975,
          -14.8403975,
          -14.8444041,
          -14.841768,
          -14.8403975,
          -14.8403975,
          -14.805925,
          -14.8451891,
          -14.8444041,
          -14.8322621,
          -14.805925,
          -14.8117429,
          -14.8403975,
          -14.8348482,
          -14.8403975,
          -14.8432332,
          -14.8444041,
          -14.8364846,
          -14.8364846,
          -14.8403975,
          -14.8364846,
          -14.8403975,
          -14.8451891,
          -14.8403975,
          -14.8403975,
          -14.8403975,
          -14.8403975,
          -14.8403975,
          -14.8403975,
          -14.8403975,
          -14.8403975,
          -14.8403975,
          -14.8444041,
          -14.8403975,
          -14.8403975,
          -14.805925,
          -14.8454834,
          -14.8266225,
          -14.805925,
          -14.8403975,
          -14.8341963,
          -14.805925,
          -14.8207138,
          -14.8341614,
          -14.8403975,
          -14.8403975,
          -14.8403975,
          -14.8403975,
          -14.8357713,
          -14.805925,
          -14.8117429,
          -14.8444041,
          -14.8454834,
          -14.8117429,
          -14.8403975,
          -14.8451694,
          -14.8205436,
          -14.8403975,
          -14.8432332,
          -14.8403975,
          -14.8444041,
          -14.8240691,
          -14.8240691,
          -14.8117429,
          -14.8357713,
          -14.8364846,
          -14.8444041,
          -14.8255024,
          -14.805925,
          -14.805925,
          -14.8432332,
          -14.8454834,
          -14.8403975,
          -14.8403975,
          -14.83761,
          -14.8403975,
          -14.830778,
          -14.830778,
          -14.8364846,
          -14.8432332,
          -14.805925,
          -14.8091274,
          -14.8403975,
          -14.8461131,
          -14.8454834,
          -14.8403975,
          -14.8403975,
          -14.8444041,
          -14.8403975,
          -14.8454834,
          -14.8125454,
          -14.8125454,
          -14.8403975,
          -14.8403975,
          -14.805925,
          -14.8403975,
          -14.805925,
          -14.8444041,
          -14.8403975,
          -14.8117429,
          -14.8444041,
          -14.8348482,
          -14.8348482,
          -14.8451891,
          -14.8403975,
          -14.8117429,
          -14.8403975,
          -14.8117429,
          -14.8322621,
          -14.8180666,
          -14.8313622,
          -14.8403975,
          -14.8403975,
          -14.8454834,
          -14.8369144,
          -14.8180666,
          -14.8403975,
          -14.8403975,
          -14.8403975,
          -14.8364846,
          -14.8403975,
          -14.8454834,
          -14.8403975,
          -14.8341614,
          -14.805925,
          -14.8403975,
          -14.8316042,
          -14.8454834,
          -14.8454834,
          -14.8403975,
          -14.83755,
          -14.8357713,
          -14.8403975,
          -14.8403975,
          -14.8403975,
          -14.8425475,
          -14.8117429,
          -14.8403975,
          -14.8322621,
          -14.8403975,
          -14.8403975,
          -14.8341614,
          -14.8454834,
          -14.8454834,
          -14.805925,
          -14.8403975,
          -14.8255024,
          -14.8451891,
          -14.8451891,
          -14.805925,
          -14.8432332,
          -14.8461131,
          -14.8255024,
          -14.8461131,
          -14.8444041,
          -14.8403975,
          -14.8240691,
          -14.8403975,
          -14.8330061,
          -14.8330061,
          -14.8403975,
          -14.8461131,
          -14.8205436,
          -14.805925,
          -14.8364846,
          -14.8364846,
          -14.8403975,
          -14.8403975,
          -14.805925,
          -14.8091274,
          -14.8313622,
          -14.8117429,
          -14.8403975,
          -14.8168568,
          -14.8403975,
          -14.805925,
          -14.8403975,
          -14.805925,
          -14.8444041,
          -14.8403975,
          -14.8207138,
          -14.805925,
          -14.8403975,
          -14.8444041,
          -14.8461131,
          -14.8403975,
          -14.8417744,
          -14.8403975,
          -14.8313622,
          -14.8322621,
          -14.8403975,
          -14.8454834,
          -14.81056,
          -14.8329816,
          -14.805925,
          -14.8394981,
          -14.8403975,
          -14.8403975,
          -14.8403975,
          -14.8141628,
          -14.8403975,
          -14.8341614,
          -14.8417744,
          -14.8403975,
          -14.8444041,
          -14.8403975,
          -14.8403975,
          -14.8403975,
          -14.8403975,
          -14.8452087,
          -14.8444041,
          -14.8451891,
          -14.8403975,
          -14.8403975,
          -14.8403975,
          -14.8240691,
          -14.805925,
          -14.8117429,
          -14.8403975,
          -14.81174,
          -14.8341614,
          -14.805925,
          -14.8403975,
          -14.8403975,
          -14.8403975,
          -14.8403975,
          -14.8403975,
          -14.8403975,
          -14.8403975,
          -14.8403975,
          -14.8435341,
          -14.8403975,
          -14.8313622,
          -14.8329816,
          -14.805925,
          -14.8403975,
          -14.8454834,
          -14.8403975,
          -14.8207138,
          -14.8403975,
          -14.8416566,
          -14.8403975,
          -14.8403975,
          -14.8403975,
          -14.8385183,
          -14.8403975,
          -14.8403975,
          -14.8432332,
          -14.8403975,
          -14.8403975,
          -14.8117429,
          -14.8451891,
          -14.8403975,
          -14.805925,
          -14.8403975,
          -14.8403975,
          -14.8403975,
          -14.8207138,
          -14.8348482,
          -14.8255024,
          -14.8403975,
          -14.8444041,
          -14.8403975,
          -14.8403975,
          -14.8403975,
          -14.8444041,
          -14.8403975,
          -14.8444041,
          -14.8444041,
          -14.8403975,
          -14.8461131,
          -14.8403975,
          -14.8403975,
          -14.8403975,
          -14.8403975,
          -14.8076907,
          -14.8403975,
          -14.8403975,
          -14.805925,
          -14.8461131,
          -14.8403975,
          -14.8454834,
          -14.8412186,
          -14.8403975,
          -14.81458,
          -14.8432332,
          -14.8225253,
          -14.805925,
          -14.81056,
          -14.8091274,
          -14.8403975,
          -14.805925,
          -14.8403975,
          -14.8322621,
          -14.8357713,
          -14.8403975,
          -14.8403975,
          -14.8403975,
          -14.8403975,
          -14.805925,
          -14.8329816,
          -14.8403975,
          -14.8403975,
          -14.8403975,
          -14.8403975,
          -14.8341614,
          -14.8403975,
          -14.8117429,
          -14.8403975,
          -14.8403975,
          -14.8403975,
          -14.8403975,
          -14.8341614,
          -14.8403975,
          -14.8403975,
          -14.805925,
          -14.8403975,
          -14.8168568,
          -14.8313622,
          -14.8403975,
          -14.8438677,
          -14.8168568,
          -14.805925,
          -14.8451891,
          -14.8444041,
          -14.8341614,
          -14.8403975,
          -14.805925,
          -14.8403975,
          -14.8091274,
          -14.827516,
          -14.8438677,
          -14.8329816,
          -14.8403975,
          -14.805925,
          -14.805925,
          -14.8420558,
          -14.8117429,
          -14.8403975,
          -14.8403975,
          -14.841768,
          -14.8207138,
          -14.8341614,
          -14.8117429,
          -14.805925,
          -14.8403975,
          -14.8403975,
          -14.8454834,
          -14.8076907,
          -14.8403975,
          -14.805925,
          -14.8403975,
          -14.8403975,
          -14.8418334,
          -14.8117429,
          -14.8403975,
          -14.8364846,
          -14.8461131,
          -14.8403975,
          -14.8322621,
          -14.8403975,
          -14.8206756,
          -14.83906,
          -14.8403975,
          -14.8403975,
          -14.8073087,
          -14.8098178,
          -14.8403975,
          -14.8403975,
          -14.8207138,
          -14.8117429,
          -14.8341614,
          -14.8130655,
          -14.8348482,
          -14.8403975,
          -14.8091274,
          -14.8451694,
          -14.8420558,
          -14.8432332,
          -14.83761,
          -14.8432332,
          -14.8432332,
          -14.8255024,
          -14.83761,
          -14.8207138,
          -14.8168568,
          -14.8451694,
          -14.805925,
          -14.8348482,
          -14.8205436,
          -14.8403975,
          -14.8444041,
          -14.8444041,
          -14.8403975,
          -14.8403975,
          -14.8403975,
          -14.8403975,
          -14.8403975,
          -14.8403975,
          -14.8403975,
          -14.8454834,
          -14.8117429,
          -14.8403975,
          -14.8403975,
          -14.8403975,
          -14.8403975,
          -14.8403975,
          -14.9117154,
          -14.8461131,
          -14.8417744,
          -14.8444041,
          -14.805925,
          -14.8403975,
          -14.8444041,
          -14.8432332,
          -14.8117429,
          -14.8168568,
          -14.8364846,
          -14.8240691,
          -14.8341614,
          -14.8461131,
          -14.8403975,
          -14.8255024,
          -14.805925,
          -14.8451694,
          -14.9117154,
          -14.8420558,
          -14.8432332,
          -14.83761,
          -14.8091274,
          -14.8403975,
          -14.805925,
          -14.8403975,
          -14.8454834,
          -14.805925,
          -14.8403975,
          -14.8432332,
          -14.8403975,
          -14.805925,
          -14.8403975,
          -14.8076907,
          -14.805925,
          -14.8403975,
          -14.8348482,
          -14.8451891,
          -14.8403975,
          -14.8403975,
          -14.83761,
          -14.8454834,
          -14.8313622,
          -14.8432332,
          -14.8348482,
          -14.8403975,
          -14.8403975,
          -14.8364846,
          -14.8403975,
          -14.805925,
          -14.8403975,
          -14.805925,
          -14.805925,
          -14.8403975,
          -14.8454834,
          -14.8403975,
          -14.8240691,
          -14.8103062,
          -14.8330061,
          -14.8403975,
          -14.8117429,
          -14.805925,
          -14.8448122,
          -14.8438677,
          -14.8454834,
          -14.8255024,
          -14.8403975,
          -14.8403975,
          -14.8308421,
          -14.8397473,
          -14.8454834,
          -14.8357713,
          -14.8357713,
          -14.8364846,
          -14.805925,
          -14.8403975,
          -14.8403975,
          -14.8454834,
          -14.8454834,
          -14.8451694,
          -14.8444041,
          -14.8403975,
          -14.8403975,
          -14.8117429,
          -14.8484664,
          -14.8451891,
          -14.8403975,
          -14.8098178,
          -14.8454834,
          -14.8454834,
          -14.8403975,
          -14.8403975,
          -14.8444041,
          -14.8403975,
          -14.8403975,
          -14.805925,
          -14.8444041,
          -14.8322621,
          -14.8117429,
          -14.8403975,
          -14.8348482,
          -14.805925,
          -14.8432332,
          -14.8364846,
          -14.8403975,
          -14.8403975,
          -14.8403975,
          -14.8403975,
          -14.8403975,
          -14.8403975,
          -14.8403975,
          -14.805925,
          -14.8454834,
          -14.83761,
          -14.805925,
          -14.8341614,
          -14.8403975,
          -14.8403975,
          -14.8403975,
          -14.8403975,
          -14.8117429,
          -14.8444041,
          -14.8454834,
          -14.8117429,
          -14.8205436,
          -14.8403975,
          -14.8348482,
          -14.8240691,
          -14.8117429,
          -14.8357713,
          -14.8364846,
          -14.8444041,
          -14.8255024,
          -14.805925,
          -14.8454834,
          -14.8454834,
          -14.83761,
          -14.8403975,
          -14.8364846,
          -14.8403975,
          -14.8432332,
          -14.805925,
          -14.8091274,
          -14.8403975,
          -14.8432332,
          -14.8454834,
          -14.8403975,
          -14.8403975,
          -14.8403975,
          -14.8444041,
          -14.8454834,
          -14.8125454,
          -14.8403975,
          -14.8403975,
          -14.805925,
          -14.8403975,
          -14.805925,
          -14.805925,
          -14.8438677,
          -14.8348482,
          -14.8348482,
          -14.8322621,
          -14.8313622,
          -14.8403975,
          -14.8454834,
          -14.8369144,
          -14.8180666,
          -14.8403975,
          -14.8403975,
          -14.8403975,
          -14.8454834,
          -14.8341614,
          -14.805925,
          -14.8403975,
          -14.8316042,
          -14.8454834,
          -14.8454834,
          -14.8403975,
          -14.83755,
          -14.8357713,
          -14.8087632,
          -14.8403975,
          -14.8117429,
          -14.8403975,
          -14.8403975,
          -14.8313622,
          -14.8117429,
          -14.8403975,
          -14.8454834,
          -14.8322621,
          -14.8454834,
          -14.805925,
          -14.8403975,
          -14.8240691,
          -14.8255024,
          -14.805925,
          -14.8461131,
          -14.8461131,
          -14.8454834,
          -14.8403975,
          -14.8240691,
          -14.8403975,
          -14.8330061,
          -14.8330061,
          -14.8403975,
          -14.805925,
          -14.8364846,
          -14.8364846,
          -14.8403975,
          -14.8403975,
          -14.805925,
          -14.8091274,
          -14.8313622,
          -14.8117429,
          -14.8403975,
          -14.8403975,
          -14.8168568,
          -14.8403975,
          -14.805925,
          -14.8444041,
          -14.8444041,
          -14.8403975,
          -14.8207138,
          -14.805925,
          -14.8403975,
          -14.8403975,
          -14.8403975,
          -14.8403975,
          -14.8403975,
          -14.8341614,
          -14.8313622,
          -14.8322621,
          -14.8403975,
          -14.8454834,
          -14.8454834,
          -14.8454834,
          -14.8454834,
          -14.8454834,
          -14.8454834,
          -14.8454834,
          -14.8454834,
          -14.8454834,
          -14.8454834,
          -14.8454834,
          -14.8454834,
          -14.8454834,
          -14.8329816,
          -14.8403975,
          -14.8403975,
          -14.8403975,
          -14.8141628,
          -14.8403975,
          -14.8341614,
          -14.8417744,
          -14.8403975,
          -14.8403975,
          -14.8403975,
          -14.8403975,
          -14.8403975,
          -14.8452087,
          -14.8444041,
          -14.8451891,
          -14.8403975,
          -14.8403975,
          -14.8403975,
          -14.8240691,
          -14.805925,
          -14.8117429,
          -14.81174,
          -14.8403975,
          -14.81174,
          -14.8341614,
          -14.8403975,
          -14.8403975,
          -14.8432332,
          -14.8403975,
          -14.8403975,
          -14.8403975,
          -14.8403975,
          -14.8435341,
          -14.8329816,
          -14.805925,
          -14.8403975,
          -14.8454834,
          -14.8403975,
          -14.8207138,
          -14.8403975,
          -14.8403975,
          -14.8403975,
          -14.805925,
          -14.8385183,
          -14.8403975,
          -14.8403975,
          -14.8403975,
          -14.8403975,
          -14.8117429,
          -14.8118839,
          -14.8451891,
          -14.8403975,
          -14.805925,
          -14.8403975,
          -14.8403975,
          -14.8403975,
          -14.8403975,
          -14.8207138,
          -14.8348482,
          -14.8255024,
          -14.8403975,
          -14.8444041,
          -14.8403975,
          -14.8403975,
          -14.8117429,
          -14.8403975,
          -14.8444041,
          -14.8403975,
          -14.8444041,
          -14.8403975,
          -14.8444041,
          -14.8461131,
          -14.8403975,
          -14.8403975,
          -14.8403975,
          -14.8403975,
          -14.8403975,
          -14.84023,
          -14.8076907,
          -14.8403975,
          -14.8451891,
          -14.8403975,
          -14.805925,
          -14.8461131,
          -14.8403975,
          -14.8454834,
          -14.8313622,
          -14.8403975,
          -14.8313622,
          -14.8438677,
          -14.8432332,
          -14.8225253,
          -14.805925,
          -14.81056,
          -14.8091274,
          -14.8403975,
          -14.805925,
          -14.8403975,
          -14.8357713,
          -14.8403975,
          -14.8313622,
          -14.8403975,
          -14.8403975,
          -14.8313622,
          -14.8403975,
          -14.805925,
          -14.8329816,
          -14.8403975,
          -14.8403975,
          -14.8244696,
          -14.8403975,
          -14.8403975,
          -14.8452087,
          -14.8204022,
          -14.8403975,
          -14.8341614,
          -14.8091274,
          -14.82419,
          -14.8403975,
          -14.8117429,
          -14.8403975,
          -14.8403975,
          -14.8403975,
          -14.8403975,
          -14.8403975,
          -14.8341614,
          -14.8403975,
          -14.805925,
          -14.8403975,
          -14.8168568,
          -14.8313622,
          -14.8403975,
          -14.8438677,
          -14.8168568,
          -14.805925,
          -14.8451891,
          -14.8444041,
          -14.8341614,
          -14.8403975,
          -14.8403975,
          -14.8136216,
          -14.8091274,
          -14.827516,
          -14.8438677,
          -14.8329816,
          -14.8403975,
          -14.8403975,
          -14.805925,
          -14.805925,
          -14.8403975,
          -14.8403975,
          -14.8420558,
          -14.8117429,
          -14.8403975,
          -14.8444041,
          -14.8403975,
          -14.8403975,
          -14.8403975,
          -14.8207138,
          -14.805925,
          -14.8117429,
          -14.8403975,
          -14.805925,
          -14.8403975,
          -14.8403975,
          -14.8454834,
          -14.8266225,
          -14.8076907,
          -14.8403975,
          -14.805925,
          -14.8403975,
          -14.8403975,
          -14.8418334,
          -14.8117429,
          -14.8364846,
          -14.8461131,
          -14.8438677,
          -14.8403975,
          -14.8322621,
          -14.8206756,
          -14.8403975,
          -14.8403975,
          -14.8403975,
          -14.8073087,
          -14.8098178,
          -14.8076253,
          -14.8403975,
          -14.8461131,
          -14.8403975,
          -14.8403975,
          -14.8207138,
          -14.8341614,
          -14.8117429,
          -14.8341614,
          -14.8130655,
          -14.8348482
         ],
         "legendgroup": "",
         "lon": [
          -39.03679959999999,
          -39.1467523,
          -39.02595240000001,
          -39.0257076,
          -39.0257076,
          -39.0257076,
          -39.03679959999999,
          -39.0257076,
          -39.0255602,
          -39.03679959999999,
          -39.0257076,
          -39.0270264,
          -39.0257076,
          -39.03679959999999,
          -39.0257076,
          -39.0373696,
          -39.03679959999999,
          -39.0257076,
          -39.032076,
          -39.0270264,
          -39.0257076,
          -39.0257076,
          -39.03443,
          -39.0255602,
          -39.0284323,
          -39.0270264,
          -39.032076,
          -39.0257076,
          -39.03679959999999,
          -39.0257076,
          -39.0257076,
          -39.0257076,
          -39.02892,
          -39.0257076,
          -39.03679959999999,
          -39.0257076,
          -39.03679959999999,
          -39.03679959999999,
          -39.0257076,
          -39.0255602,
          -39.0257076,
          -39.0288182,
          -39.0271893,
          -39.0374511,
          -39.0257076,
          -39.0270264,
          -39.0257076,
          -39.0264975,
          -39.0257076,
          -39.0321575,
          -39.03679959999999,
          -39.032076,
          -39.0257076,
          -39.03679959999999,
          -39.0383274,
          -39.0268635,
          -39.0255602,
          -39.0257076,
          -39.0257076,
          -39.0321575,
          -39.0361481,
          -39.0255602,
          -39.0387699,
          -39.0387699,
          -39.02892,
          -39.03679959999999,
          -39.0257076,
          -39.0257076,
          -39.0255602,
          -39.0255602,
          -39.0263748,
          -39.0257076,
          -39.0257076,
          -39.0271893,
          -39.0257076,
          -39.0257076,
          -39.0278175,
          -39.0255602,
          -39.03443,
          -39.0255602,
          -39.0255602,
          -39.0257076,
          -39.0257076,
          -39.0271893,
          -39.0283295,
          -39.0257076,
          -39.0257076,
          -39.03679959999999,
          -39.0270264,
          -39.0271893,
          -39.0268329,
          -39.03679959999999,
          -39.0321575,
          -39.0257076,
          -39.032076,
          -39.0257076,
          -39.0270264,
          -39.0271893,
          -39.02892,
          -39.02892,
          -39.0257076,
          -39.02892,
          -39.0257076,
          -39.0270264,
          -39.0257076,
          -39.0257076,
          -39.0257076,
          -39.0257076,
          -39.0257076,
          -39.0257076,
          -39.0257076,
          -39.0257076,
          -39.0257076,
          -39.0271893,
          -39.0257076,
          -39.0257076,
          -39.03679959999999,
          -39.0255602,
          -39.0277956,
          -39.03679959999999,
          -39.0257076,
          -39.0283807,
          -39.03679959999999,
          -39.0279223,
          -39.0289279,
          -39.0257076,
          -39.0257076,
          -39.0257076,
          -39.0257076,
          -39.0387699,
          -39.03679959999999,
          -39.0321575,
          -39.0271893,
          -39.0255602,
          -39.0321575,
          -39.0257076,
          -39.0263748,
          -39.0272707,
          -39.0257076,
          -39.0270264,
          -39.0257076,
          -39.0271893,
          -39.0288182,
          -39.0288182,
          -39.0321575,
          -39.0387699,
          -39.02892,
          -39.0271893,
          -39.02722809999999,
          -39.03679959999999,
          -39.03679959999999,
          -39.0270264,
          -39.0255602,
          -39.0257076,
          -39.0257076,
          -39.03443,
          -39.0257076,
          -39.02676599999999,
          -39.02676599999999,
          -39.02892,
          -39.0270264,
          -39.03679959999999,
          -39.02595240000001,
          -39.0257076,
          -39.0278175,
          -39.0255602,
          -39.0257076,
          -39.0257076,
          -39.0271893,
          -39.0257076,
          -39.0255602,
          -39.0250178,
          -39.0250178,
          -39.0257076,
          -39.0257076,
          -39.03679959999999,
          -39.0257076,
          -39.03679959999999,
          -39.0271893,
          -39.0257076,
          -39.0321575,
          -39.0271893,
          -39.032076,
          -39.032076,
          -39.0270264,
          -39.0257076,
          -39.0321575,
          -39.0257076,
          -39.0321575,
          -39.0268329,
          -39.0278983,
          -39.0284323,
          -39.0257076,
          -39.0257076,
          -39.0255602,
          -39.0270264,
          -39.0278983,
          -39.0257076,
          -39.0257076,
          -39.0257076,
          -39.02892,
          -39.0257076,
          -39.0255602,
          -39.0257076,
          -39.0289279,
          -39.03679959999999,
          -39.0257076,
          -39.0258359,
          -39.0255602,
          -39.0255602,
          -39.0257076,
          -39.03551,
          -39.0387699,
          -39.0257076,
          -39.0257076,
          -39.0257076,
          -39.0338612,
          -39.0321575,
          -39.0257076,
          -39.0268329,
          -39.0257076,
          -39.0257076,
          -39.0289279,
          -39.0255602,
          -39.0255602,
          -39.03679959999999,
          -39.0257076,
          -39.02722809999999,
          -39.0270264,
          -39.0270264,
          -39.03679959999999,
          -39.0270264,
          -39.0278175,
          -39.02722809999999,
          -39.0278175,
          -39.0271893,
          -39.0257076,
          -39.0288182,
          -39.0257076,
          -39.0264975,
          -39.0264975,
          -39.0257076,
          -39.0278175,
          -39.0272707,
          -39.03679959999999,
          -39.02892,
          -39.02892,
          -39.0257076,
          -39.0257076,
          -39.03679959999999,
          -39.02595240000001,
          -39.0284323,
          -39.0321575,
          -39.0257076,
          -39.0254291,
          -39.0257076,
          -39.03679959999999,
          -39.0257076,
          -39.03679959999999,
          -39.0271893,
          -39.0257076,
          -39.0279223,
          -39.03679959999999,
          -39.0257076,
          -39.0271893,
          -39.0278175,
          -39.0257076,
          -39.026049,
          -39.0257076,
          -39.0284323,
          -39.0268329,
          -39.0257076,
          -39.0255602,
          -39.03426,
          -39.0279732,
          -39.03679959999999,
          -39.0341481,
          -39.0257076,
          -39.0257076,
          -39.0257076,
          -39.0328303,
          -39.0257076,
          -39.0289279,
          -39.026049,
          -39.0257076,
          -39.0271893,
          -39.0257076,
          -39.0257076,
          -39.0257076,
          -39.0257076,
          -39.027678,
          -39.0271893,
          -39.0270264,
          -39.0257076,
          -39.0257076,
          -39.0257076,
          -39.0288182,
          -39.03679959999999,
          -39.0321575,
          -39.0257076,
          -39.0246643,
          -39.0289279,
          -39.03679959999999,
          -39.0257076,
          -39.0257076,
          -39.0257076,
          -39.0257076,
          -39.0257076,
          -39.0257076,
          -39.0257076,
          -39.0257076,
          -39.0270264,
          -39.0257076,
          -39.0284323,
          -39.0279732,
          -39.03679959999999,
          -39.0257076,
          -39.0255602,
          -39.0257076,
          -39.0279223,
          -39.0257076,
          -39.0258861,
          -39.0257076,
          -39.0257076,
          -39.0257076,
          -39.0317857,
          -39.0257076,
          -39.0257076,
          -39.0270264,
          -39.0257076,
          -39.0257076,
          -39.0321575,
          -39.0270264,
          -39.0257076,
          -39.03679959999999,
          -39.0257076,
          -39.0257076,
          -39.0257076,
          -39.0279223,
          -39.032076,
          -39.02722809999999,
          -39.0257076,
          -39.0271893,
          -39.0257076,
          -39.0257076,
          -39.0257076,
          -39.0271893,
          -39.0257076,
          -39.0271893,
          -39.0271893,
          -39.0257076,
          -39.0278175,
          -39.0257076,
          -39.0257076,
          -39.0257076,
          -39.0257076,
          -39.0373696,
          -39.0257076,
          -39.0257076,
          -39.03679959999999,
          -39.0278175,
          -39.0257076,
          -39.0255602,
          -39.0288182,
          -39.0257076,
          -39.02806,
          -39.0270264,
          -39.0275151,
          -39.03679959999999,
          -39.03426,
          -39.02595240000001,
          -39.0257076,
          -39.03679959999999,
          -39.0257076,
          -39.0268329,
          -39.0387699,
          -39.0257076,
          -39.0257076,
          -39.0257076,
          -39.0257076,
          -39.03679959999999,
          -39.0279732,
          -39.0257076,
          -39.0257076,
          -39.0257076,
          -39.0257076,
          -39.0289279,
          -39.0257076,
          -39.0321575,
          -39.0257076,
          -39.0257076,
          -39.0257076,
          -39.0257076,
          -39.0289279,
          -39.0257076,
          -39.0257076,
          -39.03679959999999,
          -39.0257076,
          -39.0254291,
          -39.0284323,
          -39.0257076,
          -39.0268635,
          -39.0254291,
          -39.03679959999999,
          -39.0270264,
          -39.0271893,
          -39.0289279,
          -39.0257076,
          -39.03679959999999,
          -39.0257076,
          -39.02595240000001,
          -39.0296327,
          -39.0268635,
          -39.0279732,
          -39.0257076,
          -39.03679959999999,
          -39.03679959999999,
          -39.02820740000001,
          -39.0321575,
          -39.0257076,
          -39.0257076,
          -39.0283295,
          -39.0279223,
          -39.0289279,
          -39.0321575,
          -39.03679959999999,
          -39.0257076,
          -39.0257076,
          -39.0255602,
          -39.0373696,
          -39.0257076,
          -39.03679959999999,
          -39.0257076,
          -39.0257076,
          -39.0280037,
          -39.0321575,
          -39.0257076,
          -39.02892,
          -39.0278175,
          -39.0257076,
          -39.0268329,
          -39.0257076,
          -39.0276544,
          -39.0283295,
          -39.0257076,
          -39.0257076,
          -39.0382968,
          -39.0251031,
          -39.0257076,
          -39.0257076,
          -39.0279223,
          -39.0321575,
          -39.0289279,
          -39.0350468,
          -39.032076,
          -39.0257076,
          -39.02595240000001,
          -39.0263748,
          -39.02820740000001,
          -39.0270264,
          -39.03443,
          -39.0270264,
          -39.0270264,
          -39.02722809999999,
          -39.03443,
          -39.0279223,
          -39.0254291,
          -39.0263748,
          -39.03679959999999,
          -39.032076,
          -39.0272707,
          -39.0257076,
          -39.0271893,
          -39.0271893,
          -39.0257076,
          -39.0257076,
          -39.0257076,
          -39.0257076,
          -39.0257076,
          -39.0257076,
          -39.0257076,
          -39.0255602,
          -39.0321575,
          -39.0257076,
          -39.0257076,
          -39.0257076,
          -39.0257076,
          -39.0257076,
          -39.1467523,
          -39.0278175,
          -39.026049,
          -39.0271893,
          -39.03679959999999,
          -39.0257076,
          -39.0271893,
          -39.0270264,
          -39.0321575,
          -39.0254291,
          -39.02892,
          -39.0288182,
          -39.0289279,
          -39.0278175,
          -39.0257076,
          -39.02722809999999,
          -39.03679959999999,
          -39.0263748,
          -39.1467523,
          -39.02820740000001,
          -39.0270264,
          -39.03443,
          -39.02595240000001,
          -39.0257076,
          -39.03679959999999,
          -39.0257076,
          -39.0255602,
          -39.03679959999999,
          -39.0257076,
          -39.0270264,
          -39.0257076,
          -39.03679959999999,
          -39.0257076,
          -39.0373696,
          -39.03679959999999,
          -39.0257076,
          -39.032076,
          -39.0270264,
          -39.0257076,
          -39.0257076,
          -39.03443,
          -39.0255602,
          -39.0284323,
          -39.0270264,
          -39.032076,
          -39.0257076,
          -39.0257076,
          -39.02892,
          -39.0257076,
          -39.03679959999999,
          -39.0257076,
          -39.03679959999999,
          -39.03679959999999,
          -39.0257076,
          -39.0255602,
          -39.0257076,
          -39.0288182,
          -39.0374511,
          -39.0264975,
          -39.0257076,
          -39.0321575,
          -39.03679959999999,
          -39.0383274,
          -39.0268635,
          -39.0255602,
          -39.02722809999999,
          -39.0257076,
          -39.0257076,
          -39.0263163,
          -39.0361481,
          -39.0255602,
          -39.0387699,
          -39.0387699,
          -39.02892,
          -39.03679959999999,
          -39.0257076,
          -39.0257076,
          -39.0255602,
          -39.0255602,
          -39.0263748,
          -39.0271893,
          -39.0257076,
          -39.0257076,
          -39.0321575,
          -39.0271893,
          -39.0270264,
          -39.0257076,
          -39.0251031,
          -39.0255602,
          -39.0255602,
          -39.0257076,
          -39.0257076,
          -39.0271893,
          -39.0257076,
          -39.0257076,
          -39.03679959999999,
          -39.0271893,
          -39.0268329,
          -39.0321575,
          -39.0257076,
          -39.032076,
          -39.03679959999999,
          -39.0270264,
          -39.02892,
          -39.0257076,
          -39.0257076,
          -39.0257076,
          -39.0257076,
          -39.0257076,
          -39.0257076,
          -39.0257076,
          -39.03679959999999,
          -39.0255602,
          -39.03443,
          -39.03679959999999,
          -39.0289279,
          -39.0257076,
          -39.0257076,
          -39.0257076,
          -39.0257076,
          -39.0321575,
          -39.0271893,
          -39.0255602,
          -39.0321575,
          -39.0272707,
          -39.0257076,
          -39.032076,
          -39.0288182,
          -39.0321575,
          -39.0387699,
          -39.02892,
          -39.0271893,
          -39.02722809999999,
          -39.03679959999999,
          -39.0255602,
          -39.0255602,
          -39.03443,
          -39.0257076,
          -39.02892,
          -39.0257076,
          -39.0270264,
          -39.03679959999999,
          -39.02595240000001,
          -39.0257076,
          -39.0270264,
          -39.0255602,
          -39.0257076,
          -39.0257076,
          -39.0257076,
          -39.0271893,
          -39.0255602,
          -39.0250178,
          -39.0257076,
          -39.0257076,
          -39.03679959999999,
          -39.0257076,
          -39.03679959999999,
          -39.03679959999999,
          -39.0268635,
          -39.032076,
          -39.032076,
          -39.0268329,
          -39.0284323,
          -39.0257076,
          -39.0255602,
          -39.0270264,
          -39.0278983,
          -39.0257076,
          -39.0257076,
          -39.0257076,
          -39.0255602,
          -39.0289279,
          -39.03679959999999,
          -39.0257076,
          -39.0258359,
          -39.0255602,
          -39.0255602,
          -39.0257076,
          -39.03551,
          -39.0387699,
          -39.0380211,
          -39.0257076,
          -39.0321575,
          -39.0257076,
          -39.0257076,
          -39.0284323,
          -39.0321575,
          -39.0257076,
          -39.0255602,
          -39.0268329,
          -39.0255602,
          -39.03679959999999,
          -39.0257076,
          -39.0288182,
          -39.02722809999999,
          -39.03679959999999,
          -39.0278175,
          -39.0278175,
          -39.0255602,
          -39.0257076,
          -39.0288182,
          -39.0257076,
          -39.0264975,
          -39.0264975,
          -39.0257076,
          -39.03679959999999,
          -39.02892,
          -39.02892,
          -39.0257076,
          -39.0257076,
          -39.03679959999999,
          -39.02595240000001,
          -39.0284323,
          -39.0321575,
          -39.0257076,
          -39.0257076,
          -39.0254291,
          -39.0257076,
          -39.03679959999999,
          -39.0271893,
          -39.0271893,
          -39.0257076,
          -39.0279223,
          -39.03679959999999,
          -39.0257076,
          -39.0257076,
          -39.0257076,
          -39.0257076,
          -39.0257076,
          -39.0289279,
          -39.0284323,
          -39.0268329,
          -39.0257076,
          -39.0255602,
          -39.0255602,
          -39.0255602,
          -39.0255602,
          -39.0255602,
          -39.0255602,
          -39.0255602,
          -39.0255602,
          -39.0255602,
          -39.0255602,
          -39.0255602,
          -39.0255602,
          -39.0255602,
          -39.0279732,
          -39.0257076,
          -39.0257076,
          -39.0257076,
          -39.0328303,
          -39.0257076,
          -39.0289279,
          -39.026049,
          -39.0257076,
          -39.0257076,
          -39.0257076,
          -39.0257076,
          -39.0257076,
          -39.027678,
          -39.0271893,
          -39.0270264,
          -39.0257076,
          -39.0257076,
          -39.0257076,
          -39.0288182,
          -39.03679959999999,
          -39.0321575,
          -39.0246643,
          -39.0257076,
          -39.0246643,
          -39.0289279,
          -39.0257076,
          -39.0257076,
          -39.0270264,
          -39.0257076,
          -39.0257076,
          -39.0257076,
          -39.0257076,
          -39.0270264,
          -39.0279732,
          -39.03679959999999,
          -39.0257076,
          -39.0255602,
          -39.0257076,
          -39.0279223,
          -39.0257076,
          -39.0257076,
          -39.0257076,
          -39.03679959999999,
          -39.0317857,
          -39.0257076,
          -39.0257076,
          -39.0257076,
          -39.0257076,
          -39.0321575,
          -39.0272589,
          -39.0270264,
          -39.0257076,
          -39.03679959999999,
          -39.0257076,
          -39.0257076,
          -39.0257076,
          -39.0257076,
          -39.0279223,
          -39.032076,
          -39.02722809999999,
          -39.0257076,
          -39.0271893,
          -39.0257076,
          -39.0257076,
          -39.0321575,
          -39.0257076,
          -39.0271893,
          -39.0257076,
          -39.0271893,
          -39.0257076,
          -39.0271893,
          -39.0278175,
          -39.0257076,
          -39.0257076,
          -39.0257076,
          -39.0257076,
          -39.0257076,
          -39.03568,
          -39.0373696,
          -39.0257076,
          -39.0270264,
          -39.0257076,
          -39.03679959999999,
          -39.0278175,
          -39.0257076,
          -39.0255602,
          -39.0284323,
          -39.0257076,
          -39.0284323,
          -39.0268635,
          -39.0270264,
          -39.0275151,
          -39.03679959999999,
          -39.03426,
          -39.02595240000001,
          -39.0257076,
          -39.03679959999999,
          -39.0257076,
          -39.0387699,
          -39.0257076,
          -39.0284323,
          -39.0257076,
          -39.0257076,
          -39.0284323,
          -39.0257076,
          -39.03679959999999,
          -39.0279732,
          -39.0257076,
          -39.0257076,
          -39.0328542,
          -39.0257076,
          -39.0257076,
          -39.027678,
          -39.0362295,
          -39.0257076,
          -39.0289279,
          -39.02595240000001,
          -39.02969,
          -39.0257076,
          -39.0321575,
          -39.0257076,
          -39.0257076,
          -39.0257076,
          -39.0257076,
          -39.0257076,
          -39.0289279,
          -39.0257076,
          -39.03679959999999,
          -39.0257076,
          -39.0254291,
          -39.0284323,
          -39.0257076,
          -39.0268635,
          -39.0254291,
          -39.03679959999999,
          -39.0270264,
          -39.0271893,
          -39.0289279,
          -39.0257076,
          -39.0257076,
          -39.0249301,
          -39.02595240000001,
          -39.0296327,
          -39.0268635,
          -39.0279732,
          -39.0257076,
          -39.0257076,
          -39.03679959999999,
          -39.03679959999999,
          -39.0257076,
          -39.0257076,
          -39.02820740000001,
          -39.0321575,
          -39.0257076,
          -39.0271893,
          -39.0257076,
          -39.0257076,
          -39.0257076,
          -39.0279223,
          -39.03679959999999,
          -39.0321575,
          -39.0257076,
          -39.03679959999999,
          -39.0257076,
          -39.0257076,
          -39.0255602,
          -39.0277956,
          -39.0373696,
          -39.0257076,
          -39.03679959999999,
          -39.0257076,
          -39.0257076,
          -39.0280037,
          -39.0321575,
          -39.02892,
          -39.0278175,
          -39.0268635,
          -39.0257076,
          -39.0268329,
          -39.0276544,
          -39.0257076,
          -39.0257076,
          -39.0257076,
          -39.0382968,
          -39.0251031,
          -39.0371386,
          -39.0257076,
          -39.0278175,
          -39.0257076,
          -39.0257076,
          -39.0279223,
          -39.0289279,
          -39.0321575,
          -39.0289279,
          -39.0350468,
          -39.032076
         ],
         "marker": {
          "color": "red"
         },
         "mode": "markers",
         "name": "",
         "showlegend": false,
         "subplot": "mapbox",
         "type": "scattermapbox"
        }
       ],
       "layout": {
        "height": 800,
        "legend": {
         "tracegroupgap": 0
        },
        "mapbox": {
         "center": {
          "lat": -14.82366341245972,
          "lon": -39.028682128141774
         },
         "domain": {
          "x": [
           0,
           1
          ],
          "y": [
           0,
           1
          ]
         },
         "style": "open-street-map",
         "zoom": 13.2
        },
        "margin": {
         "b": 0,
         "l": 0,
         "r": 0,
         "t": 0
        },
        "template": {
         "data": {
          "bar": [
           {
            "error_x": {
             "color": "#2a3f5f"
            },
            "error_y": {
             "color": "#2a3f5f"
            },
            "marker": {
             "line": {
              "color": "#E5ECF6",
              "width": 0.5
             },
             "pattern": {
              "fillmode": "overlay",
              "size": 10,
              "solidity": 0.2
             }
            },
            "type": "bar"
           }
          ],
          "barpolar": [
           {
            "marker": {
             "line": {
              "color": "#E5ECF6",
              "width": 0.5
             },
             "pattern": {
              "fillmode": "overlay",
              "size": 10,
              "solidity": 0.2
             }
            },
            "type": "barpolar"
           }
          ],
          "carpet": [
           {
            "aaxis": {
             "endlinecolor": "#2a3f5f",
             "gridcolor": "white",
             "linecolor": "white",
             "minorgridcolor": "white",
             "startlinecolor": "#2a3f5f"
            },
            "baxis": {
             "endlinecolor": "#2a3f5f",
             "gridcolor": "white",
             "linecolor": "white",
             "minorgridcolor": "white",
             "startlinecolor": "#2a3f5f"
            },
            "type": "carpet"
           }
          ],
          "choropleth": [
           {
            "colorbar": {
             "outlinewidth": 0,
             "ticks": ""
            },
            "type": "choropleth"
           }
          ],
          "contour": [
           {
            "colorbar": {
             "outlinewidth": 0,
             "ticks": ""
            },
            "colorscale": [
             [
              0,
              "#0d0887"
             ],
             [
              0.1111111111111111,
              "#46039f"
             ],
             [
              0.2222222222222222,
              "#7201a8"
             ],
             [
              0.3333333333333333,
              "#9c179e"
             ],
             [
              0.4444444444444444,
              "#bd3786"
             ],
             [
              0.5555555555555556,
              "#d8576b"
             ],
             [
              0.6666666666666666,
              "#ed7953"
             ],
             [
              0.7777777777777778,
              "#fb9f3a"
             ],
             [
              0.8888888888888888,
              "#fdca26"
             ],
             [
              1,
              "#f0f921"
             ]
            ],
            "type": "contour"
           }
          ],
          "contourcarpet": [
           {
            "colorbar": {
             "outlinewidth": 0,
             "ticks": ""
            },
            "type": "contourcarpet"
           }
          ],
          "heatmap": [
           {
            "colorbar": {
             "outlinewidth": 0,
             "ticks": ""
            },
            "colorscale": [
             [
              0,
              "#0d0887"
             ],
             [
              0.1111111111111111,
              "#46039f"
             ],
             [
              0.2222222222222222,
              "#7201a8"
             ],
             [
              0.3333333333333333,
              "#9c179e"
             ],
             [
              0.4444444444444444,
              "#bd3786"
             ],
             [
              0.5555555555555556,
              "#d8576b"
             ],
             [
              0.6666666666666666,
              "#ed7953"
             ],
             [
              0.7777777777777778,
              "#fb9f3a"
             ],
             [
              0.8888888888888888,
              "#fdca26"
             ],
             [
              1,
              "#f0f921"
             ]
            ],
            "type": "heatmap"
           }
          ],
          "heatmapgl": [
           {
            "colorbar": {
             "outlinewidth": 0,
             "ticks": ""
            },
            "colorscale": [
             [
              0,
              "#0d0887"
             ],
             [
              0.1111111111111111,
              "#46039f"
             ],
             [
              0.2222222222222222,
              "#7201a8"
             ],
             [
              0.3333333333333333,
              "#9c179e"
             ],
             [
              0.4444444444444444,
              "#bd3786"
             ],
             [
              0.5555555555555556,
              "#d8576b"
             ],
             [
              0.6666666666666666,
              "#ed7953"
             ],
             [
              0.7777777777777778,
              "#fb9f3a"
             ],
             [
              0.8888888888888888,
              "#fdca26"
             ],
             [
              1,
              "#f0f921"
             ]
            ],
            "type": "heatmapgl"
           }
          ],
          "histogram": [
           {
            "marker": {
             "pattern": {
              "fillmode": "overlay",
              "size": 10,
              "solidity": 0.2
             }
            },
            "type": "histogram"
           }
          ],
          "histogram2d": [
           {
            "colorbar": {
             "outlinewidth": 0,
             "ticks": ""
            },
            "colorscale": [
             [
              0,
              "#0d0887"
             ],
             [
              0.1111111111111111,
              "#46039f"
             ],
             [
              0.2222222222222222,
              "#7201a8"
             ],
             [
              0.3333333333333333,
              "#9c179e"
             ],
             [
              0.4444444444444444,
              "#bd3786"
             ],
             [
              0.5555555555555556,
              "#d8576b"
             ],
             [
              0.6666666666666666,
              "#ed7953"
             ],
             [
              0.7777777777777778,
              "#fb9f3a"
             ],
             [
              0.8888888888888888,
              "#fdca26"
             ],
             [
              1,
              "#f0f921"
             ]
            ],
            "type": "histogram2d"
           }
          ],
          "histogram2dcontour": [
           {
            "colorbar": {
             "outlinewidth": 0,
             "ticks": ""
            },
            "colorscale": [
             [
              0,
              "#0d0887"
             ],
             [
              0.1111111111111111,
              "#46039f"
             ],
             [
              0.2222222222222222,
              "#7201a8"
             ],
             [
              0.3333333333333333,
              "#9c179e"
             ],
             [
              0.4444444444444444,
              "#bd3786"
             ],
             [
              0.5555555555555556,
              "#d8576b"
             ],
             [
              0.6666666666666666,
              "#ed7953"
             ],
             [
              0.7777777777777778,
              "#fb9f3a"
             ],
             [
              0.8888888888888888,
              "#fdca26"
             ],
             [
              1,
              "#f0f921"
             ]
            ],
            "type": "histogram2dcontour"
           }
          ],
          "mesh3d": [
           {
            "colorbar": {
             "outlinewidth": 0,
             "ticks": ""
            },
            "type": "mesh3d"
           }
          ],
          "parcoords": [
           {
            "line": {
             "colorbar": {
              "outlinewidth": 0,
              "ticks": ""
             }
            },
            "type": "parcoords"
           }
          ],
          "pie": [
           {
            "automargin": true,
            "type": "pie"
           }
          ],
          "scatter": [
           {
            "fillpattern": {
             "fillmode": "overlay",
             "size": 10,
             "solidity": 0.2
            },
            "type": "scatter"
           }
          ],
          "scatter3d": [
           {
            "line": {
             "colorbar": {
              "outlinewidth": 0,
              "ticks": ""
             }
            },
            "marker": {
             "colorbar": {
              "outlinewidth": 0,
              "ticks": ""
             }
            },
            "type": "scatter3d"
           }
          ],
          "scattercarpet": [
           {
            "marker": {
             "colorbar": {
              "outlinewidth": 0,
              "ticks": ""
             }
            },
            "type": "scattercarpet"
           }
          ],
          "scattergeo": [
           {
            "marker": {
             "colorbar": {
              "outlinewidth": 0,
              "ticks": ""
             }
            },
            "type": "scattergeo"
           }
          ],
          "scattergl": [
           {
            "marker": {
             "colorbar": {
              "outlinewidth": 0,
              "ticks": ""
             }
            },
            "type": "scattergl"
           }
          ],
          "scattermapbox": [
           {
            "marker": {
             "colorbar": {
              "outlinewidth": 0,
              "ticks": ""
             }
            },
            "type": "scattermapbox"
           }
          ],
          "scatterpolar": [
           {
            "marker": {
             "colorbar": {
              "outlinewidth": 0,
              "ticks": ""
             }
            },
            "type": "scatterpolar"
           }
          ],
          "scatterpolargl": [
           {
            "marker": {
             "colorbar": {
              "outlinewidth": 0,
              "ticks": ""
             }
            },
            "type": "scatterpolargl"
           }
          ],
          "scatterternary": [
           {
            "marker": {
             "colorbar": {
              "outlinewidth": 0,
              "ticks": ""
             }
            },
            "type": "scatterternary"
           }
          ],
          "surface": [
           {
            "colorbar": {
             "outlinewidth": 0,
             "ticks": ""
            },
            "colorscale": [
             [
              0,
              "#0d0887"
             ],
             [
              0.1111111111111111,
              "#46039f"
             ],
             [
              0.2222222222222222,
              "#7201a8"
             ],
             [
              0.3333333333333333,
              "#9c179e"
             ],
             [
              0.4444444444444444,
              "#bd3786"
             ],
             [
              0.5555555555555556,
              "#d8576b"
             ],
             [
              0.6666666666666666,
              "#ed7953"
             ],
             [
              0.7777777777777778,
              "#fb9f3a"
             ],
             [
              0.8888888888888888,
              "#fdca26"
             ],
             [
              1,
              "#f0f921"
             ]
            ],
            "type": "surface"
           }
          ],
          "table": [
           {
            "cells": {
             "fill": {
              "color": "#EBF0F8"
             },
             "line": {
              "color": "white"
             }
            },
            "header": {
             "fill": {
              "color": "#C8D4E3"
             },
             "line": {
              "color": "white"
             }
            },
            "type": "table"
           }
          ]
         },
         "layout": {
          "annotationdefaults": {
           "arrowcolor": "#2a3f5f",
           "arrowhead": 0,
           "arrowwidth": 1
          },
          "autotypenumbers": "strict",
          "coloraxis": {
           "colorbar": {
            "outlinewidth": 0,
            "ticks": ""
           }
          },
          "colorscale": {
           "diverging": [
            [
             0,
             "#8e0152"
            ],
            [
             0.1,
             "#c51b7d"
            ],
            [
             0.2,
             "#de77ae"
            ],
            [
             0.3,
             "#f1b6da"
            ],
            [
             0.4,
             "#fde0ef"
            ],
            [
             0.5,
             "#f7f7f7"
            ],
            [
             0.6,
             "#e6f5d0"
            ],
            [
             0.7,
             "#b8e186"
            ],
            [
             0.8,
             "#7fbc41"
            ],
            [
             0.9,
             "#4d9221"
            ],
            [
             1,
             "#276419"
            ]
           ],
           "sequential": [
            [
             0,
             "#0d0887"
            ],
            [
             0.1111111111111111,
             "#46039f"
            ],
            [
             0.2222222222222222,
             "#7201a8"
            ],
            [
             0.3333333333333333,
             "#9c179e"
            ],
            [
             0.4444444444444444,
             "#bd3786"
            ],
            [
             0.5555555555555556,
             "#d8576b"
            ],
            [
             0.6666666666666666,
             "#ed7953"
            ],
            [
             0.7777777777777778,
             "#fb9f3a"
            ],
            [
             0.8888888888888888,
             "#fdca26"
            ],
            [
             1,
             "#f0f921"
            ]
           ],
           "sequentialminus": [
            [
             0,
             "#0d0887"
            ],
            [
             0.1111111111111111,
             "#46039f"
            ],
            [
             0.2222222222222222,
             "#7201a8"
            ],
            [
             0.3333333333333333,
             "#9c179e"
            ],
            [
             0.4444444444444444,
             "#bd3786"
            ],
            [
             0.5555555555555556,
             "#d8576b"
            ],
            [
             0.6666666666666666,
             "#ed7953"
            ],
            [
             0.7777777777777778,
             "#fb9f3a"
            ],
            [
             0.8888888888888888,
             "#fdca26"
            ],
            [
             1,
             "#f0f921"
            ]
           ]
          },
          "colorway": [
           "#636efa",
           "#EF553B",
           "#00cc96",
           "#ab63fa",
           "#FFA15A",
           "#19d3f3",
           "#FF6692",
           "#B6E880",
           "#FF97FF",
           "#FECB52"
          ],
          "font": {
           "color": "#2a3f5f"
          },
          "geo": {
           "bgcolor": "white",
           "lakecolor": "white",
           "landcolor": "#E5ECF6",
           "showlakes": true,
           "showland": true,
           "subunitcolor": "white"
          },
          "hoverlabel": {
           "align": "left"
          },
          "hovermode": "closest",
          "mapbox": {
           "style": "light"
          },
          "paper_bgcolor": "white",
          "plot_bgcolor": "#E5ECF6",
          "polar": {
           "angularaxis": {
            "gridcolor": "white",
            "linecolor": "white",
            "ticks": ""
           },
           "bgcolor": "#E5ECF6",
           "radialaxis": {
            "gridcolor": "white",
            "linecolor": "white",
            "ticks": ""
           }
          },
          "scene": {
           "xaxis": {
            "backgroundcolor": "#E5ECF6",
            "gridcolor": "white",
            "gridwidth": 2,
            "linecolor": "white",
            "showbackground": true,
            "ticks": "",
            "zerolinecolor": "white"
           },
           "yaxis": {
            "backgroundcolor": "#E5ECF6",
            "gridcolor": "white",
            "gridwidth": 2,
            "linecolor": "white",
            "showbackground": true,
            "ticks": "",
            "zerolinecolor": "white"
           },
           "zaxis": {
            "backgroundcolor": "#E5ECF6",
            "gridcolor": "white",
            "gridwidth": 2,
            "linecolor": "white",
            "showbackground": true,
            "ticks": "",
            "zerolinecolor": "white"
           }
          },
          "shapedefaults": {
           "line": {
            "color": "#2a3f5f"
           }
          },
          "ternary": {
           "aaxis": {
            "gridcolor": "white",
            "linecolor": "white",
            "ticks": ""
           },
           "baxis": {
            "gridcolor": "white",
            "linecolor": "white",
            "ticks": ""
           },
           "bgcolor": "#E5ECF6",
           "caxis": {
            "gridcolor": "white",
            "linecolor": "white",
            "ticks": ""
           }
          },
          "title": {
           "x": 0.05
          },
          "xaxis": {
           "automargin": true,
           "gridcolor": "white",
           "linecolor": "white",
           "ticks": "",
           "title": {
            "standoff": 15
           },
           "zerolinecolor": "white",
           "zerolinewidth": 2
          },
          "yaxis": {
           "automargin": true,
           "gridcolor": "white",
           "linecolor": "white",
           "ticks": "",
           "title": {
            "standoff": 15
           },
           "zerolinecolor": "white",
           "zerolinewidth": 2
          }
         }
        },
        "title": {
         "text": "Distribuição de Pontos de Origem"
        }
       }
      }
     },
     "metadata": {},
     "output_type": "display_data"
    }
   ],
   "source": [
    "to_chart = df.loc[df['cep_dest']=='Centro'][['bairro','latitude_origin','longitude_origin']].loc[df['Zona'] == 'Sul'].reset_index(drop=True)\n",
    "\n",
    "center_lat = to_chart['latitude_origin'].mean()\n",
    "center_lon = to_chart['longitude_origin'].mean()\n",
    "\n",
    "fig = px.scatter_mapbox(to_chart,\n",
    "    lat='latitude_origin',\n",
    "    lon='longitude_origin',\n",
    "    hover_name='bairro',\n",
    "    hover_data={'bairro': True},\n",
    "    color_discrete_sequence=['red'],\n",
    "    zoom=13.2,\n",
    "    height=800,\n",
    "    mapbox_style=\"open-street-map\",\n",
    "    center={\"lat\": center_lat+0.01, \"lon\": center_lon}\n",
    ")\n",
    "\n",
    "fig.update_layout(\n",
    "    margin={\"r\":0, \"t\":0, \"l\":0, \"b\":0},\n",
    "    title=\"Distribuição de Pontos de Origem\"\n",
    ")\n",
    "\n",
    "fig.show()"
   ]
  },
  {
   "cell_type": "code",
   "execution_count": 11,
   "metadata": {},
   "outputs": [
    {
     "data": {
      "application/vnd.plotly.v1+json": {
       "config": {
        "plotlyServerURL": "https://plot.ly"
       },
       "data": [
        {
         "alignmentgroup": "True",
         "hovertemplate": "Apartamentos à Venda=%{x}<br>bairro=%{y}<extra></extra>",
         "legendgroup": "",
         "marker": {
          "color": "#636efa",
          "pattern": {
           "shape": ""
          }
         },
         "name": "",
         "offsetgroup": "",
         "orientation": "h",
         "showlegend": false,
         "textposition": "auto",
         "type": "bar",
         "x": [
          1,
          3,
          13,
          88,
          171,
          324,
          331
         ],
         "xaxis": "x",
         "y": [
          "Hernani Sá",
          "Nelson Costa",
          "Ilhéus II",
          "Jardim Atlântico",
          "Pontal",
          "São Francisco",
          "Nossa Senhora da Vitória"
         ],
         "yaxis": "y"
        }
       ],
       "layout": {
        "barmode": "relative",
        "height": 500,
        "legend": {
         "tracegroupgap": 0
        },
        "margin": {
         "b": 0,
         "l": 0,
         "r": 0,
         "t": 0
        },
        "template": {
         "data": {
          "bar": [
           {
            "error_x": {
             "color": "#2a3f5f"
            },
            "error_y": {
             "color": "#2a3f5f"
            },
            "marker": {
             "line": {
              "color": "#E5ECF6",
              "width": 0.5
             },
             "pattern": {
              "fillmode": "overlay",
              "size": 10,
              "solidity": 0.2
             }
            },
            "type": "bar"
           }
          ],
          "barpolar": [
           {
            "marker": {
             "line": {
              "color": "#E5ECF6",
              "width": 0.5
             },
             "pattern": {
              "fillmode": "overlay",
              "size": 10,
              "solidity": 0.2
             }
            },
            "type": "barpolar"
           }
          ],
          "carpet": [
           {
            "aaxis": {
             "endlinecolor": "#2a3f5f",
             "gridcolor": "white",
             "linecolor": "white",
             "minorgridcolor": "white",
             "startlinecolor": "#2a3f5f"
            },
            "baxis": {
             "endlinecolor": "#2a3f5f",
             "gridcolor": "white",
             "linecolor": "white",
             "minorgridcolor": "white",
             "startlinecolor": "#2a3f5f"
            },
            "type": "carpet"
           }
          ],
          "choropleth": [
           {
            "colorbar": {
             "outlinewidth": 0,
             "ticks": ""
            },
            "type": "choropleth"
           }
          ],
          "contour": [
           {
            "colorbar": {
             "outlinewidth": 0,
             "ticks": ""
            },
            "colorscale": [
             [
              0,
              "#0d0887"
             ],
             [
              0.1111111111111111,
              "#46039f"
             ],
             [
              0.2222222222222222,
              "#7201a8"
             ],
             [
              0.3333333333333333,
              "#9c179e"
             ],
             [
              0.4444444444444444,
              "#bd3786"
             ],
             [
              0.5555555555555556,
              "#d8576b"
             ],
             [
              0.6666666666666666,
              "#ed7953"
             ],
             [
              0.7777777777777778,
              "#fb9f3a"
             ],
             [
              0.8888888888888888,
              "#fdca26"
             ],
             [
              1,
              "#f0f921"
             ]
            ],
            "type": "contour"
           }
          ],
          "contourcarpet": [
           {
            "colorbar": {
             "outlinewidth": 0,
             "ticks": ""
            },
            "type": "contourcarpet"
           }
          ],
          "heatmap": [
           {
            "colorbar": {
             "outlinewidth": 0,
             "ticks": ""
            },
            "colorscale": [
             [
              0,
              "#0d0887"
             ],
             [
              0.1111111111111111,
              "#46039f"
             ],
             [
              0.2222222222222222,
              "#7201a8"
             ],
             [
              0.3333333333333333,
              "#9c179e"
             ],
             [
              0.4444444444444444,
              "#bd3786"
             ],
             [
              0.5555555555555556,
              "#d8576b"
             ],
             [
              0.6666666666666666,
              "#ed7953"
             ],
             [
              0.7777777777777778,
              "#fb9f3a"
             ],
             [
              0.8888888888888888,
              "#fdca26"
             ],
             [
              1,
              "#f0f921"
             ]
            ],
            "type": "heatmap"
           }
          ],
          "heatmapgl": [
           {
            "colorbar": {
             "outlinewidth": 0,
             "ticks": ""
            },
            "colorscale": [
             [
              0,
              "#0d0887"
             ],
             [
              0.1111111111111111,
              "#46039f"
             ],
             [
              0.2222222222222222,
              "#7201a8"
             ],
             [
              0.3333333333333333,
              "#9c179e"
             ],
             [
              0.4444444444444444,
              "#bd3786"
             ],
             [
              0.5555555555555556,
              "#d8576b"
             ],
             [
              0.6666666666666666,
              "#ed7953"
             ],
             [
              0.7777777777777778,
              "#fb9f3a"
             ],
             [
              0.8888888888888888,
              "#fdca26"
             ],
             [
              1,
              "#f0f921"
             ]
            ],
            "type": "heatmapgl"
           }
          ],
          "histogram": [
           {
            "marker": {
             "pattern": {
              "fillmode": "overlay",
              "size": 10,
              "solidity": 0.2
             }
            },
            "type": "histogram"
           }
          ],
          "histogram2d": [
           {
            "colorbar": {
             "outlinewidth": 0,
             "ticks": ""
            },
            "colorscale": [
             [
              0,
              "#0d0887"
             ],
             [
              0.1111111111111111,
              "#46039f"
             ],
             [
              0.2222222222222222,
              "#7201a8"
             ],
             [
              0.3333333333333333,
              "#9c179e"
             ],
             [
              0.4444444444444444,
              "#bd3786"
             ],
             [
              0.5555555555555556,
              "#d8576b"
             ],
             [
              0.6666666666666666,
              "#ed7953"
             ],
             [
              0.7777777777777778,
              "#fb9f3a"
             ],
             [
              0.8888888888888888,
              "#fdca26"
             ],
             [
              1,
              "#f0f921"
             ]
            ],
            "type": "histogram2d"
           }
          ],
          "histogram2dcontour": [
           {
            "colorbar": {
             "outlinewidth": 0,
             "ticks": ""
            },
            "colorscale": [
             [
              0,
              "#0d0887"
             ],
             [
              0.1111111111111111,
              "#46039f"
             ],
             [
              0.2222222222222222,
              "#7201a8"
             ],
             [
              0.3333333333333333,
              "#9c179e"
             ],
             [
              0.4444444444444444,
              "#bd3786"
             ],
             [
              0.5555555555555556,
              "#d8576b"
             ],
             [
              0.6666666666666666,
              "#ed7953"
             ],
             [
              0.7777777777777778,
              "#fb9f3a"
             ],
             [
              0.8888888888888888,
              "#fdca26"
             ],
             [
              1,
              "#f0f921"
             ]
            ],
            "type": "histogram2dcontour"
           }
          ],
          "mesh3d": [
           {
            "colorbar": {
             "outlinewidth": 0,
             "ticks": ""
            },
            "type": "mesh3d"
           }
          ],
          "parcoords": [
           {
            "line": {
             "colorbar": {
              "outlinewidth": 0,
              "ticks": ""
             }
            },
            "type": "parcoords"
           }
          ],
          "pie": [
           {
            "automargin": true,
            "type": "pie"
           }
          ],
          "scatter": [
           {
            "fillpattern": {
             "fillmode": "overlay",
             "size": 10,
             "solidity": 0.2
            },
            "type": "scatter"
           }
          ],
          "scatter3d": [
           {
            "line": {
             "colorbar": {
              "outlinewidth": 0,
              "ticks": ""
             }
            },
            "marker": {
             "colorbar": {
              "outlinewidth": 0,
              "ticks": ""
             }
            },
            "type": "scatter3d"
           }
          ],
          "scattercarpet": [
           {
            "marker": {
             "colorbar": {
              "outlinewidth": 0,
              "ticks": ""
             }
            },
            "type": "scattercarpet"
           }
          ],
          "scattergeo": [
           {
            "marker": {
             "colorbar": {
              "outlinewidth": 0,
              "ticks": ""
             }
            },
            "type": "scattergeo"
           }
          ],
          "scattergl": [
           {
            "marker": {
             "colorbar": {
              "outlinewidth": 0,
              "ticks": ""
             }
            },
            "type": "scattergl"
           }
          ],
          "scattermapbox": [
           {
            "marker": {
             "colorbar": {
              "outlinewidth": 0,
              "ticks": ""
             }
            },
            "type": "scattermapbox"
           }
          ],
          "scatterpolar": [
           {
            "marker": {
             "colorbar": {
              "outlinewidth": 0,
              "ticks": ""
             }
            },
            "type": "scatterpolar"
           }
          ],
          "scatterpolargl": [
           {
            "marker": {
             "colorbar": {
              "outlinewidth": 0,
              "ticks": ""
             }
            },
            "type": "scatterpolargl"
           }
          ],
          "scatterternary": [
           {
            "marker": {
             "colorbar": {
              "outlinewidth": 0,
              "ticks": ""
             }
            },
            "type": "scatterternary"
           }
          ],
          "surface": [
           {
            "colorbar": {
             "outlinewidth": 0,
             "ticks": ""
            },
            "colorscale": [
             [
              0,
              "#0d0887"
             ],
             [
              0.1111111111111111,
              "#46039f"
             ],
             [
              0.2222222222222222,
              "#7201a8"
             ],
             [
              0.3333333333333333,
              "#9c179e"
             ],
             [
              0.4444444444444444,
              "#bd3786"
             ],
             [
              0.5555555555555556,
              "#d8576b"
             ],
             [
              0.6666666666666666,
              "#ed7953"
             ],
             [
              0.7777777777777778,
              "#fb9f3a"
             ],
             [
              0.8888888888888888,
              "#fdca26"
             ],
             [
              1,
              "#f0f921"
             ]
            ],
            "type": "surface"
           }
          ],
          "table": [
           {
            "cells": {
             "fill": {
              "color": "#EBF0F8"
             },
             "line": {
              "color": "white"
             }
            },
            "header": {
             "fill": {
              "color": "#C8D4E3"
             },
             "line": {
              "color": "white"
             }
            },
            "type": "table"
           }
          ]
         },
         "layout": {
          "annotationdefaults": {
           "arrowcolor": "#2a3f5f",
           "arrowhead": 0,
           "arrowwidth": 1
          },
          "autotypenumbers": "strict",
          "coloraxis": {
           "colorbar": {
            "outlinewidth": 0,
            "ticks": ""
           }
          },
          "colorscale": {
           "diverging": [
            [
             0,
             "#8e0152"
            ],
            [
             0.1,
             "#c51b7d"
            ],
            [
             0.2,
             "#de77ae"
            ],
            [
             0.3,
             "#f1b6da"
            ],
            [
             0.4,
             "#fde0ef"
            ],
            [
             0.5,
             "#f7f7f7"
            ],
            [
             0.6,
             "#e6f5d0"
            ],
            [
             0.7,
             "#b8e186"
            ],
            [
             0.8,
             "#7fbc41"
            ],
            [
             0.9,
             "#4d9221"
            ],
            [
             1,
             "#276419"
            ]
           ],
           "sequential": [
            [
             0,
             "#0d0887"
            ],
            [
             0.1111111111111111,
             "#46039f"
            ],
            [
             0.2222222222222222,
             "#7201a8"
            ],
            [
             0.3333333333333333,
             "#9c179e"
            ],
            [
             0.4444444444444444,
             "#bd3786"
            ],
            [
             0.5555555555555556,
             "#d8576b"
            ],
            [
             0.6666666666666666,
             "#ed7953"
            ],
            [
             0.7777777777777778,
             "#fb9f3a"
            ],
            [
             0.8888888888888888,
             "#fdca26"
            ],
            [
             1,
             "#f0f921"
            ]
           ],
           "sequentialminus": [
            [
             0,
             "#0d0887"
            ],
            [
             0.1111111111111111,
             "#46039f"
            ],
            [
             0.2222222222222222,
             "#7201a8"
            ],
            [
             0.3333333333333333,
             "#9c179e"
            ],
            [
             0.4444444444444444,
             "#bd3786"
            ],
            [
             0.5555555555555556,
             "#d8576b"
            ],
            [
             0.6666666666666666,
             "#ed7953"
            ],
            [
             0.7777777777777778,
             "#fb9f3a"
            ],
            [
             0.8888888888888888,
             "#fdca26"
            ],
            [
             1,
             "#f0f921"
            ]
           ]
          },
          "colorway": [
           "#636efa",
           "#EF553B",
           "#00cc96",
           "#ab63fa",
           "#FFA15A",
           "#19d3f3",
           "#FF6692",
           "#B6E880",
           "#FF97FF",
           "#FECB52"
          ],
          "font": {
           "color": "#2a3f5f"
          },
          "geo": {
           "bgcolor": "white",
           "lakecolor": "white",
           "landcolor": "#E5ECF6",
           "showlakes": true,
           "showland": true,
           "subunitcolor": "white"
          },
          "hoverlabel": {
           "align": "left"
          },
          "hovermode": "closest",
          "mapbox": {
           "style": "light"
          },
          "paper_bgcolor": "white",
          "plot_bgcolor": "#E5ECF6",
          "polar": {
           "angularaxis": {
            "gridcolor": "white",
            "linecolor": "white",
            "ticks": ""
           },
           "bgcolor": "#E5ECF6",
           "radialaxis": {
            "gridcolor": "white",
            "linecolor": "white",
            "ticks": ""
           }
          },
          "scene": {
           "xaxis": {
            "backgroundcolor": "#E5ECF6",
            "gridcolor": "white",
            "gridwidth": 2,
            "linecolor": "white",
            "showbackground": true,
            "ticks": "",
            "zerolinecolor": "white"
           },
           "yaxis": {
            "backgroundcolor": "#E5ECF6",
            "gridcolor": "white",
            "gridwidth": 2,
            "linecolor": "white",
            "showbackground": true,
            "ticks": "",
            "zerolinecolor": "white"
           },
           "zaxis": {
            "backgroundcolor": "#E5ECF6",
            "gridcolor": "white",
            "gridwidth": 2,
            "linecolor": "white",
            "showbackground": true,
            "ticks": "",
            "zerolinecolor": "white"
           }
          },
          "shapedefaults": {
           "line": {
            "color": "#2a3f5f"
           }
          },
          "ternary": {
           "aaxis": {
            "gridcolor": "white",
            "linecolor": "white",
            "ticks": ""
           },
           "baxis": {
            "gridcolor": "white",
            "linecolor": "white",
            "ticks": ""
           },
           "bgcolor": "#E5ECF6",
           "caxis": {
            "gridcolor": "white",
            "linecolor": "white",
            "ticks": ""
           }
          },
          "title": {
           "x": 0.05
          },
          "xaxis": {
           "automargin": true,
           "gridcolor": "white",
           "linecolor": "white",
           "ticks": "",
           "title": {
            "standoff": 15
           },
           "zerolinecolor": "white",
           "zerolinewidth": 2
          },
          "yaxis": {
           "automargin": true,
           "gridcolor": "white",
           "linecolor": "white",
           "ticks": "",
           "title": {
            "standoff": 15
           },
           "zerolinecolor": "white",
           "zerolinewidth": 2
          }
         }
        },
        "width": 800,
        "xaxis": {
         "anchor": "y",
         "domain": [
          0,
          1
         ],
         "title": {
          "text": ""
         }
        },
        "yaxis": {
         "anchor": "x",
         "domain": [
          0,
          1
         ],
         "title": {
          "text": ""
         }
        }
       }
      }
     },
     "metadata": {},
     "output_type": "display_data"
    }
   ],
   "source": [
    "to_chart = pd.DataFrame(to_chart['bairro'].value_counts()).reset_index()\n",
    "\n",
    "fig = px.bar(to_chart.rename(columns={'count':'Apartamentos à Venda'}).sort_values(by='Apartamentos à Venda', ascending=True), \n",
    "             x='Apartamentos à Venda', \n",
    "             y='bairro', orientation='h')\n",
    "\n",
    "fig.update_xaxes(title_text='')\n",
    "fig.update_yaxes(title_text='')\n",
    "\n",
    "fig.update_layout(\n",
    "    margin=dict(l=0, r=0, t=0, b=0),\n",
    "    height=500,\n",
    "    width=800\n",
    ")\n",
    "fig.show()"
   ]
  },
  {
   "cell_type": "markdown",
   "metadata": {},
   "source": [
    "## Descrição dos bairros da zona sul"
   ]
  },
  {
   "cell_type": "code",
   "execution_count": 12,
   "metadata": {},
   "outputs": [
    {
     "name": "stdout",
     "output_type": "stream",
     "text": [
      "Bairro: Pontal\n",
      "Quantidade de imoveis: 171\n",
      "Preço médio: 882805.47\n",
      "area util por m2: 94.2\n",
      "Preço por m2: 9371.61\n",
      "\n",
      "Bairro: Nossa Senhora da Vitória\n",
      "Quantidade de imoveis: 331\n",
      "Preço médio: 712184.49\n",
      "area util por m2: 88.14\n",
      "Preço por m2: 8080.15\n",
      "\n",
      "Bairro: São Francisco\n",
      "Quantidade de imoveis: 324\n",
      "Preço médio: 651067.37\n",
      "area util por m2: 94.23\n",
      "Preço por m2: 6909.34\n",
      "\n",
      "Bairro: Jardim Atlântico\n",
      "Quantidade de imoveis: 88\n",
      "Preço médio: 728391.38\n",
      "area util por m2: 94.67\n",
      "Preço por m2: 7694.0\n",
      "\n",
      "Bairro: Ilhéus II\n",
      "Quantidade de imoveis: 13\n",
      "Preço médio: 644615.38\n",
      "area util por m2: 89.62\n",
      "Preço por m2: 7192.76\n",
      "\n",
      "Bairro: Nelson Costa\n",
      "Quantidade de imoveis: 3\n",
      "Preço médio: 543333.33\n",
      "area util por m2: 139.33\n",
      "Preço por m2: 3899.61\n",
      "\n",
      "Bairro: Hernani Sá\n",
      "Quantidade de imoveis: 1\n",
      "Preço médio: 290000.0\n",
      "area util por m2: 98.0\n",
      "Preço por m2: 2959.18\n",
      "\n"
     ]
    }
   ],
   "source": [
    "somente_zona_sul = df.loc[df['Zona'] == 'Sul']\n",
    "somente_zona_sul = somente_zona_sul.loc[somente_zona_sul['cep_dest'] == 'Centro']\n",
    "\n",
    "for bairro in somente_zona_sul['bairro'].unique():\n",
    "    print('Bairro:', bairro)\n",
    "    print('Quantidade de imoveis:', np.round(len(somente_zona_sul.loc[somente_zona_sul['bairro'] == bairro]),2))\n",
    "    print('Preço médio:', np.round(somente_zona_sul.loc[somente_zona_sul['bairro'] == bairro]['preco'].mean(),2))\n",
    "    print('area util por m2:', np.round(somente_zona_sul.loc[somente_zona_sul['bairro'] == bairro]['area util por m²'].mean(),2))\n",
    "    print('Preço por m2:', np.round(np.round(somente_zona_sul.loc[somente_zona_sul['bairro'] == bairro]['preco'].mean(),2)/np.round(somente_zona_sul.loc[somente_zona_sul['bairro'] == bairro]['area util por m²'].mean(),2),2))\n",
    "    print('')"
   ]
  },
  {
   "cell_type": "code",
   "execution_count": 13,
   "metadata": {},
   "outputs": [
    {
     "data": {
      "application/vnd.plotly.v1+json": {
       "config": {
        "plotlyServerURL": "https://plot.ly"
       },
       "data": [
        {
         "domain": {
          "x": [
           0,
           1
          ],
          "y": [
           0,
           1
          ]
         },
         "hovertemplate": "bairro=%{label}<br>count=%{value}<extra></extra>",
         "labels": [
          "Nossa Senhora da Vitória",
          "São Francisco",
          "Pontal",
          "Jardim Atlântico",
          "Ilhéus II",
          "Nelson Costa",
          "Hernani Sá"
         ],
         "legendgroup": "",
         "name": "",
         "showlegend": true,
         "type": "pie",
         "values": [
          331,
          324,
          171,
          88,
          13,
          3,
          1
         ]
        }
       ],
       "layout": {
        "height": 500,
        "legend": {
         "tracegroupgap": 0
        },
        "margin": {
         "b": 0,
         "l": 0,
         "r": 0,
         "t": 0
        },
        "template": {
         "data": {
          "bar": [
           {
            "error_x": {
             "color": "#2a3f5f"
            },
            "error_y": {
             "color": "#2a3f5f"
            },
            "marker": {
             "line": {
              "color": "#E5ECF6",
              "width": 0.5
             },
             "pattern": {
              "fillmode": "overlay",
              "size": 10,
              "solidity": 0.2
             }
            },
            "type": "bar"
           }
          ],
          "barpolar": [
           {
            "marker": {
             "line": {
              "color": "#E5ECF6",
              "width": 0.5
             },
             "pattern": {
              "fillmode": "overlay",
              "size": 10,
              "solidity": 0.2
             }
            },
            "type": "barpolar"
           }
          ],
          "carpet": [
           {
            "aaxis": {
             "endlinecolor": "#2a3f5f",
             "gridcolor": "white",
             "linecolor": "white",
             "minorgridcolor": "white",
             "startlinecolor": "#2a3f5f"
            },
            "baxis": {
             "endlinecolor": "#2a3f5f",
             "gridcolor": "white",
             "linecolor": "white",
             "minorgridcolor": "white",
             "startlinecolor": "#2a3f5f"
            },
            "type": "carpet"
           }
          ],
          "choropleth": [
           {
            "colorbar": {
             "outlinewidth": 0,
             "ticks": ""
            },
            "type": "choropleth"
           }
          ],
          "contour": [
           {
            "colorbar": {
             "outlinewidth": 0,
             "ticks": ""
            },
            "colorscale": [
             [
              0,
              "#0d0887"
             ],
             [
              0.1111111111111111,
              "#46039f"
             ],
             [
              0.2222222222222222,
              "#7201a8"
             ],
             [
              0.3333333333333333,
              "#9c179e"
             ],
             [
              0.4444444444444444,
              "#bd3786"
             ],
             [
              0.5555555555555556,
              "#d8576b"
             ],
             [
              0.6666666666666666,
              "#ed7953"
             ],
             [
              0.7777777777777778,
              "#fb9f3a"
             ],
             [
              0.8888888888888888,
              "#fdca26"
             ],
             [
              1,
              "#f0f921"
             ]
            ],
            "type": "contour"
           }
          ],
          "contourcarpet": [
           {
            "colorbar": {
             "outlinewidth": 0,
             "ticks": ""
            },
            "type": "contourcarpet"
           }
          ],
          "heatmap": [
           {
            "colorbar": {
             "outlinewidth": 0,
             "ticks": ""
            },
            "colorscale": [
             [
              0,
              "#0d0887"
             ],
             [
              0.1111111111111111,
              "#46039f"
             ],
             [
              0.2222222222222222,
              "#7201a8"
             ],
             [
              0.3333333333333333,
              "#9c179e"
             ],
             [
              0.4444444444444444,
              "#bd3786"
             ],
             [
              0.5555555555555556,
              "#d8576b"
             ],
             [
              0.6666666666666666,
              "#ed7953"
             ],
             [
              0.7777777777777778,
              "#fb9f3a"
             ],
             [
              0.8888888888888888,
              "#fdca26"
             ],
             [
              1,
              "#f0f921"
             ]
            ],
            "type": "heatmap"
           }
          ],
          "heatmapgl": [
           {
            "colorbar": {
             "outlinewidth": 0,
             "ticks": ""
            },
            "colorscale": [
             [
              0,
              "#0d0887"
             ],
             [
              0.1111111111111111,
              "#46039f"
             ],
             [
              0.2222222222222222,
              "#7201a8"
             ],
             [
              0.3333333333333333,
              "#9c179e"
             ],
             [
              0.4444444444444444,
              "#bd3786"
             ],
             [
              0.5555555555555556,
              "#d8576b"
             ],
             [
              0.6666666666666666,
              "#ed7953"
             ],
             [
              0.7777777777777778,
              "#fb9f3a"
             ],
             [
              0.8888888888888888,
              "#fdca26"
             ],
             [
              1,
              "#f0f921"
             ]
            ],
            "type": "heatmapgl"
           }
          ],
          "histogram": [
           {
            "marker": {
             "pattern": {
              "fillmode": "overlay",
              "size": 10,
              "solidity": 0.2
             }
            },
            "type": "histogram"
           }
          ],
          "histogram2d": [
           {
            "colorbar": {
             "outlinewidth": 0,
             "ticks": ""
            },
            "colorscale": [
             [
              0,
              "#0d0887"
             ],
             [
              0.1111111111111111,
              "#46039f"
             ],
             [
              0.2222222222222222,
              "#7201a8"
             ],
             [
              0.3333333333333333,
              "#9c179e"
             ],
             [
              0.4444444444444444,
              "#bd3786"
             ],
             [
              0.5555555555555556,
              "#d8576b"
             ],
             [
              0.6666666666666666,
              "#ed7953"
             ],
             [
              0.7777777777777778,
              "#fb9f3a"
             ],
             [
              0.8888888888888888,
              "#fdca26"
             ],
             [
              1,
              "#f0f921"
             ]
            ],
            "type": "histogram2d"
           }
          ],
          "histogram2dcontour": [
           {
            "colorbar": {
             "outlinewidth": 0,
             "ticks": ""
            },
            "colorscale": [
             [
              0,
              "#0d0887"
             ],
             [
              0.1111111111111111,
              "#46039f"
             ],
             [
              0.2222222222222222,
              "#7201a8"
             ],
             [
              0.3333333333333333,
              "#9c179e"
             ],
             [
              0.4444444444444444,
              "#bd3786"
             ],
             [
              0.5555555555555556,
              "#d8576b"
             ],
             [
              0.6666666666666666,
              "#ed7953"
             ],
             [
              0.7777777777777778,
              "#fb9f3a"
             ],
             [
              0.8888888888888888,
              "#fdca26"
             ],
             [
              1,
              "#f0f921"
             ]
            ],
            "type": "histogram2dcontour"
           }
          ],
          "mesh3d": [
           {
            "colorbar": {
             "outlinewidth": 0,
             "ticks": ""
            },
            "type": "mesh3d"
           }
          ],
          "parcoords": [
           {
            "line": {
             "colorbar": {
              "outlinewidth": 0,
              "ticks": ""
             }
            },
            "type": "parcoords"
           }
          ],
          "pie": [
           {
            "automargin": true,
            "type": "pie"
           }
          ],
          "scatter": [
           {
            "fillpattern": {
             "fillmode": "overlay",
             "size": 10,
             "solidity": 0.2
            },
            "type": "scatter"
           }
          ],
          "scatter3d": [
           {
            "line": {
             "colorbar": {
              "outlinewidth": 0,
              "ticks": ""
             }
            },
            "marker": {
             "colorbar": {
              "outlinewidth": 0,
              "ticks": ""
             }
            },
            "type": "scatter3d"
           }
          ],
          "scattercarpet": [
           {
            "marker": {
             "colorbar": {
              "outlinewidth": 0,
              "ticks": ""
             }
            },
            "type": "scattercarpet"
           }
          ],
          "scattergeo": [
           {
            "marker": {
             "colorbar": {
              "outlinewidth": 0,
              "ticks": ""
             }
            },
            "type": "scattergeo"
           }
          ],
          "scattergl": [
           {
            "marker": {
             "colorbar": {
              "outlinewidth": 0,
              "ticks": ""
             }
            },
            "type": "scattergl"
           }
          ],
          "scattermapbox": [
           {
            "marker": {
             "colorbar": {
              "outlinewidth": 0,
              "ticks": ""
             }
            },
            "type": "scattermapbox"
           }
          ],
          "scatterpolar": [
           {
            "marker": {
             "colorbar": {
              "outlinewidth": 0,
              "ticks": ""
             }
            },
            "type": "scatterpolar"
           }
          ],
          "scatterpolargl": [
           {
            "marker": {
             "colorbar": {
              "outlinewidth": 0,
              "ticks": ""
             }
            },
            "type": "scatterpolargl"
           }
          ],
          "scatterternary": [
           {
            "marker": {
             "colorbar": {
              "outlinewidth": 0,
              "ticks": ""
             }
            },
            "type": "scatterternary"
           }
          ],
          "surface": [
           {
            "colorbar": {
             "outlinewidth": 0,
             "ticks": ""
            },
            "colorscale": [
             [
              0,
              "#0d0887"
             ],
             [
              0.1111111111111111,
              "#46039f"
             ],
             [
              0.2222222222222222,
              "#7201a8"
             ],
             [
              0.3333333333333333,
              "#9c179e"
             ],
             [
              0.4444444444444444,
              "#bd3786"
             ],
             [
              0.5555555555555556,
              "#d8576b"
             ],
             [
              0.6666666666666666,
              "#ed7953"
             ],
             [
              0.7777777777777778,
              "#fb9f3a"
             ],
             [
              0.8888888888888888,
              "#fdca26"
             ],
             [
              1,
              "#f0f921"
             ]
            ],
            "type": "surface"
           }
          ],
          "table": [
           {
            "cells": {
             "fill": {
              "color": "#EBF0F8"
             },
             "line": {
              "color": "white"
             }
            },
            "header": {
             "fill": {
              "color": "#C8D4E3"
             },
             "line": {
              "color": "white"
             }
            },
            "type": "table"
           }
          ]
         },
         "layout": {
          "annotationdefaults": {
           "arrowcolor": "#2a3f5f",
           "arrowhead": 0,
           "arrowwidth": 1
          },
          "autotypenumbers": "strict",
          "coloraxis": {
           "colorbar": {
            "outlinewidth": 0,
            "ticks": ""
           }
          },
          "colorscale": {
           "diverging": [
            [
             0,
             "#8e0152"
            ],
            [
             0.1,
             "#c51b7d"
            ],
            [
             0.2,
             "#de77ae"
            ],
            [
             0.3,
             "#f1b6da"
            ],
            [
             0.4,
             "#fde0ef"
            ],
            [
             0.5,
             "#f7f7f7"
            ],
            [
             0.6,
             "#e6f5d0"
            ],
            [
             0.7,
             "#b8e186"
            ],
            [
             0.8,
             "#7fbc41"
            ],
            [
             0.9,
             "#4d9221"
            ],
            [
             1,
             "#276419"
            ]
           ],
           "sequential": [
            [
             0,
             "#0d0887"
            ],
            [
             0.1111111111111111,
             "#46039f"
            ],
            [
             0.2222222222222222,
             "#7201a8"
            ],
            [
             0.3333333333333333,
             "#9c179e"
            ],
            [
             0.4444444444444444,
             "#bd3786"
            ],
            [
             0.5555555555555556,
             "#d8576b"
            ],
            [
             0.6666666666666666,
             "#ed7953"
            ],
            [
             0.7777777777777778,
             "#fb9f3a"
            ],
            [
             0.8888888888888888,
             "#fdca26"
            ],
            [
             1,
             "#f0f921"
            ]
           ],
           "sequentialminus": [
            [
             0,
             "#0d0887"
            ],
            [
             0.1111111111111111,
             "#46039f"
            ],
            [
             0.2222222222222222,
             "#7201a8"
            ],
            [
             0.3333333333333333,
             "#9c179e"
            ],
            [
             0.4444444444444444,
             "#bd3786"
            ],
            [
             0.5555555555555556,
             "#d8576b"
            ],
            [
             0.6666666666666666,
             "#ed7953"
            ],
            [
             0.7777777777777778,
             "#fb9f3a"
            ],
            [
             0.8888888888888888,
             "#fdca26"
            ],
            [
             1,
             "#f0f921"
            ]
           ]
          },
          "colorway": [
           "#636efa",
           "#EF553B",
           "#00cc96",
           "#ab63fa",
           "#FFA15A",
           "#19d3f3",
           "#FF6692",
           "#B6E880",
           "#FF97FF",
           "#FECB52"
          ],
          "font": {
           "color": "#2a3f5f"
          },
          "geo": {
           "bgcolor": "white",
           "lakecolor": "white",
           "landcolor": "#E5ECF6",
           "showlakes": true,
           "showland": true,
           "subunitcolor": "white"
          },
          "hoverlabel": {
           "align": "left"
          },
          "hovermode": "closest",
          "mapbox": {
           "style": "light"
          },
          "paper_bgcolor": "white",
          "plot_bgcolor": "#E5ECF6",
          "polar": {
           "angularaxis": {
            "gridcolor": "white",
            "linecolor": "white",
            "ticks": ""
           },
           "bgcolor": "#E5ECF6",
           "radialaxis": {
            "gridcolor": "white",
            "linecolor": "white",
            "ticks": ""
           }
          },
          "scene": {
           "xaxis": {
            "backgroundcolor": "#E5ECF6",
            "gridcolor": "white",
            "gridwidth": 2,
            "linecolor": "white",
            "showbackground": true,
            "ticks": "",
            "zerolinecolor": "white"
           },
           "yaxis": {
            "backgroundcolor": "#E5ECF6",
            "gridcolor": "white",
            "gridwidth": 2,
            "linecolor": "white",
            "showbackground": true,
            "ticks": "",
            "zerolinecolor": "white"
           },
           "zaxis": {
            "backgroundcolor": "#E5ECF6",
            "gridcolor": "white",
            "gridwidth": 2,
            "linecolor": "white",
            "showbackground": true,
            "ticks": "",
            "zerolinecolor": "white"
           }
          },
          "shapedefaults": {
           "line": {
            "color": "#2a3f5f"
           }
          },
          "ternary": {
           "aaxis": {
            "gridcolor": "white",
            "linecolor": "white",
            "ticks": ""
           },
           "baxis": {
            "gridcolor": "white",
            "linecolor": "white",
            "ticks": ""
           },
           "bgcolor": "#E5ECF6",
           "caxis": {
            "gridcolor": "white",
            "linecolor": "white",
            "ticks": ""
           }
          },
          "title": {
           "x": 0.05
          },
          "xaxis": {
           "automargin": true,
           "gridcolor": "white",
           "linecolor": "white",
           "ticks": "",
           "title": {
            "standoff": 15
           },
           "zerolinecolor": "white",
           "zerolinewidth": 2
          },
          "yaxis": {
           "automargin": true,
           "gridcolor": "white",
           "linecolor": "white",
           "ticks": "",
           "title": {
            "standoff": 15
           },
           "zerolinecolor": "white",
           "zerolinewidth": 2
          }
         }
        },
        "width": 800
       }
      }
     },
     "metadata": {},
     "output_type": "display_data"
    }
   ],
   "source": [
    "def pizza_plot(dataframe):\n",
    "    fig = px.pie(data_frame=dataframe, values='count', names='bairro')\n",
    "    fig.update_layout(\n",
    "        margin=dict(l=0, r=0, t=0, b=0),\n",
    "        height=500,\n",
    "        width=800\n",
    "    )\n",
    "    fig.show()\n",
    "\n",
    "all_bairros_zona_sul = somente_zona_sul['bairro'].value_counts().reset_index()\n",
    "all_bairros_zona_sul.columns = ['bairro', 'count']\n",
    "\n",
    "pizza_plot(all_bairros_zona_sul)"
   ]
  },
  {
   "cell_type": "code",
   "execution_count": 14,
   "metadata": {},
   "outputs": [
    {
     "name": "stdout",
     "output_type": "stream",
     "text": [
      "Bairro: Pontal\n",
      "Media quartos: 2.1871345029239766\n",
      "Media banheiro: 2.087719298245614\n",
      "Media garagem: 1.2105263157894737\n",
      "Media custo condominio: 216.82456140350877\n",
      "Media iptu: 195.953216374269\n",
      " \n",
      "Bairro: Nossa Senhora da Vitória\n",
      "Media quartos: 2.2205438066465257\n",
      "Media banheiro: 1.9788519637462236\n",
      "Media garagem: 1.1208459214501512\n",
      "Media custo condominio: 117.41691842900302\n",
      "Media iptu: 52.58006042296073\n",
      " \n",
      "Bairro: São Francisco\n",
      "Media quartos: 2.299382716049383\n",
      "Media banheiro: 2.04320987654321\n",
      "Media garagem: 1.1296296296296295\n",
      "Media custo condominio: 88.90123456790124\n",
      "Media iptu: 54.54320987654321\n",
      " \n",
      "Bairro: Jardim Atlântico\n",
      "Media quartos: 2.215909090909091\n",
      "Media banheiro: 2.3068181818181817\n",
      "Media garagem: 1.1477272727272727\n",
      "Media custo condominio: 85.73863636363636\n",
      "Media iptu: 56.84090909090909\n",
      " \n",
      "Bairro: Ilhéus II\n",
      "Media quartos: 2.4615384615384617\n",
      "Media banheiro: 1.8461538461538463\n",
      "Media garagem: 0.9230769230769231\n",
      "Media custo condominio: 200.0\n",
      "Media iptu: 0.0\n",
      " \n",
      "Bairro: Nelson Costa\n",
      "Media quartos: 3.0\n",
      "Media banheiro: 2.6666666666666665\n",
      "Media garagem: 0.6666666666666666\n",
      "Media custo condominio: 0.0\n",
      "Media iptu: 0.0\n",
      " \n",
      "Bairro: Hernani Sá\n",
      "Media quartos: 2.0\n",
      "Media banheiro: 2.0\n",
      "Media garagem: 1.0\n",
      "Media custo condominio: 0.0\n",
      "Media iptu: 0.0\n",
      " \n"
     ]
    }
   ],
   "source": [
    "cols_caract_apt = somente_zona_sul[['bairro', 'quartos', 'banheiros', 'vagas garagem','custo condominio', 'iptu']].replace(-1, 0)\n",
    "\n",
    "for bairro in cols_caract_apt['bairro'].unique():\n",
    "    df_for_this_bairro = cols_caract_apt[cols_caract_apt['bairro'] == bairro]\n",
    "    media_quartos = df_for_this_bairro['quartos'].mean()\n",
    "    media_banheiros = df_for_this_bairro['banheiros'].mean()\n",
    "    media_garagem = df_for_this_bairro['vagas garagem'].mean()\n",
    "    media_condominio = df_for_this_bairro['custo condominio'].mean()\n",
    "    media_iptu = df_for_this_bairro['iptu'].mean()\n",
    "    \n",
    "    print('Bairro:', bairro)\n",
    "    print(f'Media quartos: {media_quartos}')\n",
    "    print(f'Media banheiro: {media_banheiros}')\n",
    "    print(f'Media garagem: {media_garagem}')\n",
    "    print(f'Media custo condominio: {media_condominio}')\n",
    "    print(f'Media iptu: {media_iptu}')\n",
    "    print(' ')"
   ]
  },
  {
   "cell_type": "code",
   "execution_count": 15,
   "metadata": {},
   "outputs": [],
   "source": [
    "cols_caract_cond = somente_zona_sul[['bairro', 'armários na cozinha', 'academia', 'piscina', 'varanda', 'portaria',\n",
    "                                     'quarto de serviço', 'área de serviço', 'condomínio fechado', 'permitido animais', \n",
    "                                     'churrasqueira', 'elevador', 'mobiliado','armários no quarto', 'ar condicionado',\n",
    "                                     'segurança 24h','salão de festas']]\n",
    "\n",
    "final_result = {}\n",
    "for bairro in cols_caract_cond['bairro'].unique():\n",
    "    intermedian_result = dict()\n",
    "    cols_to_sumarize = [cols for cols in cols_caract_cond if cols != 'bairro']\n",
    "    for col in cols_to_sumarize:\n",
    "        media = (cols_caract_cond.loc[cols_caract_cond['bairro'] == bairro][col].values.sum() /\n",
    "                 len(cols_caract_cond.loc[cols_caract_cond['bairro'] == bairro])) * 100\n",
    "        intermedian_result[col] = np.round(media,2)\n",
    "    final_result[bairro] = intermedian_result\n",
    "\n",
    "df_final_result_from_cols_caract_cond = pd.DataFrame(final_result)"
   ]
  },
  {
   "cell_type": "code",
   "execution_count": 16,
   "metadata": {},
   "outputs": [
    {
     "data": {
      "application/vnd.plotly.v1+json": {
       "config": {
        "plotlyServerURL": "https://plot.ly"
       },
       "data": [
        {
         "coloraxis": "coloraxis",
         "hovertemplate": "Bairros: %{x}<br>Características: %{y}<br>Porcentagem: %{z}<extra></extra>",
         "name": "0",
         "texttemplate": "%{z}",
         "type": "heatmap",
         "x": [
          "Pontal",
          "Nossa Senhora da Vitória",
          "São Francisco",
          "Jardim Atlântico",
          "Ilhéus II",
          "Nelson Costa",
          "Hernani Sá"
         ],
         "xaxis": "x",
         "y": [
          "armários na cozinha",
          "academia",
          "piscina",
          "varanda",
          "portaria",
          "quarto de serviço",
          "área de serviço",
          "condomínio fechado",
          "permitido animais",
          "churrasqueira",
          "elevador",
          "mobiliado",
          "armários no quarto",
          "ar condicionado",
          "segurança 24h",
          "salão de festas"
         ],
         "yaxis": "y",
         "z": [
          [
           7.02,
           7.25,
           7.41,
           3.41,
           0,
           0,
           0
          ],
          [
           48.54,
           57.4,
           50.31,
           65.91,
           61.54,
           0,
           0
          ],
          [
           79.53,
           77.04,
           81.79,
           81.82,
           92.31,
           0,
           0
          ],
          [
           83.63,
           76.44,
           80.86,
           85.23,
           69.23,
           100,
           100
          ],
          [
           8.19,
           5.44,
           4.01,
           7.95,
           7.69,
           0,
           0
          ],
          [
           0,
           0,
           0,
           2.27,
           0,
           0,
           0
          ],
          [
           48.54,
           38.97,
           44.44,
           54.55,
           46.15,
           66.67,
           0
          ],
          [
           9.94,
           8.46,
           4.94,
           10.23,
           15.38,
           0,
           0
          ],
          [
           12.28,
           9.37,
           9.57,
           9.09,
           0,
           0,
           0
          ],
          [
           43.27,
           67.98,
           56.79,
           68.18,
           46.15,
           0,
           0
          ],
          [
           26.32,
           22.36,
           25.31,
           20.45,
           15.38,
           0,
           0
          ],
          [
           19.3,
           18.13,
           7.1,
           9.09,
           15.38,
           0,
           0
          ],
          [
           0.58,
           3.93,
           2.47,
           3.41,
           0,
           0,
           0
          ],
          [
           36.26,
           22.36,
           14.81,
           9.09,
           15.38,
           0,
           0
          ],
          [
           25.15,
           19.64,
           23.15,
           19.32,
           23.08,
           33.33,
           0
          ],
          [
           28.65,
           29,
           29.01,
           18.18,
           30.77,
           0,
           0
          ]
         ]
        }
       ],
       "layout": {
        "coloraxis": {
         "colorbar": {
          "title": {
           "text": "Porcentagem"
          }
         },
         "colorscale": [
          [
           0,
           "#440154"
          ],
          [
           0.1111111111111111,
           "#482878"
          ],
          [
           0.2222222222222222,
           "#3e4989"
          ],
          [
           0.3333333333333333,
           "#31688e"
          ],
          [
           0.4444444444444444,
           "#26828e"
          ],
          [
           0.5555555555555556,
           "#1f9e89"
          ],
          [
           0.6666666666666666,
           "#35b779"
          ],
          [
           0.7777777777777778,
           "#6ece58"
          ],
          [
           0.8888888888888888,
           "#b5de2b"
          ],
          [
           1,
           "#fde725"
          ]
         ]
        },
        "height": 800,
        "margin": {
         "t": 60
        },
        "template": {
         "data": {
          "bar": [
           {
            "error_x": {
             "color": "#2a3f5f"
            },
            "error_y": {
             "color": "#2a3f5f"
            },
            "marker": {
             "line": {
              "color": "#E5ECF6",
              "width": 0.5
             },
             "pattern": {
              "fillmode": "overlay",
              "size": 10,
              "solidity": 0.2
             }
            },
            "type": "bar"
           }
          ],
          "barpolar": [
           {
            "marker": {
             "line": {
              "color": "#E5ECF6",
              "width": 0.5
             },
             "pattern": {
              "fillmode": "overlay",
              "size": 10,
              "solidity": 0.2
             }
            },
            "type": "barpolar"
           }
          ],
          "carpet": [
           {
            "aaxis": {
             "endlinecolor": "#2a3f5f",
             "gridcolor": "white",
             "linecolor": "white",
             "minorgridcolor": "white",
             "startlinecolor": "#2a3f5f"
            },
            "baxis": {
             "endlinecolor": "#2a3f5f",
             "gridcolor": "white",
             "linecolor": "white",
             "minorgridcolor": "white",
             "startlinecolor": "#2a3f5f"
            },
            "type": "carpet"
           }
          ],
          "choropleth": [
           {
            "colorbar": {
             "outlinewidth": 0,
             "ticks": ""
            },
            "type": "choropleth"
           }
          ],
          "contour": [
           {
            "colorbar": {
             "outlinewidth": 0,
             "ticks": ""
            },
            "colorscale": [
             [
              0,
              "#0d0887"
             ],
             [
              0.1111111111111111,
              "#46039f"
             ],
             [
              0.2222222222222222,
              "#7201a8"
             ],
             [
              0.3333333333333333,
              "#9c179e"
             ],
             [
              0.4444444444444444,
              "#bd3786"
             ],
             [
              0.5555555555555556,
              "#d8576b"
             ],
             [
              0.6666666666666666,
              "#ed7953"
             ],
             [
              0.7777777777777778,
              "#fb9f3a"
             ],
             [
              0.8888888888888888,
              "#fdca26"
             ],
             [
              1,
              "#f0f921"
             ]
            ],
            "type": "contour"
           }
          ],
          "contourcarpet": [
           {
            "colorbar": {
             "outlinewidth": 0,
             "ticks": ""
            },
            "type": "contourcarpet"
           }
          ],
          "heatmap": [
           {
            "colorbar": {
             "outlinewidth": 0,
             "ticks": ""
            },
            "colorscale": [
             [
              0,
              "#0d0887"
             ],
             [
              0.1111111111111111,
              "#46039f"
             ],
             [
              0.2222222222222222,
              "#7201a8"
             ],
             [
              0.3333333333333333,
              "#9c179e"
             ],
             [
              0.4444444444444444,
              "#bd3786"
             ],
             [
              0.5555555555555556,
              "#d8576b"
             ],
             [
              0.6666666666666666,
              "#ed7953"
             ],
             [
              0.7777777777777778,
              "#fb9f3a"
             ],
             [
              0.8888888888888888,
              "#fdca26"
             ],
             [
              1,
              "#f0f921"
             ]
            ],
            "type": "heatmap"
           }
          ],
          "heatmapgl": [
           {
            "colorbar": {
             "outlinewidth": 0,
             "ticks": ""
            },
            "colorscale": [
             [
              0,
              "#0d0887"
             ],
             [
              0.1111111111111111,
              "#46039f"
             ],
             [
              0.2222222222222222,
              "#7201a8"
             ],
             [
              0.3333333333333333,
              "#9c179e"
             ],
             [
              0.4444444444444444,
              "#bd3786"
             ],
             [
              0.5555555555555556,
              "#d8576b"
             ],
             [
              0.6666666666666666,
              "#ed7953"
             ],
             [
              0.7777777777777778,
              "#fb9f3a"
             ],
             [
              0.8888888888888888,
              "#fdca26"
             ],
             [
              1,
              "#f0f921"
             ]
            ],
            "type": "heatmapgl"
           }
          ],
          "histogram": [
           {
            "marker": {
             "pattern": {
              "fillmode": "overlay",
              "size": 10,
              "solidity": 0.2
             }
            },
            "type": "histogram"
           }
          ],
          "histogram2d": [
           {
            "colorbar": {
             "outlinewidth": 0,
             "ticks": ""
            },
            "colorscale": [
             [
              0,
              "#0d0887"
             ],
             [
              0.1111111111111111,
              "#46039f"
             ],
             [
              0.2222222222222222,
              "#7201a8"
             ],
             [
              0.3333333333333333,
              "#9c179e"
             ],
             [
              0.4444444444444444,
              "#bd3786"
             ],
             [
              0.5555555555555556,
              "#d8576b"
             ],
             [
              0.6666666666666666,
              "#ed7953"
             ],
             [
              0.7777777777777778,
              "#fb9f3a"
             ],
             [
              0.8888888888888888,
              "#fdca26"
             ],
             [
              1,
              "#f0f921"
             ]
            ],
            "type": "histogram2d"
           }
          ],
          "histogram2dcontour": [
           {
            "colorbar": {
             "outlinewidth": 0,
             "ticks": ""
            },
            "colorscale": [
             [
              0,
              "#0d0887"
             ],
             [
              0.1111111111111111,
              "#46039f"
             ],
             [
              0.2222222222222222,
              "#7201a8"
             ],
             [
              0.3333333333333333,
              "#9c179e"
             ],
             [
              0.4444444444444444,
              "#bd3786"
             ],
             [
              0.5555555555555556,
              "#d8576b"
             ],
             [
              0.6666666666666666,
              "#ed7953"
             ],
             [
              0.7777777777777778,
              "#fb9f3a"
             ],
             [
              0.8888888888888888,
              "#fdca26"
             ],
             [
              1,
              "#f0f921"
             ]
            ],
            "type": "histogram2dcontour"
           }
          ],
          "mesh3d": [
           {
            "colorbar": {
             "outlinewidth": 0,
             "ticks": ""
            },
            "type": "mesh3d"
           }
          ],
          "parcoords": [
           {
            "line": {
             "colorbar": {
              "outlinewidth": 0,
              "ticks": ""
             }
            },
            "type": "parcoords"
           }
          ],
          "pie": [
           {
            "automargin": true,
            "type": "pie"
           }
          ],
          "scatter": [
           {
            "fillpattern": {
             "fillmode": "overlay",
             "size": 10,
             "solidity": 0.2
            },
            "type": "scatter"
           }
          ],
          "scatter3d": [
           {
            "line": {
             "colorbar": {
              "outlinewidth": 0,
              "ticks": ""
             }
            },
            "marker": {
             "colorbar": {
              "outlinewidth": 0,
              "ticks": ""
             }
            },
            "type": "scatter3d"
           }
          ],
          "scattercarpet": [
           {
            "marker": {
             "colorbar": {
              "outlinewidth": 0,
              "ticks": ""
             }
            },
            "type": "scattercarpet"
           }
          ],
          "scattergeo": [
           {
            "marker": {
             "colorbar": {
              "outlinewidth": 0,
              "ticks": ""
             }
            },
            "type": "scattergeo"
           }
          ],
          "scattergl": [
           {
            "marker": {
             "colorbar": {
              "outlinewidth": 0,
              "ticks": ""
             }
            },
            "type": "scattergl"
           }
          ],
          "scattermapbox": [
           {
            "marker": {
             "colorbar": {
              "outlinewidth": 0,
              "ticks": ""
             }
            },
            "type": "scattermapbox"
           }
          ],
          "scatterpolar": [
           {
            "marker": {
             "colorbar": {
              "outlinewidth": 0,
              "ticks": ""
             }
            },
            "type": "scatterpolar"
           }
          ],
          "scatterpolargl": [
           {
            "marker": {
             "colorbar": {
              "outlinewidth": 0,
              "ticks": ""
             }
            },
            "type": "scatterpolargl"
           }
          ],
          "scatterternary": [
           {
            "marker": {
             "colorbar": {
              "outlinewidth": 0,
              "ticks": ""
             }
            },
            "type": "scatterternary"
           }
          ],
          "surface": [
           {
            "colorbar": {
             "outlinewidth": 0,
             "ticks": ""
            },
            "colorscale": [
             [
              0,
              "#0d0887"
             ],
             [
              0.1111111111111111,
              "#46039f"
             ],
             [
              0.2222222222222222,
              "#7201a8"
             ],
             [
              0.3333333333333333,
              "#9c179e"
             ],
             [
              0.4444444444444444,
              "#bd3786"
             ],
             [
              0.5555555555555556,
              "#d8576b"
             ],
             [
              0.6666666666666666,
              "#ed7953"
             ],
             [
              0.7777777777777778,
              "#fb9f3a"
             ],
             [
              0.8888888888888888,
              "#fdca26"
             ],
             [
              1,
              "#f0f921"
             ]
            ],
            "type": "surface"
           }
          ],
          "table": [
           {
            "cells": {
             "fill": {
              "color": "#EBF0F8"
             },
             "line": {
              "color": "white"
             }
            },
            "header": {
             "fill": {
              "color": "#C8D4E3"
             },
             "line": {
              "color": "white"
             }
            },
            "type": "table"
           }
          ]
         },
         "layout": {
          "annotationdefaults": {
           "arrowcolor": "#2a3f5f",
           "arrowhead": 0,
           "arrowwidth": 1
          },
          "autotypenumbers": "strict",
          "coloraxis": {
           "colorbar": {
            "outlinewidth": 0,
            "ticks": ""
           }
          },
          "colorscale": {
           "diverging": [
            [
             0,
             "#8e0152"
            ],
            [
             0.1,
             "#c51b7d"
            ],
            [
             0.2,
             "#de77ae"
            ],
            [
             0.3,
             "#f1b6da"
            ],
            [
             0.4,
             "#fde0ef"
            ],
            [
             0.5,
             "#f7f7f7"
            ],
            [
             0.6,
             "#e6f5d0"
            ],
            [
             0.7,
             "#b8e186"
            ],
            [
             0.8,
             "#7fbc41"
            ],
            [
             0.9,
             "#4d9221"
            ],
            [
             1,
             "#276419"
            ]
           ],
           "sequential": [
            [
             0,
             "#0d0887"
            ],
            [
             0.1111111111111111,
             "#46039f"
            ],
            [
             0.2222222222222222,
             "#7201a8"
            ],
            [
             0.3333333333333333,
             "#9c179e"
            ],
            [
             0.4444444444444444,
             "#bd3786"
            ],
            [
             0.5555555555555556,
             "#d8576b"
            ],
            [
             0.6666666666666666,
             "#ed7953"
            ],
            [
             0.7777777777777778,
             "#fb9f3a"
            ],
            [
             0.8888888888888888,
             "#fdca26"
            ],
            [
             1,
             "#f0f921"
            ]
           ],
           "sequentialminus": [
            [
             0,
             "#0d0887"
            ],
            [
             0.1111111111111111,
             "#46039f"
            ],
            [
             0.2222222222222222,
             "#7201a8"
            ],
            [
             0.3333333333333333,
             "#9c179e"
            ],
            [
             0.4444444444444444,
             "#bd3786"
            ],
            [
             0.5555555555555556,
             "#d8576b"
            ],
            [
             0.6666666666666666,
             "#ed7953"
            ],
            [
             0.7777777777777778,
             "#fb9f3a"
            ],
            [
             0.8888888888888888,
             "#fdca26"
            ],
            [
             1,
             "#f0f921"
            ]
           ]
          },
          "colorway": [
           "#636efa",
           "#EF553B",
           "#00cc96",
           "#ab63fa",
           "#FFA15A",
           "#19d3f3",
           "#FF6692",
           "#B6E880",
           "#FF97FF",
           "#FECB52"
          ],
          "font": {
           "color": "#2a3f5f"
          },
          "geo": {
           "bgcolor": "white",
           "lakecolor": "white",
           "landcolor": "#E5ECF6",
           "showlakes": true,
           "showland": true,
           "subunitcolor": "white"
          },
          "hoverlabel": {
           "align": "left"
          },
          "hovermode": "closest",
          "mapbox": {
           "style": "light"
          },
          "paper_bgcolor": "white",
          "plot_bgcolor": "#E5ECF6",
          "polar": {
           "angularaxis": {
            "gridcolor": "white",
            "linecolor": "white",
            "ticks": ""
           },
           "bgcolor": "#E5ECF6",
           "radialaxis": {
            "gridcolor": "white",
            "linecolor": "white",
            "ticks": ""
           }
          },
          "scene": {
           "xaxis": {
            "backgroundcolor": "#E5ECF6",
            "gridcolor": "white",
            "gridwidth": 2,
            "linecolor": "white",
            "showbackground": true,
            "ticks": "",
            "zerolinecolor": "white"
           },
           "yaxis": {
            "backgroundcolor": "#E5ECF6",
            "gridcolor": "white",
            "gridwidth": 2,
            "linecolor": "white",
            "showbackground": true,
            "ticks": "",
            "zerolinecolor": "white"
           },
           "zaxis": {
            "backgroundcolor": "#E5ECF6",
            "gridcolor": "white",
            "gridwidth": 2,
            "linecolor": "white",
            "showbackground": true,
            "ticks": "",
            "zerolinecolor": "white"
           }
          },
          "shapedefaults": {
           "line": {
            "color": "#2a3f5f"
           }
          },
          "ternary": {
           "aaxis": {
            "gridcolor": "white",
            "linecolor": "white",
            "ticks": ""
           },
           "baxis": {
            "gridcolor": "white",
            "linecolor": "white",
            "ticks": ""
           },
           "bgcolor": "#E5ECF6",
           "caxis": {
            "gridcolor": "white",
            "linecolor": "white",
            "ticks": ""
           }
          },
          "title": {
           "x": 0.05
          },
          "xaxis": {
           "automargin": true,
           "gridcolor": "white",
           "linecolor": "white",
           "ticks": "",
           "title": {
            "standoff": 15
           },
           "zerolinecolor": "white",
           "zerolinewidth": 2
          },
          "yaxis": {
           "automargin": true,
           "gridcolor": "white",
           "linecolor": "white",
           "ticks": "",
           "title": {
            "standoff": 15
           },
           "zerolinecolor": "white",
           "zerolinewidth": 2
          }
         }
        },
        "width": 1000,
        "xaxis": {
         "anchor": "y",
         "constrain": "domain",
         "domain": [
          0,
          1
         ],
         "nticks": 36,
         "scaleanchor": "y",
         "title": {
          "text": ""
         }
        },
        "yaxis": {
         "anchor": "x",
         "autorange": "reversed",
         "constrain": "domain",
         "domain": [
          0,
          1
         ],
         "title": {
          "text": ""
         }
        }
       }
      }
     },
     "metadata": {},
     "output_type": "display_data"
    }
   ],
   "source": [
    "fig = px.imshow(df_final_result_from_cols_caract_cond,\n",
    "                labels=dict(x=\"Bairros\", y=\"Características\", color=\"Porcentagem\"),\n",
    "                x=df_final_result_from_cols_caract_cond.columns,\n",
    "                y=df_final_result_from_cols_caract_cond.index,\n",
    "                color_continuous_scale='Viridis',\n",
    "                text_auto=True)\n",
    "\n",
    "fig.update_xaxes(title_text='')\n",
    "fig.update_yaxes(title_text='')\n",
    "\n",
    "fig.update_layout(xaxis_nticks=36,\n",
    "                  width=1000,\n",
    "                  height=800)\n",
    "\n",
    "fig.show()"
   ]
  },
  {
   "cell_type": "code",
   "execution_count": 17,
   "metadata": {},
   "outputs": [
    {
     "data": {
      "application/vnd.plotly.v1+json": {
       "config": {
        "plotlyServerURL": "https://plot.ly"
       },
       "data": [
        {
         "customdata": [
          [
           "Nossa Senhora da Vitória"
          ],
          [
           "Nossa Senhora da Vitória"
          ],
          [
           "Nossa Senhora da Vitória"
          ],
          [
           "Nossa Senhora da Vitória"
          ],
          [
           "Nossa Senhora da Vitória"
          ],
          [
           "Nossa Senhora da Vitória"
          ],
          [
           "Nossa Senhora da Vitória"
          ],
          [
           "Nossa Senhora da Vitória"
          ],
          [
           "Nossa Senhora da Vitória"
          ],
          [
           "Nossa Senhora da Vitória"
          ],
          [
           "Nossa Senhora da Vitória"
          ],
          [
           "Nossa Senhora da Vitória"
          ],
          [
           "Nossa Senhora da Vitória"
          ],
          [
           "Nossa Senhora da Vitória"
          ],
          [
           "Nossa Senhora da Vitória"
          ],
          [
           "Nossa Senhora da Vitória"
          ],
          [
           "Nossa Senhora da Vitória"
          ],
          [
           "Nossa Senhora da Vitória"
          ],
          [
           "Nossa Senhora da Vitória"
          ],
          [
           "Nossa Senhora da Vitória"
          ],
          [
           "Nossa Senhora da Vitória"
          ],
          [
           "Nossa Senhora da Vitória"
          ],
          [
           "Nossa Senhora da Vitória"
          ],
          [
           "Nossa Senhora da Vitória"
          ],
          [
           "Nossa Senhora da Vitória"
          ],
          [
           "Nossa Senhora da Vitória"
          ],
          [
           "Nossa Senhora da Vitória"
          ],
          [
           "Nossa Senhora da Vitória"
          ],
          [
           "Nossa Senhora da Vitória"
          ],
          [
           "Nossa Senhora da Vitória"
          ],
          [
           "Nossa Senhora da Vitória"
          ],
          [
           "Nossa Senhora da Vitória"
          ],
          [
           "Nossa Senhora da Vitória"
          ],
          [
           "Nossa Senhora da Vitória"
          ],
          [
           "Nossa Senhora da Vitória"
          ],
          [
           "Nossa Senhora da Vitória"
          ],
          [
           "Nossa Senhora da Vitória"
          ],
          [
           "Nossa Senhora da Vitória"
          ],
          [
           "Nossa Senhora da Vitória"
          ],
          [
           "Nossa Senhora da Vitória"
          ],
          [
           "Nossa Senhora da Vitória"
          ],
          [
           "Nossa Senhora da Vitória"
          ],
          [
           "Nossa Senhora da Vitória"
          ],
          [
           "Nossa Senhora da Vitória"
          ],
          [
           "Nossa Senhora da Vitória"
          ],
          [
           "Nossa Senhora da Vitória"
          ],
          [
           "Nossa Senhora da Vitória"
          ],
          [
           "Nossa Senhora da Vitória"
          ],
          [
           "Nossa Senhora da Vitória"
          ],
          [
           "Nossa Senhora da Vitória"
          ],
          [
           "Nossa Senhora da Vitória"
          ],
          [
           "Nossa Senhora da Vitória"
          ],
          [
           "Nossa Senhora da Vitória"
          ],
          [
           "Nossa Senhora da Vitória"
          ],
          [
           "Nossa Senhora da Vitória"
          ],
          [
           "Nossa Senhora da Vitória"
          ],
          [
           "Nossa Senhora da Vitória"
          ],
          [
           "Nossa Senhora da Vitória"
          ],
          [
           "Nossa Senhora da Vitória"
          ],
          [
           "Nossa Senhora da Vitória"
          ],
          [
           "Nossa Senhora da Vitória"
          ],
          [
           "Nossa Senhora da Vitória"
          ],
          [
           "Nossa Senhora da Vitória"
          ],
          [
           "Nossa Senhora da Vitória"
          ],
          [
           "Nossa Senhora da Vitória"
          ],
          [
           "Nossa Senhora da Vitória"
          ],
          [
           "Nossa Senhora da Vitória"
          ],
          [
           "Nossa Senhora da Vitória"
          ],
          [
           "Nossa Senhora da Vitória"
          ],
          [
           "Nossa Senhora da Vitória"
          ],
          [
           "Nossa Senhora da Vitória"
          ],
          [
           "Nossa Senhora da Vitória"
          ],
          [
           "Nossa Senhora da Vitória"
          ],
          [
           "Nossa Senhora da Vitória"
          ],
          [
           "Nossa Senhora da Vitória"
          ],
          [
           "Nossa Senhora da Vitória"
          ],
          [
           "Nossa Senhora da Vitória"
          ],
          [
           "Nossa Senhora da Vitória"
          ],
          [
           "Nossa Senhora da Vitória"
          ],
          [
           "Nossa Senhora da Vitória"
          ],
          [
           "Nossa Senhora da Vitória"
          ],
          [
           "Nossa Senhora da Vitória"
          ],
          [
           "Nossa Senhora da Vitória"
          ],
          [
           "Nossa Senhora da Vitória"
          ],
          [
           "Nossa Senhora da Vitória"
          ],
          [
           "Nossa Senhora da Vitória"
          ],
          [
           "Nossa Senhora da Vitória"
          ],
          [
           "Nossa Senhora da Vitória"
          ],
          [
           "Nossa Senhora da Vitória"
          ],
          [
           "Nossa Senhora da Vitória"
          ],
          [
           "Nossa Senhora da Vitória"
          ],
          [
           "Nossa Senhora da Vitória"
          ],
          [
           "Nossa Senhora da Vitória"
          ],
          [
           "Nossa Senhora da Vitória"
          ],
          [
           "Nossa Senhora da Vitória"
          ],
          [
           "Nossa Senhora da Vitória"
          ],
          [
           "Nossa Senhora da Vitória"
          ],
          [
           "Nossa Senhora da Vitória"
          ],
          [
           "Nossa Senhora da Vitória"
          ],
          [
           "Nossa Senhora da Vitória"
          ],
          [
           "Nossa Senhora da Vitória"
          ],
          [
           "Nossa Senhora da Vitória"
          ],
          [
           "Nossa Senhora da Vitória"
          ],
          [
           "Nossa Senhora da Vitória"
          ],
          [
           "Nossa Senhora da Vitória"
          ],
          [
           "Nossa Senhora da Vitória"
          ],
          [
           "Nossa Senhora da Vitória"
          ],
          [
           "Nossa Senhora da Vitória"
          ],
          [
           "Nossa Senhora da Vitória"
          ],
          [
           "Nossa Senhora da Vitória"
          ],
          [
           "Nossa Senhora da Vitória"
          ],
          [
           "Nossa Senhora da Vitória"
          ],
          [
           "Nossa Senhora da Vitória"
          ],
          [
           "Nossa Senhora da Vitória"
          ],
          [
           "Nossa Senhora da Vitória"
          ],
          [
           "Nossa Senhora da Vitória"
          ],
          [
           "Nossa Senhora da Vitória"
          ],
          [
           "Nossa Senhora da Vitória"
          ],
          [
           "Nossa Senhora da Vitória"
          ],
          [
           "Nossa Senhora da Vitória"
          ],
          [
           "Nossa Senhora da Vitória"
          ],
          [
           "Nossa Senhora da Vitória"
          ],
          [
           "Nossa Senhora da Vitória"
          ],
          [
           "Nossa Senhora da Vitória"
          ],
          [
           "Nossa Senhora da Vitória"
          ],
          [
           "Nossa Senhora da Vitória"
          ],
          [
           "Nossa Senhora da Vitória"
          ],
          [
           "Nossa Senhora da Vitória"
          ],
          [
           "Nossa Senhora da Vitória"
          ],
          [
           "Nossa Senhora da Vitória"
          ],
          [
           "Nossa Senhora da Vitória"
          ],
          [
           "Nossa Senhora da Vitória"
          ],
          [
           "Nossa Senhora da Vitória"
          ],
          [
           "Nossa Senhora da Vitória"
          ],
          [
           "Nossa Senhora da Vitória"
          ],
          [
           "Nossa Senhora da Vitória"
          ],
          [
           "Nossa Senhora da Vitória"
          ],
          [
           "Nossa Senhora da Vitória"
          ],
          [
           "Nossa Senhora da Vitória"
          ],
          [
           "Nossa Senhora da Vitória"
          ],
          [
           "Nossa Senhora da Vitória"
          ],
          [
           "Nossa Senhora da Vitória"
          ],
          [
           "Nossa Senhora da Vitória"
          ],
          [
           "Nossa Senhora da Vitória"
          ],
          [
           "Nossa Senhora da Vitória"
          ],
          [
           "Nossa Senhora da Vitória"
          ],
          [
           "Nossa Senhora da Vitória"
          ],
          [
           "Nossa Senhora da Vitória"
          ],
          [
           "Nossa Senhora da Vitória"
          ],
          [
           "Nossa Senhora da Vitória"
          ],
          [
           "Nossa Senhora da Vitória"
          ],
          [
           "Nossa Senhora da Vitória"
          ],
          [
           "Nossa Senhora da Vitória"
          ],
          [
           "Nossa Senhora da Vitória"
          ],
          [
           "Nossa Senhora da Vitória"
          ],
          [
           "Nossa Senhora da Vitória"
          ],
          [
           "Nossa Senhora da Vitória"
          ],
          [
           "Nossa Senhora da Vitória"
          ],
          [
           "Nossa Senhora da Vitória"
          ],
          [
           "Nossa Senhora da Vitória"
          ],
          [
           "Nossa Senhora da Vitória"
          ],
          [
           "Nossa Senhora da Vitória"
          ],
          [
           "Nossa Senhora da Vitória"
          ],
          [
           "Nossa Senhora da Vitória"
          ],
          [
           "Nossa Senhora da Vitória"
          ],
          [
           "Nossa Senhora da Vitória"
          ],
          [
           "Nossa Senhora da Vitória"
          ],
          [
           "Nossa Senhora da Vitória"
          ],
          [
           "Nossa Senhora da Vitória"
          ],
          [
           "Nossa Senhora da Vitória"
          ],
          [
           "Nossa Senhora da Vitória"
          ],
          [
           "Nossa Senhora da Vitória"
          ],
          [
           "Nossa Senhora da Vitória"
          ],
          [
           "Nossa Senhora da Vitória"
          ],
          [
           "Nossa Senhora da Vitória"
          ],
          [
           "Nossa Senhora da Vitória"
          ],
          [
           "Nossa Senhora da Vitória"
          ],
          [
           "Nossa Senhora da Vitória"
          ],
          [
           "Nossa Senhora da Vitória"
          ],
          [
           "Nossa Senhora da Vitória"
          ],
          [
           "Nossa Senhora da Vitória"
          ],
          [
           "Nossa Senhora da Vitória"
          ],
          [
           "Nossa Senhora da Vitória"
          ],
          [
           "Nossa Senhora da Vitória"
          ],
          [
           "Nossa Senhora da Vitória"
          ],
          [
           "Nossa Senhora da Vitória"
          ],
          [
           "Nossa Senhora da Vitória"
          ],
          [
           "Nossa Senhora da Vitória"
          ],
          [
           "Nossa Senhora da Vitória"
          ],
          [
           "Nossa Senhora da Vitória"
          ],
          [
           "Nossa Senhora da Vitória"
          ],
          [
           "Nossa Senhora da Vitória"
          ],
          [
           "Nossa Senhora da Vitória"
          ],
          [
           "Nossa Senhora da Vitória"
          ],
          [
           "Nossa Senhora da Vitória"
          ],
          [
           "Nossa Senhora da Vitória"
          ],
          [
           "Nossa Senhora da Vitória"
          ],
          [
           "Nossa Senhora da Vitória"
          ],
          [
           "Nossa Senhora da Vitória"
          ],
          [
           "Nossa Senhora da Vitória"
          ],
          [
           "Nossa Senhora da Vitória"
          ],
          [
           "Nossa Senhora da Vitória"
          ],
          [
           "Nossa Senhora da Vitória"
          ],
          [
           "Nossa Senhora da Vitória"
          ],
          [
           "Nossa Senhora da Vitória"
          ],
          [
           "Nossa Senhora da Vitória"
          ],
          [
           "Nossa Senhora da Vitória"
          ],
          [
           "Nossa Senhora da Vitória"
          ],
          [
           "Nossa Senhora da Vitória"
          ],
          [
           "Nossa Senhora da Vitória"
          ],
          [
           "Nossa Senhora da Vitória"
          ],
          [
           "Nossa Senhora da Vitória"
          ],
          [
           "Nossa Senhora da Vitória"
          ],
          [
           "Nossa Senhora da Vitória"
          ],
          [
           "Nossa Senhora da Vitória"
          ],
          [
           "Nossa Senhora da Vitória"
          ],
          [
           "Nossa Senhora da Vitória"
          ],
          [
           "Nossa Senhora da Vitória"
          ],
          [
           "Nossa Senhora da Vitória"
          ],
          [
           "Nossa Senhora da Vitória"
          ],
          [
           "Nossa Senhora da Vitória"
          ],
          [
           "Nossa Senhora da Vitória"
          ],
          [
           "Nossa Senhora da Vitória"
          ],
          [
           "Nossa Senhora da Vitória"
          ],
          [
           "Nossa Senhora da Vitória"
          ],
          [
           "Nossa Senhora da Vitória"
          ],
          [
           "Nossa Senhora da Vitória"
          ],
          [
           "Nossa Senhora da Vitória"
          ],
          [
           "Nossa Senhora da Vitória"
          ],
          [
           "Nossa Senhora da Vitória"
          ],
          [
           "Nossa Senhora da Vitória"
          ],
          [
           "Nossa Senhora da Vitória"
          ],
          [
           "Nossa Senhora da Vitória"
          ],
          [
           "Nossa Senhora da Vitória"
          ],
          [
           "Nossa Senhora da Vitória"
          ],
          [
           "Nossa Senhora da Vitória"
          ],
          [
           "Nossa Senhora da Vitória"
          ],
          [
           "Nossa Senhora da Vitória"
          ],
          [
           "Nossa Senhora da Vitória"
          ],
          [
           "Nossa Senhora da Vitória"
          ],
          [
           "Nossa Senhora da Vitória"
          ],
          [
           "Nossa Senhora da Vitória"
          ],
          [
           "Nossa Senhora da Vitória"
          ],
          [
           "Nossa Senhora da Vitória"
          ],
          [
           "Nossa Senhora da Vitória"
          ],
          [
           "Nossa Senhora da Vitória"
          ],
          [
           "Nossa Senhora da Vitória"
          ],
          [
           "Nossa Senhora da Vitória"
          ],
          [
           "Nossa Senhora da Vitória"
          ],
          [
           "Nossa Senhora da Vitória"
          ],
          [
           "Nossa Senhora da Vitória"
          ],
          [
           "Nossa Senhora da Vitória"
          ],
          [
           "Nossa Senhora da Vitória"
          ],
          [
           "Nossa Senhora da Vitória"
          ],
          [
           "Nossa Senhora da Vitória"
          ],
          [
           "Nossa Senhora da Vitória"
          ],
          [
           "Nossa Senhora da Vitória"
          ],
          [
           "Nossa Senhora da Vitória"
          ],
          [
           "Nossa Senhora da Vitória"
          ],
          [
           "Nossa Senhora da Vitória"
          ],
          [
           "Nossa Senhora da Vitória"
          ],
          [
           "Nossa Senhora da Vitória"
          ],
          [
           "Nossa Senhora da Vitória"
          ],
          [
           "Nossa Senhora da Vitória"
          ],
          [
           "Nossa Senhora da Vitória"
          ],
          [
           "Nossa Senhora da Vitória"
          ],
          [
           "Nossa Senhora da Vitória"
          ],
          [
           "Nossa Senhora da Vitória"
          ],
          [
           "Nossa Senhora da Vitória"
          ],
          [
           "Nossa Senhora da Vitória"
          ],
          [
           "Nossa Senhora da Vitória"
          ],
          [
           "Nossa Senhora da Vitória"
          ],
          [
           "Nossa Senhora da Vitória"
          ],
          [
           "Nossa Senhora da Vitória"
          ],
          [
           "Nossa Senhora da Vitória"
          ],
          [
           "Nossa Senhora da Vitória"
          ],
          [
           "Nossa Senhora da Vitória"
          ],
          [
           "Nossa Senhora da Vitória"
          ],
          [
           "Nossa Senhora da Vitória"
          ],
          [
           "Nossa Senhora da Vitória"
          ],
          [
           "Nossa Senhora da Vitória"
          ],
          [
           "Nossa Senhora da Vitória"
          ],
          [
           "Nossa Senhora da Vitória"
          ],
          [
           "Nossa Senhora da Vitória"
          ],
          [
           "Nossa Senhora da Vitória"
          ],
          [
           "Nossa Senhora da Vitória"
          ],
          [
           "Nossa Senhora da Vitória"
          ],
          [
           "Nossa Senhora da Vitória"
          ],
          [
           "Nossa Senhora da Vitória"
          ],
          [
           "Nossa Senhora da Vitória"
          ],
          [
           "Nossa Senhora da Vitória"
          ],
          [
           "Nossa Senhora da Vitória"
          ],
          [
           "Nossa Senhora da Vitória"
          ],
          [
           "Nossa Senhora da Vitória"
          ],
          [
           "Nossa Senhora da Vitória"
          ],
          [
           "Nossa Senhora da Vitória"
          ],
          [
           "Nossa Senhora da Vitória"
          ],
          [
           "Nossa Senhora da Vitória"
          ],
          [
           "Nossa Senhora da Vitória"
          ],
          [
           "Nossa Senhora da Vitória"
          ],
          [
           "Nossa Senhora da Vitória"
          ],
          [
           "Nossa Senhora da Vitória"
          ],
          [
           "Nossa Senhora da Vitória"
          ],
          [
           "Nossa Senhora da Vitória"
          ],
          [
           "Nossa Senhora da Vitória"
          ],
          [
           "Nossa Senhora da Vitória"
          ],
          [
           "Nossa Senhora da Vitória"
          ],
          [
           "Nossa Senhora da Vitória"
          ],
          [
           "Nossa Senhora da Vitória"
          ],
          [
           "Nossa Senhora da Vitória"
          ],
          [
           "Nossa Senhora da Vitória"
          ],
          [
           "Nossa Senhora da Vitória"
          ],
          [
           "Nossa Senhora da Vitória"
          ],
          [
           "Nossa Senhora da Vitória"
          ],
          [
           "Nossa Senhora da Vitória"
          ],
          [
           "Nossa Senhora da Vitória"
          ],
          [
           "Nossa Senhora da Vitória"
          ],
          [
           "Nossa Senhora da Vitória"
          ],
          [
           "Nossa Senhora da Vitória"
          ],
          [
           "Nossa Senhora da Vitória"
          ],
          [
           "Nossa Senhora da Vitória"
          ],
          [
           "Nossa Senhora da Vitória"
          ]
         ],
         "hovertemplate": "<b>%{hovertext}</b><br><br>bairro=%{customdata[0]}<br>latitude_origin=%{lat}<br>longitude_origin=%{lon}<extra></extra>",
         "hovertext": [
          "Nossa Senhora da Vitória",
          "Nossa Senhora da Vitória",
          "Nossa Senhora da Vitória",
          "Nossa Senhora da Vitória",
          "Nossa Senhora da Vitória",
          "Nossa Senhora da Vitória",
          "Nossa Senhora da Vitória",
          "Nossa Senhora da Vitória",
          "Nossa Senhora da Vitória",
          "Nossa Senhora da Vitória",
          "Nossa Senhora da Vitória",
          "Nossa Senhora da Vitória",
          "Nossa Senhora da Vitória",
          "Nossa Senhora da Vitória",
          "Nossa Senhora da Vitória",
          "Nossa Senhora da Vitória",
          "Nossa Senhora da Vitória",
          "Nossa Senhora da Vitória",
          "Nossa Senhora da Vitória",
          "Nossa Senhora da Vitória",
          "Nossa Senhora da Vitória",
          "Nossa Senhora da Vitória",
          "Nossa Senhora da Vitória",
          "Nossa Senhora da Vitória",
          "Nossa Senhora da Vitória",
          "Nossa Senhora da Vitória",
          "Nossa Senhora da Vitória",
          "Nossa Senhora da Vitória",
          "Nossa Senhora da Vitória",
          "Nossa Senhora da Vitória",
          "Nossa Senhora da Vitória",
          "Nossa Senhora da Vitória",
          "Nossa Senhora da Vitória",
          "Nossa Senhora da Vitória",
          "Nossa Senhora da Vitória",
          "Nossa Senhora da Vitória",
          "Nossa Senhora da Vitória",
          "Nossa Senhora da Vitória",
          "Nossa Senhora da Vitória",
          "Nossa Senhora da Vitória",
          "Nossa Senhora da Vitória",
          "Nossa Senhora da Vitória",
          "Nossa Senhora da Vitória",
          "Nossa Senhora da Vitória",
          "Nossa Senhora da Vitória",
          "Nossa Senhora da Vitória",
          "Nossa Senhora da Vitória",
          "Nossa Senhora da Vitória",
          "Nossa Senhora da Vitória",
          "Nossa Senhora da Vitória",
          "Nossa Senhora da Vitória",
          "Nossa Senhora da Vitória",
          "Nossa Senhora da Vitória",
          "Nossa Senhora da Vitória",
          "Nossa Senhora da Vitória",
          "Nossa Senhora da Vitória",
          "Nossa Senhora da Vitória",
          "Nossa Senhora da Vitória",
          "Nossa Senhora da Vitória",
          "Nossa Senhora da Vitória",
          "Nossa Senhora da Vitória",
          "Nossa Senhora da Vitória",
          "Nossa Senhora da Vitória",
          "Nossa Senhora da Vitória",
          "Nossa Senhora da Vitória",
          "Nossa Senhora da Vitória",
          "Nossa Senhora da Vitória",
          "Nossa Senhora da Vitória",
          "Nossa Senhora da Vitória",
          "Nossa Senhora da Vitória",
          "Nossa Senhora da Vitória",
          "Nossa Senhora da Vitória",
          "Nossa Senhora da Vitória",
          "Nossa Senhora da Vitória",
          "Nossa Senhora da Vitória",
          "Nossa Senhora da Vitória",
          "Nossa Senhora da Vitória",
          "Nossa Senhora da Vitória",
          "Nossa Senhora da Vitória",
          "Nossa Senhora da Vitória",
          "Nossa Senhora da Vitória",
          "Nossa Senhora da Vitória",
          "Nossa Senhora da Vitória",
          "Nossa Senhora da Vitória",
          "Nossa Senhora da Vitória",
          "Nossa Senhora da Vitória",
          "Nossa Senhora da Vitória",
          "Nossa Senhora da Vitória",
          "Nossa Senhora da Vitória",
          "Nossa Senhora da Vitória",
          "Nossa Senhora da Vitória",
          "Nossa Senhora da Vitória",
          "Nossa Senhora da Vitória",
          "Nossa Senhora da Vitória",
          "Nossa Senhora da Vitória",
          "Nossa Senhora da Vitória",
          "Nossa Senhora da Vitória",
          "Nossa Senhora da Vitória",
          "Nossa Senhora da Vitória",
          "Nossa Senhora da Vitória",
          "Nossa Senhora da Vitória",
          "Nossa Senhora da Vitória",
          "Nossa Senhora da Vitória",
          "Nossa Senhora da Vitória",
          "Nossa Senhora da Vitória",
          "Nossa Senhora da Vitória",
          "Nossa Senhora da Vitória",
          "Nossa Senhora da Vitória",
          "Nossa Senhora da Vitória",
          "Nossa Senhora da Vitória",
          "Nossa Senhora da Vitória",
          "Nossa Senhora da Vitória",
          "Nossa Senhora da Vitória",
          "Nossa Senhora da Vitória",
          "Nossa Senhora da Vitória",
          "Nossa Senhora da Vitória",
          "Nossa Senhora da Vitória",
          "Nossa Senhora da Vitória",
          "Nossa Senhora da Vitória",
          "Nossa Senhora da Vitória",
          "Nossa Senhora da Vitória",
          "Nossa Senhora da Vitória",
          "Nossa Senhora da Vitória",
          "Nossa Senhora da Vitória",
          "Nossa Senhora da Vitória",
          "Nossa Senhora da Vitória",
          "Nossa Senhora da Vitória",
          "Nossa Senhora da Vitória",
          "Nossa Senhora da Vitória",
          "Nossa Senhora da Vitória",
          "Nossa Senhora da Vitória",
          "Nossa Senhora da Vitória",
          "Nossa Senhora da Vitória",
          "Nossa Senhora da Vitória",
          "Nossa Senhora da Vitória",
          "Nossa Senhora da Vitória",
          "Nossa Senhora da Vitória",
          "Nossa Senhora da Vitória",
          "Nossa Senhora da Vitória",
          "Nossa Senhora da Vitória",
          "Nossa Senhora da Vitória",
          "Nossa Senhora da Vitória",
          "Nossa Senhora da Vitória",
          "Nossa Senhora da Vitória",
          "Nossa Senhora da Vitória",
          "Nossa Senhora da Vitória",
          "Nossa Senhora da Vitória",
          "Nossa Senhora da Vitória",
          "Nossa Senhora da Vitória",
          "Nossa Senhora da Vitória",
          "Nossa Senhora da Vitória",
          "Nossa Senhora da Vitória",
          "Nossa Senhora da Vitória",
          "Nossa Senhora da Vitória",
          "Nossa Senhora da Vitória",
          "Nossa Senhora da Vitória",
          "Nossa Senhora da Vitória",
          "Nossa Senhora da Vitória",
          "Nossa Senhora da Vitória",
          "Nossa Senhora da Vitória",
          "Nossa Senhora da Vitória",
          "Nossa Senhora da Vitória",
          "Nossa Senhora da Vitória",
          "Nossa Senhora da Vitória",
          "Nossa Senhora da Vitória",
          "Nossa Senhora da Vitória",
          "Nossa Senhora da Vitória",
          "Nossa Senhora da Vitória",
          "Nossa Senhora da Vitória",
          "Nossa Senhora da Vitória",
          "Nossa Senhora da Vitória",
          "Nossa Senhora da Vitória",
          "Nossa Senhora da Vitória",
          "Nossa Senhora da Vitória",
          "Nossa Senhora da Vitória",
          "Nossa Senhora da Vitória",
          "Nossa Senhora da Vitória",
          "Nossa Senhora da Vitória",
          "Nossa Senhora da Vitória",
          "Nossa Senhora da Vitória",
          "Nossa Senhora da Vitória",
          "Nossa Senhora da Vitória",
          "Nossa Senhora da Vitória",
          "Nossa Senhora da Vitória",
          "Nossa Senhora da Vitória",
          "Nossa Senhora da Vitória",
          "Nossa Senhora da Vitória",
          "Nossa Senhora da Vitória",
          "Nossa Senhora da Vitória",
          "Nossa Senhora da Vitória",
          "Nossa Senhora da Vitória",
          "Nossa Senhora da Vitória",
          "Nossa Senhora da Vitória",
          "Nossa Senhora da Vitória",
          "Nossa Senhora da Vitória",
          "Nossa Senhora da Vitória",
          "Nossa Senhora da Vitória",
          "Nossa Senhora da Vitória",
          "Nossa Senhora da Vitória",
          "Nossa Senhora da Vitória",
          "Nossa Senhora da Vitória",
          "Nossa Senhora da Vitória",
          "Nossa Senhora da Vitória",
          "Nossa Senhora da Vitória",
          "Nossa Senhora da Vitória",
          "Nossa Senhora da Vitória",
          "Nossa Senhora da Vitória",
          "Nossa Senhora da Vitória",
          "Nossa Senhora da Vitória",
          "Nossa Senhora da Vitória",
          "Nossa Senhora da Vitória",
          "Nossa Senhora da Vitória",
          "Nossa Senhora da Vitória",
          "Nossa Senhora da Vitória",
          "Nossa Senhora da Vitória",
          "Nossa Senhora da Vitória",
          "Nossa Senhora da Vitória",
          "Nossa Senhora da Vitória",
          "Nossa Senhora da Vitória",
          "Nossa Senhora da Vitória",
          "Nossa Senhora da Vitória",
          "Nossa Senhora da Vitória",
          "Nossa Senhora da Vitória",
          "Nossa Senhora da Vitória",
          "Nossa Senhora da Vitória",
          "Nossa Senhora da Vitória",
          "Nossa Senhora da Vitória",
          "Nossa Senhora da Vitória",
          "Nossa Senhora da Vitória",
          "Nossa Senhora da Vitória",
          "Nossa Senhora da Vitória",
          "Nossa Senhora da Vitória",
          "Nossa Senhora da Vitória",
          "Nossa Senhora da Vitória",
          "Nossa Senhora da Vitória",
          "Nossa Senhora da Vitória",
          "Nossa Senhora da Vitória",
          "Nossa Senhora da Vitória",
          "Nossa Senhora da Vitória",
          "Nossa Senhora da Vitória",
          "Nossa Senhora da Vitória",
          "Nossa Senhora da Vitória",
          "Nossa Senhora da Vitória",
          "Nossa Senhora da Vitória",
          "Nossa Senhora da Vitória",
          "Nossa Senhora da Vitória",
          "Nossa Senhora da Vitória",
          "Nossa Senhora da Vitória",
          "Nossa Senhora da Vitória",
          "Nossa Senhora da Vitória",
          "Nossa Senhora da Vitória",
          "Nossa Senhora da Vitória",
          "Nossa Senhora da Vitória",
          "Nossa Senhora da Vitória",
          "Nossa Senhora da Vitória",
          "Nossa Senhora da Vitória",
          "Nossa Senhora da Vitória",
          "Nossa Senhora da Vitória",
          "Nossa Senhora da Vitória",
          "Nossa Senhora da Vitória",
          "Nossa Senhora da Vitória",
          "Nossa Senhora da Vitória",
          "Nossa Senhora da Vitória",
          "Nossa Senhora da Vitória",
          "Nossa Senhora da Vitória",
          "Nossa Senhora da Vitória",
          "Nossa Senhora da Vitória",
          "Nossa Senhora da Vitória",
          "Nossa Senhora da Vitória",
          "Nossa Senhora da Vitória",
          "Nossa Senhora da Vitória",
          "Nossa Senhora da Vitória",
          "Nossa Senhora da Vitória",
          "Nossa Senhora da Vitória",
          "Nossa Senhora da Vitória",
          "Nossa Senhora da Vitória",
          "Nossa Senhora da Vitória",
          "Nossa Senhora da Vitória",
          "Nossa Senhora da Vitória",
          "Nossa Senhora da Vitória",
          "Nossa Senhora da Vitória",
          "Nossa Senhora da Vitória",
          "Nossa Senhora da Vitória",
          "Nossa Senhora da Vitória",
          "Nossa Senhora da Vitória",
          "Nossa Senhora da Vitória",
          "Nossa Senhora da Vitória",
          "Nossa Senhora da Vitória",
          "Nossa Senhora da Vitória",
          "Nossa Senhora da Vitória",
          "Nossa Senhora da Vitória",
          "Nossa Senhora da Vitória",
          "Nossa Senhora da Vitória",
          "Nossa Senhora da Vitória",
          "Nossa Senhora da Vitória",
          "Nossa Senhora da Vitória",
          "Nossa Senhora da Vitória",
          "Nossa Senhora da Vitória",
          "Nossa Senhora da Vitória",
          "Nossa Senhora da Vitória",
          "Nossa Senhora da Vitória",
          "Nossa Senhora da Vitória",
          "Nossa Senhora da Vitória",
          "Nossa Senhora da Vitória",
          "Nossa Senhora da Vitória",
          "Nossa Senhora da Vitória",
          "Nossa Senhora da Vitória",
          "Nossa Senhora da Vitória",
          "Nossa Senhora da Vitória",
          "Nossa Senhora da Vitória",
          "Nossa Senhora da Vitória",
          "Nossa Senhora da Vitória",
          "Nossa Senhora da Vitória",
          "Nossa Senhora da Vitória",
          "Nossa Senhora da Vitória",
          "Nossa Senhora da Vitória",
          "Nossa Senhora da Vitória",
          "Nossa Senhora da Vitória",
          "Nossa Senhora da Vitória",
          "Nossa Senhora da Vitória",
          "Nossa Senhora da Vitória",
          "Nossa Senhora da Vitória"
         ],
         "lat": [
          -14.9117154,
          -14.8403975,
          -14.8403975,
          -14.8454834,
          -14.8432332,
          -14.8451891,
          -14.8454834,
          -14.8432332,
          -14.8364846,
          -14.8454834,
          -14.8484664,
          -14.8403975,
          -14.8451891,
          -14.8403975,
          -14.8403975,
          -14.8403975,
          -14.8438677,
          -14.8454834,
          -14.8403975,
          -14.8403975,
          -14.8397473,
          -14.8454834,
          -14.8403975,
          -14.8454834,
          -14.8454834,
          -14.8451694,
          -14.8403975,
          -14.8484664,
          -14.8461131,
          -14.8454834,
          -14.8454834,
          -14.8454834,
          -14.8444041,
          -14.841768,
          -14.8451891,
          -14.8444041,
          -14.8432332,
          -14.8444041,
          -14.8364846,
          -14.8364846,
          -14.8451891,
          -14.8403975,
          -14.8403975,
          -14.8444041,
          -14.8454834,
          -14.8403975,
          -14.8403975,
          -14.8403975,
          -14.8444041,
          -14.8454834,
          -14.8451694,
          -14.8403975,
          -14.8432332,
          -14.8444041,
          -14.8444041,
          -14.8432332,
          -14.8454834,
          -14.8364846,
          -14.8432332,
          -14.8461131,
          -14.8454834,
          -14.8403975,
          -14.8444041,
          -14.8454834,
          -14.8403975,
          -14.8403975,
          -14.8403975,
          -14.8444041,
          -14.8444041,
          -14.8451891,
          -14.8403975,
          -14.8454834,
          -14.8454834,
          -14.8403975,
          -14.8454834,
          -14.8454834,
          -14.8403975,
          -14.8425475,
          -14.8454834,
          -14.8454834,
          -14.8403975,
          -14.8451891,
          -14.8451891,
          -14.8432332,
          -14.8461131,
          -14.8461131,
          -14.8444041,
          -14.8403975,
          -14.8461131,
          -14.8364846,
          -14.8403975,
          -14.8444041,
          -14.8403975,
          -14.8444041,
          -14.8461131,
          -14.8403975,
          -14.8417744,
          -14.8454834,
          -14.8394981,
          -14.8403975,
          -14.8403975,
          -14.8417744,
          -14.8444041,
          -14.8452087,
          -14.8444041,
          -14.8451891,
          -14.8403975,
          -14.8403975,
          -14.8403975,
          -14.8403975,
          -14.8403975,
          -14.8435341,
          -14.8454834,
          -14.8416566,
          -14.8403975,
          -14.8385183,
          -14.8403975,
          -14.8432332,
          -14.8451891,
          -14.8403975,
          -14.8444041,
          -14.8403975,
          -14.8444041,
          -14.8444041,
          -14.8444041,
          -14.8461131,
          -14.8461131,
          -14.8403975,
          -14.8454834,
          -14.8412186,
          -14.8432332,
          -14.8403975,
          -14.8403975,
          -14.8403975,
          -14.8403975,
          -14.8403975,
          -14.8438677,
          -14.8451891,
          -14.8444041,
          -14.8438677,
          -14.8403975,
          -14.8420558,
          -14.8403975,
          -14.841768,
          -14.8454834,
          -14.8403975,
          -14.8418334,
          -14.8403975,
          -14.8364846,
          -14.8461131,
          -14.83906,
          -14.8403975,
          -14.8451694,
          -14.8420558,
          -14.8432332,
          -14.8432332,
          -14.8432332,
          -14.8451694,
          -14.8444041,
          -14.8444041,
          -14.8403975,
          -14.8403975,
          -14.8454834,
          -14.8403975,
          -14.9117154,
          -14.8461131,
          -14.8417744,
          -14.8444041,
          -14.8444041,
          -14.8432332,
          -14.8364846,
          -14.8461131,
          -14.8403975,
          -14.8451694,
          -14.9117154,
          -14.8420558,
          -14.8432332,
          -14.8403975,
          -14.8454834,
          -14.8432332,
          -14.8451891,
          -14.8454834,
          -14.8432332,
          -14.8364846,
          -14.8454834,
          -14.8403975,
          -14.8438677,
          -14.8454834,
          -14.8403975,
          -14.8403975,
          -14.8397473,
          -14.8454834,
          -14.8403975,
          -14.8454834,
          -14.8454834,
          -14.8451694,
          -14.8444041,
          -14.8403975,
          -14.8484664,
          -14.8451891,
          -14.8454834,
          -14.8454834,
          -14.8444041,
          -14.8444041,
          -14.8432332,
          -14.8454834,
          -14.8403975,
          -14.8403975,
          -14.8403975,
          -14.8444041,
          -14.8454834,
          -14.8403975,
          -14.8444041,
          -14.8454834,
          -14.8454834,
          -14.8364846,
          -14.8403975,
          -14.8432332,
          -14.8432332,
          -14.8454834,
          -14.8403975,
          -14.8444041,
          -14.8454834,
          -14.8403975,
          -14.8403975,
          -14.8403975,
          -14.8438677,
          -14.8403975,
          -14.8454834,
          -14.8454834,
          -14.8403975,
          -14.8454834,
          -14.8454834,
          -14.8403975,
          -14.8454834,
          -14.8454834,
          -14.8403975,
          -14.8461131,
          -14.8461131,
          -14.8454834,
          -14.8403975,
          -14.8364846,
          -14.8403975,
          -14.8403975,
          -14.8444041,
          -14.8444041,
          -14.8403975,
          -14.8403975,
          -14.8403975,
          -14.8454834,
          -14.8454834,
          -14.8454834,
          -14.8454834,
          -14.8454834,
          -14.8454834,
          -14.8454834,
          -14.8454834,
          -14.8454834,
          -14.8454834,
          -14.8454834,
          -14.8454834,
          -14.8454834,
          -14.8403975,
          -14.8403975,
          -14.8417744,
          -14.8452087,
          -14.8444041,
          -14.8451891,
          -14.8403975,
          -14.8403975,
          -14.8403975,
          -14.8432332,
          -14.8403975,
          -14.8403975,
          -14.8403975,
          -14.8435341,
          -14.8454834,
          -14.8403975,
          -14.8385183,
          -14.8403975,
          -14.8451891,
          -14.8403975,
          -14.8403975,
          -14.8444041,
          -14.8403975,
          -14.8444041,
          -14.8444041,
          -14.8403975,
          -14.8444041,
          -14.8461131,
          -14.8451891,
          -14.8461131,
          -14.8403975,
          -14.8454834,
          -14.8438677,
          -14.8432332,
          -14.8403975,
          -14.8403975,
          -14.8403975,
          -14.8452087,
          -14.8403975,
          -14.8403975,
          -14.8403975,
          -14.8438677,
          -14.8451891,
          -14.8444041,
          -14.8438677,
          -14.8403975,
          -14.8420558,
          -14.8403975,
          -14.8444041,
          -14.8403975,
          -14.8403975,
          -14.8454834,
          -14.8403975,
          -14.8418334,
          -14.8364846,
          -14.8461131,
          -14.8438677,
          -14.8403975,
          -14.8461131,
          -14.8403975
         ],
         "legendgroup": "Nossa Senhora da Vitória",
         "lon": [
          -39.1467523,
          -39.0257076,
          -39.0257076,
          -39.0255602,
          -39.0270264,
          -39.0270264,
          -39.0255602,
          -39.0270264,
          -39.02892,
          -39.0255602,
          -39.0271893,
          -39.0257076,
          -39.0270264,
          -39.0257076,
          -39.0257076,
          -39.0257076,
          -39.0268635,
          -39.0255602,
          -39.0257076,
          -39.0257076,
          -39.0361481,
          -39.0255602,
          -39.0257076,
          -39.0255602,
          -39.0255602,
          -39.0263748,
          -39.0257076,
          -39.0271893,
          -39.0278175,
          -39.0255602,
          -39.0255602,
          -39.0255602,
          -39.0271893,
          -39.0283295,
          -39.0270264,
          -39.0271893,
          -39.0270264,
          -39.0271893,
          -39.02892,
          -39.02892,
          -39.0270264,
          -39.0257076,
          -39.0257076,
          -39.0271893,
          -39.0255602,
          -39.0257076,
          -39.0257076,
          -39.0257076,
          -39.0271893,
          -39.0255602,
          -39.0263748,
          -39.0257076,
          -39.0270264,
          -39.0271893,
          -39.0271893,
          -39.0270264,
          -39.0255602,
          -39.02892,
          -39.0270264,
          -39.0278175,
          -39.0255602,
          -39.0257076,
          -39.0271893,
          -39.0255602,
          -39.0257076,
          -39.0257076,
          -39.0257076,
          -39.0271893,
          -39.0271893,
          -39.0270264,
          -39.0257076,
          -39.0255602,
          -39.0255602,
          -39.0257076,
          -39.0255602,
          -39.0255602,
          -39.0257076,
          -39.0338612,
          -39.0255602,
          -39.0255602,
          -39.0257076,
          -39.0270264,
          -39.0270264,
          -39.0270264,
          -39.0278175,
          -39.0278175,
          -39.0271893,
          -39.0257076,
          -39.0278175,
          -39.02892,
          -39.0257076,
          -39.0271893,
          -39.0257076,
          -39.0271893,
          -39.0278175,
          -39.0257076,
          -39.026049,
          -39.0255602,
          -39.0341481,
          -39.0257076,
          -39.0257076,
          -39.026049,
          -39.0271893,
          -39.027678,
          -39.0271893,
          -39.0270264,
          -39.0257076,
          -39.0257076,
          -39.0257076,
          -39.0257076,
          -39.0257076,
          -39.0270264,
          -39.0255602,
          -39.0258861,
          -39.0257076,
          -39.0317857,
          -39.0257076,
          -39.0270264,
          -39.0270264,
          -39.0257076,
          -39.0271893,
          -39.0257076,
          -39.0271893,
          -39.0271893,
          -39.0271893,
          -39.0278175,
          -39.0278175,
          -39.0257076,
          -39.0255602,
          -39.0288182,
          -39.0270264,
          -39.0257076,
          -39.0257076,
          -39.0257076,
          -39.0257076,
          -39.0257076,
          -39.0268635,
          -39.0270264,
          -39.0271893,
          -39.0268635,
          -39.0257076,
          -39.02820740000001,
          -39.0257076,
          -39.0283295,
          -39.0255602,
          -39.0257076,
          -39.0280037,
          -39.0257076,
          -39.02892,
          -39.0278175,
          -39.0283295,
          -39.0257076,
          -39.0263748,
          -39.02820740000001,
          -39.0270264,
          -39.0270264,
          -39.0270264,
          -39.0263748,
          -39.0271893,
          -39.0271893,
          -39.0257076,
          -39.0257076,
          -39.0255602,
          -39.0257076,
          -39.1467523,
          -39.0278175,
          -39.026049,
          -39.0271893,
          -39.0271893,
          -39.0270264,
          -39.02892,
          -39.0278175,
          -39.0257076,
          -39.0263748,
          -39.1467523,
          -39.02820740000001,
          -39.0270264,
          -39.0257076,
          -39.0255602,
          -39.0270264,
          -39.0270264,
          -39.0255602,
          -39.0270264,
          -39.02892,
          -39.0255602,
          -39.0257076,
          -39.0268635,
          -39.0255602,
          -39.0257076,
          -39.0257076,
          -39.0361481,
          -39.0255602,
          -39.0257076,
          -39.0255602,
          -39.0255602,
          -39.0263748,
          -39.0271893,
          -39.0257076,
          -39.0271893,
          -39.0270264,
          -39.0255602,
          -39.0255602,
          -39.0271893,
          -39.0271893,
          -39.0270264,
          -39.0255602,
          -39.0257076,
          -39.0257076,
          -39.0257076,
          -39.0271893,
          -39.0255602,
          -39.0257076,
          -39.0271893,
          -39.0255602,
          -39.0255602,
          -39.02892,
          -39.0257076,
          -39.0270264,
          -39.0270264,
          -39.0255602,
          -39.0257076,
          -39.0271893,
          -39.0255602,
          -39.0257076,
          -39.0257076,
          -39.0257076,
          -39.0268635,
          -39.0257076,
          -39.0255602,
          -39.0255602,
          -39.0257076,
          -39.0255602,
          -39.0255602,
          -39.0257076,
          -39.0255602,
          -39.0255602,
          -39.0257076,
          -39.0278175,
          -39.0278175,
          -39.0255602,
          -39.0257076,
          -39.02892,
          -39.0257076,
          -39.0257076,
          -39.0271893,
          -39.0271893,
          -39.0257076,
          -39.0257076,
          -39.0257076,
          -39.0255602,
          -39.0255602,
          -39.0255602,
          -39.0255602,
          -39.0255602,
          -39.0255602,
          -39.0255602,
          -39.0255602,
          -39.0255602,
          -39.0255602,
          -39.0255602,
          -39.0255602,
          -39.0255602,
          -39.0257076,
          -39.0257076,
          -39.026049,
          -39.027678,
          -39.0271893,
          -39.0270264,
          -39.0257076,
          -39.0257076,
          -39.0257076,
          -39.0270264,
          -39.0257076,
          -39.0257076,
          -39.0257076,
          -39.0270264,
          -39.0255602,
          -39.0257076,
          -39.0317857,
          -39.0257076,
          -39.0270264,
          -39.0257076,
          -39.0257076,
          -39.0271893,
          -39.0257076,
          -39.0271893,
          -39.0271893,
          -39.0257076,
          -39.0271893,
          -39.0278175,
          -39.0270264,
          -39.0278175,
          -39.0257076,
          -39.0255602,
          -39.0268635,
          -39.0270264,
          -39.0257076,
          -39.0257076,
          -39.0257076,
          -39.027678,
          -39.0257076,
          -39.0257076,
          -39.0257076,
          -39.0268635,
          -39.0270264,
          -39.0271893,
          -39.0268635,
          -39.0257076,
          -39.02820740000001,
          -39.0257076,
          -39.0271893,
          -39.0257076,
          -39.0257076,
          -39.0255602,
          -39.0257076,
          -39.0280037,
          -39.02892,
          -39.0278175,
          -39.0268635,
          -39.0257076,
          -39.0278175,
          -39.0257076
         ],
         "marker": {
          "color": "#636efa",
          "size": 12
         },
         "mode": "markers",
         "name": "Nossa Senhora da Vitória",
         "showlegend": true,
         "subplot": "mapbox",
         "type": "scattermapbox"
        },
        {
         "customdata": [
          [
           "São Francisco"
          ],
          [
           "São Francisco"
          ],
          [
           "São Francisco"
          ],
          [
           "São Francisco"
          ],
          [
           "São Francisco"
          ],
          [
           "São Francisco"
          ],
          [
           "São Francisco"
          ],
          [
           "São Francisco"
          ],
          [
           "São Francisco"
          ],
          [
           "São Francisco"
          ],
          [
           "São Francisco"
          ],
          [
           "São Francisco"
          ],
          [
           "São Francisco"
          ],
          [
           "São Francisco"
          ],
          [
           "São Francisco"
          ],
          [
           "São Francisco"
          ],
          [
           "São Francisco"
          ],
          [
           "São Francisco"
          ],
          [
           "São Francisco"
          ],
          [
           "São Francisco"
          ],
          [
           "São Francisco"
          ],
          [
           "São Francisco"
          ],
          [
           "São Francisco"
          ],
          [
           "São Francisco"
          ],
          [
           "São Francisco"
          ],
          [
           "São Francisco"
          ],
          [
           "São Francisco"
          ],
          [
           "São Francisco"
          ],
          [
           "São Francisco"
          ],
          [
           "São Francisco"
          ],
          [
           "São Francisco"
          ],
          [
           "São Francisco"
          ],
          [
           "São Francisco"
          ],
          [
           "São Francisco"
          ],
          [
           "São Francisco"
          ],
          [
           "São Francisco"
          ],
          [
           "São Francisco"
          ],
          [
           "São Francisco"
          ],
          [
           "São Francisco"
          ],
          [
           "São Francisco"
          ],
          [
           "São Francisco"
          ],
          [
           "São Francisco"
          ],
          [
           "São Francisco"
          ],
          [
           "São Francisco"
          ],
          [
           "São Francisco"
          ],
          [
           "São Francisco"
          ],
          [
           "São Francisco"
          ],
          [
           "São Francisco"
          ],
          [
           "São Francisco"
          ],
          [
           "São Francisco"
          ],
          [
           "São Francisco"
          ],
          [
           "São Francisco"
          ],
          [
           "São Francisco"
          ],
          [
           "São Francisco"
          ],
          [
           "São Francisco"
          ],
          [
           "São Francisco"
          ],
          [
           "São Francisco"
          ],
          [
           "São Francisco"
          ],
          [
           "São Francisco"
          ],
          [
           "São Francisco"
          ],
          [
           "São Francisco"
          ],
          [
           "São Francisco"
          ],
          [
           "São Francisco"
          ],
          [
           "São Francisco"
          ],
          [
           "São Francisco"
          ],
          [
           "São Francisco"
          ],
          [
           "São Francisco"
          ],
          [
           "São Francisco"
          ],
          [
           "São Francisco"
          ],
          [
           "São Francisco"
          ],
          [
           "São Francisco"
          ],
          [
           "São Francisco"
          ],
          [
           "São Francisco"
          ],
          [
           "São Francisco"
          ],
          [
           "São Francisco"
          ],
          [
           "São Francisco"
          ],
          [
           "São Francisco"
          ],
          [
           "São Francisco"
          ],
          [
           "São Francisco"
          ],
          [
           "São Francisco"
          ],
          [
           "São Francisco"
          ],
          [
           "São Francisco"
          ],
          [
           "São Francisco"
          ],
          [
           "São Francisco"
          ],
          [
           "São Francisco"
          ],
          [
           "São Francisco"
          ],
          [
           "São Francisco"
          ],
          [
           "São Francisco"
          ],
          [
           "São Francisco"
          ],
          [
           "São Francisco"
          ],
          [
           "São Francisco"
          ],
          [
           "São Francisco"
          ],
          [
           "São Francisco"
          ],
          [
           "São Francisco"
          ],
          [
           "São Francisco"
          ],
          [
           "São Francisco"
          ],
          [
           "São Francisco"
          ],
          [
           "São Francisco"
          ],
          [
           "São Francisco"
          ],
          [
           "São Francisco"
          ],
          [
           "São Francisco"
          ],
          [
           "São Francisco"
          ],
          [
           "São Francisco"
          ],
          [
           "São Francisco"
          ],
          [
           "São Francisco"
          ],
          [
           "São Francisco"
          ],
          [
           "São Francisco"
          ],
          [
           "São Francisco"
          ],
          [
           "São Francisco"
          ],
          [
           "São Francisco"
          ],
          [
           "São Francisco"
          ],
          [
           "São Francisco"
          ],
          [
           "São Francisco"
          ],
          [
           "São Francisco"
          ],
          [
           "São Francisco"
          ],
          [
           "São Francisco"
          ],
          [
           "São Francisco"
          ],
          [
           "São Francisco"
          ],
          [
           "São Francisco"
          ],
          [
           "São Francisco"
          ],
          [
           "São Francisco"
          ],
          [
           "São Francisco"
          ],
          [
           "São Francisco"
          ],
          [
           "São Francisco"
          ],
          [
           "São Francisco"
          ],
          [
           "São Francisco"
          ],
          [
           "São Francisco"
          ],
          [
           "São Francisco"
          ],
          [
           "São Francisco"
          ],
          [
           "São Francisco"
          ],
          [
           "São Francisco"
          ],
          [
           "São Francisco"
          ],
          [
           "São Francisco"
          ],
          [
           "São Francisco"
          ],
          [
           "São Francisco"
          ],
          [
           "São Francisco"
          ],
          [
           "São Francisco"
          ],
          [
           "São Francisco"
          ],
          [
           "São Francisco"
          ],
          [
           "São Francisco"
          ],
          [
           "São Francisco"
          ],
          [
           "São Francisco"
          ],
          [
           "São Francisco"
          ],
          [
           "São Francisco"
          ],
          [
           "São Francisco"
          ],
          [
           "São Francisco"
          ],
          [
           "São Francisco"
          ],
          [
           "São Francisco"
          ],
          [
           "São Francisco"
          ],
          [
           "São Francisco"
          ],
          [
           "São Francisco"
          ],
          [
           "São Francisco"
          ],
          [
           "São Francisco"
          ],
          [
           "São Francisco"
          ],
          [
           "São Francisco"
          ],
          [
           "São Francisco"
          ],
          [
           "São Francisco"
          ],
          [
           "São Francisco"
          ],
          [
           "São Francisco"
          ],
          [
           "São Francisco"
          ],
          [
           "São Francisco"
          ],
          [
           "São Francisco"
          ],
          [
           "São Francisco"
          ],
          [
           "São Francisco"
          ],
          [
           "São Francisco"
          ],
          [
           "São Francisco"
          ],
          [
           "São Francisco"
          ],
          [
           "São Francisco"
          ],
          [
           "São Francisco"
          ],
          [
           "São Francisco"
          ],
          [
           "São Francisco"
          ],
          [
           "São Francisco"
          ],
          [
           "São Francisco"
          ],
          [
           "São Francisco"
          ],
          [
           "São Francisco"
          ],
          [
           "São Francisco"
          ],
          [
           "São Francisco"
          ],
          [
           "São Francisco"
          ],
          [
           "São Francisco"
          ],
          [
           "São Francisco"
          ],
          [
           "São Francisco"
          ],
          [
           "São Francisco"
          ],
          [
           "São Francisco"
          ],
          [
           "São Francisco"
          ],
          [
           "São Francisco"
          ],
          [
           "São Francisco"
          ],
          [
           "São Francisco"
          ],
          [
           "São Francisco"
          ],
          [
           "São Francisco"
          ],
          [
           "São Francisco"
          ],
          [
           "São Francisco"
          ],
          [
           "São Francisco"
          ],
          [
           "São Francisco"
          ],
          [
           "São Francisco"
          ],
          [
           "São Francisco"
          ],
          [
           "São Francisco"
          ],
          [
           "São Francisco"
          ],
          [
           "São Francisco"
          ],
          [
           "São Francisco"
          ],
          [
           "São Francisco"
          ],
          [
           "São Francisco"
          ],
          [
           "São Francisco"
          ],
          [
           "São Francisco"
          ],
          [
           "São Francisco"
          ],
          [
           "São Francisco"
          ],
          [
           "São Francisco"
          ],
          [
           "São Francisco"
          ],
          [
           "São Francisco"
          ],
          [
           "São Francisco"
          ],
          [
           "São Francisco"
          ],
          [
           "São Francisco"
          ],
          [
           "São Francisco"
          ],
          [
           "São Francisco"
          ],
          [
           "São Francisco"
          ],
          [
           "São Francisco"
          ],
          [
           "São Francisco"
          ],
          [
           "São Francisco"
          ],
          [
           "São Francisco"
          ],
          [
           "São Francisco"
          ],
          [
           "São Francisco"
          ],
          [
           "São Francisco"
          ],
          [
           "São Francisco"
          ],
          [
           "São Francisco"
          ],
          [
           "São Francisco"
          ],
          [
           "São Francisco"
          ],
          [
           "São Francisco"
          ],
          [
           "São Francisco"
          ],
          [
           "São Francisco"
          ],
          [
           "São Francisco"
          ],
          [
           "São Francisco"
          ],
          [
           "São Francisco"
          ],
          [
           "São Francisco"
          ],
          [
           "São Francisco"
          ],
          [
           "São Francisco"
          ],
          [
           "São Francisco"
          ],
          [
           "São Francisco"
          ],
          [
           "São Francisco"
          ],
          [
           "São Francisco"
          ],
          [
           "São Francisco"
          ],
          [
           "São Francisco"
          ],
          [
           "São Francisco"
          ],
          [
           "São Francisco"
          ],
          [
           "São Francisco"
          ],
          [
           "São Francisco"
          ],
          [
           "São Francisco"
          ],
          [
           "São Francisco"
          ],
          [
           "São Francisco"
          ],
          [
           "São Francisco"
          ],
          [
           "São Francisco"
          ],
          [
           "São Francisco"
          ],
          [
           "São Francisco"
          ],
          [
           "São Francisco"
          ],
          [
           "São Francisco"
          ],
          [
           "São Francisco"
          ],
          [
           "São Francisco"
          ],
          [
           "São Francisco"
          ],
          [
           "São Francisco"
          ],
          [
           "São Francisco"
          ],
          [
           "São Francisco"
          ],
          [
           "São Francisco"
          ],
          [
           "São Francisco"
          ],
          [
           "São Francisco"
          ],
          [
           "São Francisco"
          ],
          [
           "São Francisco"
          ],
          [
           "São Francisco"
          ],
          [
           "São Francisco"
          ],
          [
           "São Francisco"
          ],
          [
           "São Francisco"
          ],
          [
           "São Francisco"
          ],
          [
           "São Francisco"
          ],
          [
           "São Francisco"
          ],
          [
           "São Francisco"
          ],
          [
           "São Francisco"
          ],
          [
           "São Francisco"
          ],
          [
           "São Francisco"
          ],
          [
           "São Francisco"
          ],
          [
           "São Francisco"
          ],
          [
           "São Francisco"
          ],
          [
           "São Francisco"
          ],
          [
           "São Francisco"
          ],
          [
           "São Francisco"
          ],
          [
           "São Francisco"
          ],
          [
           "São Francisco"
          ],
          [
           "São Francisco"
          ],
          [
           "São Francisco"
          ],
          [
           "São Francisco"
          ],
          [
           "São Francisco"
          ],
          [
           "São Francisco"
          ],
          [
           "São Francisco"
          ],
          [
           "São Francisco"
          ],
          [
           "São Francisco"
          ],
          [
           "São Francisco"
          ],
          [
           "São Francisco"
          ],
          [
           "São Francisco"
          ],
          [
           "São Francisco"
          ],
          [
           "São Francisco"
          ],
          [
           "São Francisco"
          ],
          [
           "São Francisco"
          ],
          [
           "São Francisco"
          ],
          [
           "São Francisco"
          ],
          [
           "São Francisco"
          ],
          [
           "São Francisco"
          ],
          [
           "São Francisco"
          ],
          [
           "São Francisco"
          ],
          [
           "São Francisco"
          ],
          [
           "São Francisco"
          ],
          [
           "São Francisco"
          ],
          [
           "São Francisco"
          ],
          [
           "São Francisco"
          ],
          [
           "São Francisco"
          ],
          [
           "São Francisco"
          ],
          [
           "São Francisco"
          ],
          [
           "São Francisco"
          ],
          [
           "São Francisco"
          ],
          [
           "São Francisco"
          ],
          [
           "São Francisco"
          ],
          [
           "São Francisco"
          ],
          [
           "São Francisco"
          ],
          [
           "São Francisco"
          ],
          [
           "São Francisco"
          ],
          [
           "São Francisco"
          ],
          [
           "São Francisco"
          ]
         ],
         "hovertemplate": "<b>%{hovertext}</b><br><br>bairro=%{customdata[0]}<br>latitude_origin=%{lat}<br>longitude_origin=%{lon}<extra></extra>",
         "hovertext": [
          "São Francisco",
          "São Francisco",
          "São Francisco",
          "São Francisco",
          "São Francisco",
          "São Francisco",
          "São Francisco",
          "São Francisco",
          "São Francisco",
          "São Francisco",
          "São Francisco",
          "São Francisco",
          "São Francisco",
          "São Francisco",
          "São Francisco",
          "São Francisco",
          "São Francisco",
          "São Francisco",
          "São Francisco",
          "São Francisco",
          "São Francisco",
          "São Francisco",
          "São Francisco",
          "São Francisco",
          "São Francisco",
          "São Francisco",
          "São Francisco",
          "São Francisco",
          "São Francisco",
          "São Francisco",
          "São Francisco",
          "São Francisco",
          "São Francisco",
          "São Francisco",
          "São Francisco",
          "São Francisco",
          "São Francisco",
          "São Francisco",
          "São Francisco",
          "São Francisco",
          "São Francisco",
          "São Francisco",
          "São Francisco",
          "São Francisco",
          "São Francisco",
          "São Francisco",
          "São Francisco",
          "São Francisco",
          "São Francisco",
          "São Francisco",
          "São Francisco",
          "São Francisco",
          "São Francisco",
          "São Francisco",
          "São Francisco",
          "São Francisco",
          "São Francisco",
          "São Francisco",
          "São Francisco",
          "São Francisco",
          "São Francisco",
          "São Francisco",
          "São Francisco",
          "São Francisco",
          "São Francisco",
          "São Francisco",
          "São Francisco",
          "São Francisco",
          "São Francisco",
          "São Francisco",
          "São Francisco",
          "São Francisco",
          "São Francisco",
          "São Francisco",
          "São Francisco",
          "São Francisco",
          "São Francisco",
          "São Francisco",
          "São Francisco",
          "São Francisco",
          "São Francisco",
          "São Francisco",
          "São Francisco",
          "São Francisco",
          "São Francisco",
          "São Francisco",
          "São Francisco",
          "São Francisco",
          "São Francisco",
          "São Francisco",
          "São Francisco",
          "São Francisco",
          "São Francisco",
          "São Francisco",
          "São Francisco",
          "São Francisco",
          "São Francisco",
          "São Francisco",
          "São Francisco",
          "São Francisco",
          "São Francisco",
          "São Francisco",
          "São Francisco",
          "São Francisco",
          "São Francisco",
          "São Francisco",
          "São Francisco",
          "São Francisco",
          "São Francisco",
          "São Francisco",
          "São Francisco",
          "São Francisco",
          "São Francisco",
          "São Francisco",
          "São Francisco",
          "São Francisco",
          "São Francisco",
          "São Francisco",
          "São Francisco",
          "São Francisco",
          "São Francisco",
          "São Francisco",
          "São Francisco",
          "São Francisco",
          "São Francisco",
          "São Francisco",
          "São Francisco",
          "São Francisco",
          "São Francisco",
          "São Francisco",
          "São Francisco",
          "São Francisco",
          "São Francisco",
          "São Francisco",
          "São Francisco",
          "São Francisco",
          "São Francisco",
          "São Francisco",
          "São Francisco",
          "São Francisco",
          "São Francisco",
          "São Francisco",
          "São Francisco",
          "São Francisco",
          "São Francisco",
          "São Francisco",
          "São Francisco",
          "São Francisco",
          "São Francisco",
          "São Francisco",
          "São Francisco",
          "São Francisco",
          "São Francisco",
          "São Francisco",
          "São Francisco",
          "São Francisco",
          "São Francisco",
          "São Francisco",
          "São Francisco",
          "São Francisco",
          "São Francisco",
          "São Francisco",
          "São Francisco",
          "São Francisco",
          "São Francisco",
          "São Francisco",
          "São Francisco",
          "São Francisco",
          "São Francisco",
          "São Francisco",
          "São Francisco",
          "São Francisco",
          "São Francisco",
          "São Francisco",
          "São Francisco",
          "São Francisco",
          "São Francisco",
          "São Francisco",
          "São Francisco",
          "São Francisco",
          "São Francisco",
          "São Francisco",
          "São Francisco",
          "São Francisco",
          "São Francisco",
          "São Francisco",
          "São Francisco",
          "São Francisco",
          "São Francisco",
          "São Francisco",
          "São Francisco",
          "São Francisco",
          "São Francisco",
          "São Francisco",
          "São Francisco",
          "São Francisco",
          "São Francisco",
          "São Francisco",
          "São Francisco",
          "São Francisco",
          "São Francisco",
          "São Francisco",
          "São Francisco",
          "São Francisco",
          "São Francisco",
          "São Francisco",
          "São Francisco",
          "São Francisco",
          "São Francisco",
          "São Francisco",
          "São Francisco",
          "São Francisco",
          "São Francisco",
          "São Francisco",
          "São Francisco",
          "São Francisco",
          "São Francisco",
          "São Francisco",
          "São Francisco",
          "São Francisco",
          "São Francisco",
          "São Francisco",
          "São Francisco",
          "São Francisco",
          "São Francisco",
          "São Francisco",
          "São Francisco",
          "São Francisco",
          "São Francisco",
          "São Francisco",
          "São Francisco",
          "São Francisco",
          "São Francisco",
          "São Francisco",
          "São Francisco",
          "São Francisco",
          "São Francisco",
          "São Francisco",
          "São Francisco",
          "São Francisco",
          "São Francisco",
          "São Francisco",
          "São Francisco",
          "São Francisco",
          "São Francisco",
          "São Francisco",
          "São Francisco",
          "São Francisco",
          "São Francisco",
          "São Francisco",
          "São Francisco",
          "São Francisco",
          "São Francisco",
          "São Francisco",
          "São Francisco",
          "São Francisco",
          "São Francisco",
          "São Francisco",
          "São Francisco",
          "São Francisco",
          "São Francisco",
          "São Francisco",
          "São Francisco",
          "São Francisco",
          "São Francisco",
          "São Francisco",
          "São Francisco",
          "São Francisco",
          "São Francisco",
          "São Francisco",
          "São Francisco",
          "São Francisco",
          "São Francisco",
          "São Francisco",
          "São Francisco",
          "São Francisco",
          "São Francisco",
          "São Francisco",
          "São Francisco",
          "São Francisco",
          "São Francisco",
          "São Francisco",
          "São Francisco",
          "São Francisco",
          "São Francisco",
          "São Francisco",
          "São Francisco",
          "São Francisco",
          "São Francisco",
          "São Francisco",
          "São Francisco",
          "São Francisco",
          "São Francisco",
          "São Francisco",
          "São Francisco",
          "São Francisco",
          "São Francisco",
          "São Francisco",
          "São Francisco",
          "São Francisco",
          "São Francisco",
          "São Francisco",
          "São Francisco",
          "São Francisco",
          "São Francisco",
          "São Francisco",
          "São Francisco",
          "São Francisco",
          "São Francisco",
          "São Francisco",
          "São Francisco",
          "São Francisco",
          "São Francisco",
          "São Francisco",
          "São Francisco",
          "São Francisco",
          "São Francisco",
          "São Francisco",
          "São Francisco",
          "São Francisco",
          "São Francisco",
          "São Francisco"
         ],
         "lat": [
          -14.8403975,
          -14.8403975,
          -14.8403975,
          -14.8403975,
          -14.8403975,
          -14.8403975,
          -14.8348482,
          -14.8403975,
          -14.8403975,
          -14.83761,
          -14.8313622,
          -14.8348482,
          -14.8403975,
          -14.8403975,
          -14.8403975,
          -14.8403975,
          -14.8403975,
          -14.8403975,
          -14.8240691,
          -14.8348482,
          -14.8364846,
          -14.8403975,
          -14.8403975,
          -14.8403975,
          -14.83761,
          -14.8403975,
          -14.8403975,
          -14.8403975,
          -14.8348482,
          -14.8403975,
          -14.8364846,
          -14.8266225,
          -14.8403975,
          -14.8341963,
          -14.8207138,
          -14.8341614,
          -14.8403975,
          -14.8403975,
          -14.8205436,
          -14.8403975,
          -14.8240691,
          -14.8240691,
          -14.8364846,
          -14.8255024,
          -14.8403975,
          -14.83761,
          -14.8403975,
          -14.8348482,
          -14.8348482,
          -14.8180666,
          -14.8313622,
          -14.8403975,
          -14.8369144,
          -14.8180666,
          -14.8403975,
          -14.8403975,
          -14.8403975,
          -14.8364846,
          -14.8403975,
          -14.8403975,
          -14.8341614,
          -14.8403975,
          -14.8403975,
          -14.8403975,
          -14.8403975,
          -14.8403975,
          -14.8403975,
          -14.8341614,
          -14.8255024,
          -14.8255024,
          -14.8240691,
          -14.8403975,
          -14.8205436,
          -14.8364846,
          -14.8403975,
          -14.8313622,
          -14.8403975,
          -14.8403975,
          -14.8403975,
          -14.8403975,
          -14.8207138,
          -14.8403975,
          -14.8313622,
          -14.8403975,
          -14.8329816,
          -14.8403975,
          -14.8403975,
          -14.8341614,
          -14.8403975,
          -14.8403975,
          -14.8403975,
          -14.8403975,
          -14.8403975,
          -14.8403975,
          -14.8403975,
          -14.8240691,
          -14.8341614,
          -14.8403975,
          -14.8403975,
          -14.8403975,
          -14.8403975,
          -14.8403975,
          -14.8403975,
          -14.8313622,
          -14.8329816,
          -14.8403975,
          -14.8403975,
          -14.8207138,
          -14.8403975,
          -14.8403975,
          -14.8403975,
          -14.8403975,
          -14.8403975,
          -14.8403975,
          -14.8403975,
          -14.8207138,
          -14.8348482,
          -14.8255024,
          -14.8403975,
          -14.8403975,
          -14.8403975,
          -14.8403975,
          -14.8403975,
          -14.8403975,
          -14.8403975,
          -14.8403975,
          -14.8403975,
          -14.8225253,
          -14.8403975,
          -14.8403975,
          -14.8403975,
          -14.8403975,
          -14.8329816,
          -14.8403975,
          -14.8403975,
          -14.8403975,
          -14.8341614,
          -14.8403975,
          -14.8403975,
          -14.8403975,
          -14.8341614,
          -14.8403975,
          -14.8403975,
          -14.8313622,
          -14.8341614,
          -14.8403975,
          -14.8403975,
          -14.8329816,
          -14.8207138,
          -14.8341614,
          -14.8403975,
          -14.8403975,
          -14.8403975,
          -14.8403975,
          -14.8206756,
          -14.8403975,
          -14.8403975,
          -14.8403975,
          -14.8207138,
          -14.8341614,
          -14.8348482,
          -14.8403975,
          -14.83761,
          -14.8255024,
          -14.83761,
          -14.8207138,
          -14.8348482,
          -14.8205436,
          -14.8403975,
          -14.8403975,
          -14.8403975,
          -14.8403975,
          -14.8403975,
          -14.8403975,
          -14.8403975,
          -14.8403975,
          -14.8240691,
          -14.8341614,
          -14.8255024,
          -14.83761,
          -14.8403975,
          -14.8403975,
          -14.8403975,
          -14.8403975,
          -14.8403975,
          -14.8348482,
          -14.8403975,
          -14.8403975,
          -14.83761,
          -14.8313622,
          -14.8348482,
          -14.8403975,
          -14.8403975,
          -14.8403975,
          -14.8403975,
          -14.8403975,
          -14.8240691,
          -14.8255024,
          -14.8364846,
          -14.8403975,
          -14.8403975,
          -14.8403975,
          -14.8403975,
          -14.8403975,
          -14.8348482,
          -14.8364846,
          -14.83761,
          -14.8341614,
          -14.8403975,
          -14.8205436,
          -14.8348482,
          -14.8240691,
          -14.8364846,
          -14.8255024,
          -14.83761,
          -14.8403975,
          -14.8348482,
          -14.8348482,
          -14.8313622,
          -14.8369144,
          -14.8180666,
          -14.8403975,
          -14.8403975,
          -14.8403975,
          -14.8341614,
          -14.8403975,
          -14.8403975,
          -14.8403975,
          -14.8313622,
          -14.8403975,
          -14.8240691,
          -14.8255024,
          -14.8240691,
          -14.8403975,
          -14.8364846,
          -14.8403975,
          -14.8313622,
          -14.8403975,
          -14.8403975,
          -14.8403975,
          -14.8207138,
          -14.8403975,
          -14.8341614,
          -14.8313622,
          -14.8403975,
          -14.8329816,
          -14.8403975,
          -14.8341614,
          -14.8403975,
          -14.8403975,
          -14.8403975,
          -14.8403975,
          -14.8403975,
          -14.8403975,
          -14.8403975,
          -14.8240691,
          -14.8341614,
          -14.8403975,
          -14.8403975,
          -14.8329816,
          -14.8403975,
          -14.8403975,
          -14.8207138,
          -14.8403975,
          -14.8403975,
          -14.8403975,
          -14.8403975,
          -14.8403975,
          -14.8403975,
          -14.8403975,
          -14.8207138,
          -14.8348482,
          -14.8255024,
          -14.8403975,
          -14.8403975,
          -14.8403975,
          -14.8403975,
          -14.8403975,
          -14.8403975,
          -14.8403975,
          -14.8403975,
          -14.8313622,
          -14.8403975,
          -14.8313622,
          -14.8225253,
          -14.8403975,
          -14.8403975,
          -14.8403975,
          -14.8313622,
          -14.8313622,
          -14.8403975,
          -14.8329816,
          -14.8403975,
          -14.8403975,
          -14.8403975,
          -14.8341614,
          -14.8403975,
          -14.8403975,
          -14.8403975,
          -14.8341614,
          -14.8403975,
          -14.8403975,
          -14.8313622,
          -14.8341614,
          -14.8403975,
          -14.8403975,
          -14.8329816,
          -14.8403975,
          -14.8403975,
          -14.8207138,
          -14.8403975,
          -14.8266225,
          -14.8403975,
          -14.8403975,
          -14.8206756,
          -14.8403975,
          -14.8403975,
          -14.8403975,
          -14.8207138,
          -14.8341614,
          -14.8341614,
          -14.8348482
         ],
         "legendgroup": "São Francisco",
         "lon": [
          -39.0257076,
          -39.0257076,
          -39.0257076,
          -39.0257076,
          -39.0257076,
          -39.0257076,
          -39.032076,
          -39.0257076,
          -39.0257076,
          -39.03443,
          -39.0284323,
          -39.032076,
          -39.0257076,
          -39.0257076,
          -39.0257076,
          -39.0257076,
          -39.0257076,
          -39.0257076,
          -39.0288182,
          -39.032076,
          -39.02892,
          -39.0257076,
          -39.0257076,
          -39.0257076,
          -39.03443,
          -39.0257076,
          -39.0257076,
          -39.0257076,
          -39.032076,
          -39.0257076,
          -39.02892,
          -39.0277956,
          -39.0257076,
          -39.0283807,
          -39.0279223,
          -39.0289279,
          -39.0257076,
          -39.0257076,
          -39.0272707,
          -39.0257076,
          -39.0288182,
          -39.0288182,
          -39.02892,
          -39.02722809999999,
          -39.0257076,
          -39.03443,
          -39.0257076,
          -39.032076,
          -39.032076,
          -39.0278983,
          -39.0284323,
          -39.0257076,
          -39.0270264,
          -39.0278983,
          -39.0257076,
          -39.0257076,
          -39.0257076,
          -39.02892,
          -39.0257076,
          -39.0257076,
          -39.0289279,
          -39.0257076,
          -39.0257076,
          -39.0257076,
          -39.0257076,
          -39.0257076,
          -39.0257076,
          -39.0289279,
          -39.02722809999999,
          -39.02722809999999,
          -39.0288182,
          -39.0257076,
          -39.0272707,
          -39.02892,
          -39.0257076,
          -39.0284323,
          -39.0257076,
          -39.0257076,
          -39.0257076,
          -39.0257076,
          -39.0279223,
          -39.0257076,
          -39.0284323,
          -39.0257076,
          -39.0279732,
          -39.0257076,
          -39.0257076,
          -39.0289279,
          -39.0257076,
          -39.0257076,
          -39.0257076,
          -39.0257076,
          -39.0257076,
          -39.0257076,
          -39.0257076,
          -39.0288182,
          -39.0289279,
          -39.0257076,
          -39.0257076,
          -39.0257076,
          -39.0257076,
          -39.0257076,
          -39.0257076,
          -39.0284323,
          -39.0279732,
          -39.0257076,
          -39.0257076,
          -39.0279223,
          -39.0257076,
          -39.0257076,
          -39.0257076,
          -39.0257076,
          -39.0257076,
          -39.0257076,
          -39.0257076,
          -39.0279223,
          -39.032076,
          -39.02722809999999,
          -39.0257076,
          -39.0257076,
          -39.0257076,
          -39.0257076,
          -39.0257076,
          -39.0257076,
          -39.0257076,
          -39.0257076,
          -39.0257076,
          -39.0275151,
          -39.0257076,
          -39.0257076,
          -39.0257076,
          -39.0257076,
          -39.0279732,
          -39.0257076,
          -39.0257076,
          -39.0257076,
          -39.0289279,
          -39.0257076,
          -39.0257076,
          -39.0257076,
          -39.0289279,
          -39.0257076,
          -39.0257076,
          -39.0284323,
          -39.0289279,
          -39.0257076,
          -39.0257076,
          -39.0279732,
          -39.0279223,
          -39.0289279,
          -39.0257076,
          -39.0257076,
          -39.0257076,
          -39.0257076,
          -39.0276544,
          -39.0257076,
          -39.0257076,
          -39.0257076,
          -39.0279223,
          -39.0289279,
          -39.032076,
          -39.0257076,
          -39.03443,
          -39.02722809999999,
          -39.03443,
          -39.0279223,
          -39.032076,
          -39.0272707,
          -39.0257076,
          -39.0257076,
          -39.0257076,
          -39.0257076,
          -39.0257076,
          -39.0257076,
          -39.0257076,
          -39.0257076,
          -39.0288182,
          -39.0289279,
          -39.02722809999999,
          -39.03443,
          -39.0257076,
          -39.0257076,
          -39.0257076,
          -39.0257076,
          -39.0257076,
          -39.032076,
          -39.0257076,
          -39.0257076,
          -39.03443,
          -39.0284323,
          -39.032076,
          -39.0257076,
          -39.0257076,
          -39.0257076,
          -39.0257076,
          -39.0257076,
          -39.0288182,
          -39.02722809999999,
          -39.02892,
          -39.0257076,
          -39.0257076,
          -39.0257076,
          -39.0257076,
          -39.0257076,
          -39.032076,
          -39.02892,
          -39.03443,
          -39.0289279,
          -39.0257076,
          -39.0272707,
          -39.032076,
          -39.0288182,
          -39.02892,
          -39.02722809999999,
          -39.03443,
          -39.0257076,
          -39.032076,
          -39.032076,
          -39.0284323,
          -39.0270264,
          -39.0278983,
          -39.0257076,
          -39.0257076,
          -39.0257076,
          -39.0289279,
          -39.0257076,
          -39.0257076,
          -39.0257076,
          -39.0284323,
          -39.0257076,
          -39.0288182,
          -39.02722809999999,
          -39.0288182,
          -39.0257076,
          -39.02892,
          -39.0257076,
          -39.0284323,
          -39.0257076,
          -39.0257076,
          -39.0257076,
          -39.0279223,
          -39.0257076,
          -39.0289279,
          -39.0284323,
          -39.0257076,
          -39.0279732,
          -39.0257076,
          -39.0289279,
          -39.0257076,
          -39.0257076,
          -39.0257076,
          -39.0257076,
          -39.0257076,
          -39.0257076,
          -39.0257076,
          -39.0288182,
          -39.0289279,
          -39.0257076,
          -39.0257076,
          -39.0279732,
          -39.0257076,
          -39.0257076,
          -39.0279223,
          -39.0257076,
          -39.0257076,
          -39.0257076,
          -39.0257076,
          -39.0257076,
          -39.0257076,
          -39.0257076,
          -39.0279223,
          -39.032076,
          -39.02722809999999,
          -39.0257076,
          -39.0257076,
          -39.0257076,
          -39.0257076,
          -39.0257076,
          -39.0257076,
          -39.0257076,
          -39.0257076,
          -39.0284323,
          -39.0257076,
          -39.0284323,
          -39.0275151,
          -39.0257076,
          -39.0257076,
          -39.0257076,
          -39.0284323,
          -39.0284323,
          -39.0257076,
          -39.0279732,
          -39.0257076,
          -39.0257076,
          -39.0257076,
          -39.0289279,
          -39.0257076,
          -39.0257076,
          -39.0257076,
          -39.0289279,
          -39.0257076,
          -39.0257076,
          -39.0284323,
          -39.0289279,
          -39.0257076,
          -39.0257076,
          -39.0279732,
          -39.0257076,
          -39.0257076,
          -39.0279223,
          -39.0257076,
          -39.0277956,
          -39.0257076,
          -39.0257076,
          -39.0276544,
          -39.0257076,
          -39.0257076,
          -39.0257076,
          -39.0279223,
          -39.0289279,
          -39.0289279,
          -39.032076
         ],
         "marker": {
          "color": "#EF553B",
          "size": 12
         },
         "mode": "markers",
         "name": "São Francisco",
         "showlegend": true,
         "subplot": "mapbox",
         "type": "scattermapbox"
        }
       ],
       "layout": {
        "height": 600,
        "legend": {
         "bgcolor": "rgba(255, 255, 255, 0.8)",
         "bordercolor": "Black",
         "borderwidth": 1,
         "title": {
          "text": "Bairro"
         },
         "tracegroupgap": 0,
         "traceorder": "normal",
         "x": 0.02,
         "y": 0.98
        },
        "mapbox": {
         "center": {
          "lat": -14.829914485403725,
          "lon": -39.02739466599378
         },
         "domain": {
          "x": [
           0,
           1
          ],
          "y": [
           0,
           1
          ]
         },
         "style": "open-street-map",
         "zoom": 13
        },
        "margin": {
         "b": 0,
         "l": 0,
         "r": 0,
         "t": 0
        },
        "template": {
         "data": {
          "bar": [
           {
            "error_x": {
             "color": "#2a3f5f"
            },
            "error_y": {
             "color": "#2a3f5f"
            },
            "marker": {
             "line": {
              "color": "#E5ECF6",
              "width": 0.5
             },
             "pattern": {
              "fillmode": "overlay",
              "size": 10,
              "solidity": 0.2
             }
            },
            "type": "bar"
           }
          ],
          "barpolar": [
           {
            "marker": {
             "line": {
              "color": "#E5ECF6",
              "width": 0.5
             },
             "pattern": {
              "fillmode": "overlay",
              "size": 10,
              "solidity": 0.2
             }
            },
            "type": "barpolar"
           }
          ],
          "carpet": [
           {
            "aaxis": {
             "endlinecolor": "#2a3f5f",
             "gridcolor": "white",
             "linecolor": "white",
             "minorgridcolor": "white",
             "startlinecolor": "#2a3f5f"
            },
            "baxis": {
             "endlinecolor": "#2a3f5f",
             "gridcolor": "white",
             "linecolor": "white",
             "minorgridcolor": "white",
             "startlinecolor": "#2a3f5f"
            },
            "type": "carpet"
           }
          ],
          "choropleth": [
           {
            "colorbar": {
             "outlinewidth": 0,
             "ticks": ""
            },
            "type": "choropleth"
           }
          ],
          "contour": [
           {
            "colorbar": {
             "outlinewidth": 0,
             "ticks": ""
            },
            "colorscale": [
             [
              0,
              "#0d0887"
             ],
             [
              0.1111111111111111,
              "#46039f"
             ],
             [
              0.2222222222222222,
              "#7201a8"
             ],
             [
              0.3333333333333333,
              "#9c179e"
             ],
             [
              0.4444444444444444,
              "#bd3786"
             ],
             [
              0.5555555555555556,
              "#d8576b"
             ],
             [
              0.6666666666666666,
              "#ed7953"
             ],
             [
              0.7777777777777778,
              "#fb9f3a"
             ],
             [
              0.8888888888888888,
              "#fdca26"
             ],
             [
              1,
              "#f0f921"
             ]
            ],
            "type": "contour"
           }
          ],
          "contourcarpet": [
           {
            "colorbar": {
             "outlinewidth": 0,
             "ticks": ""
            },
            "type": "contourcarpet"
           }
          ],
          "heatmap": [
           {
            "colorbar": {
             "outlinewidth": 0,
             "ticks": ""
            },
            "colorscale": [
             [
              0,
              "#0d0887"
             ],
             [
              0.1111111111111111,
              "#46039f"
             ],
             [
              0.2222222222222222,
              "#7201a8"
             ],
             [
              0.3333333333333333,
              "#9c179e"
             ],
             [
              0.4444444444444444,
              "#bd3786"
             ],
             [
              0.5555555555555556,
              "#d8576b"
             ],
             [
              0.6666666666666666,
              "#ed7953"
             ],
             [
              0.7777777777777778,
              "#fb9f3a"
             ],
             [
              0.8888888888888888,
              "#fdca26"
             ],
             [
              1,
              "#f0f921"
             ]
            ],
            "type": "heatmap"
           }
          ],
          "heatmapgl": [
           {
            "colorbar": {
             "outlinewidth": 0,
             "ticks": ""
            },
            "colorscale": [
             [
              0,
              "#0d0887"
             ],
             [
              0.1111111111111111,
              "#46039f"
             ],
             [
              0.2222222222222222,
              "#7201a8"
             ],
             [
              0.3333333333333333,
              "#9c179e"
             ],
             [
              0.4444444444444444,
              "#bd3786"
             ],
             [
              0.5555555555555556,
              "#d8576b"
             ],
             [
              0.6666666666666666,
              "#ed7953"
             ],
             [
              0.7777777777777778,
              "#fb9f3a"
             ],
             [
              0.8888888888888888,
              "#fdca26"
             ],
             [
              1,
              "#f0f921"
             ]
            ],
            "type": "heatmapgl"
           }
          ],
          "histogram": [
           {
            "marker": {
             "pattern": {
              "fillmode": "overlay",
              "size": 10,
              "solidity": 0.2
             }
            },
            "type": "histogram"
           }
          ],
          "histogram2d": [
           {
            "colorbar": {
             "outlinewidth": 0,
             "ticks": ""
            },
            "colorscale": [
             [
              0,
              "#0d0887"
             ],
             [
              0.1111111111111111,
              "#46039f"
             ],
             [
              0.2222222222222222,
              "#7201a8"
             ],
             [
              0.3333333333333333,
              "#9c179e"
             ],
             [
              0.4444444444444444,
              "#bd3786"
             ],
             [
              0.5555555555555556,
              "#d8576b"
             ],
             [
              0.6666666666666666,
              "#ed7953"
             ],
             [
              0.7777777777777778,
              "#fb9f3a"
             ],
             [
              0.8888888888888888,
              "#fdca26"
             ],
             [
              1,
              "#f0f921"
             ]
            ],
            "type": "histogram2d"
           }
          ],
          "histogram2dcontour": [
           {
            "colorbar": {
             "outlinewidth": 0,
             "ticks": ""
            },
            "colorscale": [
             [
              0,
              "#0d0887"
             ],
             [
              0.1111111111111111,
              "#46039f"
             ],
             [
              0.2222222222222222,
              "#7201a8"
             ],
             [
              0.3333333333333333,
              "#9c179e"
             ],
             [
              0.4444444444444444,
              "#bd3786"
             ],
             [
              0.5555555555555556,
              "#d8576b"
             ],
             [
              0.6666666666666666,
              "#ed7953"
             ],
             [
              0.7777777777777778,
              "#fb9f3a"
             ],
             [
              0.8888888888888888,
              "#fdca26"
             ],
             [
              1,
              "#f0f921"
             ]
            ],
            "type": "histogram2dcontour"
           }
          ],
          "mesh3d": [
           {
            "colorbar": {
             "outlinewidth": 0,
             "ticks": ""
            },
            "type": "mesh3d"
           }
          ],
          "parcoords": [
           {
            "line": {
             "colorbar": {
              "outlinewidth": 0,
              "ticks": ""
             }
            },
            "type": "parcoords"
           }
          ],
          "pie": [
           {
            "automargin": true,
            "type": "pie"
           }
          ],
          "scatter": [
           {
            "fillpattern": {
             "fillmode": "overlay",
             "size": 10,
             "solidity": 0.2
            },
            "type": "scatter"
           }
          ],
          "scatter3d": [
           {
            "line": {
             "colorbar": {
              "outlinewidth": 0,
              "ticks": ""
             }
            },
            "marker": {
             "colorbar": {
              "outlinewidth": 0,
              "ticks": ""
             }
            },
            "type": "scatter3d"
           }
          ],
          "scattercarpet": [
           {
            "marker": {
             "colorbar": {
              "outlinewidth": 0,
              "ticks": ""
             }
            },
            "type": "scattercarpet"
           }
          ],
          "scattergeo": [
           {
            "marker": {
             "colorbar": {
              "outlinewidth": 0,
              "ticks": ""
             }
            },
            "type": "scattergeo"
           }
          ],
          "scattergl": [
           {
            "marker": {
             "colorbar": {
              "outlinewidth": 0,
              "ticks": ""
             }
            },
            "type": "scattergl"
           }
          ],
          "scattermapbox": [
           {
            "marker": {
             "colorbar": {
              "outlinewidth": 0,
              "ticks": ""
             }
            },
            "type": "scattermapbox"
           }
          ],
          "scatterpolar": [
           {
            "marker": {
             "colorbar": {
              "outlinewidth": 0,
              "ticks": ""
             }
            },
            "type": "scatterpolar"
           }
          ],
          "scatterpolargl": [
           {
            "marker": {
             "colorbar": {
              "outlinewidth": 0,
              "ticks": ""
             }
            },
            "type": "scatterpolargl"
           }
          ],
          "scatterternary": [
           {
            "marker": {
             "colorbar": {
              "outlinewidth": 0,
              "ticks": ""
             }
            },
            "type": "scatterternary"
           }
          ],
          "surface": [
           {
            "colorbar": {
             "outlinewidth": 0,
             "ticks": ""
            },
            "colorscale": [
             [
              0,
              "#0d0887"
             ],
             [
              0.1111111111111111,
              "#46039f"
             ],
             [
              0.2222222222222222,
              "#7201a8"
             ],
             [
              0.3333333333333333,
              "#9c179e"
             ],
             [
              0.4444444444444444,
              "#bd3786"
             ],
             [
              0.5555555555555556,
              "#d8576b"
             ],
             [
              0.6666666666666666,
              "#ed7953"
             ],
             [
              0.7777777777777778,
              "#fb9f3a"
             ],
             [
              0.8888888888888888,
              "#fdca26"
             ],
             [
              1,
              "#f0f921"
             ]
            ],
            "type": "surface"
           }
          ],
          "table": [
           {
            "cells": {
             "fill": {
              "color": "#EBF0F8"
             },
             "line": {
              "color": "white"
             }
            },
            "header": {
             "fill": {
              "color": "#C8D4E3"
             },
             "line": {
              "color": "white"
             }
            },
            "type": "table"
           }
          ]
         },
         "layout": {
          "annotationdefaults": {
           "arrowcolor": "#2a3f5f",
           "arrowhead": 0,
           "arrowwidth": 1
          },
          "autotypenumbers": "strict",
          "coloraxis": {
           "colorbar": {
            "outlinewidth": 0,
            "ticks": ""
           }
          },
          "colorscale": {
           "diverging": [
            [
             0,
             "#8e0152"
            ],
            [
             0.1,
             "#c51b7d"
            ],
            [
             0.2,
             "#de77ae"
            ],
            [
             0.3,
             "#f1b6da"
            ],
            [
             0.4,
             "#fde0ef"
            ],
            [
             0.5,
             "#f7f7f7"
            ],
            [
             0.6,
             "#e6f5d0"
            ],
            [
             0.7,
             "#b8e186"
            ],
            [
             0.8,
             "#7fbc41"
            ],
            [
             0.9,
             "#4d9221"
            ],
            [
             1,
             "#276419"
            ]
           ],
           "sequential": [
            [
             0,
             "#0d0887"
            ],
            [
             0.1111111111111111,
             "#46039f"
            ],
            [
             0.2222222222222222,
             "#7201a8"
            ],
            [
             0.3333333333333333,
             "#9c179e"
            ],
            [
             0.4444444444444444,
             "#bd3786"
            ],
            [
             0.5555555555555556,
             "#d8576b"
            ],
            [
             0.6666666666666666,
             "#ed7953"
            ],
            [
             0.7777777777777778,
             "#fb9f3a"
            ],
            [
             0.8888888888888888,
             "#fdca26"
            ],
            [
             1,
             "#f0f921"
            ]
           ],
           "sequentialminus": [
            [
             0,
             "#0d0887"
            ],
            [
             0.1111111111111111,
             "#46039f"
            ],
            [
             0.2222222222222222,
             "#7201a8"
            ],
            [
             0.3333333333333333,
             "#9c179e"
            ],
            [
             0.4444444444444444,
             "#bd3786"
            ],
            [
             0.5555555555555556,
             "#d8576b"
            ],
            [
             0.6666666666666666,
             "#ed7953"
            ],
            [
             0.7777777777777778,
             "#fb9f3a"
            ],
            [
             0.8888888888888888,
             "#fdca26"
            ],
            [
             1,
             "#f0f921"
            ]
           ]
          },
          "colorway": [
           "#636efa",
           "#EF553B",
           "#00cc96",
           "#ab63fa",
           "#FFA15A",
           "#19d3f3",
           "#FF6692",
           "#B6E880",
           "#FF97FF",
           "#FECB52"
          ],
          "font": {
           "color": "#2a3f5f"
          },
          "geo": {
           "bgcolor": "white",
           "lakecolor": "white",
           "landcolor": "#E5ECF6",
           "showlakes": true,
           "showland": true,
           "subunitcolor": "white"
          },
          "hoverlabel": {
           "align": "left"
          },
          "hovermode": "closest",
          "mapbox": {
           "style": "light"
          },
          "paper_bgcolor": "white",
          "plot_bgcolor": "#E5ECF6",
          "polar": {
           "angularaxis": {
            "gridcolor": "white",
            "linecolor": "white",
            "ticks": ""
           },
           "bgcolor": "#E5ECF6",
           "radialaxis": {
            "gridcolor": "white",
            "linecolor": "white",
            "ticks": ""
           }
          },
          "scene": {
           "xaxis": {
            "backgroundcolor": "#E5ECF6",
            "gridcolor": "white",
            "gridwidth": 2,
            "linecolor": "white",
            "showbackground": true,
            "ticks": "",
            "zerolinecolor": "white"
           },
           "yaxis": {
            "backgroundcolor": "#E5ECF6",
            "gridcolor": "white",
            "gridwidth": 2,
            "linecolor": "white",
            "showbackground": true,
            "ticks": "",
            "zerolinecolor": "white"
           },
           "zaxis": {
            "backgroundcolor": "#E5ECF6",
            "gridcolor": "white",
            "gridwidth": 2,
            "linecolor": "white",
            "showbackground": true,
            "ticks": "",
            "zerolinecolor": "white"
           }
          },
          "shapedefaults": {
           "line": {
            "color": "#2a3f5f"
           }
          },
          "ternary": {
           "aaxis": {
            "gridcolor": "white",
            "linecolor": "white",
            "ticks": ""
           },
           "baxis": {
            "gridcolor": "white",
            "linecolor": "white",
            "ticks": ""
           },
           "bgcolor": "#E5ECF6",
           "caxis": {
            "gridcolor": "white",
            "linecolor": "white",
            "ticks": ""
           }
          },
          "title": {
           "x": 0.05
          },
          "xaxis": {
           "automargin": true,
           "gridcolor": "white",
           "linecolor": "white",
           "ticks": "",
           "title": {
            "standoff": 15
           },
           "zerolinecolor": "white",
           "zerolinewidth": 2
          },
          "yaxis": {
           "automargin": true,
           "gridcolor": "white",
           "linecolor": "white",
           "ticks": "",
           "title": {
            "standoff": 15
           },
           "zerolinecolor": "white",
           "zerolinewidth": 2
          }
         }
        },
        "title": {
         "text": "Distribuição de Pontos de Origem"
        },
        "width": 800
       }
      }
     },
     "metadata": {},
     "output_type": "display_data"
    }
   ],
   "source": [
    "nsv_e_sf = somente_zona_sul[somente_zona_sul['bairro'].isin(['Nossa Senhora da Vitória', 'São Francisco'])]\n",
    "\n",
    "# Eliminar as linhas com as latitudes específicas\n",
    "latitudes_a_excluir = [-14.82419, -14.8448122, -14.8168568]\n",
    "nsv_e_sf = nsv_e_sf[~nsv_e_sf['latitude_origin'].isin(latitudes_a_excluir)]\n",
    "\n",
    "# Cálculo da latitude e longitude médias\n",
    "center_lat = nsv_e_sf['latitude_origin'].mean()\n",
    "center_lon = nsv_e_sf['longitude_origin'].mean()\n",
    "\n",
    "# Ajuste na latitude para centralizar o mapa\n",
    "adjusted_center_lat = center_lat + 0.01  # Ajuste este valor conforme necessário\n",
    "\n",
    "# Criação do gráfico de dispersão com o Mapbox\n",
    "fig = px.scatter_mapbox(nsv_e_sf,\n",
    "    lat='latitude_origin',\n",
    "    lon='longitude_origin',\n",
    "    hover_name='bairro',\n",
    "    hover_data={'bairro': True},\n",
    "    color='bairro',  # Diferenciação de cor baseada nos bairros\n",
    "    size_max=15,  # Ajuste do tamanho máximo dos pontos\n",
    "    zoom=13,\n",
    "    height=600,\n",
    "    width=800,\n",
    "    mapbox_style=\"open-street-map\",\n",
    "    center={\"lat\": adjusted_center_lat, \"lon\": center_lon}\n",
    ")\n",
    "\n",
    "# Ajustar tamanho dos pontos\n",
    "fig.update_traces(marker=dict(size=12))\n",
    "\n",
    "# Configuração para colocar a legenda dentro do mapa\n",
    "fig.update_layout(\n",
    "    margin={\"r\":0, \"t\":0, \"l\":0, \"b\":0},\n",
    "    title=\"Distribuição de Pontos de Origem\",\n",
    "    legend_title_text='Bairro',\n",
    "    legend=dict(\n",
    "        x=0.02,  # Posição horizontal da legenda\n",
    "        y=0.98,  # Posição vertical da legenda\n",
    "        traceorder=\"normal\",\n",
    "        bgcolor=\"rgba(255, 255, 255, 0.8)\",  # Cor de fundo da legenda\n",
    "        bordercolor=\"Black\",  # Cor da borda da legenda\n",
    "        borderwidth=1  # Largura da borda da legenda\n",
    "    )\n",
    ")\n",
    "\n",
    "fig.show()\n"
   ]
  },
  {
   "cell_type": "markdown",
   "metadata": {},
   "source": [
    "##  Descrição das ruas desses bairros"
   ]
  },
  {
   "cell_type": "code",
   "execution_count": 18,
   "metadata": {},
   "outputs": [
    {
     "ename": "NameError",
     "evalue": "name 'top_3_bairros' is not defined",
     "output_type": "error",
     "traceback": [
      "\u001b[0;31m---------------------------------------------------------------------------\u001b[0m",
      "\u001b[0;31mNameError\u001b[0m                                 Traceback (most recent call last)",
      "Cell \u001b[0;32mIn[18], line 2\u001b[0m\n\u001b[1;32m      1\u001b[0m \u001b[38;5;66;03m# Dentro desses 3 bairros, quais as ruas mais frequentes?\u001b[39;00m\n\u001b[0;32m----> 2\u001b[0m ruas_top_3_bairros \u001b[38;5;241m=\u001b[39m df[df[\u001b[38;5;124m'\u001b[39m\u001b[38;5;124mbairro\u001b[39m\u001b[38;5;124m'\u001b[39m]\u001b[38;5;241m.\u001b[39misin(\u001b[43mtop_3_bairros\u001b[49m\u001b[38;5;241m.\u001b[39mindex)][\u001b[38;5;124m'\u001b[39m\u001b[38;5;124mrua/avenida\u001b[39m\u001b[38;5;124m'\u001b[39m]\u001b[38;5;241m.\u001b[39mvalue_counts()\u001b[38;5;241m.\u001b[39mhead(\u001b[38;5;241m10\u001b[39m)\n\u001b[1;32m      3\u001b[0m \u001b[38;5;28mprint\u001b[39m(ruas_top_3_bairros)\n",
      "\u001b[0;31mNameError\u001b[0m: name 'top_3_bairros' is not defined"
     ]
    }
   ],
   "source": [
    "# Dentro desses 3 bairros, quais as ruas mais frequentes?\n",
    "ruas_top_3_bairros = df[df['bairro'].isin(top_3_bairros.index)]['rua/avenida'].value_counts().head(10)\n",
    "print(ruas_top_3_bairros)"
   ]
  },
  {
   "cell_type": "code",
   "execution_count": null,
   "metadata": {},
   "outputs": [],
   "source": [
    "preco_pontal = df[df['bairro']=='Pontal'][['preco','area util por m²']].drop_duplicates(keep='last')\n",
    "preco_pontal['preco/m2'] = np.round(preco_pontal['preco']/preco_pontal['area util por m²'], 2)\n",
    "preco_pontal = preco_pontal.sort_values(by='preco/m2', ascending=False)[:-5].reset_index(drop=True)\n",
    "preco_pontal.describe()"
   ]
  },
  {
   "cell_type": "code",
   "execution_count": null,
   "metadata": {},
   "outputs": [],
   "source": [
    "preco_cidade_geral = df[['preco','area util por m²']].drop_duplicates(keep='last')\n",
    "preco_cidade_geral['preco/m2'] = np.round(preco_cidade_geral['preco']/preco_cidade_geral['area util por m²'], 2)\n",
    "preco_cidade_geral = preco_cidade_geral.sort_values(by='preco/m2', ascending=False)[:-10].reset_index(drop=True)\n",
    "preco_cidade_geral.describe()"
   ]
  },
  {
   "cell_type": "code",
   "execution_count": null,
   "metadata": {},
   "outputs": [],
   "source": [
    "resultados = list()\n",
    "descricao_dos_bairros_da_zona_sul_m2 = df.loc[df['Zona'] == 'Sul']\n",
    "for bairro in descricao_dos_bairros_da_zona_sul_m2['bairro']:\n",
    "    intermedian_resultado = {\n",
    "        'bairro': bairro,\n",
    "        'preco/m2': np.round(descricao_dos_bairros_da_zona_sul_m2.loc[descricao_dos_bairros_da_zona_sul_m2['bairro'] == bairro]['preco']/descricao_dos_bairros_da_zona_sul_m2.loc[descricao_dos_bairros_da_zona_sul_m2['bairro'] == bairro]['area util por m²'].mean(), 2),\n",
    "        'quartos': np.round(descricao_dos_bairros_da_zona_sul_m2.loc[descricao_dos_bairros_da_zona_sul_m2['bairro'] == bairro]['quartos'].mean(), 2),\n",
    "        'banheiros': np.round(descricao_dos_bairros_da_zona_sul_m2.loc[descricao_dos_bairros_da_zona_sul_m2['bairro'] == bairro]['banheiros'].mean(), 2),\n",
    "        'vagas garagem': np.round(descricao_dos_bairros_da_zona_sul_m2.loc[descricao_dos_bairros_da_zona_sul_m2['bairro'] == bairro]['vagas garagem'].mean(), 2),\n",
    "        'quartos': np.round(descricao_dos_bairros_da_zona_sul_m2.loc[descricao_dos_bairros_da_zona_sul_m2['bairro'] == bairro]['quartos'].mean(), 2),\n",
    "    }\n",
    "    resultados.append(intermedian_resultado)"
   ]
  }
 ],
 "metadata": {
  "kernelspec": {
   "display_name": "base",
   "language": "python",
   "name": "python3"
  },
  "language_info": {
   "codemirror_mode": {
    "name": "ipython",
    "version": 3
   },
   "file_extension": ".py",
   "mimetype": "text/x-python",
   "name": "python",
   "nbconvert_exporter": "python",
   "pygments_lexer": "ipython3",
   "version": "3.11.9"
  }
 },
 "nbformat": 4,
 "nbformat_minor": 2
}
