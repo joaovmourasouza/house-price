{
 "cells": [
  {
   "cell_type": "code",
   "execution_count": 1,
   "metadata": {},
   "outputs": [],
   "source": [
    "from sklearn.linear_model import LinearRegression\n",
    "from statsmodels.stats.diagnostic import het_white\n",
    "import statsmodels.api as sm\n",
    "import pandas as pd\n",
    "import numpy as np\n",
    "import os"
   ]
  },
  {
   "cell_type": "code",
   "execution_count": 2,
   "metadata": {},
   "outputs": [],
   "source": [
    "df = pd.read_excel('df_filtred_with_coordinates.xlsx')\n",
    "df = df.loc[(df['preco']>49999)&(df['area util por m²']>9)]"
   ]
  },
  {
   "cell_type": "code",
   "execution_count": 3,
   "metadata": {},
   "outputs": [],
   "source": [
    "# 1 - Alta\n",
    "# 2 - Média\n",
    "# 3 - baixa\n",
    "\n",
    "classe_bairros = {\n",
    "    'Pontal': 1,\n",
    "    'Nossa Senhora da Vitória': 2,\n",
    "    'São Francisco': 1,\n",
    "    'São Sebastião': 2,\n",
    "    'Jardim Savóia': 2,\n",
    "    'Conquista': 2,\n",
    "    'Centro': 1,\n",
    "    'Olivença': 2,\n",
    "    'Boa Vista': 3,\n",
    "    'Jardim Atlântico': 1,\n",
    "    'Cidade Nova': 2,\n",
    "    'Ilhéus II': 2,\n",
    "    'São Domingos': 2,\n",
    "    'Teresópolis': 3,\n",
    "    'Malhado': 2,\n",
    "    'Nelson Costa': 2,\n",
    "    'Esperança': 2,\n",
    "    'Aritaguá': 3,\n",
    "    'Hernani Sá': 2,\n",
    "    'Iguape': 3\n",
    "}\n",
    "\n",
    "df['classe'] = df['bairro'].map(classe_bairros)"
   ]
  },
  {
   "cell_type": "code",
   "execution_count": 4,
   "metadata": {},
   "outputs": [],
   "source": [
    "for col in df.columns:\n",
    "    df[col] = df[col].replace(-1, 0)\n",
    "\n",
    "df['log_preco'] = np.log(df['preco'])\n",
    "df['log_area_util'] = np.log(df['area util por m²'])\n",
    "df['log_distance_ceps'] = np.log(df['distance_between_ceps_in_meters'])\n",
    "\n",
    "df.drop(columns=['custo condominio','iptu', 'preco', 'area util por m²', 'distance_between_ceps_in_meters',\n",
    "                 'rua/avenida','cidade', 'estado', 'cep', 'cep_origin', 'latitude_origin', 'longitude_origin',\n",
    "                 'latitude_destino', 'longitude_destino'], inplace=True)"
   ]
  },
  {
   "cell_type": "code",
   "execution_count": 5,
   "metadata": {},
   "outputs": [],
   "source": [
    "# Tirando o centro pois não é algo viavel\n",
    "df = df[df['cep_dest']!=\"Centro\"]"
   ]
  },
  {
   "cell_type": "code",
   "execution_count": 6,
   "metadata": {},
   "outputs": [
    {
     "data": {
      "text/plain": [
       "\"lm = LinearRegression()\\n\\nfor bairro in df_zona_sul['bairro'].unique():\\n    \\n    if bairro not in ['Ilhéus II', 'Nelson Costa', 'Hernani Sá']:\\n        for infra in df_zona_sul['cep_dest'].unique():\\n            df_treated = df_zona_sul.loc[\\n                (df_zona_sul['bairro'] == bairro) & (df_zona_sul['cep_dest'] == infra)\\n            ].drop(columns=['bairro', 'cep_dest'])\\n            \\n            y = df_treated['log_preco']\\n            X = df_treated.drop(['log_preco'], axis=1)\\n            \\n            if len(df_treated) > 2:\\n                \\n                X = sm.add_constant(X)\\n\\n                model = sm.OLS(y, X).fit()\\n\\n                print(f'Regressão para Bairro: {bairro} e Infraestrutura: {infra}')\\n                print(model.summary())\\n\\n                white_test = het_white(model.resid, model.model.exog)\\n\\n                print(f'\\nTeste de White para Heterocedasticidade:')\\n                print(f'Estatística: {white_test[0]}')\\n                print(f'p-value: {white_test[1]}\\n')\""
      ]
     },
     "execution_count": 6,
     "metadata": {},
     "output_type": "execute_result"
    }
   ],
   "source": [
    "'''lm = LinearRegression()\n",
    "\n",
    "for bairro in df_zona_sul['bairro'].unique():\n",
    "    \n",
    "    if bairro not in ['Ilhéus II', 'Nelson Costa', 'Hernani Sá']:\n",
    "        for infra in df_zona_sul['cep_dest'].unique():\n",
    "            df_treated = df_zona_sul.loc[\n",
    "                (df_zona_sul['bairro'] == bairro) & (df_zona_sul['cep_dest'] == infra)\n",
    "            ].drop(columns=['bairro', 'cep_dest'])\n",
    "            \n",
    "            y = df_treated['log_preco']\n",
    "            X = df_treated.drop(['log_preco'], axis=1)\n",
    "            \n",
    "            if len(df_treated) > 2:\n",
    "                \n",
    "                X = sm.add_constant(X)\n",
    "\n",
    "                model = sm.OLS(y, X).fit()\n",
    "\n",
    "                print(f'Regressão para Bairro: {bairro} e Infraestrutura: {infra}')\n",
    "                print(model.summary())\n",
    "\n",
    "                white_test = het_white(model.resid, model.model.exog)\n",
    "\n",
    "                print(f'\\nTeste de White para Heterocedasticidade:')\n",
    "                print(f'Estatística: {white_test[0]}')\n",
    "                print(f'p-value: {white_test[1]}\\n')'''"
   ]
  },
  {
   "cell_type": "code",
   "execution_count": 10,
   "metadata": {},
   "outputs": [
    {
     "name": "stderr",
     "output_type": "stream",
     "text": [
      "C:\\Users\\joaov\\AppData\\Local\\Temp\\ipykernel_23184\\2354469325.py:26: FutureWarning: Passing literal html to 'read_html' is deprecated and will be removed in a future version. To read from a literal string, wrap it in a 'StringIO' object.\n",
      "  summary_df = pd.read_html(model.summary().tables[1].as_html(), header=0, index_col=0)[0]\n",
      "C:\\Users\\joaov\\AppData\\Local\\Temp\\ipykernel_23184\\2354469325.py:26: FutureWarning: Passing literal html to 'read_html' is deprecated and will be removed in a future version. To read from a literal string, wrap it in a 'StringIO' object.\n",
      "  summary_df = pd.read_html(model.summary().tables[1].as_html(), header=0, index_col=0)[0]\n",
      "C:\\Users\\joaov\\AppData\\Local\\Temp\\ipykernel_23184\\2354469325.py:26: FutureWarning: Passing literal html to 'read_html' is deprecated and will be removed in a future version. To read from a literal string, wrap it in a 'StringIO' object.\n",
      "  summary_df = pd.read_html(model.summary().tables[1].as_html(), header=0, index_col=0)[0]\n",
      "C:\\Users\\joaov\\AppData\\Local\\Temp\\ipykernel_23184\\2354469325.py:26: FutureWarning: Passing literal html to 'read_html' is deprecated and will be removed in a future version. To read from a literal string, wrap it in a 'StringIO' object.\n",
      "  summary_df = pd.read_html(model.summary().tables[1].as_html(), header=0, index_col=0)[0]\n",
      "C:\\Users\\joaov\\AppData\\Local\\Temp\\ipykernel_23184\\2354469325.py:26: FutureWarning: Passing literal html to 'read_html' is deprecated and will be removed in a future version. To read from a literal string, wrap it in a 'StringIO' object.\n",
      "  summary_df = pd.read_html(model.summary().tables[1].as_html(), header=0, index_col=0)[0]\n",
      "C:\\Users\\joaov\\AppData\\Local\\Temp\\ipykernel_23184\\2354469325.py:26: FutureWarning: Passing literal html to 'read_html' is deprecated and will be removed in a future version. To read from a literal string, wrap it in a 'StringIO' object.\n",
      "  summary_df = pd.read_html(model.summary().tables[1].as_html(), header=0, index_col=0)[0]\n",
      "C:\\Users\\joaov\\AppData\\Local\\Temp\\ipykernel_23184\\2354469325.py:26: FutureWarning: Passing literal html to 'read_html' is deprecated and will be removed in a future version. To read from a literal string, wrap it in a 'StringIO' object.\n",
      "  summary_df = pd.read_html(model.summary().tables[1].as_html(), header=0, index_col=0)[0]\n",
      "C:\\Users\\joaov\\AppData\\Local\\Temp\\ipykernel_23184\\2354469325.py:26: FutureWarning: Passing literal html to 'read_html' is deprecated and will be removed in a future version. To read from a literal string, wrap it in a 'StringIO' object.\n",
      "  summary_df = pd.read_html(model.summary().tables[1].as_html(), header=0, index_col=0)[0]\n"
     ]
    }
   ],
   "source": [
    "# Aqui é para somente a zona sul\n",
    "columns_not_used = ['Zona', 'bairro', 'cep_dest']\n",
    "df_zona_sul = df[df['Zona']=='Sul'].drop(columns=['Zona'])\n",
    "\n",
    "output_folder = 'resultado_modelos/zona sul'\n",
    "if not os.path.exists(output_folder):\n",
    "    os.makedirs(output_folder)\n",
    "\n",
    "lm = LinearRegression()\n",
    "\n",
    "for bairro in df_zona_sul['bairro'].unique():\n",
    "    if bairro not in ['Ilhéus II', 'Nelson Costa', 'Hernani Sá']:\n",
    "        for infra in df_zona_sul['cep_dest'].unique():\n",
    "            df_treated = df_zona_sul.loc[\n",
    "                (df_zona_sul['bairro'] == bairro) & (df_zona_sul['cep_dest'] == infra)\n",
    "            ].drop(columns=['bairro', 'cep_dest'])\n",
    "            \n",
    "            y = df_treated['log_preco']\n",
    "            X = df_treated.drop(['log_preco'], axis=1)\n",
    "            \n",
    "            if len(df_treated) > 2:\n",
    "                X = sm.add_constant(X)\n",
    "\n",
    "                model = sm.OLS(y, X).fit()\n",
    "\n",
    "                \n",
    "\n",
    "                summary_df = pd.read_html(model.summary().tables[1].as_html(), header=0, index_col=0)[0]\n",
    "                \n",
    "                white_test = het_white(model.resid, model.model.exog)\n",
    "                white_test_results = pd.DataFrame({\n",
    "                    'Estatística': [white_test[0]],\n",
    "                    'p-value': [white_test[1]]\n",
    "                }, index=['White Test'])\n",
    "                \n",
    "                r_squared = model.rsquared\n",
    "                r_squared_adj = model.rsquared_adj\n",
    "                r_squared_df = pd.DataFrame({\n",
    "                    'R²': [r_squared],\n",
    "                    'R² Ajustado': [r_squared_adj]\n",
    "                }, index=['Estatísticas'])\n",
    "\n",
    "                file_name = f\"Regressao_{bairro}_{infra}.xlsx\"\n",
    "                output_path = os.path.join(output_folder, file_name)\n",
    "\n",
    "                with pd.ExcelWriter(output_path) as writer:\n",
    "                    summary_df.to_excel(writer, sheet_name='Regressao_Resultados')\n",
    "                    white_test_results.to_excel(writer, sheet_name='Teste_White')\n",
    "                    r_squared_df.to_excel(writer, sheet_name='R²_Estatisticas')"
   ]
  },
  {
   "cell_type": "code",
   "execution_count": 9,
   "metadata": {},
   "outputs": [
    {
     "name": "stderr",
     "output_type": "stream",
     "text": [
      "C:\\Users\\joaov\\AppData\\Local\\Temp\\ipykernel_23184\\3288313224.py:26: FutureWarning: Passing literal html to 'read_html' is deprecated and will be removed in a future version. To read from a literal string, wrap it in a 'StringIO' object.\n",
      "  summary_df = pd.read_html(model.summary().tables[1].as_html(), header=0, index_col=0)[0]\n",
      "C:\\Users\\joaov\\AppData\\Local\\Temp\\ipykernel_23184\\3288313224.py:26: FutureWarning: Passing literal html to 'read_html' is deprecated and will be removed in a future version. To read from a literal string, wrap it in a 'StringIO' object.\n",
      "  summary_df = pd.read_html(model.summary().tables[1].as_html(), header=0, index_col=0)[0]\n",
      "C:\\Users\\joaov\\AppData\\Local\\Temp\\ipykernel_23184\\3288313224.py:26: FutureWarning: Passing literal html to 'read_html' is deprecated and will be removed in a future version. To read from a literal string, wrap it in a 'StringIO' object.\n",
      "  summary_df = pd.read_html(model.summary().tables[1].as_html(), header=0, index_col=0)[0]\n",
      "C:\\Users\\joaov\\AppData\\Local\\Temp\\ipykernel_23184\\3288313224.py:26: FutureWarning: Passing literal html to 'read_html' is deprecated and will be removed in a future version. To read from a literal string, wrap it in a 'StringIO' object.\n",
      "  summary_df = pd.read_html(model.summary().tables[1].as_html(), header=0, index_col=0)[0]\n",
      "C:\\Users\\joaov\\AppData\\Local\\Temp\\ipykernel_23184\\3288313224.py:26: FutureWarning: Passing literal html to 'read_html' is deprecated and will be removed in a future version. To read from a literal string, wrap it in a 'StringIO' object.\n",
      "  summary_df = pd.read_html(model.summary().tables[1].as_html(), header=0, index_col=0)[0]\n",
      "C:\\Users\\joaov\\AppData\\Local\\Temp\\ipykernel_23184\\3288313224.py:26: FutureWarning: Passing literal html to 'read_html' is deprecated and will be removed in a future version. To read from a literal string, wrap it in a 'StringIO' object.\n",
      "  summary_df = pd.read_html(model.summary().tables[1].as_html(), header=0, index_col=0)[0]\n",
      "C:\\Users\\joaov\\AppData\\Local\\Temp\\ipykernel_23184\\3288313224.py:26: FutureWarning: Passing literal html to 'read_html' is deprecated and will be removed in a future version. To read from a literal string, wrap it in a 'StringIO' object.\n",
      "  summary_df = pd.read_html(model.summary().tables[1].as_html(), header=0, index_col=0)[0]\n",
      "C:\\Users\\joaov\\AppData\\Local\\Temp\\ipykernel_23184\\3288313224.py:26: FutureWarning: Passing literal html to 'read_html' is deprecated and will be removed in a future version. To read from a literal string, wrap it in a 'StringIO' object.\n",
      "  summary_df = pd.read_html(model.summary().tables[1].as_html(), header=0, index_col=0)[0]\n",
      "C:\\Users\\joaov\\AppData\\Local\\Temp\\ipykernel_23184\\3288313224.py:26: FutureWarning: Passing literal html to 'read_html' is deprecated and will be removed in a future version. To read from a literal string, wrap it in a 'StringIO' object.\n",
      "  summary_df = pd.read_html(model.summary().tables[1].as_html(), header=0, index_col=0)[0]\n",
      "C:\\Users\\joaov\\AppData\\Local\\Temp\\ipykernel_23184\\3288313224.py:26: FutureWarning: Passing literal html to 'read_html' is deprecated and will be removed in a future version. To read from a literal string, wrap it in a 'StringIO' object.\n",
      "  summary_df = pd.read_html(model.summary().tables[1].as_html(), header=0, index_col=0)[0]\n",
      "c:\\Users\\joaov\\anaconda3\\Lib\\site-packages\\scipy\\stats\\_axis_nan_policy.py:531: UserWarning: kurtosistest only valid for n>=20 ... continuing anyway, n=15\n",
      "  res = hypotest_fun_out(*samples, **kwds)\n",
      "C:\\Users\\joaov\\AppData\\Local\\Temp\\ipykernel_23184\\3288313224.py:26: FutureWarning: Passing literal html to 'read_html' is deprecated and will be removed in a future version. To read from a literal string, wrap it in a 'StringIO' object.\n",
      "  summary_df = pd.read_html(model.summary().tables[1].as_html(), header=0, index_col=0)[0]\n",
      "c:\\Users\\joaov\\anaconda3\\Lib\\site-packages\\scipy\\stats\\_axis_nan_policy.py:531: UserWarning: kurtosistest only valid for n>=20 ... continuing anyway, n=15\n",
      "  res = hypotest_fun_out(*samples, **kwds)\n",
      "C:\\Users\\joaov\\AppData\\Local\\Temp\\ipykernel_23184\\3288313224.py:26: FutureWarning: Passing literal html to 'read_html' is deprecated and will be removed in a future version. To read from a literal string, wrap it in a 'StringIO' object.\n",
      "  summary_df = pd.read_html(model.summary().tables[1].as_html(), header=0, index_col=0)[0]\n"
     ]
    }
   ],
   "source": [
    "# Para as zonas\n",
    "# Zona rural e extremo norte foram descartadas deveido a quantidade baixa de amostras\n",
    "df_p_zonas = df.drop(columns=['bairro'])\n",
    "\n",
    "output_folder = 'resultado_modelos/zonas'\n",
    "if not os.path.exists(output_folder):\n",
    "    os.makedirs(output_folder)\n",
    "\n",
    "lm = LinearRegression()\n",
    "\n",
    "for zona in df_p_zonas['Zona'].unique():\n",
    "    if zona not in ['Rural']:\n",
    "        for infra in df_p_zonas['cep_dest'].unique():\n",
    "            df_treated = df_p_zonas.loc[\n",
    "                (df_p_zonas['Zona'] == zona) & (df_p_zonas['cep_dest'] == infra)\n",
    "            ].drop(columns=['Zona', 'cep_dest'])\n",
    "            \n",
    "            y = df_treated['log_preco']\n",
    "            X = df_treated.drop(['log_preco'], axis=1)\n",
    "            \n",
    "            if len(df_treated) > 2:\n",
    "                X = sm.add_constant(X)\n",
    "\n",
    "                model = sm.OLS(y, X).fit()\n",
    "\n",
    "                summary_df = pd.read_html(model.summary().tables[1].as_html(), header=0, index_col=0)[0]\n",
    "                \n",
    "                white_test = het_white(model.resid, model.model.exog)\n",
    "                white_test_results = pd.DataFrame({\n",
    "                    'Estatística': [white_test[0]],\n",
    "                    'p-value': [white_test[1]]\n",
    "                }, index=['White Test'])\n",
    "                \n",
    "                r_squared = model.rsquared\n",
    "                r_squared_adj = model.rsquared_adj\n",
    "                r_squared_df = pd.DataFrame({\n",
    "                    'R²': [r_squared],\n",
    "                    'R² Ajustado': [r_squared_adj]\n",
    "                }, index=['Estatísticas'])\n",
    "\n",
    "                file_name = f\"Regressao_{zona}_{infra}.xlsx\"\n",
    "                output_path = os.path.join(output_folder, file_name)\n",
    "\n",
    "                with pd.ExcelWriter(output_path) as writer:\n",
    "                    summary_df.to_excel(writer, sheet_name='Regressao_Resultados')\n",
    "                    white_test_results.to_excel(writer, sheet_name='Teste_White')\n",
    "                    r_squared_df.to_excel(writer, sheet_name='R²_Estatisticas')"
   ]
  }
 ],
 "metadata": {
  "kernelspec": {
   "display_name": "base",
   "language": "python",
   "name": "python3"
  },
  "language_info": {
   "codemirror_mode": {
    "name": "ipython",
    "version": 3
   },
   "file_extension": ".py",
   "mimetype": "text/x-python",
   "name": "python",
   "nbconvert_exporter": "python",
   "pygments_lexer": "ipython3",
   "version": "3.12.4"
  }
 },
 "nbformat": 4,
 "nbformat_minor": 2
}
